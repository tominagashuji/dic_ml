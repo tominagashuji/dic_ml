{
 "cells": [
  {
   "cell_type": "markdown",
   "metadata": {},
   "source": [
    "# 解答例：Week2 授業前課題3 行列積のスクラッチ"
   ]
  },
  {
   "cell_type": "markdown",
   "metadata": {},
   "source": [
    "## 行列積\n",
    "\n",
    "以下のような行列A、Bを考えます。\n",
    "\n",
    "$$\n",
    "A = \\left[\n",
    "\\begin{array}{ccc}\n",
    "  -1 & 2 & 3 \\\\\n",
    "  4 & -5 & 6 \\\\\u0018\u0018\n",
    "  7 & 8 & -9\n",
    "\\end{array}\n",
    "\\right],\n",
    "B = \\left[\n",
    "\\begin{array}{ccc}\n",
    "  0 & 2 & 1 \\\\\n",
    "  0 & 2 & -8 \\\\\n",
    "  2 & 9 & -1\n",
    "\\end{array}\n",
    "\\right]\n",
    "$$"
   ]
  },
  {
   "cell_type": "code",
   "execution_count": 1,
   "metadata": {},
   "outputs": [],
   "source": [
    "import numpy as np\n",
    "\n",
    "a_ndarray = np.array([[-1, 2, 3], [4, -5, 6], [7, 8, -9]])\n",
    "b_ndarray = np.array([[0, 2, 1], [0, 2, -8], [2, 9, -1]])"
   ]
  },
  {
   "cell_type": "markdown",
   "metadata": {},
   "source": [
    "### 【問題1】行列積を手計算する\n",
    "\n",
    "AとBの行列積を手計算で解いてください。\n",
    "\n",
    "計算過程もマークダウンテキストを用いて説明してください。\n",
    "\n",
    "（解説）\n",
    "\n",
    "行列積の定義（計算方法）を調べ、その通りに解いてください。行列積ABとBA両方の解答を載せますが、ABのみで合格です。\n",
    "\n",
    "計算過程にはマークダウンの数式機能を使うと綺麗なノートブックが作れます。\n",
    "\n",
    "Jupyter NotebookではMathJaxというライブラリによってLaTeXの記法が使えます。「LaTeX　行列」のように検索してください。"
   ]
  },
  {
   "cell_type": "markdown",
   "metadata": {},
   "source": [
    "$$\n",
    "AB = \n",
    "\\left[\n",
    "\\begin{array}{ccc}\n",
    "  (-1)\\times0+2\\times0+3\\times2 & (-1)\\times2+2\\times2+3\\times9 & (-1)\\times1+2\\times(-8)+3\\times(-1) \\\\\n",
    "  4\\times0+(-5)\\times0+6\\times2 & 4\\times2+(-5)\\times2+6\\times9 & 4\\times1+(-5)\\times(-8)+6\\times(-1) \\\\\u0018\u0018\n",
    "  7\\times0+8\\times0+(-9)\\times2 & -7\\times0+8\\times2+(-9)\\times9 & 7\\times1+8\\times(-8)+(-9)\\times(-1)\n",
    "\\end{array}\n",
    "\\right]\n",
    "=\\left[\n",
    "\\begin{array}{ccc}\n",
    "  6 & 29 & -20 \\\\\n",
    "  12 & 52 & 38 \\\\\u0018\u0018\n",
    "  -18 & -51 & -48\n",
    "\\end{array}\n",
    "\\right]\n",
    "$$"
   ]
  },
  {
   "cell_type": "markdown",
   "metadata": {},
   "source": [
    "$$\n",
    "BA = \n",
    "\\left[\n",
    "\\begin{array}{ccc}\n",
    "  0\\times(-1)+2\\times4+1\\times7 & 0\\times2+2\\times(-5)+1\\times8 & 0\\times3+2\\times6+1\\times(-9) \\\\\n",
    "  0\\times(-1)+2\\times4+(-8)\\times7 & 0\\times2+2\\times(-5)+(-8)\\times8 & 0\\times3+2\\times6+(-8)\\times(-9) \\\\\u0018\u0018\n",
    "  2\\times(-1)+9\\times4+(-1)\\times7 & 2\\times2+9\\times(-5)+(-1)\\times8 & 2\\times3+9\\times6+(-1)\\times(-9)\n",
    "\\end{array}\n",
    "\\right]\n",
    "=\\left[\n",
    "\\begin{array}{ccc}\n",
    "  15 & -2 & 3 \\\\\n",
    "  -48 & -74 & 84 \\\\\u0018\u0018\n",
    "  27 & -49 & 69\n",
    "\\end{array}\n",
    "\\right]\n",
    "$$"
   ]
  },
  {
   "cell_type": "markdown",
   "metadata": {},
   "source": [
    "### 【問題2】NumPyの関数による計算\n",
    "\n",
    "この行列積はNumPyの`np.matmul()`や`np.dot()`、または`@`演算子を使うことで簡単に計算できます。\n",
    "\n",
    "これらを使い行列積を計算してください。\n",
    "\n",
    "[numpy.matmul — NumPy v1.16 Manual](https://docs.scipy.org/doc/numpy/reference/generated/numpy.matmul.html#numpy.matmul)\n",
    "\n",
    "[numpy.dot — NumPy v1.16 Manual](https://docs.scipy.org/doc/numpy/reference/generated/numpy.dot.html)\n",
    "\n",
    "**3種類の違い**\n",
    "\n",
    "`np.matmul()`と`np.dot()`は3次元以上の配列で挙動が変わります。`@`演算子は`np.matmul()`と同じ働きをします。\n",
    "\n",
    "今回のような2次元配列の行列積では`np.matmul()`や`@`演算子が公式に推奨されています。以下は`np.dot()`の説明からの引用です。\n",
    "\n",
    "> If both a and b are 2-D arrays, it is matrix multiplication, but using matmul or a @ b is preferred.\n",
    "\n",
    "（解説）\n",
    "\n",
    "行列AとBをこの関数に入れるだけです。\n",
    "\n",
    "`@`が登場したのが2015年9月リリースのPython3.5からなため少し古い書籍等では使われていないことも多いですが、最近ではこれが人気が高いです。"
   ]
  },
  {
   "cell_type": "code",
   "execution_count": 2,
   "metadata": {},
   "outputs": [
    {
     "name": "stdout",
     "output_type": "stream",
     "text": [
      "行列積AB np.matmul()の計算結果\n",
      "[[  6  29 -20]\n",
      " [ 12  52  38]\n",
      " [-18 -51 -48]]\n",
      "行列積AB np.dot()の計算結果\n",
      "[[  6  29 -20]\n",
      " [ 12  52  38]\n",
      " [-18 -51 -48]]\n",
      "行列積AB @の計算結果\n",
      "[[  6  29 -20]\n",
      " [ 12  52  38]\n",
      " [-18 -51 -48]]\n"
     ]
    }
   ],
   "source": [
    "c_ndarray_matmul = np.matmul(a_ndarray, b_ndarray)\n",
    "print(\"行列積AB np.matmul()の計算結果\\n{}\".format(c_ndarray_matmul))\n",
    "\n",
    "c_ndarray_dot = np.dot(a_ndarray, b_ndarray)\n",
    "print(\"行列積AB np.dot()の計算結果\\n{}\".format(c_ndarray_dot))\n",
    "\n",
    "c_ndarray_at = a_ndarray@b_ndarray\n",
    "print(\"行列積AB @の計算結果\\n{}\".format(c_ndarray_at))"
   ]
  },
  {
   "cell_type": "code",
   "execution_count": 3,
   "metadata": {},
   "outputs": [
    {
     "name": "stdout",
     "output_type": "stream",
     "text": [
      "行列積BA @の計算結果\n",
      "[[ 15  -2   3]\n",
      " [-48 -74  84]\n",
      " [ 27 -49  69]]\n"
     ]
    }
   ],
   "source": [
    "c_ndarray_at_change_order = b_ndarray@a_ndarray\n",
    "print(\"行列積BA @の計算結果\\n{}\".format(c_ndarray_at_change_order))"
   ]
  },
  {
   "cell_type": "code",
   "execution_count": 4,
   "metadata": {},
   "outputs": [
    {
     "name": "stdout",
     "output_type": "stream",
     "text": [
      "1.64 µs ± 30 ns per loop (mean ± std. dev. of 7 runs, 1000000 loops each)\n",
      "1.15 µs ± 19 ns per loop (mean ± std. dev. of 7 runs, 1000000 loops each)\n",
      "1.61 µs ± 19.1 ns per loop (mean ± std. dev. of 7 runs, 1000000 loops each)\n"
     ]
    }
   ],
   "source": [
    "%timeit c_ndarray_matmul = np.matmul(a_ndarray, b_ndarray)\n",
    "%timeit c_ndarray_dot = np.dot(a_ndarray, b_ndarray)\n",
    "%timeit c_ndarray_at = a_ndarray@b_ndarray"
   ]
  },
  {
   "cell_type": "code",
   "execution_count": 5,
   "metadata": {},
   "outputs": [
    {
     "name": "stdout",
     "output_type": "stream",
     "text": [
      "-----\n",
      "np.matmul()\n",
      "[[[ 2  3]\n",
      "  [ 6 11]]\n",
      "\n",
      " [[46 55]\n",
      "  [66 79]]]\n",
      "-----\n",
      "np.dot()\n",
      "[[[[ 2  3]\n",
      "   [ 6  7]]\n",
      "\n",
      "  [[ 6 11]\n",
      "   [26 31]]]\n",
      "\n",
      "\n",
      " [[[10 19]\n",
      "   [46 55]]\n",
      "\n",
      "  [[14 27]\n",
      "   [66 79]]]]\n"
     ]
    }
   ],
   "source": [
    "# 3次元以上ではnp.matmul()とnp.dot()の挙動に違いが出る\n",
    "a = np.arange(8).reshape((2, 2, 2))\n",
    "b = np.arange(8).reshape((2, 2, 2))\n",
    "print(\"-----\")\n",
    "print(\"np.matmul()\\n{}\".format(np.matmul(a, b)))\n",
    "print(\"-----\")\n",
    "print(\"np.dot()\\n{}\".format(np.dot(a, b)))"
   ]
  },
  {
   "cell_type": "code",
   "execution_count": 6,
   "metadata": {},
   "outputs": [
    {
     "name": "stdout",
     "output_type": "stream",
     "text": [
      "np.matmul()でshapeが異なる例の確認：(2, 5, 3, 6)\n",
      "np.dot()でshapeが異なる例の確認：(2, 1, 3, 1, 5, 6)\n"
     ]
    }
   ],
   "source": [
    "print(\"np.matmul()でshapeが異なる例の確認：{}\".format(np.matmul(np.ones((2, 1, 3, 4)), np.ones((1, 5, 4, 6))).shape))\n",
    "print(\"np.dot()でshapeが異なる例の確認：{}\".format(np.dot(np.ones((2, 1, 3, 4)), np.ones((1, 5, 4, 6))).shape))"
   ]
  },
  {
   "cell_type": "markdown",
   "metadata": {},
   "source": [
    "### （発展的な話）\n",
    "\n",
    "なぜこれを学ぶのか？というと機械学習の計算でよく使う線形写像が行列積で表現できるからです。\n",
    "\n",
    "線形写像というと言葉が難しいですが、以下のような計算は線形写像の一種です。\n",
    "\n",
    "$$\n",
    "y = 2x\n",
    "$$\n",
    "\n",
    "xは3としましょう。この線形写像は次のような行列積に置き換えられます。\n",
    "\n",
    "$$\n",
    "y=\n",
    "\\left[\n",
    "\\begin{array}{ccc}\n",
    "  2\n",
    "\\end{array}\n",
    "\\right]\n",
    "\\left[\n",
    "\\begin{array}{ccc}\n",
    "  3\n",
    "\\end{array}\n",
    "\\right]\n",
    "$$\n",
    "\n",
    "NumPyで計算してみます。"
   ]
  },
  {
   "cell_type": "code",
   "execution_count": 7,
   "metadata": {},
   "outputs": [
    {
     "name": "stdout",
     "output_type": "stream",
     "text": [
      "a.shape : (1, 1)\n",
      "x.shape : (1, 1)\n",
      "-----\n",
      "aの中身\n",
      "[[2]]\n",
      "-----\n",
      "xの中身\n",
      "[[3]]\n",
      "---------------\n",
      "y.shape : (1, 1)\n",
      "-----\n",
      "yの中身\n",
      "[[6]]\n"
     ]
    }
   ],
   "source": [
    "a = np.array([[2]])\n",
    "x = np.array([[3]])\n",
    "y = a@x\n",
    "\n",
    "print(\"a.shape : {}\".format(a.shape))\n",
    "print(\"x.shape : {}\".format(x.shape))\n",
    "print(\"-----\")\n",
    "print(\"aの中身\\n{}\".format(a))\n",
    "print(\"-----\")\n",
    "print(\"xの中身\\n{}\".format(x))\n",
    "print(\"---------------\")\n",
    "print(\"y.shape : {}\".format(y.shape))\n",
    "print(\"-----\")\n",
    "print(\"yの中身\\n{}\".format(y))"
   ]
  },
  {
   "cell_type": "markdown",
   "metadata": {},
   "source": [
    "$$\n",
    "y = 2\\times3 = 6\n",
    "$$\n",
    "\n",
    "と同じ結果が得られました。\n",
    "\n",
    "次のような計算も線形写像です。\n",
    "\n",
    "$$\n",
    "y = 2x_{1} + 5x_{2}\n",
    "$$\n",
    "\n",
    "x1は3、x2は4として計算します。次のような行列積に置き換えられます。\n",
    "\n",
    "$$\n",
    "y=\n",
    "\\left[\n",
    "\\begin{array}{ccc}\n",
    "  2 & 5\n",
    "\\end{array}\n",
    "\\right]\n",
    "\\left[\n",
    "\\begin{array}{ccc}\n",
    "  3 \\\\\n",
    "  4\n",
    "\\end{array}\n",
    "\\right]\n",
    "$$"
   ]
  },
  {
   "cell_type": "code",
   "execution_count": 8,
   "metadata": {},
   "outputs": [
    {
     "name": "stdout",
     "output_type": "stream",
     "text": [
      "W.shape : (1, 2)\n",
      "X.shape : (2, 1)\n",
      "-----\n",
      "Wの中身\n",
      "[[2 5]]\n",
      "-----\n",
      "Xの中身\n",
      "[[3]\n",
      " [4]]\n",
      "---------------\n",
      "y.shape : (1, 1)\n",
      "-----\n",
      "yの中身\n",
      "[[26]]\n"
     ]
    }
   ],
   "source": [
    "W = np.array([[2, 5]])\n",
    "X = np.array([[3], [4]])\n",
    "y = W@X\n",
    "\n",
    "print(\"W.shape : {}\".format(W.shape))\n",
    "print(\"X.shape : {}\".format(X.shape))\n",
    "print(\"-----\")\n",
    "print(\"Wの中身\\n{}\".format(W))\n",
    "print(\"-----\")\n",
    "print(\"Xの中身\\n{}\".format(X))\n",
    "print(\"---------------\")\n",
    "print(\"y.shape : {}\".format(y.shape))\n",
    "print(\"-----\")\n",
    "print(\"yの中身\\n{}\".format(y))"
   ]
  },
  {
   "cell_type": "markdown",
   "metadata": {},
   "source": [
    "$$\n",
    "y = 2\\times3 + 5\\times4 = 26\n",
    "$$\n",
    "\n",
    "と同じ結果が得られました。\n",
    "\n",
    "さらに、次のような計算も考えられます。このあたりから行列積に置き換えるメリットが感じられます。\n",
    "\n",
    "$$\n",
    "y_{1} = 2x_{1} + 5x_{2} \\\\\n",
    "y_{2} = 4x_{1} + 3x_{2} \\\\\n",
    "y_{3} = 6x_{1} + 2x_{2} \\\\\n",
    "$$\n",
    "\n",
    "x1は3、x2は4として計算します。次のような行列積に置き換えられます。\n",
    "\n",
    "$$\n",
    "Y=\n",
    "\\left[\n",
    "\\begin{array}{ccc}\n",
    "  2 & 5 \\\\\n",
    "  4 & 3 \\\\\n",
    "  6 & 2\n",
    "\\end{array}\n",
    "\\right]\n",
    "\\left[\n",
    "\\begin{array}{ccc}\n",
    "  3 \\\\\n",
    "  4\n",
    "\\end{array}\n",
    "\\right]\n",
    "$$"
   ]
  },
  {
   "cell_type": "code",
   "execution_count": 9,
   "metadata": {},
   "outputs": [
    {
     "name": "stdout",
     "output_type": "stream",
     "text": [
      "W.shape : (3, 2)\n",
      "X.shape : (2, 1)\n",
      "-----\n",
      "Wの中身\n",
      "[[2 5]\n",
      " [4 3]\n",
      " [6 2]]\n",
      "-----\n",
      "Xの中身\n",
      "[[3]\n",
      " [4]]\n",
      "---------------\n",
      "Y.shape : (3, 1)\n",
      "-----\n",
      "Yの中身\n",
      "[[26]\n",
      " [24]\n",
      " [26]]\n"
     ]
    }
   ],
   "source": [
    "W = np.array([[2, 5], [4, 3], [6, 2]])\n",
    "X = np.array([[3], [4]])\n",
    "Y = W@X\n",
    "\n",
    "print(\"W.shape : {}\".format(W.shape))\n",
    "print(\"X.shape : {}\".format(X.shape))\n",
    "print(\"-----\")\n",
    "print(\"Wの中身\\n{}\".format(W))\n",
    "print(\"-----\")\n",
    "print(\"Xの中身\\n{}\".format(X))\n",
    "print(\"---------------\")\n",
    "print(\"Y.shape : {}\".format(Y.shape))\n",
    "print(\"-----\")\n",
    "print(\"Yの中身\\n{}\".format(Y))"
   ]
  },
  {
   "cell_type": "markdown",
   "metadata": {},
   "source": [
    "3つの式が1つの行列積で表現できました。\n",
    "\n",
    "機械学習ではこのような計算のために行列積を利用します。"
   ]
  },
  {
   "cell_type": "markdown",
   "metadata": {},
   "source": [
    "## 行列積のスクラッチ実装\n",
    "\n",
    "`np.matmul()`や`np.dot()`、または`@`演算子を使わずに、手計算で行った計算過程をNumPyによるスクラッチ実装で再現していきましょう。これにより、行列積の計算に対する理解を深めます。ここで考えるのは行列AとBのような次元が2の配列に限定します。\n",
    "\n",
    "### 【問題3】ある要素の計算を実装\n",
    "\n",
    "手計算をする際はまず行列Aの0行目と行列Bの0列目に注目し、以下の計算を行ったかと思います。\n",
    "\n",
    "1. 行列Aの(0,0)の要素 $a_{0, 0}$ と行列Bの(0,0)の要素 $b_{0, 0}$ を掛け合わせる\n",
    "2. 行列Aの(0,1)の要素 $a_{0, 1}$ と行列Bの(1,0)の要素 $a_{1, 0}$ を掛け合わせる\n",
    "3. 行列Aの(0,2)の要素 $a_{0, 2}$ と行列Bの(2,0)の要素 $a_{2, 0}$ を掛け合わせる\n",
    "4. それらの値を全て足し合わせる\n",
    "\n",
    "数式で表すと\n",
    "\n",
    "$$\n",
    "\\sum^{3}_{k=1}a_{0,k}b_{k,0}\n",
    "$$\n",
    "\n",
    "です。\n",
    "\n",
    "この計算を`np.matmul()`や`np.dot()`、または`@`演算子を使わずに行うコードを書いてください。\n",
    "\n",
    "（解説）\n",
    "\n",
    "NumPyでまとめて計算するか、for文で要素を取り出していくかどうかです。\n",
    "\n",
    "それぞれ時間を計測してみると、(3, 3)のshapeでは解答例2のfor文の方が速いですが、(1000, 1000)までshapeを大きくするとかなり遅いという結果になります。\n",
    "\n",
    "（解答例1）\n",
    "\n",
    "Aの0行目とBの0列目を取り出し、NumPyを使いまとめて掛け算した後`sum`メソッドで足し合わせます。"
   ]
  },
  {
   "cell_type": "code",
   "execution_count": 10,
   "metadata": {},
   "outputs": [
    {
     "name": "stdout",
     "output_type": "stream",
     "text": [
      " Aの0行目とBの0列目：6\n"
     ]
    }
   ],
   "source": [
    "a_ndarray = np.array([[-1, 2, 3], [4, -5, 6], [7, 8, -9]])\n",
    "b_ndarray = np.array([[0, 2, 1], [0, 2, -8], [2, 9, -1]])\n",
    "\n",
    "mul00 = (a_ndarray[0]*b_ndarray[:, 0]).sum()\n",
    "print(\" Aの0行目とBの0列目：{}\".format(mul00))"
   ]
  },
  {
   "cell_type": "markdown",
   "metadata": {},
   "source": [
    "（解答例2）\n",
    "\n",
    "for文で要素を1つずつ取り出し掛け算し、それを順番に加算していきます。"
   ]
  },
  {
   "cell_type": "code",
   "execution_count": 11,
   "metadata": {},
   "outputs": [
    {
     "name": "stdout",
     "output_type": "stream",
     "text": [
      " Aの0行目とBの0列目：6\n"
     ]
    }
   ],
   "source": [
    "mul00 = 0\n",
    "for k in range(a_ndarray.shape[1]):\n",
    "    mul00 += a_ndarray[0, k]*b_ndarray[k, 0]\n",
    "print(\" Aの0行目とBの0列目：{}\".format(mul00))"
   ]
  },
  {
   "cell_type": "code",
   "execution_count": 12,
   "metadata": {},
   "outputs": [
    {
     "name": "stdout",
     "output_type": "stream",
     "text": [
      "4.69 µs ± 82.4 ns per loop (mean ± std. dev. of 7 runs, 100000 loops each)\n"
     ]
    }
   ],
   "source": [
    "%%timeit\n",
    "mul00 = (a_ndarray[0]*b_ndarray[:, 0]).sum()"
   ]
  },
  {
   "cell_type": "code",
   "execution_count": 13,
   "metadata": {},
   "outputs": [
    {
     "name": "stdout",
     "output_type": "stream",
     "text": [
      "2.45 µs ± 87.4 ns per loop (mean ± std. dev. of 7 runs, 100000 loops each)\n"
     ]
    }
   ],
   "source": [
    "%%timeit\n",
    "mul00 = 0\n",
    "for k in range(a_ndarray.shape[1]):\n",
    "    mul00 += a_ndarray[0, k]*b_ndarray[k, 0]"
   ]
  },
  {
   "cell_type": "code",
   "execution_count": 14,
   "metadata": {},
   "outputs": [],
   "source": [
    "x_ndarray = np.ones((1000, 1000))\n",
    "y_ndarray = np.ones((1000, 1000))"
   ]
  },
  {
   "cell_type": "code",
   "execution_count": 15,
   "metadata": {},
   "outputs": [
    {
     "name": "stdout",
     "output_type": "stream",
     "text": [
      "10.3 µs ± 296 ns per loop (mean ± std. dev. of 7 runs, 100000 loops each)\n"
     ]
    }
   ],
   "source": [
    "%%timeit\n",
    "mul00 = (x_ndarray[0]*y_ndarray[:, 0]).sum()"
   ]
  },
  {
   "cell_type": "code",
   "execution_count": 16,
   "metadata": {},
   "outputs": [
    {
     "name": "stdout",
     "output_type": "stream",
     "text": [
      "581 µs ± 13.4 µs per loop (mean ± std. dev. of 7 runs, 1000 loops each)\n"
     ]
    }
   ],
   "source": [
    "%%timeit\n",
    "mul00 = 0\n",
    "for k in range(x_ndarray.shape[1]):\n",
    "    mul00 += x_ndarray[0, k]*y_ndarray[k, 0]"
   ]
  },
  {
   "cell_type": "markdown",
   "metadata": {},
   "source": [
    "### 【問題4】行列積を行う関数の作成\n",
    "\n",
    "問題3のコードを拡張し、行列積のスクラッチ実装を完成させてください。行列AとBを引数に受け取り、行列積を返す関数としてください。\n",
    "\n",
    "行列積を計算する場合は、問題3の計算を異なる行や列に対して繰り返していくことになります。\n",
    "\n",
    "計算結果である $3 \\times 3$ の行列Cの各要素 $c_{i, j}$ は数式で表すと次のようになります。\n",
    "\n",
    "$$\n",
    "c_{i,j} = \\sum^{3}_{k=1}a_{i,k}b_{k,j}\n",
    "$$\n",
    "\n",
    "for文を使い、ndarrayのインデックスを動かしていくことで、合計9つの要素が計算できます。インデックス $i$ や $j$ を1増やすと、次の行や列に移ることができます。\n",
    "\n",
    "（解説）\n",
    "\n",
    "正しい対応で計算させられるかが重要です。紙に書くなどして、実現したい動作を確認しながらコードに落とし込みましょう。\n",
    "\n",
    "解答例1は問題3の解答例1に対してfor文を2重に適用した方法です。ひとまずこれが書けていれば良いなという解答です。\n",
    "\n",
    "解答例2は問題3の解答例2に対応する方法です。for文が3重になってしまうこのような処理は最終的には避けた方が良いですが、まずはこのような書き方からはじめてみても良いでしょう。\n",
    "\n",
    "解答例3はfor文を1つも使わない方法です。ブロードキャストをうまく使うことで、for文2つ分を一気に計算させることができます。\n",
    "\n",
    "どのような方法でも計算できていれば合格です。\n",
    "\n",
    "（解答例1）"
   ]
  },
  {
   "cell_type": "code",
   "execution_count": 17,
   "metadata": {},
   "outputs": [
    {
     "name": "stdout",
     "output_type": "stream",
     "text": [
      "計算結果\n",
      "[[  6.  29. -20.]\n",
      " [ 12.  52.  38.]\n",
      " [-18. -51. -48.]]\n"
     ]
    }
   ],
   "source": [
    "def matrix_product_q4_1(a, b):\n",
    "    \"\"\"\n",
    "    行列積ABを計算する\n",
    "    Parameters\n",
    "    ----------------\n",
    "    a, b : ndarray\n",
    "        AとBに対応する行列\n",
    "    Returns\n",
    "    ----------------\n",
    "    ndarray\n",
    "        計算した行列積\n",
    "    \"\"\"\n",
    "    c = np.empty((a.shape[0], b.shape[1]))\n",
    "\n",
    "    for i in range(a.shape[0]):\n",
    "        for j in range(b.shape[1]):\n",
    "            c[i, j] = (a[i]*b[:, j]).sum()\n",
    "    return c\n",
    "\n",
    "a_ndarray = np.array([[-1, 2, 3], [4, -5, 6], [7, 8, -9]])\n",
    "b_ndarray = np.array([[0, 2, 1], [0, 2, -8], [2, 9, -1]])\n",
    "print(\"計算結果\\n{}\".format(matrix_product_q4_1(a_ndarray, b_ndarray)))"
   ]
  },
  {
   "cell_type": "markdown",
   "metadata": {},
   "source": [
    "（解答例2）"
   ]
  },
  {
   "cell_type": "code",
   "execution_count": 18,
   "metadata": {},
   "outputs": [
    {
     "name": "stdout",
     "output_type": "stream",
     "text": [
      "計算結果\n",
      "[[  6.  29. -20.]\n",
      " [ 12.  52.  38.]\n",
      " [-18. -51. -48.]]\n"
     ]
    }
   ],
   "source": [
    "def matrix_product_q4_2(a, b):\n",
    "    \"\"\"\n",
    "    行列積ABを計算する\n",
    "    Parameters\n",
    "    ----------------\n",
    "    a, b : ndarray\n",
    "        AとBに対応する行列\n",
    "    Returns\n",
    "    ----------------\n",
    "    ndarray\n",
    "        計算した行列積\n",
    "    \"\"\"\n",
    "    c = np.zeros((a.shape[0], b.shape[1]))\n",
    "    for i in range(a.shape[0]):\n",
    "        for j in range(b.shape[1]):\n",
    "            for k in range(a.shape[1]):\n",
    "                c[i, j] += a[i, k]*b[k, j]\n",
    "    return c\n",
    "\n",
    "a_ndarray = np.array([[-1, 2, 3], [4, -5, 6], [7, 8, -9]])\n",
    "b_ndarray = np.array([[0, 2, 1], [0, 2, -8], [2, 9, -1]])\n",
    "print(\"計算結果\\n{}\".format(matrix_product_q4_2(a_ndarray, b_ndarray)))"
   ]
  },
  {
   "cell_type": "markdown",
   "metadata": {},
   "source": [
    "（解答例3）"
   ]
  },
  {
   "cell_type": "code",
   "execution_count": 19,
   "metadata": {},
   "outputs": [
    {
     "name": "stdout",
     "output_type": "stream",
     "text": [
      "計算結果\n",
      "[[  6  29 -20]\n",
      " [ 12  52  38]\n",
      " [-18 -51 -48]]\n"
     ]
    }
   ],
   "source": [
    "def matrix_product_q4_3(a, b):\n",
    "    \"\"\"\n",
    "    行列積ABを計算する\n",
    "    Parameters\n",
    "    ----------------\n",
    "    a, b : ndarray\n",
    "        AとBに対応する行列\n",
    "    Returns\n",
    "    ----------------\n",
    "    ndarray\n",
    "        計算した行列積\n",
    "    \"\"\"\n",
    "    c = (a[:, np.newaxis, :]*b.T).sum(axis=2)\n",
    "    return c\n",
    "\n",
    "a_ndarray = np.array([[-1, 2, 3], [4, -5, 6], [7, 8, -9]])\n",
    "b_ndarray = np.array([[0, 2, 1], [0, 2, -8], [2, 9, -1]])\n",
    "print(\"計算結果\\n{}\".format(matrix_product_q4_3(a_ndarray, b_ndarray)))"
   ]
  },
  {
   "cell_type": "markdown",
   "metadata": {},
   "source": [
    "解答例3を順番に可視化してみると以下のようになります。"
   ]
  },
  {
   "cell_type": "code",
   "execution_count": 20,
   "metadata": {},
   "outputs": [
    {
     "name": "stdout",
     "output_type": "stream",
     "text": [
      "Aに軸を追加\n",
      "[[[-1  2  3]]\n",
      "\n",
      " [[ 4 -5  6]]\n",
      "\n",
      " [[ 7  8 -9]]]\n",
      "Bを転置\n",
      "[[[0 4]\n",
      "  [2 6]]\n",
      "\n",
      " [[1 5]\n",
      "  [3 7]]]\n",
      "これらを掛け合わせると\n",
      "[[[  0   0   6]\n",
      "  [ -2   4  27]\n",
      "  [ -1 -16  -3]]\n",
      "\n",
      " [[  0   0  12]\n",
      "  [  8 -10  54]\n",
      "  [  4  40  -6]]\n",
      "\n",
      " [[  0   0 -18]\n",
      "  [ 14  16 -81]\n",
      "  [  7 -64   9]]]\n",
      "そしてaxis=2で合計すると求めたい行列積\n",
      "[[  6  29 -20]\n",
      " [ 12  52  38]\n",
      " [-18 -51 -48]]\n"
     ]
    }
   ],
   "source": [
    "a_ndarray = np.array([[-1, 2, 3], [4, -5, 6], [7, 8, -9]])\n",
    "b_ndarray = np.array([[0, 2, 1], [0, 2, -8], [2, 9, -1]])\n",
    "print(\"Aに軸を追加\\n{}\".format(a_ndarray[:, np.newaxis, :]))\n",
    "print(\"Bを転置\\n{}\".format(b.T))\n",
    "print(\"これらを掛け合わせると\\n{}\".format(a_ndarray.reshape(3, 1, 3)*b_ndarray.T))\n",
    "print(\"そしてaxis=2で合計すると求めたい行列積\\n{}\".format((a_ndarray.reshape(3, 1, 3)*b_ndarray.T).sum(axis=2)))"
   ]
  },
  {
   "cell_type": "markdown",
   "metadata": {},
   "source": [
    "Aに軸を追加し、(3, 1, 3)としたことで、B.Tと掛け合わせる際それぞれが以下のような(3, 3, 3)の形にブロードキャストされます。\n",
    "\n",
    "これは2重のfor文で計算させたかった9個の行や列が並んでいる状態です。やや難しいですが、NumPyを使えばこのような書き方も可能だということを意識しておきましょう。まずは単純なfor文で書いてみて、その後書き換えていくことをオススメします。\n",
    "\n",
    "```py\n",
    "# A\n",
    " [[[-1  2  3]\n",
    "  [-1  2  3]\n",
    "  [-1  2  3]]\n",
    "\n",
    " [[ 4 -5  6]\n",
    "  [ 4 -5  6]\n",
    "  [ 4 -5  6]]\n",
    "\n",
    " [[ 7  8 -9]\n",
    "  [ 7  8 -91]\n",
    "  [ 7  8 -9]]]\n",
    "  \n",
    "# B.T\n",
    " [[[ 0  0  2]\n",
    "  [ 2  2  9]\n",
    "  [ 1 -8 -1]]\n",
    "\n",
    " [[ 0  0  2]\n",
    "  [ 2  2  9]\n",
    "  [ 1 -8 -1]]\n",
    "\n",
    " [[ 0  0  2]\n",
    "  [ 2  2  9]\n",
    "  [ 1 -8 -1]]]\n",
    " ```"
   ]
  },
  {
   "cell_type": "markdown",
   "metadata": {},
   "source": [
    "それぞれの実行時間を計測してみます。\n",
    "\n",
    "行列の形が大きくなると解答例1や2は多重のfor文によって急激に計算時間が増えていることが分かります。\n",
    "\n",
    "＊(10, 10)は繰り返し処理の計測に時間がかかるため、コメントアウトしています。"
   ]
  },
  {
   "cell_type": "code",
   "execution_count": 21,
   "metadata": {},
   "outputs": [
    {
     "name": "stdout",
     "output_type": "stream",
     "text": [
      "51.3 µs ± 1.63 µs per loop (mean ± std. dev. of 7 runs, 10000 loops each)\n",
      "33.4 µs ± 1.63 µs per loop (mean ± std. dev. of 7 runs, 10000 loops each)\n",
      "7.73 µs ± 140 ns per loop (mean ± std. dev. of 7 runs, 100000 loops each)\n"
     ]
    }
   ],
   "source": [
    "a_ndarray = np.array([[-1, 2, 3], [4, -5, 6], [7, 8, -9]])\n",
    "b_ndarray = np.array([[0, 2, 1], [0, 2, -8], [2, 9, -1]])\n",
    "\n",
    "%timeit matrix_product_q4_1(a_ndarray, b_ndarray)\n",
    "%timeit matrix_product_q4_2(a_ndarray, b_ndarray)\n",
    "%timeit matrix_product_q4_3(a_ndarray, b_ndarray)"
   ]
  },
  {
   "cell_type": "code",
   "execution_count": 22,
   "metadata": {},
   "outputs": [
    {
     "name": "stdout",
     "output_type": "stream",
     "text": [
      "629 µs ± 77.2 µs per loop (mean ± std. dev. of 7 runs, 1000 loops each)\n"
     ]
    }
   ],
   "source": [
    "# x_ndarray = np.ones((10, 10))\n",
    "# y_ndarray = np.ones((10, 10))\n",
    "\n",
    "# %timeit matrix_product_q4_1(x_ndarray, y_ndarray)"
   ]
  },
  {
   "cell_type": "code",
   "execution_count": 23,
   "metadata": {},
   "outputs": [
    {
     "name": "stdout",
     "output_type": "stream",
     "text": [
      "927 µs ± 30 µs per loop (mean ± std. dev. of 7 runs, 1000 loops each)\n"
     ]
    }
   ],
   "source": [
    "# %timeit matrix_product_q4_2(x_ndarray, y_ndarray)"
   ]
  },
  {
   "cell_type": "code",
   "execution_count": 24,
   "metadata": {},
   "outputs": [
    {
     "name": "stdout",
     "output_type": "stream",
     "text": [
      "15.8 µs ± 166 ns per loop (mean ± std. dev. of 7 runs, 100000 loops each)\n"
     ]
    }
   ],
   "source": [
    "# %timeit matrix_product_q4_3(x_ndarray, y_ndarray)"
   ]
  },
  {
   "cell_type": "markdown",
   "metadata": {},
   "source": [
    "## 行列積が定義されない組み合わせの行列\n",
    "\n",
    "次に以下のような例を考えます。    \n",
    "\n",
    "$$ D = \\left[\n",
    "    \\begin{array}{ccc}\n",
    "      -1 & 2 & 3 \\\\\n",
    "      4 & -5 & 6\n",
    "    \\end{array}\n",
    "  \\right],\n",
    "  E- = \\left[\n",
    "    \\begin{array}{ccc}\n",
    "       -9 & 8 & 7 \\\\\n",
    "      6 & -5 & 4\n",
    "    \\end{array}\n",
    "  \\right] $$\n",
    "\n",
    "```py\n",
    "d_ndarray_ = np.array([[-1, 2, 3], [4, -5, 6]])\n",
    "e_ndarray = np.array([[-9, 8, 7], [6, -5, 4]])\n",
    "```\n",
    "\n",
    "行列積DEはDの列数とEの行数が等しい場合に定義されていますから、この例では計算ができません。\n",
    "\n",
    "### 【問題5】計算が定義されない入力を判定する\n",
    "\n",
    "問題4で作成した関数は、実装方法によってはこのDとEの配列を入力しても動いてしまう可能性があります。この場合、不適切な計算が行われることになります。また、途中でエラーになる場合でも、なぜエラーになったかが直接的には分かりづらいメッセージが表示されます。\n",
    "\n",
    "if文などによってこれを防ぎ、入力される形に問題があることを`print()`を使い表示するコードを書き加えてください。\n",
    "\n",
    "（解説）\n",
    "\n",
    "`a.shape[1]==b.shape[0]`の場合のみ計算を行い、そうでない場合は不適切であることを説明します。\n",
    "\n",
    "（解答例1）\n",
    "\n",
    "if文を使う方法です。`if a.shape[1]==b.shape[0]:`とするか`if a.shape[1]!=b.shape[0]:`とするか、どちらが読みやすいかは考え方が別れるところです。"
   ]
  },
  {
   "cell_type": "code",
   "execution_count": 25,
   "metadata": {},
   "outputs": [
    {
     "name": "stdout",
     "output_type": "stream",
     "text": [
      "a.shape[1] != b.shape[0] : 3 != 2\n",
      "計算結果\n",
      "None\n"
     ]
    }
   ],
   "source": [
    "def matrix_product_q5_1(a, b):\n",
    "    c = np.empty((a.shape[0], b.shape[1]))\n",
    "\n",
    "    if a.shape[1] == b.shape[0]:\n",
    "        c = (a[:, np.newaxis, :]*b.T).sum(axis=2)\n",
    "        return c\n",
    "    else:\n",
    "        print(\"a.shape[1] != b.shape[0] : {} != {}\".format(a.shape[1], b.shape[0]))\n",
    "        return None\n",
    "        \n",
    "d = np.array([[-1, 2, 3], [4, -5, 6]])\n",
    "e = np.array([[-9, 8, 7], [6, -5, 4]])\n",
    "print(\"計算結果\\n{}\".format(matrix_product_q5_1(d, e)))"
   ]
  },
  {
   "cell_type": "markdown",
   "metadata": {},
   "source": [
    "（解答例2）\n",
    "\n",
    "`assert`を使う方法です。指定した条件を満たさない場合はAssertionErrorでプログラムが止まります。\n",
    "\n",
    "`assert`はデバッグのためという意味合いが出るため、今回のような例ではやや不適切かもしれません。しかし、簡単に使えるため自作の関数を作成する際に非常に便利です。手軽にテストを書くことにもなるため、積極的に使っていくことをオススメします。機械学習・データサイエンスのコードを書く場合しっかりとしたユニットテストを書くということにはならない場面も多いですが、これであれば負担なく入れることができ、後々のバグを防ぐことができます。\n",
    "\n",
    "[7. 単純文 (simple statement) — Python 3.7.4 ドキュメント](https://docs.python.org/ja/3/reference/simple_stmts.html#assert)"
   ]
  },
  {
   "cell_type": "code",
   "execution_count": 26,
   "metadata": {},
   "outputs": [
    {
     "ename": "AssertionError",
     "evalue": "a.shape[1] != b.shape[0] : 3 != 2",
     "output_type": "error",
     "traceback": [
      "\u001b[0;31m---------------------------------------------------------------------------\u001b[0m",
      "\u001b[0;31mAssertionError\u001b[0m                            Traceback (most recent call last)",
      "\u001b[0;32m<ipython-input-26-c6b76bc640f5>\u001b[0m in \u001b[0;36m<module>\u001b[0;34m\u001b[0m\n\u001b[1;32m      8\u001b[0m \u001b[0md\u001b[0m \u001b[0;34m=\u001b[0m \u001b[0mnp\u001b[0m\u001b[0;34m.\u001b[0m\u001b[0marray\u001b[0m\u001b[0;34m(\u001b[0m\u001b[0;34m[\u001b[0m\u001b[0;34m[\u001b[0m\u001b[0;34m-\u001b[0m\u001b[0;36m1\u001b[0m\u001b[0;34m,\u001b[0m \u001b[0;36m2\u001b[0m\u001b[0;34m,\u001b[0m \u001b[0;36m3\u001b[0m\u001b[0;34m]\u001b[0m\u001b[0;34m,\u001b[0m \u001b[0;34m[\u001b[0m\u001b[0;36m4\u001b[0m\u001b[0;34m,\u001b[0m \u001b[0;34m-\u001b[0m\u001b[0;36m5\u001b[0m\u001b[0;34m,\u001b[0m \u001b[0;36m6\u001b[0m\u001b[0;34m]\u001b[0m\u001b[0;34m]\u001b[0m\u001b[0;34m)\u001b[0m\u001b[0;34m\u001b[0m\u001b[0;34m\u001b[0m\u001b[0m\n\u001b[1;32m      9\u001b[0m \u001b[0me\u001b[0m \u001b[0;34m=\u001b[0m \u001b[0mnp\u001b[0m\u001b[0;34m.\u001b[0m\u001b[0marray\u001b[0m\u001b[0;34m(\u001b[0m\u001b[0;34m[\u001b[0m\u001b[0;34m[\u001b[0m\u001b[0;34m-\u001b[0m\u001b[0;36m9\u001b[0m\u001b[0;34m,\u001b[0m \u001b[0;36m8\u001b[0m\u001b[0;34m,\u001b[0m \u001b[0;36m7\u001b[0m\u001b[0;34m]\u001b[0m\u001b[0;34m,\u001b[0m \u001b[0;34m[\u001b[0m\u001b[0;36m6\u001b[0m\u001b[0;34m,\u001b[0m \u001b[0;34m-\u001b[0m\u001b[0;36m5\u001b[0m\u001b[0;34m,\u001b[0m \u001b[0;36m4\u001b[0m\u001b[0;34m]\u001b[0m\u001b[0;34m]\u001b[0m\u001b[0;34m)\u001b[0m\u001b[0;34m\u001b[0m\u001b[0;34m\u001b[0m\u001b[0m\n\u001b[0;32m---> 10\u001b[0;31m \u001b[0mprint\u001b[0m\u001b[0;34m(\u001b[0m\u001b[0;34m\"計算結果\\n{}\"\u001b[0m\u001b[0;34m.\u001b[0m\u001b[0mformat\u001b[0m\u001b[0;34m(\u001b[0m\u001b[0mmatrix_product_q5_2\u001b[0m\u001b[0;34m(\u001b[0m\u001b[0md\u001b[0m\u001b[0;34m,\u001b[0m \u001b[0me\u001b[0m\u001b[0;34m)\u001b[0m\u001b[0;34m)\u001b[0m\u001b[0;34m)\u001b[0m\u001b[0;34m\u001b[0m\u001b[0;34m\u001b[0m\u001b[0m\n\u001b[0m",
      "\u001b[0;32m<ipython-input-26-c6b76bc640f5>\u001b[0m in \u001b[0;36mmatrix_product_q5_2\u001b[0;34m(a, b)\u001b[0m\n\u001b[1;32m      2\u001b[0m     \u001b[0mc\u001b[0m \u001b[0;34m=\u001b[0m \u001b[0mnp\u001b[0m\u001b[0;34m.\u001b[0m\u001b[0mempty\u001b[0m\u001b[0;34m(\u001b[0m\u001b[0;34m(\u001b[0m\u001b[0ma\u001b[0m\u001b[0;34m.\u001b[0m\u001b[0mshape\u001b[0m\u001b[0;34m[\u001b[0m\u001b[0;36m0\u001b[0m\u001b[0;34m]\u001b[0m\u001b[0;34m,\u001b[0m \u001b[0mb\u001b[0m\u001b[0;34m.\u001b[0m\u001b[0mshape\u001b[0m\u001b[0;34m[\u001b[0m\u001b[0;36m1\u001b[0m\u001b[0;34m]\u001b[0m\u001b[0;34m)\u001b[0m\u001b[0;34m)\u001b[0m\u001b[0;34m\u001b[0m\u001b[0;34m\u001b[0m\u001b[0m\n\u001b[1;32m      3\u001b[0m \u001b[0;34m\u001b[0m\u001b[0m\n\u001b[0;32m----> 4\u001b[0;31m     \u001b[0;32massert\u001b[0m \u001b[0ma\u001b[0m\u001b[0;34m.\u001b[0m\u001b[0mshape\u001b[0m\u001b[0;34m[\u001b[0m\u001b[0;36m1\u001b[0m\u001b[0;34m]\u001b[0m \u001b[0;34m==\u001b[0m \u001b[0mb\u001b[0m\u001b[0;34m.\u001b[0m\u001b[0mshape\u001b[0m\u001b[0;34m[\u001b[0m\u001b[0;36m0\u001b[0m\u001b[0;34m]\u001b[0m\u001b[0;34m,\u001b[0m \u001b[0;34m\"a.shape[1] != b.shape[0] : {} != {}\"\u001b[0m\u001b[0;34m.\u001b[0m\u001b[0mformat\u001b[0m\u001b[0;34m(\u001b[0m\u001b[0ma\u001b[0m\u001b[0;34m.\u001b[0m\u001b[0mshape\u001b[0m\u001b[0;34m[\u001b[0m\u001b[0;36m1\u001b[0m\u001b[0;34m]\u001b[0m\u001b[0;34m,\u001b[0m \u001b[0mb\u001b[0m\u001b[0;34m.\u001b[0m\u001b[0mshape\u001b[0m\u001b[0;34m[\u001b[0m\u001b[0;36m0\u001b[0m\u001b[0;34m]\u001b[0m\u001b[0;34m)\u001b[0m\u001b[0;34m\u001b[0m\u001b[0;34m\u001b[0m\u001b[0m\n\u001b[0m\u001b[1;32m      5\u001b[0m     \u001b[0mc\u001b[0m \u001b[0;34m=\u001b[0m \u001b[0;34m(\u001b[0m\u001b[0ma\u001b[0m\u001b[0;34m[\u001b[0m\u001b[0;34m:\u001b[0m\u001b[0;34m,\u001b[0m \u001b[0mnp\u001b[0m\u001b[0;34m.\u001b[0m\u001b[0mnewaxis\u001b[0m\u001b[0;34m,\u001b[0m \u001b[0;34m:\u001b[0m\u001b[0;34m]\u001b[0m\u001b[0;34m*\u001b[0m\u001b[0mb\u001b[0m\u001b[0;34m.\u001b[0m\u001b[0mT\u001b[0m\u001b[0;34m)\u001b[0m\u001b[0;34m.\u001b[0m\u001b[0msum\u001b[0m\u001b[0;34m(\u001b[0m\u001b[0maxis\u001b[0m\u001b[0;34m=\u001b[0m\u001b[0;36m2\u001b[0m\u001b[0;34m)\u001b[0m\u001b[0;34m\u001b[0m\u001b[0;34m\u001b[0m\u001b[0m\n\u001b[1;32m      6\u001b[0m     \u001b[0;32mreturn\u001b[0m \u001b[0mc\u001b[0m\u001b[0;34m\u001b[0m\u001b[0;34m\u001b[0m\u001b[0m\n",
      "\u001b[0;31mAssertionError\u001b[0m: a.shape[1] != b.shape[0] : 3 != 2"
     ]
    }
   ],
   "source": [
    "def matrix_product_q5_2(a, b):\n",
    "    c = np.empty((a.shape[0], b.shape[1]))\n",
    "\n",
    "    assert a.shape[1] == b.shape[0], \"a.shape[1] != b.shape[0] : {} != {}\".format(a.shape[1], b.shape[0])\n",
    "    c = (a[:, np.newaxis, :]*b.T).sum(axis=2)\n",
    "    return c\n",
    "        \n",
    "d = np.array([[-1, 2, 3], [4, -5, 6]])\n",
    "e = np.array([[-9, 8, 7], [6, -5, 4]])\n",
    "print(\"計算結果\\n{}\".format(matrix_product_q5_2(d, e)))"
   ]
  },
  {
   "cell_type": "markdown",
   "metadata": {},
   "source": [
    "（解答例3）\n",
    "\n",
    "**組み込み例外** を表示させる方法です。\n",
    "\n",
    "組み込み例外とは、**ValueError** や **IndexError**、 **ZeroDivisionError** など、用意されているエラーの種類のことです。\n",
    "\n",
    "ここではValueErrorを表示させることにします。次のような意味を持ちます。ざっくり値関係のエラーであればこれが使われることが多いです。\n",
    "\n",
    "> 演算子や関数が、正しい型だが適切でない値を持つ引数を受け取ったときや、 IndexError のようなより詳細な例外では記述できない状況で送出されます。\n",
    "\n",
    "どのエラーを選ぶこともできますが、意味が分かりやすいものにするようにしましょう。\n",
    "\n",
    "[ValueError — Python 3.7.4 ドキュメント](https://docs.python.org/ja/3/library/exceptions.html#ValueError)\n",
    "\n",
    "[8. エラーと例外 — Python 3.7.4 ドキュメント](https://docs.python.org/ja/3/tutorial/errors.html)\n",
    "\n",
    "ちょっとコードを書く時には面倒なためあまり適していない方法ですが、自分以外の人も使うモジュールを作りたいという時などは良いでしょう。"
   ]
  },
  {
   "cell_type": "code",
   "execution_count": null,
   "metadata": {},
   "outputs": [],
   "source": [
    "def matrix_product_q5_3(a, b):\n",
    "    c = np.empty((a.shape[0], b.shape[1]))\n",
    "\n",
    "    if a.shape[1] != b.shape[0]:\n",
    "        raise ValueError(\"a.shape[1] != b.shape[0] : {} != {}\".format(a.shape[1], b.shape[0]))\n",
    "    c = (a[:, np.newaxis, :]*b.T).sum(axis=2)\n",
    "    return c\n",
    "\n",
    "d = np.array([[-1, 2, 3], [4, -5, 6]])\n",
    "e = np.array([[-9, 8, 7], [6, -5, 4]])\n",
    "print(\"計算結果\\n{}\".format(matrix_product_q5_3(d, e)))"
   ]
  },
  {
   "cell_type": "markdown",
   "metadata": {},
   "source": [
    "解答例2や3の場合は、エラーが表示されプログラムが停止します。\n",
    "\n",
    "もしも止めたくない場合には **try文による例外処理** を書くことができます。\n",
    "\n",
    "[8.3. 例外を処理する — Python 3.7.4 ドキュメント](https://docs.python.org/ja/3/tutorial/errors.html#handling-exceptions)\n",
    "\n",
    "以下の例では「計算できない形です。」を答えとして代入し、プログラムが続くようにしました。しかし、以下のコードはif文でも対応できるため、そういった場合はtry文よりif文の方が推奨されます。try文はif文で判断ができないどうしようもないエラーに対してのみ使う方が読みやすいコードになります。"
   ]
  },
  {
   "cell_type": "code",
   "execution_count": null,
   "metadata": {},
   "outputs": [],
   "source": [
    "d = np.array([[-1, 2, 3], [4, -5, 6]])\n",
    "e = np.array([[-9, 8, 7], [6, -5, 4]])\n",
    "\n",
    "try:\n",
    "    ans = matrix_product_q5_2(d, e)\n",
    "    \n",
    "except AssertionError:\n",
    "    ans = \"計算できない形です。\"\n",
    "\n",
    "print(\"計算結果\\n{}\".format(ans))"
   ]
  },
  {
   "cell_type": "markdown",
   "metadata": {},
   "source": [
    "問題4の関数にそのまま行列を入れると、どのようなエラーになるかを確認しておきます。"
   ]
  },
  {
   "cell_type": "code",
   "execution_count": null,
   "metadata": {},
   "outputs": [],
   "source": [
    "# エラーになる\n",
    "print(\"計算結果\\n{}\".format(matrix_product_q4_1(d, e)))"
   ]
  },
  {
   "cell_type": "code",
   "execution_count": null,
   "metadata": {},
   "outputs": [],
   "source": [
    "# エラーになる\n",
    "print(\"計算結果\\n{}\".format(matrix_product_q4_2(d, e)))"
   ]
  },
  {
   "cell_type": "code",
   "execution_count": null,
   "metadata": {},
   "outputs": [],
   "source": [
    "# エラーになる\n",
    "print(\"計算結果\\n{}\".format(matrix_product_q4_3(d, e)))"
   ]
  },
  {
   "cell_type": "markdown",
   "metadata": {},
   "source": [
    "### 【問題6】転置\n",
    "\n",
    "片方の行列を転置することで、行列積が計算できるようになります。\n",
    "\n",
    "`np.transpose()`や`.T`アトリビュートを用いて転置し、行列積を計算してください。\n",
    "\n",
    "[numpy.transpose — NumPy v1.16 Manual](https://docs.scipy.org/doc/numpy/reference/generated/numpy.transpose.html)\n",
    "\n",
    "[numpy.ndarray.T — NumPy v1.16 Manual](https://docs.scipy.org/doc/numpy/reference/generated/numpy.ndarray.T.html)\n",
    "\n",
    "（解説）\n",
    "\n",
    "今回の例ではどちらかを転置すれば行列積が定義された状態になるため、計算できます。"
   ]
  },
  {
   "cell_type": "code",
   "execution_count": 28,
   "metadata": {},
   "outputs": [
    {
     "name": "stdout",
     "output_type": "stream",
     "text": [
      "計算結果：\n",
      "[[ 33 -28   9]\n",
      " [-48  41  -6]\n",
      " [  9  -6  45]]\n",
      "計算結果：\n",
      "[[ 46  -4]\n",
      " [-34  73]]\n"
     ]
    }
   ],
   "source": [
    "d = np.array([[-1, 2, 3], [4, -5, 6]])\n",
    "e = np.array([[-9, 8, 7], [6, -5, 4]])\n",
    "\n",
    "print(\"計算結果：\\n{}\".format(d.T@e))\n",
    "print(\"計算結果：\\n{}\".format(d@e.T))"
   ]
  },
  {
   "cell_type": "code",
   "execution_count": null,
   "metadata": {},
   "outputs": [],
   "source": []
  }
 ],
 "metadata": {
  "kernelspec": {
   "display_name": "Python 3",
   "language": "python",
   "name": "python3"
  },
  "language_info": {
   "codemirror_mode": {
    "name": "ipython",
    "version": 3
   },
   "file_extension": ".py",
   "mimetype": "text/x-python",
   "name": "python",
   "nbconvert_exporter": "python",
   "pygments_lexer": "ipython3",
   "version": "3.6.8"
  }
 },
 "nbformat": 4,
 "nbformat_minor": 2
}
