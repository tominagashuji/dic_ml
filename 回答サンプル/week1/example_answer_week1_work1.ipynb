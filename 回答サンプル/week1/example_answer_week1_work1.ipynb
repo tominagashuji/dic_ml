{
 "cells": [
  {
   "cell_type": "markdown",
   "metadata": {},
   "source": [
    "# 解答例：Week1 授業前課題 Pythonを使ってみよう"
   ]
  },
  {
   "cell_type": "markdown",
   "metadata": {},
   "source": [
    "### 【問題1】べき乗の算術演算子を使用して作成\n",
    "\n",
    "（解説）\n",
    "\n",
    "元の紙の厚さを2の43乗倍することで、43回折った厚さが求まります。"
   ]
  },
  {
   "cell_type": "code",
   "execution_count": 1,
   "metadata": {},
   "outputs": [
    {
     "name": "stdout",
     "output_type": "stream",
     "text": [
      "厚さ： 703687441.77664メートル\n"
     ]
    }
   ],
   "source": [
    "THICKNESS = 0.00008\n",
    "\n",
    "n_folded = 43 # 何回折るかは変数に入れておくと扱いやすい\n",
    "\n",
    "folded_thickness = THICKNESS*(2**n_folded) # 括弧はなくても良いが、意味を取りやすくするためにつけることもある\n",
    "\n",
    "print(\"厚さ： {}メートル\".format(folded_thickness))"
   ]
  },
  {
   "cell_type": "markdown",
   "metadata": {},
   "source": [
    "【補足】\n",
    "\n",
    "これだけだと正しく計算できているか分からないため、手計算できる回数に変更して確認してみることをオススメします。\n",
    "\n",
    "0.00008メートルを一回折ると0.00016メートル、もう一度折ると0.00032メートルであっていそうです。\n",
    "\n",
    "折る回数を変数で置いて置くと、このような確認が行いやすいです。"
   ]
  },
  {
   "cell_type": "code",
   "execution_count": 2,
   "metadata": {},
   "outputs": [
    {
     "name": "stdout",
     "output_type": "stream",
     "text": [
      "回数：1、厚さ： 0.00016メートル\n",
      "回数：2、厚さ： 0.00032メートル\n",
      "回数：3、厚さ： 0.00064メートル\n"
     ]
    }
   ],
   "source": [
    "n_folded = 1\n",
    "folded_thickness = THICKNESS*(2**n_folded)\n",
    "print(\"回数：{}、厚さ： {}メートル\".format(n_folded, folded_thickness))\n",
    "\n",
    "n_folded = 2\n",
    "folded_thickness = THICKNESS*(2**n_folded)\n",
    "print(\"回数：{}、厚さ： {}メートル\".format(n_folded, folded_thickness))\n",
    "\n",
    "n_folded = 3\n",
    "folded_thickness = THICKNESS*(2**n_folded)\n",
    "print(\"回数：{}、厚さ： {}メートル\".format(n_folded, folded_thickness))"
   ]
  },
  {
   "cell_type": "markdown",
   "metadata": {},
   "source": [
    "### 【問題2】単位の変換\n",
    "\n",
    "（解説）\n",
    "\n",
    "メートルを1000で割るとキロメートルですが、さらに10000で割ることで○万キロメートルに変換できます。"
   ]
  },
  {
   "cell_type": "code",
   "execution_count": 3,
   "metadata": {},
   "outputs": [
    {
     "name": "stdout",
     "output_type": "stream",
     "text": [
      "厚さ： 703687441.77664メートル\n",
      "厚さ： 70.37万キロメートル\n"
     ]
    }
   ],
   "source": [
    "THICKNESS = 0.00008\n",
    "\n",
    "n_folded = 43 # 何回折るかは変数に入れておくと扱いやすい\n",
    "\n",
    "folded_thickness = THICKNESS*(2**n_folded) # 括弧はなくても良いが、意味を取りやすくするためにつけることもある\n",
    "\n",
    "print(\"厚さ： {}メートル\".format(folded_thickness))\n",
    "\n",
    "print(\"厚さ： {:.2f}万キロメートル\".format(folded_thickness/1000/10000))"
   ]
  },
  {
   "cell_type": "markdown",
   "metadata": {},
   "source": [
    "「月までの距離」は検索すると約38万キロメートルと分かるので、43回折った紙は月を超えることが確認できます。"
   ]
  },
  {
   "cell_type": "markdown",
   "metadata": {},
   "source": [
    "### 【問題3】for文を使用して作成\n",
    "\n",
    "（解説）\n",
    "\n",
    "for文を使うことで、2を繰り返し掛けていくことで折った厚さを求めます。43回繰り返すことが43回折ることに相当します。"
   ]
  },
  {
   "cell_type": "code",
   "execution_count": 4,
   "metadata": {},
   "outputs": [
    {
     "name": "stdout",
     "output_type": "stream",
     "text": [
      "厚さ： 703687441.77664メートル\n"
     ]
    }
   ],
   "source": [
    "THICKNESS = 0.00008\n",
    "\n",
    "n_folded = 43\n",
    "\n",
    "folded_thickness = THICKNESS\n",
    "for i in range(n_folded):\n",
    "    folded_thickness = folded_thickness*2\n",
    "print(\"厚さ： {}メートル\".format(folded_thickness)) # 問題1と同じ値になることを確認"
   ]
  },
  {
   "cell_type": "markdown",
   "metadata": {},
   "source": [
    "【少し違う書き方の例】\n",
    "\n",
    "rangeは`(0, n_folded, 1)`のように始点やステップ数を明示することもできます。しかし、0はじまり1ステップの場合は省略することが一般的です。"
   ]
  },
  {
   "cell_type": "code",
   "execution_count": 5,
   "metadata": {},
   "outputs": [
    {
     "name": "stdout",
     "output_type": "stream",
     "text": [
      "厚さ： 703687441.77664メートル\n"
     ]
    }
   ],
   "source": [
    "THICKNESS = 0.00008\n",
    "\n",
    "n_folded = 43\n",
    "\n",
    "folded_thickness = THICKNESS\n",
    "for i in range(0, n_folded, 1):\n",
    "    folded_thickness = folded_thickness*2\n",
    "print(\"厚さ： {}メートル\".format(folded_thickness)) # 問題1と同じ値になることを確認"
   ]
  },
  {
   "cell_type": "markdown",
   "metadata": {},
   "source": [
    "【あまりよくない例】\n",
    "\n",
    "THICKNESSは定数として扱いたいので、THICKNESSを書き換えるコードは望ましくありません。\n",
    "\n",
    "Pythonでは全て大文字で表した変数は、変更されることのない定数を表す慣例があります。そう人間が扱っているだけで機能的には普通の変数と同じため、変更してしまうことも可能ですが、そういったコードは分かりにくくなるため避けましょう。"
   ]
  },
  {
   "cell_type": "code",
   "execution_count": 6,
   "metadata": {},
   "outputs": [
    {
     "name": "stdout",
     "output_type": "stream",
     "text": [
      "厚さ： 703687441.77664メートル\n"
     ]
    }
   ],
   "source": [
    "THICKNESS = 0.00008\n",
    "\n",
    "n_folded = 43\n",
    "\n",
    "for i in range(n_folded):\n",
    "    THICKNESS = THICKNESS*2\n",
    "print(\"厚さ： {}メートル\".format(THICKNESS)) # 問題1と同じ値になることを確認"
   ]
  },
  {
   "cell_type": "markdown",
   "metadata": {},
   "source": [
    "### 【問題4】計算時間の比較"
   ]
  },
  {
   "cell_type": "markdown",
   "metadata": {},
   "source": [
    "（解説）\n",
    "\n",
    "以下のように記述することで時間が測れます。問題2のように単位を`[s]`から`[ms]`に変換して見やすくしています。\n",
    "\n",
    "【例1】\n",
    "\n",
    "問題1と3のコード全体を囲う方法です。\n",
    "\n",
    "実行する度に順序が入れ替わる程度の差かと思われます。この改善が例2です。"
   ]
  },
  {
   "cell_type": "code",
   "execution_count": 7,
   "metadata": {},
   "outputs": [
    {
     "name": "stdout",
     "output_type": "stream",
     "text": [
      "厚さ： 703687441.77664メートル\n",
      "time : 0.3998279571533203[ms]\n"
     ]
    }
   ],
   "source": [
    "import time\n",
    "start = time.time()\n",
    "#####\n",
    "\n",
    "THICKNESS = 0.00008\n",
    "\n",
    "n_folded = 43 # 何回折るかは変数に入れておくと扱いやすい\n",
    "\n",
    "folded_thickness = THICKNESS*(2**n_folded) # 括弧はなくても良いが、意味を取りやすくするためにつけることもある\n",
    "print(\"厚さ： {}メートル\".format(folded_thickness))\n",
    "#####\n",
    "elapsed_time = time.time() - start\n",
    "print(\"time : {}[ms]\".format(elapsed_time*1000))"
   ]
  },
  {
   "cell_type": "code",
   "execution_count": 8,
   "metadata": {},
   "outputs": [
    {
     "name": "stdout",
     "output_type": "stream",
     "text": [
      "厚さ： 703687441.77664メートル\n",
      "time : 1.5101432800292969[ms]\n"
     ]
    }
   ],
   "source": [
    "start = time.time()\n",
    "#####\n",
    "\n",
    "THICKNESS = 0.00008\n",
    "\n",
    "n_folded = 43\n",
    "\n",
    "folded_thickness = THICKNESS\n",
    "for i in range(n_folded):\n",
    "    folded_thickness = folded_thickness*2\n",
    "print(\"厚さ： {}メートル\".format(folded_thickness)) # 問題1と同じ値になることを確認\n",
    "#####\n",
    "elapsed_time = time.time() - start\n",
    "print(\"time : {}[ms]\".format(elapsed_time*1000))"
   ]
  },
  {
   "cell_type": "markdown",
   "metadata": {},
   "source": [
    "【例2】\n",
    "\n",
    "問題1と3の異なる部分だけ時間を測る方法です。\n",
    "\n",
    "print関数の部分はさらに別に時間を計測してみると、ここが紙を折る計算以上に時間がかかっていることが分かります。\n",
    "\n",
    "べき乗とfor文の部分だけを見ることで、時間の差がはっきりとしてきます。\n",
    "\n",
    "何回か実行してみると、べき乗の方がやや早そうなことが分かります。書き方もシンプルですし、最終的な結果だけ知りたい場合はべき乗が良さそうです。"
   ]
  },
  {
   "cell_type": "code",
   "execution_count": 9,
   "metadata": {},
   "outputs": [
    {
     "name": "stdout",
     "output_type": "stream",
     "text": [
      "time : 0.12993812561035156[ms]\n"
     ]
    }
   ],
   "source": [
    "THICKNESS = 0.00008\n",
    "\n",
    "n_folded = 43 # 何回折るかは変数に入れておくと扱いやすい\n",
    "\n",
    "start = time.time()\n",
    "#####\n",
    "folded_thickness = THICKNESS*(2**n_folded) # 括弧はなくても良いが、意味を取りやすくするためにつけることもある\n",
    "#####\n",
    "elapsed_time = time.time() - start\n",
    "print(\"time : {}[ms]\".format(elapsed_time*1000))"
   ]
  },
  {
   "cell_type": "code",
   "execution_count": 10,
   "metadata": {},
   "outputs": [
    {
     "name": "stdout",
     "output_type": "stream",
     "text": [
      "time : 0.1499652862548828[ms]\n"
     ]
    }
   ],
   "source": [
    "THICKNESS = 0.00008\n",
    "\n",
    "n_folded = 43\n",
    "\n",
    "start = time.time()\n",
    "#####\n",
    "folded_thickness = THICKNESS\n",
    "for i in range(n_folded):\n",
    "    folded_thickness = folded_thickness*2\n",
    "#####\n",
    "elapsed_time = time.time() - start\n",
    "print(\"time : {}[ms]\".format(elapsed_time*1000))"
   ]
  },
  {
   "cell_type": "code",
   "execution_count": 11,
   "metadata": {},
   "outputs": [
    {
     "name": "stdout",
     "output_type": "stream",
     "text": [
      "厚さ： 703687441.77664メートル\n",
      "time : 0.3190040588378906[ms]\n"
     ]
    }
   ],
   "source": [
    "start = time.time()\n",
    "#####\n",
    "print(\"厚さ： {}メートル\".format(folded_thickness)) # 問題1と同じ値になることを確認\n",
    "#####\n",
    "elapsed_time = time.time() - start\n",
    "print(\"time : {}[ms]\".format(elapsed_time*1000))"
   ]
  },
  {
   "cell_type": "markdown",
   "metadata": {},
   "source": [
    "【補足】\n",
    "\n",
    "「何回か実行してみると」と書きましたが、時間を厳密に計測したい場合は複数回繰り返し平均をとると良いです。\n",
    "\n",
    "Jupyter Notebookには`%%timeit`と書くことでセル内のコードを複数回実行し、平均の時間を計測する機能が備わっています。\n",
    "\n",
    "課題としては`time.time()`を使う方法を行ってもらいましたが、今後は`%%timeit`を使うのが便利かと思います。\n",
    "\n",
    "ここではべき乗はforの約4倍早い結果であることが分かります。`time.time()`を使った場合よりも違いが際立ちます。\n",
    "\n",
    "＊1000ns = 1µsです。"
   ]
  },
  {
   "cell_type": "code",
   "execution_count": 12,
   "metadata": {},
   "outputs": [
    {
     "name": "stdout",
     "output_type": "stream",
     "text": [
      "576 ns ± 14.6 ns per loop (mean ± std. dev. of 7 runs, 1000000 loops each)\n"
     ]
    }
   ],
   "source": [
    "%%timeit\n",
    "THICKNESS = 0.00008\n",
    "n_folded = 43 # 何回折るかは変数に入れておくと扱いやすい\n",
    "folded_thickness = THICKNESS*(2**n_folded) # 括弧はなくても良いが、意味を取りやすくするためにつけることもある"
   ]
  },
  {
   "cell_type": "code",
   "execution_count": 13,
   "metadata": {},
   "outputs": [
    {
     "name": "stdout",
     "output_type": "stream",
     "text": [
      "2.86 µs ± 136 ns per loop (mean ± std. dev. of 7 runs, 100000 loops each)\n"
     ]
    }
   ],
   "source": [
    "%%timeit\n",
    "THICKNESS = 0.00008\n",
    "n_folded = 43\n",
    "folded_thickness = THICKNESS\n",
    "for i in range(n_folded):\n",
    "    folded_thickness = folded_thickness*2"
   ]
  },
  {
   "cell_type": "markdown",
   "metadata": {},
   "source": [
    "### 【問題5】リストへの保存\n",
    "\n",
    "（解説）\n",
    "\n",
    "計算結果をリストの最後尾に加えていきます。\n",
    "\n",
    "`[-1]`で最後尾が指定できるため、これを計算に使っていきます。"
   ]
  },
  {
   "cell_type": "code",
   "execution_count": 14,
   "metadata": {},
   "outputs": [
    {
     "name": "stdout",
     "output_type": "stream",
     "text": [
      "厚さ： 703687441.77664メートル\n",
      "------\n",
      "リスト\n",
      "[8e-05, 0.00016, 0.00032, 0.00064, 0.00128, 0.00256, 0.00512, 0.01024, 0.02048, 0.04096, 0.08192, 0.16384, 0.32768, 0.65536, 1.31072, 2.62144, 5.24288, 10.48576, 20.97152, 41.94304, 83.88608, 167.77216, 335.54432, 671.08864, 1342.17728, 2684.35456, 5368.70912, 10737.41824, 21474.83648, 42949.67296, 85899.34592, 171798.69184, 343597.38368, 687194.76736, 1374389.53472, 2748779.06944, 5497558.13888, 10995116.27776, 21990232.55552, 43980465.11104, 87960930.22208, 175921860.44416, 351843720.88832, 703687441.77664]\n"
     ]
    }
   ],
   "source": [
    "THICKNESS = 0.00008\n",
    "\n",
    "n_folded = 43\n",
    "\n",
    "folded_thickness_list = [THICKNESS]\n",
    "for i in range(n_folded):\n",
    "    folded_thickness_list.append(folded_thickness_list[-1]*2)\n",
    "print(\"厚さ： {}メートル\".format(folded_thickness_list[-1])) # 問題1と同じ値になることを確認\n",
    "print(\"------\")\n",
    "print(\"リスト\")\n",
    "print(folded_thickness_list)"
   ]
  },
  {
   "cell_type": "markdown",
   "metadata": {},
   "source": [
    "### 【問題6】折れ線グラフの表示\n",
    "\n",
    "（解説）\n",
    "\n",
    "正しくリストが作れていれば、`plt.plot()`の引数に渡すだけで表示可能です。\n",
    "\n",
    "この関数やメソッドの引数はどのような形のものを求めているのか？を考えることが大切です。"
   ]
  },
  {
   "cell_type": "code",
   "execution_count": 15,
   "metadata": {},
   "outputs": [
    {
     "data": {
      "image/png": "[encoded data removed]",
      "text/plain": [
       "<matplotlib.figure.Figure at 0x10339b518>"
      ]
     },
     "metadata": {
      "needs_background": "light"
     },
     "output_type": "display_data"
    }
   ],
   "source": [
    "import matplotlib.pyplot as plt\n",
    "%matplotlib inline\n",
    "\n",
    "plt.title(\"thickness of folded paper\")\n",
    "plt.xlabel(\"number of folds\")\n",
    "plt.ylabel(\"thickness[m]\")\n",
    "plt.plot(folded_thickness_list) # 「リスト名」のところにリストの変数名を入れる\n",
    "plt.show()"
   ]
  },
  {
   "cell_type": "markdown",
   "metadata": {},
   "source": [
    "### 【問題7】グラフのカスタマイズ\n",
    "\n",
    "（解説）\n",
    "\n",
    "いくつかの例を紹介します。この他にも様々なことが可能です。"
   ]
  },
  {
   "cell_type": "code",
   "execution_count": 16,
   "metadata": {},
   "outputs": [
    {
     "data": {
      "image/png": "[encoded data removed]",
      "text/plain": [
       "<matplotlib.figure.Figure at 0x10cad2e10>"
      ]
     },
     "metadata": {
      "needs_background": "light"
     },
     "output_type": "display_data"
    }
   ],
   "source": [
    "# 線の色を変える\n",
    "\n",
    "plt.title(\"thickness of folded paper\")\n",
    "plt.xlabel(\"number of folds\")\n",
    "plt.ylabel(\"thickness[m]\")\n",
    "plt.plot(folded_thickness_list, color = \"orange\")\n",
    "plt.show()"
   ]
  },
  {
   "cell_type": "code",
   "execution_count": 17,
   "metadata": {},
   "outputs": [
    {
     "data": {
      "image/png": "[encoded data removed]",
      "text/plain": [
       "<matplotlib.figure.Figure at 0x10cbd3438>"
      ]
     },
     "metadata": {
      "needs_background": "light"
     },
     "output_type": "display_data"
    }
   ],
   "source": [
    "# マーカーを入れる\n",
    "\n",
    "plt.title(\"thickness of folded paper\")\n",
    "plt.xlabel(\"number of folds\")\n",
    "plt.ylabel(\"thickness[m]\")\n",
    "plt.plot(folded_thickness_list, marker='o')\n",
    "plt.show()"
   ]
  },
  {
   "cell_type": "code",
   "execution_count": 18,
   "metadata": {},
   "outputs": [
    {
     "data": {
      "image/png": "[encoded data removed]",
      "text/plain": [
       "<matplotlib.figure.Figure at 0x10ccbe668>"
      ]
     },
     "metadata": {
      "needs_background": "light"
     },
     "output_type": "display_data"
    }
   ],
   "source": [
    "# ラベルの文字を大きくする\n",
    "\n",
    "plt.title(\"thickness of folded paper\")\n",
    "plt.xlabel(\"number of folds\")\n",
    "plt.ylabel(\"thickness[m]\")\n",
    "plt.tick_params(labelsize=16)\n",
    "plt.plot(folded_thickness_list)\n",
    "plt.show()"
   ]
  }
 ],
 "metadata": {
  "kernelspec": {
   "display_name": "Python 3",
   "language": "python",
   "name": "python3"
  },
  "language_info": {
   "codemirror_mode": {
    "name": "ipython",
    "version": 3
   },
   "file_extension": ".py",
   "mimetype": "text/x-python",
   "name": "python",
   "nbconvert_exporter": "python",
   "pygments_lexer": "ipython3",
   "version": "3.6.8"
  }
 },
 "nbformat": 4,
 "nbformat_minor": 2
}
