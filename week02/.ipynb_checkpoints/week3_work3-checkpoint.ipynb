{
 "cells": [
  {
   "cell_type": "markdown",
   "metadata": {},
   "source": [
    "# Week2授業前課題3 行列積のスクラッチ"
   ]
  },
  {
   "cell_type": "markdown",
   "metadata": {},
   "source": [
    "### 【問題1】行列積を手計算する\n",
    "AとBの行列積を手計算で解いてください。\n",
    "計算過程もマークダウンテキストを用いて説明してください。"
   ]
  },
  {
   "cell_type": "code",
   "execution_count": 3,
   "metadata": {},
   "outputs": [
    {
     "name": "stdout",
     "output_type": "stream",
     "text": [
      "[[-1  2  3]\n",
      " [ 4 -5  6]\n",
      " [ 7  8 -9]]\n",
      "[[ 0  2  1]\n",
      " [ 0  2 -8]\n",
      " [ 2  9 -1]]\n"
     ]
    }
   ],
   "source": [
    "# numpyで行列を表現して状態を確認\n",
    "import numpy as np\n",
    "a_ndarray = np.array([[-1, 2, 3], [4, -5, 6], [7, 8, -9]])\n",
    "b_ndarray = np.array([[0, 2, 1], [0, 2, -8], [2, 9, -1]])\n",
    "print(a_ndarray)\n",
    "print(b_ndarray)\n",
    "\n",
    "# 問題１ 行列積を手計算する\n",
    "\"\"\"\n",
    "行列積のやり方は？？\n",
    "ここの書き方が分かりやすかった。\n",
    "https://atarimae.biz/archives/23930\n",
    "言葉で表現するのは難しいが、行１＊列１、行１＊列２、行１＊列３といった具合に計算していく。\n",
    "-1,2,3  0,2,1\n",
    "4,-5,6  0,2,-8\n",
    "7,8,-9  2,9,-1\n",
    "\n",
    "-1*0 + 2*0 + 3*2  -1*2 + 2*2 + 3*9  -1*1 + 2*-8 + 3*-1  \n",
    "4*0 + -5*0 + 6*2  4*2 + -5*2 + 6*9  4*1 + -5*-8 + 6*-1  \n",
    "7*0 + 8*0 + -9*2  7*2 + 8*2 + -9*9  7*1 + 8*-8 + -9*-1  \n",
    "\n",
    "6 29 -20\n",
    "12 52 -42\n",
    "-18 -51 -48\n",
    "\"\"\""
   ]
  },
  {
   "cell_type": "markdown",
   "metadata": {},
   "source": [
    "### 【問題2】NumPyの関数による計算\n",
    "この行列積はNumPyのnp.matmul()やnp.dot()、または@演算子を使うことで簡単に計算できます。\n",
    "これらを使い行列積を計算してください。\n",
    "numpy.matmul — NumPy v1.16 Manual\n",
    "numpy.dot — NumPy v1.16 Manual\n",
    "3種類の違い\n",
    "np.matmul()とnp.dot()は3次元以上の配列で挙動が変わります。@演算子はnp.matmul()と同じ働きをします。\n",
    "今回のような2次元配列の行列積ではnp.matmul()や@演算子が公式に推奨されています。以下はnp.dot()の説明からの引用です。\n",
    "If both a and b are 2-D arrays, it is matrix multiplication, but using matmul or a @ b is preferred."
   ]
  },
  {
   "cell_type": "code",
   "execution_count": 8,
   "metadata": {},
   "outputs": [
    {
     "name": "stdout",
     "output_type": "stream",
     "text": [
      "[[  6  29 -20]\n",
      " [ 12  52  38]\n",
      " [-18 -51 -48]]\n",
      "[[  6  29 -20]\n",
      " [ 12  52  38]\n",
      " [-18 -51 -48]]\n"
     ]
    }
   ],
   "source": [
    "\"\"\"\n",
    "行列積をするには\n",
    "numpy.matmulとかnumpy.dotを使用すると簡単に出来る。。らしい\n",
    "-1,2,3  0,2,1\n",
    "4,-5,6  0,2,-8\n",
    "7,8,-9  2,9,-1\n",
    "\n",
    "すげー！確かに出来た！！！しかも自分の計算間違いも見つけたw\n",
    "\"\"\"\n",
    "c_ndarray = np.array([[-1,2,3],[4,-5,6],[7,8,-9]])\n",
    "d_ndarray = np.array([[0,2,1],[0,2,-8],[2,9,-1]])\n",
    "\n",
    "# matmulが推奨されている（３次元配列以上の計算になると）\n",
    "print(np.matmul(c_ndarray, d_ndarray)) \n",
    "print(np.dot(c_ndarray, d_ndarray))\n"
   ]
  },
  {
   "cell_type": "markdown",
   "metadata": {},
   "source": [
    "### 【問題3】ある要素の計算を実装\n",
    "手計算をする際はまず行列Aの0行目と行列Bの0列目に注目し、以下の計算を行ったかと思います。\n",
    "\n",
    "行列Aの(0,0)の要素 a0,0 と行列Bの(0,0)の要素 b0,0 を掛け合わせる\n",
    "\n",
    "行列Aの(0,1)の要素 a0,1 と行列Bの(1,0)の要素 b1,0 を掛け合わせる\n",
    "\n",
    "行列Aの(0,2)の要素 a0,2 と行列Bの(2,0)の要素 b2,0 を掛け合わせる\n",
    "\n",
    "それらの値を全て足し合わせる\n",
    "数式で表すと\n",
    "この計算をnp.matmul()やnp.dot()、または@演算子を使わずに行うコードを書いてください。"
   ]
  },
  {
   "cell_type": "code",
   "execution_count": 49,
   "metadata": {},
   "outputs": [
    {
     "name": "stdout",
     "output_type": "stream",
     "text": [
      "[-1  2  3]\n",
      "[0 0 2]\n"
     ]
    },
    {
     "data": {
      "text/plain": [
       "array([0, 0, 6])"
      ]
     },
     "execution_count": 49,
     "metadata": {},
     "output_type": "execute_result"
    }
   ],
   "source": [
    "\"\"\"\n",
    "A行列の０行目とB行列の０列目をそれぞれ掛け合わせていくロジックを書いていく\n",
    "今は作成しているC行列とD行列でやっていく\n",
    "c行列の0行目を取得\n",
    "\"\"\"\n",
    "c_ndarray = np.array([[-1,2,3],[4,-5,6],[7,8,-9]])\n",
    "d_ndarray = np.array([[0,2,1],[0,2,-8],[2,9,-1]])\n",
    "\n",
    "print(c_ndarray[0,:])\n",
    "print(d_ndarray[:,0])\n",
    "c_ndarray[0,:]*d_ndarray[:,0]"
   ]
  },
  {
   "cell_type": "markdown",
   "metadata": {},
   "source": [
    "### 【問題4】行列積を行う関数の作成\n",
    "問題3のコードを拡張し、行列積のスクラッチ実装を完成させてください。行列AとBを引数に受け取り、行列積を返す関数としてください。\n",
    "行列積を計算する場合は、問題3の計算を異なる行や列に対して繰り返していくことになります。"
   ]
  },
  {
   "cell_type": "code",
   "execution_count": 45,
   "metadata": {},
   "outputs": [
    {
     "name": "stdout",
     "output_type": "stream",
     "text": [
      "aaa\n",
      "-1\n",
      "0\n",
      "0\n",
      "aaa\n",
      "2\n",
      "0\n",
      "0\n",
      "aaa\n",
      "3\n",
      "2\n",
      "6\n",
      "6\n",
      "6\n",
      "aaa\n",
      "4\n",
      "2\n",
      "8\n",
      "aaa\n",
      "-5\n",
      "2\n",
      "-2\n",
      "aaa\n",
      "6\n",
      "9\n",
      "52\n",
      "52\n",
      "52\n",
      "aaa\n",
      "7\n",
      "1\n",
      "7\n",
      "aaa\n",
      "8\n",
      "-8\n",
      "-57\n",
      "aaa\n",
      "-9\n",
      "-1\n",
      "-48\n",
      "-48\n",
      "-48\n",
      "[[  0   0   6]\n",
      " [  8  -2  52]\n",
      " [  7 -57 -48]]\n"
     ]
    }
   ],
   "source": [
    "\"\"\"\n",
    "シグマを使って計算して欲しいという問題だと判断した。\n",
    "シグマを使った計算方法を調査する。\n",
    "でもfor文を使用すれば良いのか？例えば２重のforでやるとか？それは問4みたい。\n",
    "\n",
    "-1,2,3  0,2,1\n",
    "4,-5,6  0,2,-8\n",
    "7,8,-9  2,9,-1\n",
    "\n",
    "\"\"\"\n",
    "\n",
    "e_ndarray = np.array([[0,0,0],[0,0,0],[0,0,0]])\n",
    "\n",
    "i = 0\n",
    "j = 0\n",
    "# print(e_ndarray[0,0])\n",
    "# print(c_ndarray[0,0])\n",
    "# print(c_ndarray[0,1])\n",
    "# print(c_ndarray[0,2])\n",
    "# for i in range(len(c_ndarray - 1)):\n",
    "for i in range(3):\n",
    "    e_youso = 0\n",
    "#     for j in range(len(d_ndarray - 1)):\n",
    "    for j in range(3):\n",
    "        e_youso += c_ndarray[i,j]*d_ndarray[j,i]\n",
    "\n",
    "        print(\"aaa\")\n",
    "        print(c_ndarray[i,j])\n",
    "        print(d_ndarray[j,i])\n",
    "        print(e_youso)\n",
    "\n",
    "        e_ndarray[i,j] = e_youso\n",
    "    print(e_youso)\n",
    "    print(e_ndarray[i,j])\n",
    "\n",
    "print(e_ndarray)\n"
   ]
  },
  {
   "cell_type": "markdown",
   "metadata": {},
   "source": [
    "### 【問題5】計算が定義されない入力を判定する\n",
    "問題4で作成した関数は、実装方法によってはこのDとEの配列を入力しても動いてしまう可能性があります。この場合、不適切な計算が行われることになります。また、途中でエラーになる場合でも、なぜエラーになったかが直接的には分かりづらいメッセージが表示されます。\n",
    "\n",
    "if文などによってこれを防ぎ、入力される形に問題があることをprint()を使い表示するコードを書き加えてください。"
   ]
  },
  {
   "cell_type": "code",
   "execution_count": null,
   "metadata": {},
   "outputs": [],
   "source": []
  },
  {
   "cell_type": "markdown",
   "metadata": {},
   "source": [
    "### 【問題6】転置\n",
    "片方の行列を転置することで、行列積が計算できるようになります。\n",
    "\n",
    "np.transpose()や.Tアトリビュートを用いて転置し、行列積を計算してください。\n",
    "\n",
    "numpy.transpose — NumPy v1.16 Manual\n",
    "\n",
    "numpy.ndarray.T — NumPy v1.16 Manual"
   ]
  },
  {
   "cell_type": "code",
   "execution_count": null,
   "metadata": {},
   "outputs": [],
   "source": []
  }
 ],
 "metadata": {
  "kernelspec": {
   "display_name": "Python 3",
   "language": "python",
   "name": "python3"
  },
  "language_info": {
   "codemirror_mode": {
    "name": "ipython",
    "version": 3
   },
   "file_extension": ".py",
   "mimetype": "text/x-python",
   "name": "python",
   "nbconvert_exporter": "python",
   "pygments_lexer": "ipython3",
   "version": "3.6.4"
  }
 },
 "nbformat": 4,
 "nbformat_minor": 2
}
