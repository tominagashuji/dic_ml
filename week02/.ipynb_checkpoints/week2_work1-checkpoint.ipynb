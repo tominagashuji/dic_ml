{
 "cells": [
  {
   "cell_type": "code",
   "execution_count": 5,
   "metadata": {},
   "outputs": [],
   "source": [
    "# ●数式演算ライブラリのNumpyに慣れる\n",
    "# ●機械学習に必須な数学統計用語に慣れる"
   ]
  },
  {
   "cell_type": "markdown",
   "metadata": {},
   "source": [
    "\"\"\"\n",
    "【課題】統計基礎用語の説明\n",
    "\"\"\"\n",
    "\n",
    "\"\"\"\n",
    "# ●標準偏差とは？\n",
    "参考URL：\n",
    "https://to-kei.net/basic/glossary/standard-deviation/\n",
    "https://www.sekkachi.com/entry/Heikin_HyoujunHensa_Flow\n",
    "    \n",
    "分散を平方根を取る事によって計算される値のこと。\n",
    "文字式では、分散の文字式から２乗をとって、sやσ（シグマ）などとと表されます。\n",
    "\n",
    "# 分散とは？\n",
    "参考URL：\n",
    "https://to-kei.net/basic/glossary/variance/\n",
    "\n",
    "統計学を学習する上で、平均に続いてこの分散は非常に重要な概念。\n",
    "分散（variance）\n",
    "分散とは数値データの `ばらつき具合` を表すための指標。\n",
    "分散＝「（各データの平均値からの距離）の２乗の平均」\n",
    "分散の平方根が標準偏差\n",
    "\n",
    "ある一つの群のa数値でーtに置いて、平均値とここのデータのさの２乗の平均を求める事によって計算されます。\n",
    "こうする事によって、平均値から離れた値を取るデータが多いほど分散が大きくなります。\n",
    "また、分散を文字式で表すさいs**2やσ**2を使う事が多いです。\n",
    "（s**2は標本分散、σ**2は母分散を表す事が多い）\n",
    "\n",
    "# どんな時に使うか？\n",
    "１００点満点のテストにおいて、平均点から離れた点数の人が多い時は分散は大きく\n",
    "平均点付近に人が集まっている場合分散は小さくなる。\n",
    "\n",
    "●共分散行列とは？\n",
    "http://zellij.hatenablog.com/entry/20130510/p1\n",
    "    \n",
    "分散を使えば数学のテストの点数がどれくらい散らばっているかを知れる。\n",
    "ここで、英語のテストも行なった場合、数学と英語の点数の関係を知りたい時に\n",
    "複数のデータ群を扱う必要がある。\n",
    "例えば、生徒の「数学の点数」と「英語の点数」がどのような関係にあるか知りたい。\n",
    "数学が出来る生徒はやはり英語が出来るのか？（正の相関）、\n",
    "それとも数学が出来る数学が出来る生徒は英語が苦手なのか（負の相関）。\n",
    "\n",
    "そこで、数学の点数（xの値）と英語の点数（yの値）という、2つのデータ群を\n",
    "考慮した分散を「共分散」と呼び、この共分散　Sxy は次の式で求まる。\n",
    "\n",
    "## Sxy = 1/n(x-xバー)'(y-yバー)\n",
    "\n",
    "二つの分散のの関係を表すものが共分散行列という。\n",
    "\n",
    "\n",
    "●一次元の正規分布と多次元正規分布とは？\n",
    "https://www.hellocybernetics.tech/entry/2016/10/06/111153\n",
    "\n",
    "まず、一次元とは、直線しか存在しない空間の事。\n",
    "データで言うと一つのデータ群のことと考えて良い。\n",
    "正規分布とは、ガウス分布とも言い、右対称の連続型の確率分布の事。\n",
    "つまりこれらを組み合わせて考えると、一次元の正規分布は一つのデータ群を正規分布にしたもののことで、\n",
    "多次元正規分布は複数のデータ群を正規分布にした物の事。（こっちは４次元までしかイメージできない。。）\n",
    "    \n",
    "また、どういう時に使うか？\n",
    "正規分布は物理などの実験における測定の誤差、テストの点数などは\n",
    "（ほぼ）正規分布に従うと考えられています。\n",
    "\"\"\""
   ]
  },
  {
   "cell_type": "code",
   "execution_count": 6,
   "metadata": {},
   "outputs": [],
   "source": [
    "\"\"\"\n",
    "【課題】データ点の作成\n",
    "2次元正規分布を用いて、中心(平均)が(-3,0)と(0,-3)、\n",
    "共分散行列が以下で表現される確率分布から生成されるデータ点を\n",
    "500個ずつ作成せよ。\n",
    "その際、片方の500個のデータにはdata1、\n",
    "もう片方の500個のデータにはdata2と名付けて作成せよ。\n",
    "\n",
    "# numpyの練習\n",
    "https://qiita.com/jyori112/items/a15658d1dd17c421e1e2\n",
    "\n",
    "# ３次元の正規分布\n",
    "https://openbook4.me/projects/231/sections/1538\n",
    "\n",
    "# ２次元正規分布サンプル\n",
    "http://starpentagon.net/analytics/numpy_norm_rand/\n",
    "\"\"\"\n",
    "\n",
    "# http://starpentagon.net/analytics/numpy_norm_rand/\n",
    "import numpy as np\n",
    "from numpy.random import *\n",
    "from matplotlib import pyplot as plt\n",
    "import seaborn as sns\n",
    "\n",
    "#data1\n",
    "#平均(mu)と分散(sigma)\n",
    "mu = [-3, 0]\n",
    "sigma = [[1.0, 0.8], [0.8, 10]]\n",
    "\n",
    "# 2次元正規乱数を500個生成\n",
    "data1 = np.random.multivariate_normal(mu, sigma, 500)\n",
    "\n",
    "#data2\n",
    "#平均(mu)と分散(sigma)\n",
    "mu = [0, -3]\n",
    "sigma = [[1.0, 0.8], [0.8, 10]]\n",
    "\n",
    "# 2次元正規乱数を500個生成\n",
    "data2 = np.random.multivariate_normal(mu, sigma, 500)\n",
    "\n",
    "# print(\"{}\".format(data1))\n",
    "# print(\"{}\".format(data2))\n",
    "    \n",
    "# # 散布図\n",
    "# sns.jointplot(data2[:,1], data2[:,1])\n",
    "# plt.show()\n"
   ]
  },
  {
   "cell_type": "code",
   "execution_count": 7,
   "metadata": {},
   "outputs": [
    {
     "name": "stdout",
     "output_type": "stream",
     "text": [
      "[[-1.9349409  -0.51077473  1.        ]\n",
      " [-1.6717484  -0.85500638  1.        ]\n",
      " [-3.49032225 -2.25933956  1.        ]\n",
      " ...\n",
      " [ 0.03730937 -2.87185143  0.        ]\n",
      " [ 0.13196837 -5.57179553  0.        ]\n",
      " [-1.06643396 -2.03901985  0.        ]]\n"
     ]
    }
   ],
   "source": [
    "\"\"\"\n",
    "【課題】データ点へのラベル付け\n",
    "・参考になるかも？\n",
    "http://to33k.hateblo.jp/entry/2011/12/26/183201\n",
    "・np.concatenateの使い方\n",
    "https://note.nkmk.me/python-numpy-concatenate-stack-block/\n",
    "・配列に列を追加したい時は axis = 1 にする\n",
    "https://note.nkmk.me/python-numpy-insert/\n",
    "\n",
    "\"\"\"\n",
    "# data1の３列目（配列では２番地）にラベルを追加する。\n",
    "#その際、axis と言うのを１にする（そう言うルール）\n",
    "# print(np.insert(data1,2,1,axis=1))\n",
    "# print(np.insert(data2,2,0,axis=1))\n",
    "\n",
    "# でもそれは表示だけで、実際のdata1 の列にはデータは挿入されない\n",
    "# ので！！別の変数に更に代入して、、\n",
    "\n",
    "data1 = np.insert(data1,2,1,axis=1)\n",
    "data2 = np.insert(data2,2,0,axis=1)\n",
    "\n",
    "# 表示で内容確認\n",
    "# print(np.concatenate([data1,data2], 0))\n",
    "\n",
    "# 上記と同様に別の変数に代入\n",
    "data12 = np.concatenate([data1,data2], 0)\n",
    "print(data12)\n"
   ]
  },
  {
   "cell_type": "code",
   "execution_count": 8,
   "metadata": {},
   "outputs": [
    {
     "data": {
      "image/png": "[encoded data removed]",
      "text/plain": [
       "<matplotlib.figure.Figure at 0x1a1619b5c0>"
      ]
     },
     "metadata": {},
     "output_type": "display_data"
    }
   ],
   "source": [
    "\"\"\"\n",
    "【課題】正しくラベル付けされているか見てみる\n",
    "参考URL\n",
    "一つのグラフに二つのグラフを記入する方法\n",
    "●https://codeday.me/jp/qa/20181230/109756.html\n",
    "\"\"\"\n",
    "import matplotlib.pyplot as plt\n",
    "%matplotlib inline\n",
    "# plt.scatter(data12[0,0],data12(0,1), s=10, c=None, marker='o')\n",
    "plt.scatter(data12[:500,0],data12[:500,1], s=10, c='b',marker=\"s\",label=1)\n",
    "plt.scatter(data12[500:,0],data12[500:,1], s=10, c='r',marker=\"o\",label=0)\n",
    "plt.show()"
   ]
  },
  {
   "cell_type": "code",
   "execution_count": null,
   "metadata": {},
   "outputs": [],
   "source": []
  }
 ],
 "metadata": {
  "kernelspec": {
   "display_name": "Python 3",
   "language": "python",
   "name": "python3"
  },
  "language_info": {
   "codemirror_mode": {
    "name": "ipython",
    "version": 3
   },
   "file_extension": ".py",
   "mimetype": "text/x-python",
   "name": "python",
   "nbconvert_exporter": "python",
   "pygments_lexer": "ipython3",
   "version": "3.6.4"
  }
 },
 "nbformat": 4,
 "nbformat_minor": 2
}
