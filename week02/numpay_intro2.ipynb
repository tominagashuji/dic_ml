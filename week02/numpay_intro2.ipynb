{
 "cells": [
  {
   "cell_type": "code",
   "execution_count": 2,
   "metadata": {},
   "outputs": [],
   "source": [
    "import numpy as np"
   ]
  },
  {
   "cell_type": "code",
   "execution_count": null,
   "metadata": {},
   "outputs": [],
   "source": []
  },
  {
   "cell_type": "code",
   "execution_count": 4,
   "metadata": {},
   "outputs": [
    {
     "name": "stdout",
     "output_type": "stream",
     "text": [
      "3\n",
      "[0 1 2]\n",
      "9\n",
      "[0 2 4 6 8]\n",
      "[9 8 7 6 5 4 3 2 1 0]\n"
     ]
    }
   ],
   "source": [
    "sample_ndarray = np.arange(10) #10の配列を用意する\n",
    "print(sample_ndarray[3]) # 3番地の配列を出力\n",
    "print(sample_ndarray[:3]) # 3番地未満の配列を出力\n",
    "print(sample_ndarray[-1]) # 最後の配列を出力\n",
    "print(sample_ndarray[::2]) # 2こ飛ばしで出力\n",
    "print(sample_ndarray[::-1]) # 最後から順番に出力"
   ]
  },
  {
   "cell_type": "code",
   "execution_count": 10,
   "metadata": {},
   "outputs": [],
   "source": [
    "# 形を変更する"
   ]
  },
  {
   "cell_type": "code",
   "execution_count": 9,
   "metadata": {},
   "outputs": [
    {
     "name": "stdout",
     "output_type": "stream",
     "text": [
      "[0 1 2 3]\n",
      "(4,)\n",
      "[[0 1]\n",
      " [2 3]]\n",
      "(2, 2)\n"
     ]
    }
   ],
   "source": [
    "a_ndarray = np.arange(4)\n",
    "print(a_ndarray)\n",
    "print(a_ndarray.shape) # 4,\n",
    "b_ndarray = a_ndarray.reshape(2,2)\n",
    "print(b_ndarray)\n",
    "print(b_ndarray.shape)"
   ]
  },
  {
   "cell_type": "code",
   "execution_count": 11,
   "metadata": {},
   "outputs": [],
   "source": [
    "# 多次元での要素の取り出し"
   ]
  },
  {
   "cell_type": "code",
   "execution_count": 13,
   "metadata": {},
   "outputs": [
    {
     "name": "stdout",
     "output_type": "stream",
     "text": [
      "[[0 1 2]\n",
      " [3 4 5]]\n"
     ]
    },
    {
     "data": {
      "text/plain": [
       "array([[1, 2],\n",
       "       [4, 5]])"
      ]
     },
     "execution_count": 13,
     "metadata": {},
     "output_type": "execute_result"
    }
   ],
   "source": [
    "sample_ndarray = np.arange(6).reshape(2,3)\n",
    "print(sample_ndarray)\n",
    "sample_ndarray[1,2] # 1行2列目の要素を取り出す\n",
    "sample_ndarray[:,1:] # 全ての行かつ１列めより後の列を配列として取り出す。（スライス）"
   ]
  },
  {
   "cell_type": "code",
   "execution_count": 19,
   "metadata": {},
   "outputs": [
    {
     "name": "stdout",
     "output_type": "stream",
     "text": [
      "[0 1 2 3 4 5]\n",
      "[[0 1 2]\n",
      " [3 4 5]]\n",
      "shapeは(2, 3)\n",
      "合計値は15\n",
      "0番目の軸の方向は[3 5 7]\n",
      "１番目の軸方向の平均は[1. 4.]\n"
     ]
    }
   ],
   "source": [
    "a_ndarray = np.arange(6) # 1行６列で定義\n",
    "b_ndarray = a_ndarray.reshape(2,3) #2行3列に変更\n",
    "print(a_ndarray)\n",
    "print(b_ndarray)\n",
    "print(\"shapeは{}\".format(b_ndarray.shape))\n",
    "print(\"合計値は{}\".format(b_ndarray.sum()))\n",
    "print(\"0番目の軸の方向は{}\".format(b_ndarray.sum(axis=0))) #０列目を軸にしている\n",
    "print(\"１番目の軸方向の平均は{}\".format(b_ndarray.mean(axis=1))) # 1列目を軸にしている"
   ]
  },
  {
   "cell_type": "code",
   "execution_count": null,
   "metadata": {},
   "outputs": [],
   "source": []
  }
 ],
 "metadata": {
  "kernelspec": {
   "display_name": "Python 3",
   "language": "python",
   "name": "python3"
  },
  "language_info": {
   "codemirror_mode": {
    "name": "ipython",
    "version": 3
   },
   "file_extension": ".py",
   "mimetype": "text/x-python",
   "name": "python",
   "nbconvert_exporter": "python",
   "pygments_lexer": "ipython3",
   "version": "3.6.4"
  }
 },
 "nbformat": 4,
 "nbformat_minor": 2
}
