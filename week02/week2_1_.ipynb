{
 "cells": [
  {
   "cell_type": "markdown",
   "metadata": {},
   "source": [
    "# Week2授業前課題1 小麦とチェス盤問題"
   ]
  },
  {
   "cell_type": "markdown",
   "metadata": {},
   "source": [
    "### 【問題1】2×2マスのチェス盤の小麦の数"
   ]
  },
  {
   "cell_type": "code",
   "execution_count": 1,
   "metadata": {},
   "outputs": [
    {
     "name": "stdout",
     "output_type": "stream",
     "text": [
      "4マスの板に小麦を並べる（リスト）：[1, 2, 4, 8]\n",
      "4マスの板に小麦を並べる（ndarray）：[1 2 4 8]\n",
      "[[1 2]\n",
      " [4 8]]\n"
     ]
    }
   ],
   "source": [
    "# list （[]）と ndarrayは別物\n",
    "# numpy を使わないでやる場合\n",
    "n_squares = 4\n",
    "small_board_list = [1]\n",
    "for _ in range(n_squares - 1):\n",
    "    small_board_list.append(2*small_board_list[-1])\n",
    "print(\"4マスの板に小麦を並べる（リスト）：{}\".format(small_board_list))\n",
    "\n",
    "# numpy を使って実施する方法\n",
    "import numpy as np\n",
    "\n",
    "small_board_ndarray = np.array(small_board_list)\n",
    "print(\"4マスの板に小麦を並べる（ndarray）：{}\".format(small_board_ndarray))\n",
    "\n",
    "# ndarrayの形？を変更する\n",
    "print(small_board_ndarray.reshape(2,2))"
   ]
  },
  {
   "cell_type": "markdown",
   "metadata": {},
   "source": [
    "### 【問題2】n×mマスへの拡張"
   ]
  },
  {
   "cell_type": "code",
   "execution_count": 6,
   "metadata": {},
   "outputs": [
    {
     "name": "stdout",
     "output_type": "stream",
     "text": [
      "8 * 8 マスのチェス盤の小麦の合計は36893488147419103229です！！( ；∀；)\n",
      "ちなみの盤の最後の小麦の数は9.223372036854776e+18です！！٩( ᐛ )و\n"
     ]
    }
   ],
   "source": [
    "def count_komugi(n = 2, m = 2):\n",
    "    n_squares = n * m # 盤の目の数は縦横の積\n",
    "    small_board_list = [1] # 初めはリストで用意して、最初の番地には１を入れる\n",
    "    small_board_count = 1 # 初めのカウントは１で用意して加算する用に用意\n",
    "    for _ in range(n_squares - 1): # リストを最後の番地まで繰り返す\n",
    "        small_board_list.append(2*small_board_list[-1]) # リストの最後の小麦の数を倍にして入れ込む\n",
    "        small_board_count += 2*small_board_list[-1] # 合計値を出す\n",
    "    small_board_ndarray = np.array(small_board_list) # リストをndarrayに変更する\n",
    "    return small_board_count,small_board_ndarray # 算出した値を返す\n",
    "\n",
    "gyou = 8\n",
    "retu = 8\n",
    "small_board_count,small_board_ndarray = count_komugi(gyou,retu) # 関数を呼び出して、値を取得\n",
    "# print(small_board_ndarray.reshape(8,8))\n",
    "print(\"{} * {} マスのチェス盤の小麦の合計は{}です！！( ；∀；)\".format(gyou,retu,small_board_count))\n",
    "# int にしてみる\n",
    "print(\"ちなみの盤の最後の小麦の数は{}です！！٩( ᐛ )و\".format(small_board_ndarray[-1]))\n"
   ]
  },
  {
   "cell_type": "markdown",
   "metadata": {},
   "source": [
    "### 【問題3】小麦の数の合計"
   ]
  },
  {
   "cell_type": "code",
   "execution_count": 7,
   "metadata": {},
   "outputs": [
    {
     "name": "stdout",
     "output_type": "stream",
     "text": [
      "小麦の合計は1.8e+19です。\n",
      "[9.04252160e+15 1.80850432e+16 3.61700864e+16 7.23401728e+16\n",
      " 1.44680346e+17 2.89360691e+17 5.78721383e+17 1.15744277e+18]\n"
     ]
    },
    {
     "data": {
      "image/png": "[encoded data removed]",
      "text/plain": [
       "<matplotlib.figure.Figure at 0x10cf51320>"
      ]
     },
     "metadata": {},
     "output_type": "display_data"
    }
   ],
   "source": [
    "\"\"\"\n",
    "8*8マスのチェス盤の小麦の合計を計算する。\n",
    "sum()で配列の合計を算出する。\n",
    "\n",
    "各列の平均を求める\n",
    "axis というのを使う。axisは軸という意味。\n",
    "列毎に何かが出来る\n",
    "\n",
    "最後に棒グラフを作成する。\n",
    "サンプルがあるので確認する。\n",
    "np.arrangeとか\n",
    "np.arrayとかの使い方を調査してみる\n",
    "\n",
    "\"\"\"\n",
    "# 小麦の合計計算\n",
    "sum_ndarray = small_board_ndarray.sum() # 配列を合計\n",
    "print(\"小麦の合計は{:.1e}です。\".format(sum_ndarray))\n",
    "\n",
    "# 各列の平均を求める\n",
    "# print(small_board_ndarray.shape) # 配列の形を確認して64だった→8,8に変更\n",
    "c_ndarray = small_board_ndarray.reshape(8,8) # reshapeを使って形を変更\n",
    "# print(c_ndarray) # 形の変更状態を確認\n",
    "mean_board_columns = c_ndarray.mean(axis=0)\n",
    "print(mean_board_columns)\n",
    "\n",
    "import matplotlib.pyplot as plt\n",
    "%matplotlib inline\n",
    "\n",
    "plt.xlabel(\"column\")\n",
    "plt.ylabel(\"number\")\n",
    "plt.title(\"number in each column\")\n",
    "plt.bar(np.arange(1,9), mean_board_columns)\n",
    "plt.show()\n"
   ]
  },
  {
   "cell_type": "markdown",
   "metadata": {},
   "source": [
    "### 【問題4】小麦の数のヒートマップ"
   ]
  },
  {
   "cell_type": "code",
   "execution_count": 8,
   "metadata": {},
   "outputs": [
    {
     "data": {
      "image/png": "[encoded data removed]",
      "text/plain": [
       "<matplotlib.figure.Figure at 0x10cf61e48>"
      ]
     },
     "metadata": {},
     "output_type": "display_data"
    }
   ],
   "source": [
    "plt.xlabel(\"column\")\n",
    "plt.ylabel(\"number\")\n",
    "plt.title(\"heatmap\")\n",
    "plt.pcolor(c_ndarray)\n",
    "plt.show()"
   ]
  },
  {
   "cell_type": "markdown",
   "metadata": {},
   "source": [
    "### 【問題5】後半は前半の何倍か"
   ]
  },
  {
   "cell_type": "code",
   "execution_count": 9,
   "metadata": {},
   "outputs": [
    {
     "name": "stdout",
     "output_type": "stream",
     "text": [
      "前半の小麦の数は4294967295.0だ！！！\n",
      "後半の小麦の数は1.8446744069414584e+19だ！！！\n",
      "だから！！！！！前半は後半の4294967296.0倍だ〜〜〜〜〜〜〜〜！！！o(｀ω´ )o\n"
     ]
    }
   ],
   "source": [
    "count_before = 0\n",
    "i = 0\n",
    "for i in range(32):\n",
    "#     print(i)\n",
    "#     print(count_before)\n",
    "    count_before += small_board_ndarray[i]\n",
    "#     print(small_board_ndarray[i])\n",
    "#     print(count_before)\n",
    "#     print(\"0\")\n",
    "    \n",
    "count_after = 0\n",
    "i = 33\n",
    "for i in range(32,64,1):\n",
    "#     print(i)\n",
    "    count_after += small_board_ndarray[i]\n",
    "#     print(small_board_ndarray[i])\n",
    "#     print(count_after)\n",
    "    \n",
    "print(\"前半の小麦の数は{}だ！！！\".format(count_before))\n",
    "print(\"後半の小麦の数は{}だ！！！\".format(count_after))\n",
    "how_time = count_after / count_before\n",
    "print(\"だから！！！！！前半は後半の{}倍だ〜〜〜〜〜〜〜〜！！！o(｀ω´ )o\".format(how_time))"
   ]
  },
  {
   "cell_type": "markdown",
   "metadata": {},
   "source": [
    "### 【問題6】他の計算方法によるn×mマスへの拡張\n",
    "\n",
    "問題2と同様の「n×mマスのチェス盤の小麦の数を記したndarrayを返す関数」を、np.append()を使ったものと、ブロードキャストを使ったもので新たに作成してください。\n",
    "\n",
    "それらの関数を使い8×8マスのチェス盤の小麦の数を再び求めてください。"
   ]
  },
  {
   "cell_type": "code",
   "execution_count": 21,
   "metadata": {},
   "outputs": [
    {
     "name": "stdout",
     "output_type": "stream",
     "text": [
      "[1]\n",
      "1\n",
      "64マスの板に小麦を並べる（ndarray）：[1.00000000e+00 2.00000000e+00 4.00000000e+00 8.00000000e+00\n",
      " 1.60000000e+01 3.20000000e+01 6.40000000e+01 1.28000000e+02\n",
      " 2.56000000e+02 5.12000000e+02 1.02400000e+03 2.04800000e+03\n",
      " 4.09600000e+03 8.19200000e+03 1.63840000e+04 3.27680000e+04\n",
      " 6.55360000e+04 1.31072000e+05 2.62144000e+05 5.24288000e+05\n",
      " 1.04857600e+06 2.09715200e+06 4.19430400e+06 8.38860800e+06\n",
      " 1.67772160e+07 3.35544320e+07 6.71088640e+07 1.34217728e+08\n",
      " 2.68435456e+08 5.36870912e+08 1.07374182e+09 2.14748365e+09\n",
      " 4.29496730e+09 8.58993459e+09 1.71798692e+10 3.43597384e+10\n",
      " 6.87194767e+10 1.37438953e+11 2.74877907e+11 5.49755814e+11\n",
      " 1.09951163e+12 2.19902326e+12 4.39804651e+12 8.79609302e+12\n",
      " 1.75921860e+13 3.51843721e+13 7.03687442e+13 1.40737488e+14\n",
      " 2.81474977e+14 5.62949953e+14 1.12589991e+15 2.25179981e+15\n",
      " 4.50359963e+15 9.00719925e+15 1.80143985e+16 3.60287970e+16\n",
      " 7.20575940e+16 1.44115188e+17 2.88230376e+17 5.76460752e+17\n",
      " 1.15292150e+18 2.30584301e+18 4.61168602e+18 9.22337204e+18]\n",
      "64マスの板に小麦の数：1.8446744073709552e+19\n",
      "float64\n"
     ]
    }
   ],
   "source": [
    "# np.append（）で作成\n",
    "def small_board_append_count(n = 8, m = 8):\n",
    "    n_squares = 64\n",
    "    small_board_ndarray = np.array([1]).astype(np.uint64)\n",
    "    print(small_board_ndarray)\n",
    "    small_board_ndarray_count = 1\n",
    "    # print(small_board_ndarray)\n",
    "    print(small_board_ndarray_count)\n",
    "    for _ in range(n_squares - 1):\n",
    "        small_board_ndarray = np.append(small_board_ndarray, 2*small_board_ndarray[-1])\n",
    "        small_board_ndarray_count += small_board_ndarray[-1]\n",
    "        #         print(small_board_ndarray)\n",
    "    return small_board_ndarray,small_board_ndarray_count\n",
    "\n",
    "gyou = 8\n",
    "retu = 8\n",
    "small_board_ndarray,small_board_ndarray_count = small_board_append_count(gyou,retu)\n",
    "\n",
    "print(\"64マスの板に小麦を並べる（ndarray）：{}\".format(small_board_ndarray))\n",
    "print(\"64マスの板に小麦の数：{}\".format(small_board_ndarray_count))\n",
    "\n",
    "print(small_board_ndarray.dtype)"
   ]
  },
  {
   "cell_type": "code",
   "execution_count": 25,
   "metadata": {},
   "outputs": [
    {
     "name": "stdout",
     "output_type": "stream",
     "text": [
      "最後のマスの小麦の数：9223372036854775808\n",
      "小麦の合計：18446744073709551615\n"
     ]
    }
   ],
   "source": [
    "# ブロードキャストで作成\n",
    "def small_board_bloadband_count(n = 8, m = 8):\n",
    "    n_squares = 64\n",
    "    indices_of_squares = np.arange(n_squares).astype(np.uint64)\n",
    "    board_ndarray = 2**indices_of_squares\n",
    "    board_ndarray_sum = board_ndarray.sum()\n",
    "    return board_ndarray,board_ndarray_sum\n",
    "\n",
    "gyou = 8\n",
    "retu = 8\n",
    "board_ndarray,board_ndarray_sum = small_board_bloadband_count(gyou,retu)\n",
    "\n",
    "print(\"最後のマスの小麦の数：{}\".format(board_ndarray[-1])) # 9223372036854775808\n",
    "print(\"小麦の合計：{}\".format(board_ndarray_sum))\n"
   ]
  },
  {
   "cell_type": "markdown",
   "metadata": {},
   "source": [
    "### 【問題7】計算時間の比較"
   ]
  },
  {
   "cell_type": "code",
   "execution_count": 26,
   "metadata": {},
   "outputs": [
    {
     "name": "stdout",
     "output_type": "stream",
     "text": [
      "2.59 µs ± 184 ns per loop (mean ± std. dev. of 7 runs, 100000 loops each)\n"
     ]
    }
   ],
   "source": [
    "%%timeit\n",
    "# timeit を使ってみる\n",
    "a = np.array([1, 2, 3])\n",
    "b = np.array([1, 2, 3])\n",
    "c = a + b"
   ]
  },
  {
   "cell_type": "code",
   "execution_count": 28,
   "metadata": {},
   "outputs": [
    {
     "name": "stdout",
     "output_type": "stream",
     "text": [
      "24.7 µs ± 684 ns per loop (mean ± std. dev. of 7 runs, 10000 loops each)\n"
     ]
    }
   ],
   "source": [
    "%%timeit\n",
    "# np.append や ブロードキャストをしない方法\n",
    "def count_komugi(n = 2, m = 2):\n",
    "    n_squares = n * m # 盤の目の数は縦横の積\n",
    "    small_board_list = [1] # 初めはリストで用意して、最初の番地には１を入れる\n",
    "    small_board_count = 1 # 初めのカウントは１で用意して加算する用に用意\n",
    "    for _ in range(n_squares - 1): # リストを最後の番地まで繰り返す\n",
    "        small_board_list.append(2*small_board_list[-1]) # リストの最後の小麦の数を倍にして入れ込む\n",
    "        small_board_count += 2*small_board_list[-1] # 合計値を出す\n",
    "    small_board_ndarray = np.array(small_board_list) # リストをndarrayに変更する\n",
    "    return small_board_count,small_board_ndarray # 算出した値を返す\n",
    "\n",
    "gyou = 8\n",
    "retu = 8\n",
    "small_board_count,small_board_ndarray = count_komugi(gyou,retu) # 関数を呼び出して、値を取得\n",
    "# print(small_board_ndarray.reshape(8,8))\n",
    "# print(\"{} * {} マスのチェス盤の小麦の合計は{}です！！( ；∀；)\".format(gyou,retu,small_board_count))\n",
    "# # int にしてみる\n",
    "# print(\"ちなみの盤の最後の小麦の数は{}です！！٩( ᐛ )و\".format(small_board_ndarray[-1]))\n"
   ]
  },
  {
   "cell_type": "code",
   "execution_count": 33,
   "metadata": {},
   "outputs": [
    {
     "name": "stdout",
     "output_type": "stream",
     "text": [
      "290 µs ± 12.6 µs per loop (mean ± std. dev. of 7 runs, 1000 loops each)\n"
     ]
    }
   ],
   "source": [
    "%%timeit\n",
    "# np.append で作成\n",
    "def small_board_append_count(n = 8, m = 8):\n",
    "    n_squares = 64\n",
    "    small_board_ndarray = np.array([1]).astype(np.uint64)\n",
    "#     print(small_board_ndarray)\n",
    "    small_board_ndarray_count = 1\n",
    "    # print(small_board_ndarray)\n",
    "#     print(small_board_ndarray_count)\n",
    "    for _ in range(n_squares - 1):\n",
    "        small_board_ndarray = np.append(small_board_ndarray, 2*small_board_ndarray[-1])\n",
    "        small_board_ndarray_count += small_board_ndarray[-1]\n",
    "        #         print(small_board_ndarray)\n",
    "    return small_board_ndarray,small_board_ndarray_count\n",
    "\n",
    "gyou = 8\n",
    "retu = 8\n",
    "small_board_ndarray,small_board_ndarray_count = small_board_append_count(gyou,retu)\n",
    "\n",
    "# print(\"64マスの板に小麦を並べる（ndarray）：{}\".format(small_board_ndarray))\n",
    "# print(\"64マスの板に小麦の数：{}\".format(small_board_ndarray_count))\n",
    "\n",
    "# print(small_board_ndarray.dtype)"
   ]
  },
  {
   "cell_type": "code",
   "execution_count": 34,
   "metadata": {},
   "outputs": [
    {
     "name": "stdout",
     "output_type": "stream",
     "text": [
      "5.17 µs ± 313 ns per loop (mean ± std. dev. of 7 runs, 100000 loops each)\n"
     ]
    }
   ],
   "source": [
    "%%timeit\n",
    "# ブロードキャストで作成\n",
    "def small_board_bloadband_count(n = 8, m = 8):\n",
    "    n_squares = 64\n",
    "    indices_of_squares = np.arange(n_squares).astype(np.uint64)\n",
    "    board_ndarray = 2**indices_of_squares\n",
    "    board_ndarray_sum = board_ndarray.sum()\n",
    "    return board_ndarray,board_ndarray_sum\n",
    "\n",
    "gyou = 8\n",
    "retu = 8\n",
    "board_ndarray,board_ndarray_sum = small_board_bloadband_count(gyou,retu)\n",
    "\n",
    "# print(\"最後のマスの小麦の数：{}\".format(board_ndarray[-1])) # 9223372036854775808\n",
    "# print(\"小麦の合計：{}\".format(board_ndarray_sum))\n"
   ]
  },
  {
   "cell_type": "markdown",
   "metadata": {},
   "source": [
    "## 比較と考察\n",
    "np.append() > npを使わない方法 > ブロードキャスト \n",
    "の順番で時間がかかっている事が分かった。\n",
    "リストのappend より np.appendは時間が掛かっている。通常のappend より毎回numpy を使用しているからその分時間が掛かっているのかと考察。\n",
    "また、ブロードキャストはappendを作成しないので毎回何かを作成する事がない。その分前者２つより処理速度が早くなっていると考察。このことより、リストの append より numpy の append の方が時間が掛かると考えられる。\n"
   ]
  },
  {
   "cell_type": "code",
   "execution_count": null,
   "metadata": {},
   "outputs": [],
   "source": []
  },
  {
   "cell_type": "code",
   "execution_count": null,
   "metadata": {},
   "outputs": [],
   "source": []
  }
 ],
 "metadata": {
  "kernelspec": {
   "display_name": "Python 3",
   "language": "python",
   "name": "python3"
  },
  "language_info": {
   "codemirror_mode": {
    "name": "ipython",
    "version": 3
   },
   "file_extension": ".py",
   "mimetype": "text/x-python",
   "name": "python",
   "nbconvert_exporter": "python",
   "pygments_lexer": "ipython3",
   "version": "3.6.4"
  }
 },
 "nbformat": 4,
 "nbformat_minor": 2
}
