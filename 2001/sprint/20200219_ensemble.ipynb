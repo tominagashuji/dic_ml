{
 "cells": [
  {
   "cell_type": "markdown",
   "metadata": {},
   "source": [
    "# Sprint アンサンブル学習"
   ]
  },
  {
   "cell_type": "code",
   "execution_count": 1,
   "metadata": {},
   "outputs": [],
   "source": [
    "import numpy as np\n",
    "import random\n",
    "import pandas as pd\n",
    "from numpy import linalg as LA\n",
    "import matplotlib.pyplot as plt\n",
    "from sklearn.model_selection import train_test_split # testとtrain分割\n",
    "from sklearn.preprocessing import StandardScaler #　標準化モジュール\n",
    "from sklearn.linear_model import LinearRegression # 線形回帰\n",
    "from sklearn.metrics import mean_squared_error # 平均二乗誤差\n",
    "from sklearn.tree import DecisionTreeRegressor # 決定木\n",
    "from sklearn.neighbors import KNeighborsClassifier # 最近傍法\n",
    "from sklearn.svm import SVR # こっちはSVM回帰　最適化すると強いが手間がかかる、重い\n",
    "from sklearn.svm import SVC # SVM\n",
    "from sklearn.preprocessing import MinMaxScaler # データが0〜1の間に収まるよう変換\n",
    "from sklearn.model_selection import GridSearchCV"
   ]
  },
  {
   "cell_type": "markdown",
   "metadata": {},
   "source": [
    "### データセットの用意"
   ]
  },
  {
   "cell_type": "code",
   "execution_count": 2,
   "metadata": {},
   "outputs": [],
   "source": [
    "data_raw = pd.read_csv(\"../../data/house-prices-advanced-regression-techniques/train.csv\")"
   ]
  },
  {
   "cell_type": "code",
   "execution_count": 3,
   "metadata": {},
   "outputs": [],
   "source": [
    "train_data = data_raw.copy()"
   ]
  },
  {
   "cell_type": "code",
   "execution_count": 4,
   "metadata": {},
   "outputs": [],
   "source": [
    "X = train_data.loc[:, [\"GrLivArea\", \"YearBuilt\"]]\n",
    "t = train_data.loc[:, [\"SalePrice\"]]"
   ]
  },
  {
   "cell_type": "code",
   "execution_count": 5,
   "metadata": {},
   "outputs": [],
   "source": [
    "X_train, X_test, t_train, t_test = train_test_split(X, t, test_size=0.2)"
   ]
  },
  {
   "cell_type": "markdown",
   "metadata": {},
   "source": [
    "### 【問題1】ブレンディングのスクラッチ実装\n",
    "単一モデルで学習、推定をする。  \n",
    "その後MSEで評価する。  \n",
    "単一モデルの推定結果を水増し（ブレンディング）し、改めてMSEを求める。  \n",
    "このMSEが単一モデルと比べて下がっている事を確認する。MSEが下がると精度が高いと言える。  \n",
    "今回のブレンディングはデータに対して0.1を掛ける等を実施する。  "
   ]
  },
  {
   "cell_type": "code",
   "execution_count": 6,
   "metadata": {},
   "outputs": [],
   "source": [
    "lr = LinearRegression()\n",
    "dt = DecisionTreeRegressor()\n",
    "# svr = SVR(gamma=\"scale\") # こける。。\n",
    "svr = SVR(gamma=0.001, C=1.0, epsilon=0.2)\n",
    "# svr = SVR(kernel='rbf', gamma='scale') # こける。。\n",
    "# svr = SVR(gamma='auto') # mseでこける。。\n",
    "# svr = SVC(gamma=\"scale\") # fitでこける。。"
   ]
  },
  {
   "cell_type": "markdown",
   "metadata": {},
   "source": [
    "### 1回目"
   ]
  },
  {
   "cell_type": "code",
   "execution_count": 7,
   "metadata": {},
   "outputs": [
    {
     "name": "stderr",
     "output_type": "stream",
     "text": [
      "/Users/tominagashuuji/.pyenv/versions/anaconda3-5.1.0/lib/python3.6/site-packages/sklearn/utils/validation.py:578: DataConversionWarning: A column-vector y was passed when a 1d array was expected. Please change the shape of y to (n_samples, ), for example using ravel().\n",
      "  y = column_or_1d(y, warn=True)\n"
     ]
    },
    {
     "data": {
      "text/plain": [
       "SVR(C=1.0, cache_size=200, coef0=0.0, degree=3, epsilon=0.2, gamma=0.001,\n",
       "  kernel='rbf', max_iter=-1, shrinking=True, tol=0.001, verbose=False)"
      ]
     },
     "execution_count": 7,
     "metadata": {},
     "output_type": "execute_result"
    }
   ],
   "source": [
    "lr.fit(X_train, t_train)\n",
    "dt.fit(X_train, t_train)\n",
    "svr.fit(X_train, t_train)"
   ]
  },
  {
   "cell_type": "code",
   "execution_count": 8,
   "metadata": {},
   "outputs": [],
   "source": [
    "y_lr = lr.predict(X_test)\n",
    "y_dt = dt.predict(X_test)\n",
    "y_svr = svr.predict(X_test)\n",
    "# shapeを強引に整えた\n",
    "y_blend_1 = (y_lr.reshape(292,) + y_dt.reshape(292,) + y_svr.reshape(292,)) / 3"
   ]
  },
  {
   "cell_type": "code",
   "execution_count": 9,
   "metadata": {
    "scrolled": true
   },
   "outputs": [
    {
     "name": "stdout",
     "output_type": "stream",
     "text": [
      "LogisticRegression\n",
      " 2589510516.639211\n",
      "DecisionTree\n",
      " 2916423941.3056507\n",
      "SVR\n",
      " 7540865788.495035\n",
      "Blend\n",
      " 2675414248.1508765\n"
     ]
    }
   ],
   "source": [
    "print(\"LogisticRegression\\n\", mean_squared_error(t_test, y_lr))\n",
    "print(\"DecisionTree\\n\", mean_squared_error(t_test, y_dt))\n",
    "print(\"SVR\\n\", mean_squared_error(t_test, y_svr))\n",
    "print(\"Blend\\n\", mean_squared_error(t_test, y_blend_1))"
   ]
  },
  {
   "cell_type": "markdown",
   "metadata": {},
   "source": [
    "予測：ブレンディングをすると精度が上がる（MSEの値が小さくなる）と思っている。  \n",
    "考察：決定木の単一モデルの方が精度が良かった。"
   ]
  },
  {
   "cell_type": "code",
   "execution_count": 10,
   "metadata": {},
   "outputs": [
    {
     "name": "stdout",
     "output_type": "stream",
     "text": [
      "(292, 1)\n",
      "(292, 1)\n",
      "(292,)\n",
      "(292,)\n",
      "(292,)\n"
     ]
    }
   ],
   "source": [
    "# 型がバラバラ。。\n",
    "print(t_test.shape)\n",
    "print(y_lr.shape)\n",
    "print(y_dt.shape)\n",
    "print(y_svr.shape)\n",
    "print(y_blend_1.shape)"
   ]
  },
  {
   "cell_type": "markdown",
   "metadata": {},
   "source": [
    "### 2回目"
   ]
  },
  {
   "cell_type": "code",
   "execution_count": 11,
   "metadata": {},
   "outputs": [],
   "source": [
    "lr2 = LinearRegression(normalize = True)\n",
    "dt2 = DecisionTreeRegressor(max_depth=5)\n",
    "svr2 = SVR(gamma=\"scale\", kernel=\"linear\")"
   ]
  },
  {
   "cell_type": "markdown",
   "metadata": {},
   "source": [
    "lr2.fit(X_train, t_train)\n",
    "dt2.fit(X_train, t_train)\n",
    "svr2.fit(X_train, t_train)"
   ]
  },
  {
   "cell_type": "markdown",
   "metadata": {},
   "source": [
    "y_lr2 = lr2.predict(X_test)\n",
    "y_dt2 = dt2.predict(X_test)\n",
    "y_svr2 = svr2.predict(X_test)\n",
    "blending_2 = ((y_lr2) + (y_dt2) + (y_svr2)) / 3"
   ]
  },
  {
   "cell_type": "markdown",
   "metadata": {},
   "source": [
    "print(mean_squared_error(t_test, y_lr2))\n",
    "print(mean_squared_error(t_test, y_dt2))\n",
    "print(mean_squared_error(t_test, y_svr2))\n",
    "print(mean_squared_error(t_test, blending_2))"
   ]
  },
  {
   "cell_type": "markdown",
   "metadata": {},
   "source": [
    "### 3回目"
   ]
  },
  {
   "cell_type": "code",
   "execution_count": 12,
   "metadata": {},
   "outputs": [],
   "source": [
    "sc = StandardScaler()\n",
    "X_train_sc = sc.fit_transform(X_train)"
   ]
  },
  {
   "cell_type": "markdown",
   "metadata": {},
   "source": [
    "lr3_sc = LinearRegression()\n",
    "dt3_sc = DecisionTreeRegressor(max_depth=3)\n",
    "svr3_sc = SVR(gamma=\"scale\", kernel=\"linear\")"
   ]
  },
  {
   "cell_type": "markdown",
   "metadata": {},
   "source": [
    "lr3 = LinearRegression()\n",
    "dt3 = DecisionTreeRegressor(max_depth=3)\n",
    "svr3 = SVR(gamma=\"scale\", kernel=\"linear\")"
   ]
  },
  {
   "cell_type": "markdown",
   "metadata": {},
   "source": [
    "lr3_sc.fit(X_train_sc, t_train)\n",
    "dt3_sc.fit(X_train_sc, t_train)\n",
    "svr3_sc.fit(X_train_sc, t_train)"
   ]
  },
  {
   "cell_type": "markdown",
   "metadata": {},
   "source": [
    "lr3.fit(X_train, t_train)\n",
    "dt3.fit(X_train, t_train)\n",
    "svr3.fit(X_train, t_train)"
   ]
  },
  {
   "cell_type": "markdown",
   "metadata": {},
   "source": [
    "y_lr3_sc = lr3_sc.predict(X_test) \n",
    "y_dt3_sc = dt3_sc.predict(X_test) \n",
    "y_svr3_sc = svr3_sc.predict(X_test)\n",
    "\n",
    "blending_3 = ((y_lr3_sc*0.0001) + (y_dt3_sc*0.9) + (y_svr3_sc*0.0009)) / 3"
   ]
  },
  {
   "cell_type": "markdown",
   "metadata": {},
   "source": [
    "print(mean_squared_error(t_test, y_lr3_sc))\n",
    "print(mean_squared_error(t_test, y_dt3_sc))\n",
    "print(mean_squared_error(t_test, y_svr3_sc))\n",
    "\n",
    "print(mean_squared_error(t_test, blending_3))"
   ]
  },
  {
   "cell_type": "markdown",
   "metadata": {},
   "source": [
    "### 【問題2】バギングのスクラッチ実装\n",
    "バギング をスクラッチ実装し、単一モデルより精度があがる例を 最低1つ 示してください。"
   ]
  },
  {
   "cell_type": "code",
   "execution_count": 13,
   "metadata": {},
   "outputs": [],
   "source": [
    "X_train_b, X_test_b, t_train_b, t_test_b = train_test_split(X, t, test_size=0.2, shuffle=True)"
   ]
  },
  {
   "cell_type": "code",
   "execution_count": 14,
   "metadata": {},
   "outputs": [],
   "source": [
    "# データ作成\n",
    "X_train_b_1 = X_train_b.iloc[:292, :]\n",
    "t_train_b_1 = t_train_b.iloc[:292]\n",
    "\n",
    "X_train_b_2 = X_train_b.iloc[292:584 , :]\n",
    "t_train_b_2 = t_train_b.iloc[292:584]\n",
    "\n",
    "X_train_b_3 = X_train_b.iloc[584:876 , :]\n",
    "t_train_b_3 = t_train_b.iloc[584:876]\n",
    "\n",
    "X_train_b_4 = X_train_b.iloc[876:1168 , :]\n",
    "t_train_b_4 = t_train_b.iloc[876:1168]"
   ]
  },
  {
   "cell_type": "code",
   "execution_count": 15,
   "metadata": {},
   "outputs": [],
   "source": [
    "# インスタンス作成\n",
    "dt_b_1 = DecisionTreeRegressor(max_depth=5)\n",
    "dt_b_2 = DecisionTreeRegressor(max_depth=5)\n",
    "dt_b_3 = DecisionTreeRegressor(max_depth=5)\n",
    "dt_b_4 = DecisionTreeRegressor(max_depth=5)"
   ]
  },
  {
   "cell_type": "code",
   "execution_count": 16,
   "metadata": {},
   "outputs": [
    {
     "data": {
      "text/plain": [
       "DecisionTreeRegressor(criterion='mse', max_depth=5, max_features=None,\n",
       "           max_leaf_nodes=None, min_impurity_decrease=0.0,\n",
       "           min_impurity_split=None, min_samples_leaf=1,\n",
       "           min_samples_split=2, min_weight_fraction_leaf=0.0,\n",
       "           presort=False, random_state=None, splitter='best')"
      ]
     },
     "execution_count": 16,
     "metadata": {},
     "output_type": "execute_result"
    }
   ],
   "source": [
    "# 学習\n",
    "dt_b_1.fit(X_train_b_1, t_train_b_1)\n",
    "dt_b_2.fit(X_train_b_2, t_train_b_2)\n",
    "dt_b_3.fit(X_train_b_3, t_train_b_3)\n",
    "dt_b_4.fit(X_train_b_4, t_train_b_4)"
   ]
  },
  {
   "cell_type": "code",
   "execution_count": 17,
   "metadata": {},
   "outputs": [],
   "source": [
    "# 推定\n",
    "y_dt_b_1 = dt_b_1.predict(X_test_b)\n",
    "y_dt_b_2 = dt_b_2.predict(X_test_b)\n",
    "y_dt_b_3 = dt_b_3.predict(X_test_b)\n",
    "y_dt_b_4 = dt_b_4.predict(X_test_b)\n",
    "\n",
    "baging_1 = (y_dt_b_1+y_dt_b_2+y_dt_b_3+y_dt_b_4) / 4"
   ]
  },
  {
   "cell_type": "code",
   "execution_count": 18,
   "metadata": {},
   "outputs": [
    {
     "name": "stdout",
     "output_type": "stream",
     "text": [
      "2487209595.46346\n",
      "2265302861.3943405\n",
      "3177284015.9451513\n",
      "2275345894.218206\n",
      "1644376789.6520386\n"
     ]
    }
   ],
   "source": [
    "# mse算出\n",
    "print(mean_squared_error(t_test_b, y_dt_b_1))\n",
    "print(mean_squared_error(t_test_b, y_dt_b_2))\n",
    "print(mean_squared_error(t_test_b, y_dt_b_3))\n",
    "print(mean_squared_error(t_test_b, y_dt_b_4))\n",
    "\n",
    "print(mean_squared_error(t_test_b, baging_1))"
   ]
  },
  {
   "cell_type": "markdown",
   "metadata": {},
   "source": [
    "バギングをするとmseが下がった。"
   ]
  },
  {
   "cell_type": "markdown",
   "metadata": {},
   "source": [
    "### 【問題3】スタッキングのスクラッチ実装\n",
    "スタッキング をスクラッチ実装し、単一モデルより精度があがる例を 最低1つ 示してください。\n",
    "### 学習フェーズ\n",
    "#### データを分割しデータセットを3つ作る"
   ]
  },
  {
   "cell_type": "code",
   "execution_count": 19,
   "metadata": {},
   "outputs": [],
   "source": [
    "# データを分割する\n",
    "X_train_1 = X_train.iloc[:389, :].values\n",
    "t_train_1 = t_train.iloc[:389].values\n",
    "\n",
    "X_train_2 = X_train.iloc[389:778, :].values\n",
    "t_train_2 = t_train.iloc[389:778].values\n",
    "\n",
    "X_train_3 = X_train.iloc[778:, :].values\n",
    "t_train_3 = t_train.iloc[778:].values"
   ]
  },
  {
   "cell_type": "code",
   "execution_count": 20,
   "metadata": {},
   "outputs": [],
   "source": [
    "# トレインデータとして用意する。\n",
    "train_dataset_1_x = np.concatenate([X_train_2, X_train_3], axis=0)\n",
    "train_dataset_1_t = np.concatenate([t_train_2, t_train_3], axis=0)\n",
    "\n",
    "train_dataset_2_x = np.concatenate([X_train_1, X_train_3], axis=0)\n",
    "train_dataset_2_t = np.concatenate([t_train_1, t_train_3], axis=0)\n",
    "\n",
    "train_dataset_3_x = np.concatenate([X_train_1, X_train_2], axis=0)\n",
    "train_dataset_3_t = np.concatenate([t_train_1, t_train_2], axis=0)\n",
    "# X_train_1は train_dataset_1_x のテストデータという関係になる。"
   ]
  },
  {
   "cell_type": "markdown",
   "metadata": {},
   "source": [
    "### 学習、推定、ブレンドデータ作成（モデル１）"
   ]
  },
  {
   "cell_type": "code",
   "execution_count": 21,
   "metadata": {},
   "outputs": [
    {
     "data": {
      "text/plain": [
       "(1168,)"
      ]
     },
     "execution_count": 21,
     "metadata": {},
     "output_type": "execute_result"
    }
   ],
   "source": [
    "DTR_1 = DecisionTreeRegressor(max_depth=5)\n",
    "DTR_2 = DecisionTreeRegressor(max_depth=5)\n",
    "DTR_3 = DecisionTreeRegressor(max_depth=5)\n",
    "\n",
    "DTR_1.fit(train_dataset_1_x, train_dataset_1_t)\n",
    "DTR_2.fit(train_dataset_2_x, train_dataset_2_t)\n",
    "DTR_3.fit(train_dataset_3_x, train_dataset_3_t)\n",
    "\n",
    "y_DTR_1 = DTR_1.predict(X_train_1)\n",
    "y_DTR_2 = DTR_2.predict(X_train_2)\n",
    "y_DTR_3 = DTR_3.predict(X_train_3)\n",
    "\n",
    "#ブレンドデータ作成\n",
    "DTR_blend_data = np.concatenate([y_DTR_1, y_DTR_2, y_DTR_3], axis=0)\n",
    "DTR_blend_data.shape"
   ]
  },
  {
   "cell_type": "code",
   "execution_count": 22,
   "metadata": {},
   "outputs": [
    {
     "name": "stderr",
     "output_type": "stream",
     "text": [
      "/Users/tominagashuuji/.pyenv/versions/anaconda3-5.1.0/lib/python3.6/site-packages/sklearn/utils/validation.py:578: DataConversionWarning: A column-vector y was passed when a 1d array was expected. Please change the shape of y to (n_samples, ), for example using ravel().\n",
      "  y = column_or_1d(y, warn=True)\n"
     ]
    },
    {
     "data": {
      "text/plain": [
       "(1168,)"
      ]
     },
     "execution_count": 22,
     "metadata": {},
     "output_type": "execute_result"
    }
   ],
   "source": [
    "SVR_1 = SVR(gamma=0.001, C=1.0, epsilon=0.2)\n",
    "SVR_2 = SVR(gamma=0.001, C=1.0, epsilon=0.2)\n",
    "SVR_3 = SVR(gamma=0.001, C=1.0, epsilon=0.2)\n",
    "\n",
    "SVR_1.fit(train_dataset_1_x, train_dataset_1_t)\n",
    "SVR_2.fit(train_dataset_2_x, train_dataset_2_t)\n",
    "SVR_3.fit(train_dataset_3_x, train_dataset_3_t)\n",
    "\n",
    "y_SVR_1 = SVR_1.predict(X_train_1)\n",
    "y_SVR_2 = SVR_2.predict(X_train_2)\n",
    "y_SVR_3 = SVR_3.predict(X_train_3)\n",
    "\n",
    "SVR_blend_data = np.concatenate([y_SVR_1, y_SVR_2, y_SVR_3], axis=0)\n",
    "SVR_blend_data.shape"
   ]
  },
  {
   "cell_type": "code",
   "execution_count": 23,
   "metadata": {},
   "outputs": [
    {
     "data": {
      "text/plain": [
       "(1168, 2)"
      ]
     },
     "execution_count": 23,
     "metadata": {},
     "output_type": "execute_result"
    }
   ],
   "source": [
    "DTR_SVR_blend = np.stack([DTR_blend_data , SVR_blend_data], 1)\n",
    "DTR_SVR_blend.shape"
   ]
  },
  {
   "cell_type": "markdown",
   "metadata": {},
   "source": [
    "### 学習、推定、ブレンドデータ作成（モデル2）"
   ]
  },
  {
   "cell_type": "code",
   "execution_count": 24,
   "metadata": {},
   "outputs": [
    {
     "data": {
      "text/plain": [
       "(1168, 1)"
      ]
     },
     "execution_count": 24,
     "metadata": {},
     "output_type": "execute_result"
    }
   ],
   "source": [
    "LR_1 = LinearRegression()\n",
    "LR_2 = LinearRegression()\n",
    "LR_3 = LinearRegression()\n",
    "\n",
    "LR_1.fit(train_dataset_1_x, train_dataset_1_t)\n",
    "LR_2.fit(train_dataset_2_x, train_dataset_2_t)\n",
    "LR_3.fit(train_dataset_3_x, train_dataset_3_t)\n",
    "\n",
    "y_LR_1 = LR_1.predict(X_train_1)\n",
    "y_LR_2 = LR_1.predict(X_train_2)\n",
    "y_LR_3 = LR_1.predict(X_train_3)\n",
    "\n",
    "LR_blend_data = np.concatenate([y_LR_1, y_LR_2, y_LR_3], axis=0)\n",
    "LR_blend_data.shape"
   ]
  },
  {
   "cell_type": "code",
   "execution_count": 25,
   "metadata": {},
   "outputs": [
    {
     "data": {
      "text/plain": [
       "(1168, 2)"
      ]
     },
     "execution_count": 25,
     "metadata": {},
     "output_type": "execute_result"
    }
   ],
   "source": [
    "# ブレンドデータ結合\n",
    "blend_data = np.concatenate([DTR_blend_data.reshape(1168, 1), LR_blend_data], axis = 1)\n",
    "blend_data.shape"
   ]
  },
  {
   "cell_type": "markdown",
   "metadata": {},
   "source": [
    "### 学習フェーズのラストステージ"
   ]
  },
  {
   "cell_type": "code",
   "execution_count": 26,
   "metadata": {},
   "outputs": [
    {
     "name": "stdout",
     "output_type": "stream",
     "text": [
      "(389, 1)\n"
     ]
    }
   ],
   "source": [
    "print(t_train_1.shape)"
   ]
  },
  {
   "cell_type": "code",
   "execution_count": 27,
   "metadata": {},
   "outputs": [
    {
     "data": {
      "text/plain": [
       "DecisionTreeRegressor(criterion='mse', max_depth=5, max_features=None,\n",
       "           max_leaf_nodes=None, min_impurity_decrease=0.0,\n",
       "           min_impurity_split=None, min_samples_leaf=1,\n",
       "           min_samples_split=2, min_weight_fraction_leaf=0.0,\n",
       "           presort=False, random_state=None, splitter='best')"
      ]
     },
     "execution_count": 27,
     "metadata": {},
     "output_type": "execute_result"
    }
   ],
   "source": [
    "DTR_last = DecisionTreeRegressor(max_depth=5)\n",
    "\n",
    "DTR_last.fit(train_dataset_1_x, train_dataset_1_t)"
   ]
  },
  {
   "cell_type": "code",
   "execution_count": 28,
   "metadata": {},
   "outputs": [
    {
     "data": {
      "text/plain": [
       "DecisionTreeRegressor(criterion='mse', max_depth=5, max_features=None,\n",
       "           max_leaf_nodes=None, min_impurity_decrease=0.0,\n",
       "           min_impurity_split=None, min_samples_leaf=1,\n",
       "           min_samples_split=2, min_weight_fraction_leaf=0.0,\n",
       "           presort=False, random_state=None, splitter='best')"
      ]
     },
     "execution_count": 28,
     "metadata": {},
     "output_type": "execute_result"
    }
   ],
   "source": [
    "DTR_last = DecisionTreeRegressor(max_depth=5)\n",
    "\n",
    "DTR_last.fit(blend_data, t_train)"
   ]
  },
  {
   "cell_type": "markdown",
   "metadata": {},
   "source": [
    "### 推定フェーズ"
   ]
  },
  {
   "cell_type": "markdown",
   "metadata": {},
   "source": [
    "#### 推定パート　1回目"
   ]
  },
  {
   "cell_type": "code",
   "execution_count": 29,
   "metadata": {},
   "outputs": [
    {
     "data": {
      "text/plain": [
       "(292,)"
      ]
     },
     "execution_count": 29,
     "metadata": {},
     "output_type": "execute_result"
    }
   ],
   "source": [
    "y_test_DTR_1 = DTR_1.predict(X_test)\n",
    "y_test_DTR_2 = DTR_2.predict(X_test)\n",
    "y_test_DTR_3 = DTR_3.predict(X_test)\n",
    "\n",
    "y_test_SVR_1 = SVR_1.predict(X_test)\n",
    "y_test_SVR_2 = SVR_2.predict(X_test)\n",
    "y_test_SVR_3 = SVR_3.predict(X_test)\n",
    "\n",
    "blend_test_DTR = np.stack([y_test_DTR_1, y_test_DTR_2, y_test_DTR_3], 1)\n",
    "blend_test_DTR_av = np.average(blend_test_DTR , 1)\n",
    "blend_test_DTR_av.shape"
   ]
  },
  {
   "cell_type": "code",
   "execution_count": 30,
   "metadata": {},
   "outputs": [
    {
     "data": {
      "text/plain": [
       "(292,)"
      ]
     },
     "execution_count": 30,
     "metadata": {},
     "output_type": "execute_result"
    }
   ],
   "source": [
    "blend_test_SVR = np.stack([y_test_SVR_1, y_test_SVR_2, y_test_SVR_3], 1)\n",
    "blend_test_SVR_av = np.average(blend_test_SVR , 1)\n",
    "blend_test_SVR_av.shape"
   ]
  },
  {
   "cell_type": "code",
   "execution_count": 31,
   "metadata": {},
   "outputs": [
    {
     "data": {
      "text/plain": [
       "(292, 2)"
      ]
     },
     "execution_count": 31,
     "metadata": {},
     "output_type": "execute_result"
    }
   ],
   "source": [
    "blend_test_DTSVR = np.stack([blend_test_DTR_av, blend_test_SVR_av], 1)\n",
    "blend_test_DTSVR.shape"
   ]
  },
  {
   "cell_type": "markdown",
   "metadata": {},
   "source": [
    "#### 推定パート　2回目"
   ]
  },
  {
   "cell_type": "code",
   "execution_count": 32,
   "metadata": {},
   "outputs": [],
   "source": [
    "y_test_DTR_2_1 = DTR_1.predict(blend_test_DTSVR)\n",
    "y_test_DTR_2_2 = DTR_2.predict(blend_test_DTSVR)\n",
    "y_test_DTR_2_3 = DTR_3.predict(blend_test_DTSVR)\n",
    "\n",
    "y_test_SVR_2_1 = SVR_1.predict(blend_test_DTSVR)\n",
    "y_test_SVR_2_2 = SVR_2.predict(blend_test_DTSVR)\n",
    "y_test_SVR_2_3 = SVR_3.predict(blend_test_DTSVR)"
   ]
  },
  {
   "cell_type": "code",
   "execution_count": 33,
   "metadata": {},
   "outputs": [
    {
     "data": {
      "text/plain": [
       "(292,)"
      ]
     },
     "execution_count": 33,
     "metadata": {},
     "output_type": "execute_result"
    }
   ],
   "source": [
    "blend_test_DTR_2 = np.stack([y_test_DTR_2_1, y_test_DTR_2_2, y_test_DTR_2_3], 1)\n",
    "blend_test_DTR_2_av = np.average(blend_test_DTR_2 , 1)\n",
    "blend_test_DTR_2_av.shape"
   ]
  },
  {
   "cell_type": "code",
   "execution_count": 34,
   "metadata": {},
   "outputs": [
    {
     "data": {
      "text/plain": [
       "(292,)"
      ]
     },
     "execution_count": 34,
     "metadata": {},
     "output_type": "execute_result"
    }
   ],
   "source": [
    "blend_test_SVR_2 = np.stack([y_test_SVR_2_1, y_test_SVR_2_2, y_test_SVR_2_3], 1)\n",
    "blend_test_SVR_2_av = np.average(blend_test_SVR_2 , 1)\n",
    "blend_test_SVR_2_av.shape"
   ]
  },
  {
   "cell_type": "code",
   "execution_count": 35,
   "metadata": {},
   "outputs": [
    {
     "data": {
      "text/plain": [
       "(292, 2)"
      ]
     },
     "execution_count": 35,
     "metadata": {},
     "output_type": "execute_result"
    }
   ],
   "source": [
    "blend_test_DTSVR_2 = np.stack([blend_test_DTR_2_av, blend_test_SVR_2_av], 1)\n",
    "blend_test_DTSVR_2.shape"
   ]
  },
  {
   "cell_type": "markdown",
   "metadata": {},
   "source": [
    "**推定　最終**"
   ]
  },
  {
   "cell_type": "code",
   "execution_count": 36,
   "metadata": {},
   "outputs": [],
   "source": [
    "last_y = DTR_last.predict(blend_test_DTSVR_2)"
   ]
  },
  {
   "cell_type": "code",
   "execution_count": 37,
   "metadata": {},
   "outputs": [
    {
     "name": "stdout",
     "output_type": "stream",
     "text": [
      "8132164091.2765045\n"
     ]
    }
   ],
   "source": [
    "print(mean_squared_error(t_test, last_y))"
   ]
  }
 ],
 "metadata": {
  "kernelspec": {
   "display_name": "Python 3",
   "language": "python",
   "name": "python3"
  },
  "language_info": {
   "codemirror_mode": {
    "name": "ipython",
    "version": 3
   },
   "file_extension": ".py",
   "mimetype": "text/x-python",
   "name": "python",
   "nbconvert_exporter": "python",
   "pygments_lexer": "ipython3",
   "version": "3.6.4"
  },
  "varInspector": {
   "cols": {
    "lenName": 16,
    "lenType": 16,
    "lenVar": 40
   },
   "kernels_config": {
    "python": {
     "delete_cmd_postfix": "",
     "delete_cmd_prefix": "del ",
     "library": "var_list.py",
     "varRefreshCmd": "print(var_dic_list())"
    },
    "r": {
     "delete_cmd_postfix": ") ",
     "delete_cmd_prefix": "rm(",
     "library": "var_list.r",
     "varRefreshCmd": "cat(var_dic_list()) "
    }
   },
   "types_to_exclude": [
    "module",
    "function",
    "builtin_function_or_method",
    "instance",
    "_Feature"
   ],
   "window_display": false
  }
 },
 "nbformat": 4,
 "nbformat_minor": 2
}
