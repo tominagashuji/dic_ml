{
 "cells": [
  {
   "cell_type": "markdown",
   "metadata": {},
   "source": [
    "# Sprint クラスタリングk-means"
   ]
  },
  {
   "cell_type": "code",
   "execution_count": 1,
   "metadata": {},
   "outputs": [],
   "source": [
    "import numpy as np\n",
    "import random\n",
    "import pandas as pd\n",
    "from numpy import linalg as LA\n",
    "import matplotlib.pyplot as plt\n",
    "#import japanize_matplotlib"
   ]
  },
  {
   "cell_type": "markdown",
   "metadata": {},
   "source": [
    "### データ用意"
   ]
  },
  {
   "cell_type": "code",
   "execution_count": 2,
   "metadata": {},
   "outputs": [],
   "source": [
    "# シンプルデータセット\n",
    "from sklearn.datasets import make_blobs # サンプルデータ？？クラスタリング用のデータセット\n",
    "\n",
    "# クラスタリングのデータをオプション指定等で作成している\n",
    "X, _ = make_blobs(n_samples=100, n_features=2, centers=4, cluster_std=0.5, shuffle=True, random_state=0)\n"
   ]
  },
  {
   "cell_type": "code",
   "execution_count": 3,
   "metadata": {},
   "outputs": [
    {
     "name": "stdout",
     "output_type": "stream",
     "text": [
      "(100, 2)\n",
      "[[ 0.72086751  3.71347124]\n",
      " [-1.89468423  7.96898545]\n",
      " [ 1.35678894  4.36462484]\n",
      " [ 1.05374379  4.49286859]]\n"
     ]
    }
   ],
   "source": [
    "print(X.shape)\n",
    "print(X[:4])"
   ]
  },
  {
   "cell_type": "markdown",
   "metadata": {},
   "source": [
    "### 問題１　中心点の初期値を求める"
   ]
  },
  {
   "cell_type": "code",
   "execution_count": 4,
   "metadata": {},
   "outputs": [
    {
     "name": "stdout",
     "output_type": "stream",
     "text": [
      "[[-0.93564005  7.03443119]\n",
      " [ 2.11872357  1.09865834]\n",
      " [ 0.12313498  5.27917503]]\n"
     ]
    }
   ],
   "source": [
    "# XからランダムにK個の点を決める（K=3)\n",
    "index = np.array(len(X))# サンプル数の値を取得\n",
    "random_index = np.random.choice(index, 3, replace=False)# indexの中から３つ選ぶ\n",
    "µ = X[random_index]# 選んだindexをµ配列に入れるミューはoption+M\n",
    "print(µ)"
   ]
  },
  {
   "cell_type": "markdown",
   "metadata": {},
   "source": [
    "### 問題2 SSEを求める関数の作成"
   ]
  },
  {
   "cell_type": "code",
   "execution_count": 5,
   "metadata": {},
   "outputs": [
    {
     "name": "stdout",
     "output_type": "stream",
     "text": [
      "[2.80871253e+00 1.79315741e+00 2.35830414e+00 1.48431057e+00\n",
      " 2.29587141e+00 1.70399319e+00 6.30668007e+00 7.39969241e-01\n",
      " 0.00000000e+00 7.11437606e-01 1.10993556e-04 6.61339761e-01\n",
      " 1.57476026e-01 5.14189357e-01 2.39525039e-01 1.53649840e+00\n",
      " 1.01668024e+00 3.77871294e+00 9.44978056e+00 9.26074274e-01\n",
      " 6.14027451e+00 1.12447872e+00 8.51628865e+00 9.67874788e-01\n",
      " 7.75775241e-01 1.01399233e+01 3.10188153e+00 1.26627569e+00\n",
      " 1.02124588e+00 3.61262332e-01 3.04735869e-01 0.00000000e+00\n",
      " 1.62149591e-01 4.82169688e-01 5.41436701e+00 2.98625690e+00\n",
      " 3.43346192e+00 2.38535489e-01 2.75018580e+00 1.17880851e+01\n",
      " 9.17543786e-01 6.63158055e+00 4.99012544e-01 7.68716445e+00\n",
      " 9.92393097e+00 2.35248554e+00 4.89367233e-01 7.96571155e+00\n",
      " 1.78462438e+00 4.03179353e+00 3.95559301e-01 7.79613702e-02\n",
      " 7.93275055e+00 5.55198321e+00 9.59826360e+00 2.92116816e-01\n",
      " 1.47620742e+00 1.09287858e-01 3.63551430e-02 9.99826000e-01\n",
      " 2.52614902e-01 4.65026976e-01 0.00000000e+00 2.68080075e+00\n",
      " 5.68667431e-01 1.33014548e+00 1.20457353e+01 1.05638451e+01\n",
      " 8.42105415e-02 1.80952240e+00 1.99223054e+00 4.79565629e-01\n",
      " 1.23547961e+00 9.47737555e-01 1.91011858e+00 3.46511486e+00\n",
      " 4.15452375e+00 7.02465426e+00 3.14248623e-01 7.72783218e-01\n",
      " 1.35331283e+00 2.93853584e+00 5.13630356e+00 1.17233318e+00\n",
      " 2.91072567e-01 7.33168234e+00 2.98030512e-01 4.03348938e-01\n",
      " 3.72257134e+00 1.46491991e+00 1.28345337e+00 1.06108171e+01\n",
      " 2.94870991e+00 6.38138430e+00 1.03256615e+01 1.43200504e+00\n",
      " 7.18421516e-01 5.10027980e+00 9.44202936e-01 5.99887472e-01]\n",
      "284.76553705133244\n"
     ]
    }
   ],
   "source": [
    "# SSE\n",
    "\n",
    "# µまでの距離の最小値\n",
    "\n",
    "norm = []\n",
    "for n in range(len(X)): # サンプル数分\n",
    "    for k in range(len(µ)): # 分類点の数\n",
    "        norm.append(np.linalg.norm(X[n] - µ[k])**2)# サンプル点とクラスタ点の距離を計り二乗する\n",
    "norm = np.array(norm).reshape(len(X), len(µ))# nromをサンプル行、クラスタ列に変更\n",
    "# print(norm.shape)\n",
    "# print(norm)\n",
    "norm_min = np.amin(norm, axis=1) # 各行の最小値\n",
    "print(norm_min)\n",
    "SSE = sum(norm_min) # 各行の最小値の合計がSSE\n",
    "print(SSE)"
   ]
  },
  {
   "cell_type": "markdown",
   "metadata": {},
   "source": [
    "### 問題３ クラスタへの割り当て"
   ]
  },
  {
   "cell_type": "code",
   "execution_count": 6,
   "metadata": {},
   "outputs": [
    {
     "name": "stdout",
     "output_type": "stream",
     "text": [
      "[0.72086751 3.71347124]\n"
     ]
    }
   ],
   "source": [
    "print(X[0])"
   ]
  },
  {
   "cell_type": "code",
   "execution_count": 7,
   "metadata": {},
   "outputs": [
    {
     "name": "stdout",
     "output_type": "stream",
     "text": [
      "[[3.71117128 1.33908828 3.51896244]\n",
      " [3.22756697 3.3046306  3.35516252]\n",
      " [3.32256203 0.86021465 2.04986067]\n",
      " [0.84346761 0.01053535 0.81322799]]\n",
      "int64\n",
      "[1 0 1 1 0 2 0 0 0 0 1 1 2 1 0 0 2 2 1 2]\n"
     ]
    },
    {
     "data": {
      "text/html": [
       "<div>\n",
       "<style scoped>\n",
       "    .dataframe tbody tr th:only-of-type {\n",
       "        vertical-align: middle;\n",
       "    }\n",
       "\n",
       "    .dataframe tbody tr th {\n",
       "        vertical-align: top;\n",
       "    }\n",
       "\n",
       "    .dataframe thead th {\n",
       "        text-align: right;\n",
       "    }\n",
       "</style>\n",
       "<table border=\"1\" class=\"dataframe\">\n",
       "  <thead>\n",
       "    <tr style=\"text-align: right;\">\n",
       "      <th></th>\n",
       "      <th>0</th>\n",
       "      <th>1</th>\n",
       "      <th>clus</th>\n",
       "    </tr>\n",
       "  </thead>\n",
       "  <tbody>\n",
       "    <tr>\n",
       "      <th>0</th>\n",
       "      <td>0.720868</td>\n",
       "      <td>3.713471</td>\n",
       "      <td>1</td>\n",
       "    </tr>\n",
       "    <tr>\n",
       "      <th>1</th>\n",
       "      <td>-1.894684</td>\n",
       "      <td>7.968985</td>\n",
       "      <td>0</td>\n",
       "    </tr>\n",
       "    <tr>\n",
       "      <th>2</th>\n",
       "      <td>1.356789</td>\n",
       "      <td>4.364625</td>\n",
       "      <td>1</td>\n",
       "    </tr>\n",
       "    <tr>\n",
       "      <th>3</th>\n",
       "      <td>1.053744</td>\n",
       "      <td>4.492869</td>\n",
       "      <td>1</td>\n",
       "    </tr>\n",
       "    <tr>\n",
       "      <th>4</th>\n",
       "      <td>1.591415</td>\n",
       "      <td>4.904977</td>\n",
       "      <td>0</td>\n",
       "    </tr>\n",
       "  </tbody>\n",
       "</table>\n",
       "</div>"
      ],
      "text/plain": [
       "          0         1  clus\n",
       "0  0.720868  3.713471     1\n",
       "1 -1.894684  7.968985     0\n",
       "2  1.356789  4.364625     1\n",
       "3  1.053744  4.492869     1\n",
       "4  1.591415  4.904977     0"
      ]
     },
     "execution_count": 7,
     "metadata": {},
     "output_type": "execute_result"
    }
   ],
   "source": [
    "# 全てのデータをXをもっとも近いµに割り当てる\n",
    "# for n in range(len(X)):\n",
    "\n",
    "# µとXの距離を求める\n",
    "distance = []\n",
    "for k in range(len(µ)):\n",
    "    for n in range(len(X)):\n",
    "        distance.append(np.linalg.norm(X[n] - µ[k]))\n",
    "distance = np.array(distance)\n",
    "distance = distance.reshape(len(X), len(µ))\n",
    "print(distance[:4])\n",
    "\n",
    "# distance の最小値のインデックスデータmin_disを作る（クラス分け）\n",
    "min_index = np.argmin(distance, axis=1)\n",
    "#min_index = min_index.reshape(len(X), 1)\n",
    "min_index = min_index.astype(int) # 整数配列にする\n",
    "print(min_index.dtype)\n",
    "print(min_index[:20])\n",
    "\n",
    "# X配列と結合、クラスへの割り当て付きデータにする\n",
    "X_clus = pd.DataFrame(X)\n",
    "min_index1 = pd.DataFrame(min_index)\n",
    "min_index = min_index1.rename(columns={0:\"clus\"})\n",
    "min_index.head()\n",
    "X_clus = pd.concat([X_clus, min_index], axis=1)\n",
    "X_clus.head()\n"
   ]
  },
  {
   "cell_type": "markdown",
   "metadata": {},
   "source": [
    "### 問題4 中心点の移動"
   ]
  },
  {
   "cell_type": "code",
   "execution_count": 8,
   "metadata": {},
   "outputs": [
    {
     "name": "stdout",
     "output_type": "stream",
     "text": [
      "[[-0.08002747  4.28293818]\n",
      " [ 0.39160895  3.46787561]\n",
      " [-0.16862542  4.34766287]]\n"
     ]
    }
   ],
   "source": [
    "# k番目のクラスの中心点の算出\n",
    "\n",
    "# k = 0 \n",
    "µ_new = [] # 移動先mの中心点を入れるリストを用意\n",
    "for k in range (len(µ)): #Kの数分ループ\n",
    "    X_clus_copy = X_clus.copy()\n",
    "    # clus列にkの値を持つ行\n",
    "    X_clus_copy = X_clus_copy[X_clus_copy[\"clus\"].isin([k])] # クラス別データに分ける\n",
    "    X_clus_copy = X_clus_copy.mean() # 列ごとの平均値（重心）= 次の中心点\n",
    "    µ_new.append(X_clus_copy) # µ_newにµごと次の中心点を入れる\n",
    "µ_new = np.array(µ_new) # リスト型をnumpy に変換\n",
    "µ_new = µ_new[:, :-1]\n",
    "print(µ_new)\n"
   ]
  },
  {
   "cell_type": "markdown",
   "metadata": {},
   "source": [
    "### 問題５　繰り返し"
   ]
  },
  {
   "cell_type": "code",
   "execution_count": 9,
   "metadata": {},
   "outputs": [],
   "source": [
    "class ScratchKMeans():\n",
    "    \"\"\"\n",
    "    K-meansのスクラッチ実装\n",
    "\n",
    "    Parameters\n",
    "    ----------\n",
    "    n_clusters : int\n",
    "      クラスタ数\n",
    "    n_init : int\n",
    "      中心点の初期値を何回変えて計算するか\n",
    "    max_iter : int\n",
    "      1回の計算で最大何イテレーションするか\n",
    "    tol : float\n",
    "      イテレーションを終了する基準となる中心点と重心の許容誤差\n",
    "    verbose : bool\n",
    "      学習過程を出力する場合はTrue\n",
    "    \"\"\"\n",
    "\n",
    "    def __init__(self, n_clusters=3, n_init=5, max_iter=10, tol=0.001, verbose=True):\n",
    "        # ハイパーパラメータを属性として記録\n",
    "        self.n_clusters = n_clusters\n",
    "        self.n_init = n_init\n",
    "        self.max_iter = max_iter\n",
    "        self.tol = tol\n",
    "        self.verbose = verbose\n",
    "\n",
    "    # XからランダムにK個の点を決める（K＝３）\n",
    "    def _generation_μ_(self, X):\n",
    "        index = np.array(len(X))\n",
    "        random_index = np.random.choice(index, self.n_clusters, replace=False)\n",
    "        self.μ = X[random_index]\n",
    "        return self.μ\n",
    "\n",
    "    # データXを最も近いμに割り当て、新しい中心点を求める（中心点の移動）\n",
    "    def _move_μ_(self, X, μ):\n",
    "        # μとXの距離を求める\n",
    "        self.distance = []\n",
    "        for k in range(len(μ)):\n",
    "            for n in range(len(X)):\n",
    "                self.distance.append(np.linalg.norm(X[n] - μ[k])) # Xとμの距離を計算\n",
    "        self.distance = np.array(self.distance)\n",
    "        self.distance = self.distance.reshape(len(X), len(μ))\n",
    "\n",
    "        # distanceの最小値のインデックスデータmin_indexを作る（クラス分け）\n",
    "        min_index = np.argmin(self.distance, axis=1)# 最小距離のインデックス\n",
    "        min_index = min_index.astype(int) # 整数配列にする\n",
    "\n",
    "        # X配列と結合、クラスへの割り当て付きデータにする\n",
    "        X_clus = pd.DataFrame(X)\n",
    "        min_index = pd.DataFrame(min_index)\n",
    "        min_index = min_index.rename(columns={0:\"clus\"})\n",
    "        X_clus = pd.concat([X_clus, min_index], axis=1)\n",
    "\n",
    "        # k番目のクラスの中心点の算出\n",
    "        μ_new = [] # 移動先の中心点を入れるリストを用意\n",
    "        for k in range(len(μ)): # Kの数分ループ\n",
    "            X_clus_copy = X_clus.copy()\n",
    "            # clus列にkの値を持つ行\n",
    "            X_clus_copy = X_clus_copy[X_clus_copy[\"clus\"].isin([k])] # クラス別データに分ける\n",
    "            X_clus_copy = X_clus_copy.mean() # 列ごとの平均値（重心）＝次の中心点\n",
    "            μ_new.append(X_clus_copy) # μ_newにμごと次の中心点を入れる\n",
    "\n",
    "        μ_new = np.array(μ_new) # リスト型をnumpyに変換\n",
    "        μ_new = μ_new[:, :-1] # 右端のクラス名の列を削除\n",
    "                \n",
    "        return μ_new\n",
    "    \n",
    "    # 初期値を決定し、最も近い中心点に移動\n",
    "    def _minimum_center_(self, X):\n",
    "        self.μ = self._generation_μ_(X) # 初期μを決定\n",
    "        #print(\"\\n＝＝＝初期μ＝＝＝\\n{}\".format(self.μ))\n",
    "\n",
    "        \n",
    "        # 中心点への割り当て、割り当てを固定して中心点の移動\n",
    "        self.μ_fit = []\n",
    "        for m in range(self.max_iter):\n",
    "            #print(\"\\n------ {}回目の移動------\".format(m+1))\n",
    "            # 繰り返し条件を満たしたらbreak\n",
    "            if m == 0: # 初回のみ初期のμを使う\n",
    "                self.μ_fit = (self._move_μ_(X, self.μ)) # 初回μから中心点を移動\n",
    "                #print(\"μ_fit\\n{}\".format(self.μ_fit))\n",
    "                μ_differences = []\n",
    "                for i in range(self.n_clusters):\n",
    "                    μ_differences.append(np.linalg.norm(self.μ_fit[i] - self.μ[i])**2)\n",
    "                μ_difference = np.amax(μ_differences) # 中心点の差の最大値\n",
    "                #print(\"中心点の移動距離：{}\".format(μ_difference))\n",
    "            else: # 2回目以降は移動したμを使う\n",
    "                self.μ_fit = (self._move_μ_(X, self.μ_fit)) # μ_fitから中心点を移動\n",
    "                #print(\"self.μ_fit\\n{}\".format(self.μ_fit))\n",
    "                μ_differences = []\n",
    "                for i in range(self.n_clusters):\n",
    "                    μ_differences.append(np.linalg.norm(self.μ_fit[i] - μ_previous[i])**2)\n",
    "                μ_difference = np.amax(μ_differences) # 中心点の差の最大値\n",
    "                #print(\"中心点の移動距離：{}\".format(μ_difference))\n",
    "                \n",
    "                if(m == self.max_iter or μ_difference < self.tol):\n",
    "                    break\n",
    "            μ_previous = self.μ_fit.copy() # 次回、差を出すためにコピーしておく\n",
    "\n",
    "        return self.μ_fit\n",
    "    \n",
    "    # μまでの距離のデータの最小値:正常のはず\n",
    "    def _SSE_(self, X, μ):\n",
    "        norm = []\n",
    "        for n in range(len(X)):\n",
    "            for k in range(len(μ)):\n",
    "                norm.append(np.linalg.norm(X[n] - μ[k])**2)\n",
    "        norm = np.array(norm).reshape(len(X), len(μ))\n",
    "        norm_min = np.argmin(norm, axis=1)\n",
    "        SSE = np.sum(norm_min)\n",
    "        return SSE\n",
    "\n",
    "    def fit(self, X):\n",
    "        \"\"\"\n",
    "        K-meansによるクラスタリングを計算\n",
    "        Parameters\n",
    "        ----------\n",
    "        X : 次の形のndarray, shape (n_samples, n_features)\n",
    "            学習用データの特徴量\n",
    "        \"\"\"                \n",
    "\n",
    "        #　初期値を変えてn_init回計算\n",
    "        for n in range(self.n_init):\n",
    "            min_μs = self._minimum_center_(X) # 異なる初期値で最も近い中心点に移動\n",
    "            self.SSE = self._SSE_(X, min_μs)\n",
    "\n",
    "            if n == 0:\n",
    "                SSE_previous = self.SSE.copy()\n",
    "                self.min_best = min_μs\n",
    "                #print(\"\\nn_init初回min_best:\\n{}\\n\".format(self.min_best))\n",
    "            else:\n",
    "                if self.SSE > SSE_previous:\n",
    "                    self.min_best = min_μs\n",
    "\n",
    "        #print(\"\\n====n_init{}回のmin_best===\\n{}\\n\\n\".format(self.n_init, self.min_best))            \n",
    "        return self.min_best\n",
    "\n",
    "    def predict(self, X):\n",
    "        \"\"\"\n",
    "        入力されたデータがどのクラスタに属するかを計算\n",
    "        \"\"\"\n",
    "        #def predict_Xclus(self, X, self.min_best):L\n",
    "        self.distance = []\n",
    "        for k in range(len(self.min_best)):\n",
    "            for n in range(len(X)):\n",
    "                self.distance.append(np.linalg.norm(X[n] - self.min_best[k])) # Xとμの距離を計算\n",
    "        self.distance = np.array(self.distance)\n",
    "        self.distance = self.distance.reshape(len(X), len(self.min_best))\n",
    "\n",
    "        # distanceの最小値のインデックスデータmin_indexを作る（クラス分け）\n",
    "        min_index = np.argmin(self.distance, axis=1)# 最小距離のインデックス\n",
    "        min_index = min_index.astype(int) # 整数配列にする\n",
    "\n",
    "        # X配列と結合、クラスへの割り当て付きデータにする\n",
    "        X_clus = pd.DataFrame(X)\n",
    "        min_index = pd.DataFrame(min_index)\n",
    "        min_index = min_index.rename(columns={0:\"clus\"})\n",
    "        X_clus = pd.concat([X_clus, min_index], axis=1)\n",
    "        return X_clus\n"
   ]
  },
  {
   "cell_type": "markdown",
   "metadata": {},
   "source": [
    "### 問題７　学習、推定"
   ]
  },
  {
   "cell_type": "code",
   "execution_count": 10,
   "metadata": {},
   "outputs": [
    {
     "data": {
      "text/html": [
       "<div>\n",
       "<style scoped>\n",
       "    .dataframe tbody tr th:only-of-type {\n",
       "        vertical-align: middle;\n",
       "    }\n",
       "\n",
       "    .dataframe tbody tr th {\n",
       "        vertical-align: top;\n",
       "    }\n",
       "\n",
       "    .dataframe thead th {\n",
       "        text-align: right;\n",
       "    }\n",
       "</style>\n",
       "<table border=\"1\" class=\"dataframe\">\n",
       "  <thead>\n",
       "    <tr style=\"text-align: right;\">\n",
       "      <th></th>\n",
       "      <th>0</th>\n",
       "      <th>1</th>\n",
       "      <th>clus</th>\n",
       "    </tr>\n",
       "  </thead>\n",
       "  <tbody>\n",
       "    <tr>\n",
       "      <th>0</th>\n",
       "      <td>0.720868</td>\n",
       "      <td>3.713471</td>\n",
       "      <td>0</td>\n",
       "    </tr>\n",
       "    <tr>\n",
       "      <th>1</th>\n",
       "      <td>-1.894684</td>\n",
       "      <td>7.968985</td>\n",
       "      <td>2</td>\n",
       "    </tr>\n",
       "    <tr>\n",
       "      <th>2</th>\n",
       "      <td>1.356789</td>\n",
       "      <td>4.364625</td>\n",
       "      <td>2</td>\n",
       "    </tr>\n",
       "    <tr>\n",
       "      <th>3</th>\n",
       "      <td>1.053744</td>\n",
       "      <td>4.492869</td>\n",
       "      <td>1</td>\n",
       "    </tr>\n",
       "  </tbody>\n",
       "</table>\n",
       "</div>"
      ],
      "text/plain": [
       "          0         1  clus\n",
       "0  0.720868  3.713471     0\n",
       "1 -1.894684  7.968985     2\n",
       "2  1.356789  4.364625     2\n",
       "3  1.053744  4.492869     1"
      ]
     },
     "execution_count": 10,
     "metadata": {},
     "output_type": "execute_result"
    }
   ],
   "source": [
    "SKM = ScratchKMeans(n_clusters=3, n_init=5, max_iter=10, tol=0.001)\n",
    "SKM_fit = SKM.fit(X)\n",
    "#print(\"\\nSSE:{}\".format(SSE))\n",
    "SKM_pred = SKM.predict(X)\n",
    "SKM_pred = pd.DataFrame(SKM_pred)\n",
    "SKM_pred[:4]"
   ]
  },
  {
   "cell_type": "markdown",
   "metadata": {},
   "source": [
    "### 問題8 エルボー法の実装"
   ]
  },
  {
   "cell_type": "code",
   "execution_count": 11,
   "metadata": {},
   "outputs": [],
   "source": [
    "# SSE\n",
    "# n_init=5, max_iter=10, tol=0.001\n",
    "# エルボー法グラフ表示\n",
    "def elbow(X, k, n_init, max_iter, tol):\n",
    "    def SSE(X, μ):\n",
    "        norm = []\n",
    "        for n in range(len(X)):\n",
    "            for k in range(len(μ)):\n",
    "                norm.append(np.linalg.norm(X[n] - μ[k])**2)\n",
    "        norm = np.array(norm).reshape(len(X), len(μ))\n",
    "        norm_min = np.amin(norm, axis=1) #各行の最小値\n",
    "        SSE = sum(norm_min)\n",
    "        return SSE\n",
    "    \n",
    "    SSE_list = []\n",
    "    for i in range(1, k+1):\n",
    "        SKM = ScratchKMeans(i, n_init, max_iter, tol)\n",
    "        SKM.fit(X)\n",
    "        sse = SSE(X, SKM.min_best)\n",
    "        SSE_list.append(sse)\n",
    "    return SSE_list\n",
    "#     k_array = np.arange(k)\n",
    "#     x = k_array\n",
    "#     y = SSE_list\n",
    "    #return plt.plot(x, y)\n",
    "#print(SSE_list)\n",
    "#print(SKM.min_best)"
   ]
  },
  {
   "cell_type": "code",
   "execution_count": 12,
   "metadata": {},
   "outputs": [
    {
     "name": "stderr",
     "output_type": "stream",
     "text": [
      "/Users/tominagashuuji/.pyenv/versions/anaconda3-5.1.0/lib/python3.6/site-packages/numpy/core/_methods.py:26: RuntimeWarning: invalid value encountered in reduce\n",
      "  return umr_maximum(a, axis, None, out, keepdims)\n"
     ]
    },
    {
     "data": {
      "text/plain": [
       "[870.2611797855423,\n",
       " 723.521845853988,\n",
       " 718.075082789121,\n",
       " 717.6478722174605,\n",
       " 605.5125017772622,\n",
       " 475.640522909355,\n",
       " 547.5187010706483,\n",
       " 487.9516156157704,\n",
       " 466.58247207948915,\n",
       " 345.3347416630845]"
      ]
     },
     "execution_count": 12,
     "metadata": {},
     "output_type": "execute_result"
    }
   ],
   "source": [
    "elbow(X, k=10, n_init=10, max_iter=50, tol=0.01)"
   ]
  },
  {
   "cell_type": "code",
   "execution_count": 13,
   "metadata": {},
   "outputs": [],
   "source": [
    "def SSE(X, μ):\n",
    "    norm = []\n",
    "    for n in range(len(X)):\n",
    "        for k in range(len(μ)):\n",
    "            norm.append(np.linalg.norm(X[n] - μ[k])**2)\n",
    "    norm = np.array(norm).reshape(len(X), len(μ))\n",
    "    norm_min = np.amin(norm, axis=1) # 各行の最小値\n",
    "    SSE = sum(norm_min)\n",
    "    return SSE"
   ]
  },
  {
   "cell_type": "code",
   "execution_count": 14,
   "metadata": {
    "scrolled": true
   },
   "outputs": [
    {
     "name": "stdout",
     "output_type": "stream",
     "text": [
      "[711.2090904056424, 711.2090904056424, 711.2090904056424, 690.9540030786359, 711.2090904056424, 711.2090904056424, 690.9540030786359, 743.9119518201435, 743.9119518201435, 711.2090904056424]\n"
     ]
    },
    {
     "data": {
      "text/plain": [
       "Text(0,0.5,'SSE')"
      ]
     },
     "execution_count": 14,
     "metadata": {},
     "output_type": "execute_result"
    },
    {
     "data": {
      "image/png": "[encoded data removed]",
      "text/plain": [
       "<matplotlib.figure.Figure at 0x10640c2b0>"
      ]
     },
     "metadata": {},
     "output_type": "display_data"
    }
   ],
   "source": [
    "SSE_list = []\n",
    "for i in range(1, 10+1):\n",
    "    SKM = ScratchKMeans(n_clusters=3, n_init=3, max_iter=200, tol=0.0001)\n",
    "    SKM.fit(X)\n",
    "    sse = SSE(X,SKM.min_best)\n",
    "    SSE_list.append(sse)\n",
    "print(SSE_list)\n",
    "\n",
    "# x軸は1~10のクラスタ、y軸はSSE\n",
    "plt.plot(range(1,10+1),SSE_list,marker='+')\n",
    "plt.xlabel('clusters num')\n",
    "plt.ylabel('SSE')"
   ]
  },
  {
   "cell_type": "markdown",
   "metadata": {},
   "source": [
    "### 考察\n",
    "4個か7個が適していると見れる。"
   ]
  },
  {
   "cell_type": "markdown",
   "metadata": {},
   "source": [
    "### クラスタ分析 卸売業者のデータ分析"
   ]
  },
  {
   "cell_type": "code",
   "execution_count": 15,
   "metadata": {},
   "outputs": [
    {
     "data": {
      "text/html": [
       "<div>\n",
       "<style scoped>\n",
       "    .dataframe tbody tr th:only-of-type {\n",
       "        vertical-align: middle;\n",
       "    }\n",
       "\n",
       "    .dataframe tbody tr th {\n",
       "        vertical-align: top;\n",
       "    }\n",
       "\n",
       "    .dataframe thead th {\n",
       "        text-align: right;\n",
       "    }\n",
       "</style>\n",
       "<table border=\"1\" class=\"dataframe\">\n",
       "  <thead>\n",
       "    <tr style=\"text-align: right;\">\n",
       "      <th></th>\n",
       "      <th>Channel</th>\n",
       "      <th>Region</th>\n",
       "      <th>Fresh</th>\n",
       "      <th>Milk</th>\n",
       "      <th>Grocery</th>\n",
       "      <th>Frozen</th>\n",
       "      <th>Detergents_Paper</th>\n",
       "      <th>Delicassen</th>\n",
       "    </tr>\n",
       "  </thead>\n",
       "  <tbody>\n",
       "    <tr>\n",
       "      <th>0</th>\n",
       "      <td>2</td>\n",
       "      <td>3</td>\n",
       "      <td>12669</td>\n",
       "      <td>9656</td>\n",
       "      <td>7561</td>\n",
       "      <td>214</td>\n",
       "      <td>2674</td>\n",
       "      <td>1338</td>\n",
       "    </tr>\n",
       "    <tr>\n",
       "      <th>1</th>\n",
       "      <td>2</td>\n",
       "      <td>3</td>\n",
       "      <td>7057</td>\n",
       "      <td>9810</td>\n",
       "      <td>9568</td>\n",
       "      <td>1762</td>\n",
       "      <td>3293</td>\n",
       "      <td>1776</td>\n",
       "    </tr>\n",
       "    <tr>\n",
       "      <th>2</th>\n",
       "      <td>2</td>\n",
       "      <td>3</td>\n",
       "      <td>6353</td>\n",
       "      <td>8808</td>\n",
       "      <td>7684</td>\n",
       "      <td>2405</td>\n",
       "      <td>3516</td>\n",
       "      <td>7844</td>\n",
       "    </tr>\n",
       "    <tr>\n",
       "      <th>3</th>\n",
       "      <td>1</td>\n",
       "      <td>3</td>\n",
       "      <td>13265</td>\n",
       "      <td>1196</td>\n",
       "      <td>4221</td>\n",
       "      <td>6404</td>\n",
       "      <td>507</td>\n",
       "      <td>1788</td>\n",
       "    </tr>\n",
       "    <tr>\n",
       "      <th>4</th>\n",
       "      <td>2</td>\n",
       "      <td>3</td>\n",
       "      <td>22615</td>\n",
       "      <td>5410</td>\n",
       "      <td>7198</td>\n",
       "      <td>3915</td>\n",
       "      <td>1777</td>\n",
       "      <td>5185</td>\n",
       "    </tr>\n",
       "  </tbody>\n",
       "</table>\n",
       "</div>"
      ],
      "text/plain": [
       "   Channel  Region  Fresh  Milk  Grocery  Frozen  Detergents_Paper  Delicassen\n",
       "0        2       3  12669  9656     7561     214              2674        1338\n",
       "1        2       3   7057  9810     9568    1762              3293        1776\n",
       "2        2       3   6353  8808     7684    2405              3516        7844\n",
       "3        1       3  13265  1196     4221    6404               507        1788\n",
       "4        2       3  22615  5410     7198    3915              1777        5185"
      ]
     },
     "execution_count": 15,
     "metadata": {},
     "output_type": "execute_result"
    }
   ],
   "source": [
    "# データの読み込み\n",
    "wholesale = pd.read_csv('../kaggle/Wholesale customers data.csv')\n",
    "wholesale.head()"
   ]
  },
  {
   "cell_type": "code",
   "execution_count": 16,
   "metadata": {},
   "outputs": [
    {
     "data": {
      "text/plain": [
       "Index(['Channel', 'Region', 'Fresh', 'Milk', 'Grocery', 'Frozen',\n",
       "       'Detergents_Paper', 'Delicassen'],\n",
       "      dtype='object')"
      ]
     },
     "execution_count": 16,
     "metadata": {},
     "output_type": "execute_result"
    }
   ],
   "source": [
    "# カラム名\n",
    "wholesale.columns"
   ]
  },
  {
   "cell_type": "code",
   "execution_count": 17,
   "metadata": {},
   "outputs": [
    {
     "name": "stdout",
     "output_type": "stream",
     "text": [
      "(440, 6)\n"
     ]
    }
   ],
   "source": [
    "# データを対数変換\n",
    "data = wholesale.drop(['Channel', 'Region'], axis=1)\n",
    "data_log = np.log(data).values\n",
    "print(data_log.shape)"
   ]
  },
  {
   "cell_type": "code",
   "execution_count": 18,
   "metadata": {},
   "outputs": [
    {
     "name": "stdout",
     "output_type": "stream",
     "text": [
      "次元削減前: (440, 6)\n",
      "次元削減後: (440, 2)\n"
     ]
    }
   ],
   "source": [
    "#次元削減\n",
    "print('次元削減前:', data_log.shape)\n",
    "from sklearn.decomposition import PCA\n",
    "pca = PCA(n_components = 2)\n",
    "pca = pca.fit(data_log)\n",
    "data_pca = pca.transform(data_log)\n",
    "print('次元削減後:', data_pca.shape)"
   ]
  },
  {
   "cell_type": "code",
   "execution_count": 19,
   "metadata": {},
   "outputs": [
    {
     "name": "stdout",
     "output_type": "stream",
     "text": [
      "[0.44237417 0.71894523 0.83511865 0.93129585 0.97705265 1.        ]\n"
     ]
    },
    {
     "data": {
      "image/png": "[encoded data removed]",
      "text/plain": [
       "<matplotlib.figure.Figure at 0x1a14dac278>"
      ]
     },
     "metadata": {},
     "output_type": "display_data"
    }
   ],
   "source": [
    "# PCAの分散説明率を表示するコードサンプル\n",
    "pca = PCA(n_components=None)\n",
    "pca = pca.fit(data_log)\n",
    "var_exp = pca.explained_variance_ratio_\n",
    "cum_var_exp = np.cumsum(var_exp)\n",
    "print(cum_var_exp)\n",
    "plt.bar(range(1,7), var_exp, alpha=0.5, align='center', label='individual explained variance')\n",
    "plt.step(range(1,7), cum_var_exp, where='mid', label='cumulative expalined variance')\n",
    "plt.ylabel('Explained variance ratio')\n",
    "plt.xlabel('Principal components')\n",
    "plt.hlines(0.7, 0, 6,  \"blue\", linestyles='dashed')\n",
    "plt.legend(loc='best')\n",
    "plt.grid()\n",
    "plt.show()"
   ]
  },
  {
   "cell_type": "markdown",
   "metadata": {},
   "source": [
    "### 問題10　クラスタ数Kの選択"
   ]
  },
  {
   "cell_type": "code",
   "execution_count": 20,
   "metadata": {},
   "outputs": [
    {
     "name": "stdout",
     "output_type": "stream",
     "text": [
      "[3310.8160029961014, 3310.8160029961014, 3310.8160029961014, 3310.8160029961014, 3310.8160029961014, 3310.8160029961014, 3310.8160029961014, 3310.8160029961014, 3312.742926571079, 3310.8160029961014]\n"
     ]
    },
    {
     "data": {
      "text/plain": [
       "Text(0,0.5,'SSE')"
      ]
     },
     "execution_count": 20,
     "metadata": {},
     "output_type": "execute_result"
    },
    {
     "data": {
      "image/png": "[encoded data removed]",
      "text/plain": [
       "<matplotlib.figure.Figure at 0x1043f9d68>"
      ]
     },
     "metadata": {},
     "output_type": "display_data"
    }
   ],
   "source": [
    "## SSEを入れるリストを用意\n",
    "SSE_list = []\n",
    "\n",
    "# クラスター数を1~10まで試してみる\n",
    "for i in range(1, 10+1):\n",
    "    SKM = ScratchKMeans(n_clusters=3, n_init=3, max_iter=200, tol=0.0001)\n",
    "    SKM.fit(data_pca)\n",
    "    sse = SSE(data_pca, SKM.min_best)\n",
    "    SSE_list.append(sse)\n",
    "print(SSE_list)\n",
    "\n",
    "# x軸は1~10のクラスタ、y軸はSSE\n",
    "plt.plot(range(1,10+1), SSE_list, marker='+')\n",
    "plt.xlabel('clusters num')\n",
    "plt.ylabel('SSE')"
   ]
  },
  {
   "cell_type": "markdown",
   "metadata": {},
   "source": [
    "### 考察\n",
    "うまくエルボーにならなかった。。"
   ]
  },
  {
   "cell_type": "markdown",
   "metadata": {},
   "source": [
    "### 問題11 既知のグループとの比較"
   ]
  },
  {
   "cell_type": "code",
   "execution_count": 21,
   "metadata": {},
   "outputs": [
    {
     "data": {
      "text/html": [
       "<div>\n",
       "<style scoped>\n",
       "    .dataframe tbody tr th:only-of-type {\n",
       "        vertical-align: middle;\n",
       "    }\n",
       "\n",
       "    .dataframe tbody tr th {\n",
       "        vertical-align: top;\n",
       "    }\n",
       "\n",
       "    .dataframe thead th {\n",
       "        text-align: right;\n",
       "    }\n",
       "</style>\n",
       "<table border=\"1\" class=\"dataframe\">\n",
       "  <thead>\n",
       "    <tr style=\"text-align: right;\">\n",
       "      <th></th>\n",
       "      <th>0</th>\n",
       "      <th>1</th>\n",
       "      <th>clus</th>\n",
       "    </tr>\n",
       "  </thead>\n",
       "  <tbody>\n",
       "    <tr>\n",
       "      <th>0</th>\n",
       "      <td>-1.750985</td>\n",
       "      <td>-0.070515</td>\n",
       "      <td>0</td>\n",
       "    </tr>\n",
       "    <tr>\n",
       "      <th>1</th>\n",
       "      <td>-1.800365</td>\n",
       "      <td>-0.869754</td>\n",
       "      <td>2</td>\n",
       "    </tr>\n",
       "    <tr>\n",
       "      <th>2</th>\n",
       "      <td>-1.893736</td>\n",
       "      <td>-1.676621</td>\n",
       "      <td>2</td>\n",
       "    </tr>\n",
       "    <tr>\n",
       "      <th>3</th>\n",
       "      <td>1.127313</td>\n",
       "      <td>-1.457982</td>\n",
       "      <td>2</td>\n",
       "    </tr>\n",
       "  </tbody>\n",
       "</table>\n",
       "</div>"
      ],
      "text/plain": [
       "          0         1  clus\n",
       "0 -1.750985 -0.070515     0\n",
       "1 -1.800365 -0.869754     2\n",
       "2 -1.893736 -1.676621     2\n",
       "3  1.127313 -1.457982     2"
      ]
     },
     "execution_count": 21,
     "metadata": {},
     "output_type": "execute_result"
    }
   ],
   "source": [
    "# 学習、推定\n",
    "SKM = ScratchKMeans(n_clusters=3, n_init=5, max_iter=100, tol=0.001)\n",
    "SKM_fit = SKM.fit(data_pca)\n",
    "#print(\"\\nSSE:{}\".format(SSE))\n",
    "SKM_pred = SKM.predict(data_pca)\n",
    "SKM_pred = pd.DataFrame(SKM_pred)\n",
    "SKM_pred[:4]"
   ]
  },
  {
   "cell_type": "code",
   "execution_count": 22,
   "metadata": {},
   "outputs": [
    {
     "name": "stdout",
     "output_type": "stream",
     "text": [
      "\n",
      "channel 0\n",
      "1    298\n",
      "2    142\n",
      "Name: 1, dtype: int64\n",
      "\n",
      "region 0\n",
      "1     77\n",
      "2     47\n",
      "3    316\n",
      "Name: 1, dtype: int64\n",
      "\n",
      "clusters 0\n",
      "0    143\n",
      "1    148\n",
      "2    149\n",
      "Name: 1, dtype: int64\n"
     ]
    }
   ],
   "source": [
    "channel = np.array(wholesale[\"Channel\"])\n",
    "region = np.array(wholesale[\"Region\"])\n",
    "clusters = np.array(SKM_pred[\"clus\"])\n",
    "#display(Wholesale)\n",
    "#display(channel)\n",
    "#print(\"channel\",np.unique(channel, return_counts=True))\n",
    "channel = np.unique(channel, return_counts=True)\n",
    "channel = pd.DataFrame(channel)\n",
    "channel.columns = channel.iloc[0]\n",
    "channel = channel.iloc[1]\n",
    "print(\"\\nchannel\", channel)\n",
    "\n",
    "region = np.unique(region, return_counts=True)\n",
    "region = pd.DataFrame(region)\n",
    "region.columns = region.iloc[0]\n",
    "region = region.iloc[1]\n",
    "print(\"\\nregion\", region)\n",
    "\n",
    "clusters = np.unique(clusters, return_counts=True)\n",
    "clusters = pd.DataFrame(clusters)\n",
    "clusters.columns = clusters.iloc[0]\n",
    "clusters = clusters.iloc[1]\n",
    "print(\"\\nclusters\",clusters)"
   ]
  },
  {
   "cell_type": "code",
   "execution_count": 23,
   "metadata": {},
   "outputs": [
    {
     "data": {
      "image/png": "[encoded data removed]",
      "text/plain": [
       "<matplotlib.figure.Figure at 0x1a1517c518>"
      ]
     },
     "metadata": {},
     "output_type": "display_data"
    }
   ],
   "source": [
    "label = [1,2]\n",
    "\n",
    "plt.ylabel('count')\n",
    "plt.xlabel('channel_class')\n",
    "plt.pie(channel, labels = label, startangle=90,)\n",
    "#plt.plot(y_pred)\n",
    "plt.grid()\n",
    "plt.show()"
   ]
  },
  {
   "cell_type": "code",
   "execution_count": 24,
   "metadata": {},
   "outputs": [
    {
     "data": {
      "image/png": "[encoded data removed]",
      "text/plain": [
       "<matplotlib.figure.Figure at 0x1a157fd198>"
      ]
     },
     "metadata": {},
     "output_type": "display_data"
    }
   ],
   "source": [
    "label = [1,2,3]\n",
    "\n",
    "plt.ylabel('count')\n",
    "plt.xlabel('region_class')\n",
    "plt.pie(region, labels = label, startangle=90,)\n",
    "#plt.plot(y_pred)\n",
    "plt.grid()\n",
    "plt.show()"
   ]
  },
  {
   "cell_type": "code",
   "execution_count": 25,
   "metadata": {},
   "outputs": [
    {
     "data": {
      "image/png": "[encoded data removed]",
      "text/plain": [
       "<matplotlib.figure.Figure at 0x1a158ba1d0>"
      ]
     },
     "metadata": {},
     "output_type": "display_data"
    }
   ],
   "source": [
    "label = [0,1,2]\n",
    "\n",
    "plt.ylabel('count')\n",
    "plt.xlabel('SKM_pred_class')\n",
    "plt.pie(clusters, labels = label, startangle=90,)\n",
    "#plt.plot(y_pred)\n",
    "plt.grid()\n",
    "plt.show()"
   ]
  },
  {
   "cell_type": "markdown",
   "metadata": {},
   "source": [
    "### 考察\n",
    "クラス数３でScratchKMeansで推定を行ったところ、人数が均等に割れた。channelクラスはクラス数２でクラス１に多く分布が偏っており、regionクラスはクラス数３でクラス３に分布が偏っていた。"
   ]
  },
  {
   "cell_type": "markdown",
   "metadata": {},
   "source": [
    "### 問題12 卸売業者にとって有益な情報\n",
    "卸売業者にとって有益な情報を探し出し文章にまとめなさい。\n",
    "\n",
    "《ヒント》\n",
    "\n",
    "前処理を行う前のデータを使い、各クラスタの要約統計量を見るなどしてみましょう。また、PCAで次元削減したデータに対してK-meansを使用しましたが、6個の特徴量をそのまま使ったり、一部の特徴量のみを使ったりということも試してみてください。既知のグループとの比較結果も参考にしてください。\n",
    "\n",
    "条件ごとにデータを見る際にはPandasのgroupbyが便利です。\n",
    "\n",
    "pandas.DataFrame.groupby — pandas 0.23.4 documentation"
   ]
  },
  {
   "cell_type": "code",
   "execution_count": 26,
   "metadata": {},
   "outputs": [
    {
     "data": {
      "text/html": [
       "<div>\n",
       "<style scoped>\n",
       "    .dataframe tbody tr th:only-of-type {\n",
       "        vertical-align: middle;\n",
       "    }\n",
       "\n",
       "    .dataframe tbody tr th {\n",
       "        vertical-align: top;\n",
       "    }\n",
       "\n",
       "    .dataframe thead th {\n",
       "        text-align: right;\n",
       "    }\n",
       "</style>\n",
       "<table border=\"1\" class=\"dataframe\">\n",
       "  <thead>\n",
       "    <tr style=\"text-align: right;\">\n",
       "      <th></th>\n",
       "      <th>Channel</th>\n",
       "      <th>Region</th>\n",
       "      <th>Fresh</th>\n",
       "      <th>Milk</th>\n",
       "      <th>Grocery</th>\n",
       "      <th>Frozen</th>\n",
       "      <th>Detergents_Paper</th>\n",
       "      <th>Delicassen</th>\n",
       "      <th>clus</th>\n",
       "    </tr>\n",
       "  </thead>\n",
       "  <tbody>\n",
       "    <tr>\n",
       "      <th>0</th>\n",
       "      <td>2</td>\n",
       "      <td>3</td>\n",
       "      <td>12669</td>\n",
       "      <td>9656</td>\n",
       "      <td>7561</td>\n",
       "      <td>214</td>\n",
       "      <td>2674</td>\n",
       "      <td>1338</td>\n",
       "      <td>0</td>\n",
       "    </tr>\n",
       "    <tr>\n",
       "      <th>1</th>\n",
       "      <td>2</td>\n",
       "      <td>3</td>\n",
       "      <td>7057</td>\n",
       "      <td>9810</td>\n",
       "      <td>9568</td>\n",
       "      <td>1762</td>\n",
       "      <td>3293</td>\n",
       "      <td>1776</td>\n",
       "      <td>2</td>\n",
       "    </tr>\n",
       "    <tr>\n",
       "      <th>2</th>\n",
       "      <td>2</td>\n",
       "      <td>3</td>\n",
       "      <td>6353</td>\n",
       "      <td>8808</td>\n",
       "      <td>7684</td>\n",
       "      <td>2405</td>\n",
       "      <td>3516</td>\n",
       "      <td>7844</td>\n",
       "      <td>2</td>\n",
       "    </tr>\n",
       "    <tr>\n",
       "      <th>3</th>\n",
       "      <td>1</td>\n",
       "      <td>3</td>\n",
       "      <td>13265</td>\n",
       "      <td>1196</td>\n",
       "      <td>4221</td>\n",
       "      <td>6404</td>\n",
       "      <td>507</td>\n",
       "      <td>1788</td>\n",
       "      <td>2</td>\n",
       "    </tr>\n",
       "    <tr>\n",
       "      <th>4</th>\n",
       "      <td>2</td>\n",
       "      <td>3</td>\n",
       "      <td>22615</td>\n",
       "      <td>5410</td>\n",
       "      <td>7198</td>\n",
       "      <td>3915</td>\n",
       "      <td>1777</td>\n",
       "      <td>5185</td>\n",
       "      <td>1</td>\n",
       "    </tr>\n",
       "  </tbody>\n",
       "</table>\n",
       "</div>"
      ],
      "text/plain": [
       "   Channel  Region  Fresh  Milk  Grocery  Frozen  Detergents_Paper  \\\n",
       "0        2       3  12669  9656     7561     214              2674   \n",
       "1        2       3   7057  9810     9568    1762              3293   \n",
       "2        2       3   6353  8808     7684    2405              3516   \n",
       "3        1       3  13265  1196     4221    6404               507   \n",
       "4        2       3  22615  5410     7198    3915              1777   \n",
       "\n",
       "   Delicassen  clus  \n",
       "0        1338     0  \n",
       "1        1776     2  \n",
       "2        7844     2  \n",
       "3        1788     2  \n",
       "4        5185     1  "
      ]
     },
     "execution_count": 26,
     "metadata": {},
     "output_type": "execute_result"
    }
   ],
   "source": [
    "# Wholesaleデータにclusterを追加する\n",
    "wholesale_clus = pd.concat([wholesale, SKM_pred['clus']], axis=1)\n",
    "wholesale_clus.head()"
   ]
  },
  {
   "cell_type": "markdown",
   "metadata": {},
   "source": [
    "### clus ごとに各項目を平均する"
   ]
  },
  {
   "cell_type": "code",
   "execution_count": 27,
   "metadata": {},
   "outputs": [
    {
     "data": {
      "text/html": [
       "<div>\n",
       "<style scoped>\n",
       "    .dataframe tbody tr th:only-of-type {\n",
       "        vertical-align: middle;\n",
       "    }\n",
       "\n",
       "    .dataframe tbody tr th {\n",
       "        vertical-align: top;\n",
       "    }\n",
       "\n",
       "    .dataframe thead th {\n",
       "        text-align: right;\n",
       "    }\n",
       "</style>\n",
       "<table border=\"1\" class=\"dataframe\">\n",
       "  <thead>\n",
       "    <tr style=\"text-align: right;\">\n",
       "      <th></th>\n",
       "      <th>Channel</th>\n",
       "      <th>Region</th>\n",
       "      <th>Fresh</th>\n",
       "      <th>Milk</th>\n",
       "      <th>Grocery</th>\n",
       "      <th>Frozen</th>\n",
       "      <th>Detergents_Paper</th>\n",
       "      <th>Delicassen</th>\n",
       "    </tr>\n",
       "    <tr>\n",
       "      <th>clus</th>\n",
       "      <th></th>\n",
       "      <th></th>\n",
       "      <th></th>\n",
       "      <th></th>\n",
       "      <th></th>\n",
       "      <th></th>\n",
       "      <th></th>\n",
       "      <th></th>\n",
       "    </tr>\n",
       "  </thead>\n",
       "  <tbody>\n",
       "    <tr>\n",
       "      <th>0</th>\n",
       "      <td>1.0</td>\n",
       "      <td>3.0</td>\n",
       "      <td>10949.0</td>\n",
       "      <td>5716.0</td>\n",
       "      <td>8283.0</td>\n",
       "      <td>2455.0</td>\n",
       "      <td>2955.0</td>\n",
       "      <td>1471.0</td>\n",
       "    </tr>\n",
       "    <tr>\n",
       "      <th>1</th>\n",
       "      <td>1.0</td>\n",
       "      <td>3.0</td>\n",
       "      <td>11944.0</td>\n",
       "      <td>5780.0</td>\n",
       "      <td>7822.0</td>\n",
       "      <td>3564.0</td>\n",
       "      <td>2894.0</td>\n",
       "      <td>1712.0</td>\n",
       "    </tr>\n",
       "    <tr>\n",
       "      <th>2</th>\n",
       "      <td>1.0</td>\n",
       "      <td>3.0</td>\n",
       "      <td>13065.0</td>\n",
       "      <td>5890.0</td>\n",
       "      <td>7761.0</td>\n",
       "      <td>3175.0</td>\n",
       "      <td>2799.0</td>\n",
       "      <td>1390.0</td>\n",
       "    </tr>\n",
       "  </tbody>\n",
       "</table>\n",
       "</div>"
      ],
      "text/plain": [
       "      Channel  Region    Fresh    Milk  Grocery  Frozen  Detergents_Paper  \\\n",
       "clus                                                                        \n",
       "0         1.0     3.0  10949.0  5716.0   8283.0  2455.0            2955.0   \n",
       "1         1.0     3.0  11944.0  5780.0   7822.0  3564.0            2894.0   \n",
       "2         1.0     3.0  13065.0  5890.0   7761.0  3175.0            2799.0   \n",
       "\n",
       "      Delicassen  \n",
       "clus              \n",
       "0         1471.0  \n",
       "1         1712.0  \n",
       "2         1390.0  "
      ]
     },
     "execution_count": 27,
     "metadata": {},
     "output_type": "execute_result"
    }
   ],
   "source": [
    "wholesale_clus.groupby([\"clus\"]).mean().round()"
   ]
  },
  {
   "cell_type": "markdown",
   "metadata": {},
   "source": [
    "## 考察（clus)\n",
    "・生鮮品、冷凍食品、惣菜はクラス１の平均が高い\n",
    "・ミルク、食品、洗剤、紙はクラスごとの差がそれほどない"
   ]
  },
  {
   "cell_type": "markdown",
   "metadata": {},
   "source": [
    "### Channel ごとに各項目の平均を求める"
   ]
  },
  {
   "cell_type": "code",
   "execution_count": 28,
   "metadata": {},
   "outputs": [
    {
     "data": {
      "text/html": [
       "<div>\n",
       "<style scoped>\n",
       "    .dataframe tbody tr th:only-of-type {\n",
       "        vertical-align: middle;\n",
       "    }\n",
       "\n",
       "    .dataframe tbody tr th {\n",
       "        vertical-align: top;\n",
       "    }\n",
       "\n",
       "    .dataframe thead th {\n",
       "        text-align: right;\n",
       "    }\n",
       "</style>\n",
       "<table border=\"1\" class=\"dataframe\">\n",
       "  <thead>\n",
       "    <tr style=\"text-align: right;\">\n",
       "      <th></th>\n",
       "      <th>Region</th>\n",
       "      <th>Fresh</th>\n",
       "      <th>Milk</th>\n",
       "      <th>Grocery</th>\n",
       "      <th>Frozen</th>\n",
       "      <th>Detergents_Paper</th>\n",
       "      <th>Delicassen</th>\n",
       "      <th>clus</th>\n",
       "    </tr>\n",
       "    <tr>\n",
       "      <th>Channel</th>\n",
       "      <th></th>\n",
       "      <th></th>\n",
       "      <th></th>\n",
       "      <th></th>\n",
       "      <th></th>\n",
       "      <th></th>\n",
       "      <th></th>\n",
       "      <th></th>\n",
       "    </tr>\n",
       "  </thead>\n",
       "  <tbody>\n",
       "    <tr>\n",
       "      <th>1</th>\n",
       "      <td>3.0</td>\n",
       "      <td>13476.0</td>\n",
       "      <td>3452.0</td>\n",
       "      <td>3962.0</td>\n",
       "      <td>3748.0</td>\n",
       "      <td>791.0</td>\n",
       "      <td>1416.0</td>\n",
       "      <td>1.0</td>\n",
       "    </tr>\n",
       "    <tr>\n",
       "      <th>2</th>\n",
       "      <td>3.0</td>\n",
       "      <td>8904.0</td>\n",
       "      <td>10716.0</td>\n",
       "      <td>16323.0</td>\n",
       "      <td>1653.0</td>\n",
       "      <td>7270.0</td>\n",
       "      <td>1753.0</td>\n",
       "      <td>1.0</td>\n",
       "    </tr>\n",
       "  </tbody>\n",
       "</table>\n",
       "</div>"
      ],
      "text/plain": [
       "         Region    Fresh     Milk  Grocery  Frozen  Detergents_Paper  \\\n",
       "Channel                                                                \n",
       "1           3.0  13476.0   3452.0   3962.0  3748.0             791.0   \n",
       "2           3.0   8904.0  10716.0  16323.0  1653.0            7270.0   \n",
       "\n",
       "         Delicassen  clus  \n",
       "Channel                    \n",
       "1            1416.0   1.0  \n",
       "2            1753.0   1.0  "
      ]
     },
     "execution_count": 28,
     "metadata": {},
     "output_type": "execute_result"
    }
   ],
   "source": [
    "wholesale_clus.groupby([\"Channel\"]).mean().round()"
   ]
  },
  {
   "cell_type": "markdown",
   "metadata": {},
   "source": [
    "## 考察(Channel)\n",
    "・生鮮品、冷凍品はクラス１の平均が高い\n",
    "・ミルク、食品、洗剤・紙はクラス２の平均が高い\n",
    "・惣菜はややクラス２の平均が高い"
   ]
  },
  {
   "cell_type": "markdown",
   "metadata": {},
   "source": [
    "## Regionごとに各項目の平均を求める"
   ]
  },
  {
   "cell_type": "code",
   "execution_count": 29,
   "metadata": {},
   "outputs": [
    {
     "data": {
      "text/html": [
       "<div>\n",
       "<style scoped>\n",
       "    .dataframe tbody tr th:only-of-type {\n",
       "        vertical-align: middle;\n",
       "    }\n",
       "\n",
       "    .dataframe tbody tr th {\n",
       "        vertical-align: top;\n",
       "    }\n",
       "\n",
       "    .dataframe thead th {\n",
       "        text-align: right;\n",
       "    }\n",
       "</style>\n",
       "<table border=\"1\" class=\"dataframe\">\n",
       "  <thead>\n",
       "    <tr style=\"text-align: right;\">\n",
       "      <th></th>\n",
       "      <th>Channel</th>\n",
       "      <th>Fresh</th>\n",
       "      <th>Milk</th>\n",
       "      <th>Grocery</th>\n",
       "      <th>Frozen</th>\n",
       "      <th>Detergents_Paper</th>\n",
       "      <th>Delicassen</th>\n",
       "      <th>clus</th>\n",
       "    </tr>\n",
       "    <tr>\n",
       "      <th>Region</th>\n",
       "      <th></th>\n",
       "      <th></th>\n",
       "      <th></th>\n",
       "      <th></th>\n",
       "      <th></th>\n",
       "      <th></th>\n",
       "      <th></th>\n",
       "      <th></th>\n",
       "    </tr>\n",
       "  </thead>\n",
       "  <tbody>\n",
       "    <tr>\n",
       "      <th>1</th>\n",
       "      <td>1.0</td>\n",
       "      <td>11102.0</td>\n",
       "      <td>5486.0</td>\n",
       "      <td>7403.0</td>\n",
       "      <td>3000.0</td>\n",
       "      <td>2651.0</td>\n",
       "      <td>1355.0</td>\n",
       "      <td>1.0</td>\n",
       "    </tr>\n",
       "    <tr>\n",
       "      <th>2</th>\n",
       "      <td>1.0</td>\n",
       "      <td>9888.0</td>\n",
       "      <td>5088.0</td>\n",
       "      <td>9219.0</td>\n",
       "      <td>4045.0</td>\n",
       "      <td>3687.0</td>\n",
       "      <td>1160.0</td>\n",
       "      <td>1.0</td>\n",
       "    </tr>\n",
       "    <tr>\n",
       "      <th>3</th>\n",
       "      <td>1.0</td>\n",
       "      <td>12533.0</td>\n",
       "      <td>5977.0</td>\n",
       "      <td>7896.0</td>\n",
       "      <td>2945.0</td>\n",
       "      <td>2818.0</td>\n",
       "      <td>1621.0</td>\n",
       "      <td>1.0</td>\n",
       "    </tr>\n",
       "  </tbody>\n",
       "</table>\n",
       "</div>"
      ],
      "text/plain": [
       "        Channel    Fresh    Milk  Grocery  Frozen  Detergents_Paper  \\\n",
       "Region                                                                \n",
       "1           1.0  11102.0  5486.0   7403.0  3000.0            2651.0   \n",
       "2           1.0   9888.0  5088.0   9219.0  4045.0            3687.0   \n",
       "3           1.0  12533.0  5977.0   7896.0  2945.0            2818.0   \n",
       "\n",
       "        Delicassen  clus  \n",
       "Region                    \n",
       "1           1355.0   1.0  \n",
       "2           1160.0   1.0  \n",
       "3           1621.0   1.0  "
      ]
     },
     "execution_count": 29,
     "metadata": {},
     "output_type": "execute_result"
    }
   ],
   "source": [
    "wholesale_clus.groupby([\"Region\"]).mean().round()"
   ]
  },
  {
   "cell_type": "markdown",
   "metadata": {},
   "source": [
    "## 考察(Region)\n",
    "・生鮮品、ミルク、惣菜はクラス３の平均が高い\n",
    "・食品、冷凍品、洗剤、紙はクラス２の平均が高い"
   ]
  },
  {
   "cell_type": "code",
   "execution_count": null,
   "metadata": {},
   "outputs": [],
   "source": []
  }
 ],
 "metadata": {
  "kernelspec": {
   "display_name": "Python 3",
   "language": "python",
   "name": "python3"
  },
  "language_info": {
   "codemirror_mode": {
    "name": "ipython",
    "version": 3
   },
   "file_extension": ".py",
   "mimetype": "text/x-python",
   "name": "python",
   "nbconvert_exporter": "python",
   "pygments_lexer": "ipython3",
   "version": "3.6.4"
  },
  "varInspector": {
   "cols": {
    "lenName": 16,
    "lenType": 16,
    "lenVar": 40
   },
   "kernels_config": {
    "python": {
     "delete_cmd_postfix": "",
     "delete_cmd_prefix": "del ",
     "library": "var_list.py",
     "varRefreshCmd": "print(var_dic_list())"
    },
    "r": {
     "delete_cmd_postfix": ") ",
     "delete_cmd_prefix": "rm(",
     "library": "var_list.r",
     "varRefreshCmd": "cat(var_dic_list()) "
    }
   },
   "types_to_exclude": [
    "module",
    "function",
    "builtin_function_or_method",
    "instance",
    "_Feature"
   ],
   "window_display": false
  }
 },
 "nbformat": 4,
 "nbformat_minor": 2
}
