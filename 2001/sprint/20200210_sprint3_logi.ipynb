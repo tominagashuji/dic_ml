{
 "cells": [
  {
   "cell_type": "code",
   "execution_count": 2,
   "metadata": {},
   "outputs": [],
   "source": [
    "import numpy as np\n",
    "from numpy.random import *\n",
    "import matplotlib.pyplot as plt\n",
    "import pandas as pd\n",
    "from sklearn.model_selection import train_test_split # testとtrain分割\n",
    "from decimal import Decimal, ROUND_HALF_UP\n",
    "from sklearn.datasets import load_iris\n",
    "from sklearn.preprocessing import StandardScaler\n",
    "from sklearn.metrics import classification_report\n",
    "from sklearn.metrics import confusion_matrix, accuracy_score, recall_score, precision_score, f1_score"
   ]
  },
  {
   "cell_type": "code",
   "execution_count": 3,
   "metadata": {},
   "outputs": [
    {
     "data": {
      "text/html": [
       "<div>\n",
       "<style scoped>\n",
       "    .dataframe tbody tr th:only-of-type {\n",
       "        vertical-align: middle;\n",
       "    }\n",
       "\n",
       "    .dataframe tbody tr th {\n",
       "        vertical-align: top;\n",
       "    }\n",
       "\n",
       "    .dataframe thead th {\n",
       "        text-align: right;\n",
       "    }\n",
       "</style>\n",
       "<table border=\"1\" class=\"dataframe\">\n",
       "  <thead>\n",
       "    <tr style=\"text-align: right;\">\n",
       "      <th></th>\n",
       "      <th>sepal length (cm)</th>\n",
       "      <th>sepal width (cm)</th>\n",
       "      <th>petal length (cm)</th>\n",
       "      <th>petal width (cm)</th>\n",
       "      <th>Species</th>\n",
       "    </tr>\n",
       "  </thead>\n",
       "  <tbody>\n",
       "    <tr>\n",
       "      <th>0</th>\n",
       "      <td>5.1</td>\n",
       "      <td>3.5</td>\n",
       "      <td>1.4</td>\n",
       "      <td>0.2</td>\n",
       "      <td>0</td>\n",
       "    </tr>\n",
       "    <tr>\n",
       "      <th>1</th>\n",
       "      <td>4.9</td>\n",
       "      <td>3.0</td>\n",
       "      <td>1.4</td>\n",
       "      <td>0.2</td>\n",
       "      <td>0</td>\n",
       "    </tr>\n",
       "    <tr>\n",
       "      <th>2</th>\n",
       "      <td>4.7</td>\n",
       "      <td>3.2</td>\n",
       "      <td>1.3</td>\n",
       "      <td>0.2</td>\n",
       "      <td>0</td>\n",
       "    </tr>\n",
       "    <tr>\n",
       "      <th>3</th>\n",
       "      <td>4.6</td>\n",
       "      <td>3.1</td>\n",
       "      <td>1.5</td>\n",
       "      <td>0.2</td>\n",
       "      <td>0</td>\n",
       "    </tr>\n",
       "    <tr>\n",
       "      <th>4</th>\n",
       "      <td>5.0</td>\n",
       "      <td>3.6</td>\n",
       "      <td>1.4</td>\n",
       "      <td>0.2</td>\n",
       "      <td>0</td>\n",
       "    </tr>\n",
       "  </tbody>\n",
       "</table>\n",
       "</div>"
      ],
      "text/plain": [
       "   sepal length (cm)  sepal width (cm)  petal length (cm)  petal width (cm)  \\\n",
       "0                5.1               3.5                1.4               0.2   \n",
       "1                4.9               3.0                1.4               0.2   \n",
       "2                4.7               3.2                1.3               0.2   \n",
       "3                4.6               3.1                1.5               0.2   \n",
       "4                5.0               3.6                1.4               0.2   \n",
       "\n",
       "   Species  \n",
       "0        0  \n",
       "1        0  \n",
       "2        0  \n",
       "3        0  \n",
       "4        0  "
      ]
     },
     "execution_count": 3,
     "metadata": {},
     "output_type": "execute_result"
    }
   ],
   "source": [
    "# データセットインポート（iris)\n",
    "iris = load_iris()\n",
    "#print(iris)\n",
    "\n",
    "# Xに格納\n",
    "X = pd.DataFrame(iris.data, columns=iris.feature_names)\n",
    "\n",
    "# 目的変数(ラベル：target)をyに格納\n",
    "y = pd.DataFrame({ \"Species\" : iris.target})\n",
    "\n",
    "# Xとyを結合\n",
    "df = pd.concat([X, y], axis=1, sort=False)\n",
    "df.head()"
   ]
  },
  {
   "cell_type": "code",
   "execution_count": 4,
   "metadata": {},
   "outputs": [
    {
     "data": {
      "text/html": [
       "<div>\n",
       "<style scoped>\n",
       "    .dataframe tbody tr th:only-of-type {\n",
       "        vertical-align: middle;\n",
       "    }\n",
       "\n",
       "    .dataframe tbody tr th {\n",
       "        vertical-align: top;\n",
       "    }\n",
       "\n",
       "    .dataframe thead th {\n",
       "        text-align: right;\n",
       "    }\n",
       "</style>\n",
       "<table border=\"1\" class=\"dataframe\">\n",
       "  <thead>\n",
       "    <tr style=\"text-align: right;\">\n",
       "      <th></th>\n",
       "      <th>sepal length (cm)</th>\n",
       "      <th>sepal width (cm)</th>\n",
       "      <th>petal length (cm)</th>\n",
       "      <th>petal width (cm)</th>\n",
       "      <th>Species</th>\n",
       "    </tr>\n",
       "  </thead>\n",
       "  <tbody>\n",
       "    <tr>\n",
       "      <th>50</th>\n",
       "      <td>7.0</td>\n",
       "      <td>3.2</td>\n",
       "      <td>4.7</td>\n",
       "      <td>1.4</td>\n",
       "      <td>0</td>\n",
       "    </tr>\n",
       "    <tr>\n",
       "      <th>51</th>\n",
       "      <td>6.4</td>\n",
       "      <td>3.2</td>\n",
       "      <td>4.5</td>\n",
       "      <td>1.5</td>\n",
       "      <td>0</td>\n",
       "    </tr>\n",
       "    <tr>\n",
       "      <th>52</th>\n",
       "      <td>6.9</td>\n",
       "      <td>3.1</td>\n",
       "      <td>4.9</td>\n",
       "      <td>1.5</td>\n",
       "      <td>0</td>\n",
       "    </tr>\n",
       "    <tr>\n",
       "      <th>53</th>\n",
       "      <td>5.5</td>\n",
       "      <td>2.3</td>\n",
       "      <td>4.0</td>\n",
       "      <td>1.3</td>\n",
       "      <td>0</td>\n",
       "    </tr>\n",
       "    <tr>\n",
       "      <th>54</th>\n",
       "      <td>6.5</td>\n",
       "      <td>2.8</td>\n",
       "      <td>4.6</td>\n",
       "      <td>1.5</td>\n",
       "      <td>0</td>\n",
       "    </tr>\n",
       "  </tbody>\n",
       "</table>\n",
       "</div>"
      ],
      "text/plain": [
       "    sepal length (cm)  sepal width (cm)  petal length (cm)  petal width (cm)  \\\n",
       "50                7.0               3.2                4.7               1.4   \n",
       "51                6.4               3.2                4.5               1.5   \n",
       "52                6.9               3.1                4.9               1.5   \n",
       "53                5.5               2.3                4.0               1.3   \n",
       "54                6.5               2.8                4.6               1.5   \n",
       "\n",
       "    Species  \n",
       "50        0  \n",
       "51        0  \n",
       "52        0  \n",
       "53        0  \n",
       "54        0  "
      ]
     },
     "execution_count": 4,
     "metadata": {},
     "output_type": "execute_result"
    }
   ],
   "source": [
    "# virgicolorとvirginicaデータのみ（setosaは削除）\n",
    "df = df[df['Species'].isin(['1','2'])]\n",
    "\n",
    "# 数値を０、１に置き換え\n",
    "df = df.replace({1: 0, 2: 1})\n",
    "df.head()"
   ]
  },
  {
   "cell_type": "code",
   "execution_count": 5,
   "metadata": {},
   "outputs": [
    {
     "data": {
      "text/html": [
       "<div>\n",
       "<style scoped>\n",
       "    .dataframe tbody tr th:only-of-type {\n",
       "        vertical-align: middle;\n",
       "    }\n",
       "\n",
       "    .dataframe tbody tr th {\n",
       "        vertical-align: top;\n",
       "    }\n",
       "\n",
       "    .dataframe thead th {\n",
       "        text-align: right;\n",
       "    }\n",
       "</style>\n",
       "<table border=\"1\" class=\"dataframe\">\n",
       "  <thead>\n",
       "    <tr style=\"text-align: right;\">\n",
       "      <th></th>\n",
       "      <th>sepal length (cm)</th>\n",
       "      <th>sepal width (cm)</th>\n",
       "      <th>petal length (cm)</th>\n",
       "      <th>petal width (cm)</th>\n",
       "    </tr>\n",
       "  </thead>\n",
       "  <tbody>\n",
       "    <tr>\n",
       "      <th>50</th>\n",
       "      <td>7.0</td>\n",
       "      <td>3.2</td>\n",
       "      <td>4.7</td>\n",
       "      <td>1.4</td>\n",
       "    </tr>\n",
       "    <tr>\n",
       "      <th>51</th>\n",
       "      <td>6.4</td>\n",
       "      <td>3.2</td>\n",
       "      <td>4.5</td>\n",
       "      <td>1.5</td>\n",
       "    </tr>\n",
       "    <tr>\n",
       "      <th>52</th>\n",
       "      <td>6.9</td>\n",
       "      <td>3.1</td>\n",
       "      <td>4.9</td>\n",
       "      <td>1.5</td>\n",
       "    </tr>\n",
       "    <tr>\n",
       "      <th>53</th>\n",
       "      <td>5.5</td>\n",
       "      <td>2.3</td>\n",
       "      <td>4.0</td>\n",
       "      <td>1.3</td>\n",
       "    </tr>\n",
       "    <tr>\n",
       "      <th>54</th>\n",
       "      <td>6.5</td>\n",
       "      <td>2.8</td>\n",
       "      <td>4.6</td>\n",
       "      <td>1.5</td>\n",
       "    </tr>\n",
       "  </tbody>\n",
       "</table>\n",
       "</div>"
      ],
      "text/plain": [
       "    sepal length (cm)  sepal width (cm)  petal length (cm)  petal width (cm)\n",
       "50                7.0               3.2                4.7               1.4\n",
       "51                6.4               3.2                4.5               1.5\n",
       "52                6.9               3.1                4.9               1.5\n",
       "53                5.5               2.3                4.0               1.3\n",
       "54                6.5               2.8                4.6               1.5"
      ]
     },
     "metadata": {},
     "output_type": "display_data"
    },
    {
     "data": {
      "text/html": [
       "<div>\n",
       "<style scoped>\n",
       "    .dataframe tbody tr th:only-of-type {\n",
       "        vertical-align: middle;\n",
       "    }\n",
       "\n",
       "    .dataframe tbody tr th {\n",
       "        vertical-align: top;\n",
       "    }\n",
       "\n",
       "    .dataframe thead th {\n",
       "        text-align: right;\n",
       "    }\n",
       "</style>\n",
       "<table border=\"1\" class=\"dataframe\">\n",
       "  <thead>\n",
       "    <tr style=\"text-align: right;\">\n",
       "      <th></th>\n",
       "      <th>Species</th>\n",
       "    </tr>\n",
       "  </thead>\n",
       "  <tbody>\n",
       "    <tr>\n",
       "      <th>50</th>\n",
       "      <td>0</td>\n",
       "    </tr>\n",
       "    <tr>\n",
       "      <th>51</th>\n",
       "      <td>0</td>\n",
       "    </tr>\n",
       "    <tr>\n",
       "      <th>52</th>\n",
       "      <td>0</td>\n",
       "    </tr>\n",
       "    <tr>\n",
       "      <th>53</th>\n",
       "      <td>0</td>\n",
       "    </tr>\n",
       "    <tr>\n",
       "      <th>54</th>\n",
       "      <td>0</td>\n",
       "    </tr>\n",
       "  </tbody>\n",
       "</table>\n",
       "</div>"
      ],
      "text/plain": [
       "    Species\n",
       "50        0\n",
       "51        0\n",
       "52        0\n",
       "53        0\n",
       "54        0"
      ]
     },
     "metadata": {},
     "output_type": "display_data"
    }
   ],
   "source": [
    "# X,yに分割\n",
    "X = df.loc[:,[\"sepal length (cm)\",\"sepal width (cm)\",\"petal length (cm)\",\"petal width (cm)\"]]\n",
    "display(X.head())\n",
    "\n",
    "y = df.loc[:,[\"Species\"]]\n",
    "display(y.head())"
   ]
  },
  {
   "cell_type": "code",
   "execution_count": 6,
   "metadata": {},
   "outputs": [
    {
     "name": "stdout",
     "output_type": "stream",
     "text": [
      "<class 'numpy.ndarray'>\n",
      "X_train\n",
      "(75, 4)\n",
      "[[-1.77029021 -0.93785213 -2.29778941 -0.75792766]\n",
      " [ 0.03817879  1.08628915 -0.24187257  0.09816533]\n",
      " [-0.56464421  0.32723617  0.24187257  0.44060252]\n",
      " [ 0.18888454 -0.17879915  0.84655399  1.12547691]]\n",
      "y_train\n",
      "(75,)\n",
      "X_test\n",
      "(25, 4)\n",
      "y_test\n",
      "(25,)\n"
     ]
    }
   ],
   "source": [
    "# np.arrayに変換\n",
    "X = np.array(X)\n",
    "y = np.array(y)\n",
    "y = y.reshape(-1,)\n",
    "\n",
    "#trainとtestに分ける\n",
    "X_train, X_test, y_train, y_test = train_test_split(X,y,random_state=0)\n",
    "\n",
    "#標準化\n",
    "sc = StandardScaler()\n",
    "sc.fit(X_train)\n",
    "X_train = sc.transform(X_train)\n",
    "X_test = sc.transform(X_test)\n",
    "\n",
    "#X_train = np.insert(X_train, 0, 1, axis=1)\n",
    "\n",
    "print(type(X_train))\n",
    "print(\"X_train\")\n",
    "print(X_train.shape)\n",
    "print(X_train[:4])\n",
    "print(\"y_train\")\n",
    "print(y_train.shape)\n",
    "#print(y_train[:4])\n",
    "\n",
    "print(\"X_test\")\n",
    "print(X_test.shape)\n",
    "#print(X_test[:4])\n",
    "print(\"y_test\") \n",
    "print(y_test.shape)\n",
    "#print(y_test[:4])\n"
   ]
  },
  {
   "cell_type": "markdown",
   "metadata": {},
   "source": [
    "### 【問題１】\n",
    "class内　def　hypothesis_function():　に記載"
   ]
  },
  {
   "cell_type": "markdown",
   "metadata": {},
   "source": [
    "### 【問題2】最急降下法\n",
    "class内　fit():　に記載"
   ]
  },
  {
   "cell_type": "markdown",
   "metadata": {},
   "source": [
    "### 【問題3】推定\n",
    "class内　predict(self, X)、predict_proba(self, X)に記載"
   ]
  },
  {
   "cell_type": "markdown",
   "metadata": {},
   "source": [
    "### 【問題4】目的関数"
   ]
  },
  {
   "cell_type": "code",
   "execution_count": 7,
   "metadata": {},
   "outputs": [],
   "source": [
    "def loss(X, y, coef, lamda):\n",
    "    y_proba = sigmoid(X, coef)\n",
    "    m = len(X)\n",
    "    \n",
    "    iner_sigma = -y*(np.log(y_proba))-(1-y)*(np.log(1-y_proba))\n",
    "    sigma = np.sum(iner_sigma)/m\n",
    "    lamda_add = lamda/(2*m)*np.sum(coef[1:]**2)\n",
    "    return loss"
   ]
  },
  {
   "cell_type": "markdown",
   "metadata": {},
   "source": [
    "## 【問題6】学習と推定\n",
    "機械学習スクラッチ入門のSprintで用意したirisデータセットのvirgicolorとvirginicaの2値分類に対してスクラッチ実装の学習と推定を行なってください。\n",
    "scikit-learnによる実装と比べ、正しく動いているかを確認してください。\n",
    "AccuracyやPrecision、Recallなどの指標値はscikit-learnを使用してください。"
   ]
  },
  {
   "cell_type": "code",
   "execution_count": 32,
   "metadata": {},
   "outputs": [],
   "source": [
    "class ScratchLogisticRegression():\n",
    "    def __init__(self, num_iter=30, lr=0.01, bias=False, verbose=False):\n",
    "        self.iter = num_iter\n",
    "        self.lr = lr\n",
    "        self.bias = bias\n",
    "        self.verbose = verbose\n",
    "        # 損失を記録する配列を用意\n",
    "        self.loss = np.zeros(self.iter)\n",
    "        self.val_loss = np.zeros(self.iter)\n",
    "        \n",
    "    def _sigmoid(self, X,theta):\n",
    "        h1 = 1 / (1 + np.exp(-(X@theta))) #(sample_num * 1) = (sample_num * feature_num) * (feature_num * 1)\n",
    "        return h1#(sample_num * 1)\n",
    "    \n",
    "    def _gradientdescent(self, X, y, m, theta):\n",
    "        norm_theta = theta.copy()\n",
    "        norm_theta[0] = 0\n",
    "        \n",
    "        error = (self._sigmoid(X, theta) - y)# (nsample,1) = (nsample,1) - (nsample,1)\n",
    "        errorX = (error@X)/m # (1,nfeature) = (1,nsample)@(nsample,nfeatrure)\n",
    "        norm = (self.lamda / m) * norm_theta #(1, n feature)\n",
    "        gradient = errorX + norm #(1,nfeature) = (1,nfeature) - (1,nfeature)\n",
    "        \n",
    "        theta_out = theta - self.lr * gradient #(1, nfeature) = (1,nfeature) - (1,nfeature)\n",
    "        \n",
    "        return theta_out\n",
    "    \n",
    "    def _cost(self, X, y, m, theta):\n",
    "        step1 = self._sigmoid(X, theta)\n",
    "        step2 = np.log(step1)\n",
    "        step3 = -y * step2\n",
    "        \n",
    "        step4 = 1 - step1\n",
    "        step5 = np.log(step4)\n",
    "        step6 = (1-y) * step5\n",
    "        \n",
    "        step7 = step3 - step6\n",
    "        step8 = np.sum(step7)\n",
    "        step9 = 1/m * step8\n",
    "        \n",
    "        step10 = self.theta ** 2\n",
    "        step11 = np.sum(step10)\n",
    "        step12 = self.lamda / (2*m)\n",
    "        step13 = step12 * step11\n",
    "        \n",
    "        step14 = step9 * step13\n",
    "        \n",
    "        return step14\n",
    "    \n",
    "    def fit(self, X, y, lamda=1, X_val=np.array([]), y_val=np.array([])):\n",
    "        self.lamda = lamda\n",
    "        m = len(X)\n",
    "        \n",
    "        if self.bias:\n",
    "            self.theta = np.random.rand(X.shape[1])\n",
    "        else:\n",
    "            X = np.insert(X, 0, 1, axis=1)\n",
    "            self.theta = np.random.rand(X.shape[1])\n",
    "            \n",
    "        for i in range(self.iter):\n",
    "            self.theta = self._gradientdescent(X, y, m, self.theta)\n",
    "            self.loss[i] = self._cost(X, y, m, self.theta)\n",
    "            \n",
    "        if X_val.size != 0:\n",
    "            if self.bias:\n",
    "                self.theta_val = np.random.rand(X_val.shape[1])\n",
    "            else:\n",
    "                X_val = np.insert(X_val, 0, 1, axis=1)\n",
    "                self.theta_val = np.random.rand(X_val.shape[1])\n",
    "                \n",
    "            m_val = len(X_val)\n",
    "            \n",
    "            for i in range(self.iter):\n",
    "                self.theta_val = self._gradientdescent(X_val, y_val, m_val, self.theta_val)\n",
    "                self.val_loss[i] = self._cost(X_val, y_val, m_val, self.theta_val)\n",
    "                \n",
    "        if self.verbose:\n",
    "            print(\"loss:\", self.loss)\n",
    "            print(\"val_loss:\", self.val_loss)\n",
    "            \n",
    "    def predict(self, X):\n",
    "        if self.bias == False:\n",
    "            X = np.insert(X, 0, 1, axis=1)\n",
    "            \n",
    "        pred_proba = self._sigmoid(X, self.theta)\n",
    "        result = []\n",
    "        \n",
    "        for i in pred_proba:\n",
    "            if i > 0.5:\n",
    "                result.append(1)\n",
    "            else:\n",
    "                result.append(0)\n",
    "                \n",
    "        return result\n",
    "    \n",
    "    def predict_proba(self, X):\n",
    "        if self.bias == False:\n",
    "            X = np.insert(X, 0, 1, axis=1)\n",
    "            \n",
    "        pred_proba = self._sigmoid(X, self.theta)\n",
    "        return pred_proba\n",
    "                "
   ]
  },
  {
   "cell_type": "markdown",
   "metadata": {},
   "source": [
    "## スクラッチしたScratchLogisticRegressionで学習、推定"
   ]
  },
  {
   "cell_type": "code",
   "execution_count": 33,
   "metadata": {},
   "outputs": [],
   "source": [
    "slr = ScratchLogisticRegression(num_iter=3000, lr=0.01)\n",
    "slr.fit(X_train, y_train, X_val= X_test, y_val=y_test)\n",
    "slr_predict = slr.predict(X_test)\n",
    "slr_proba = slr.predict_proba(X_test)"
   ]
  },
  {
   "cell_type": "code",
   "execution_count": 34,
   "metadata": {},
   "outputs": [
    {
     "name": "stdout",
     "output_type": "stream",
     "text": [
      "y_pred:\n",
      " [0, 1, 0, 1, 1, 1, 0, 1, 1, 1, 1, 1, 1, 0, 0, 0, 1, 0, 1, 0, 0, 1, 0, 0, 0] \n",
      "\n",
      "y_proba:\n",
      " [0.42862366 0.9549706  0.4772652  0.99680751 0.96747267 0.98050077\n",
      " 0.2335722  0.66974999 0.97408396 0.89424558] \n",
      "\n",
      "accuracy: 0.88\n",
      "recall: 0.8461538461538461\n",
      "precision: 0.9166666666666666\n",
      "F1: 0.8799999999999999\n",
      "matrix:\n",
      " [[11  1]\n",
      " [ 2 11]]\n"
     ]
    }
   ],
   "source": [
    "print('y_pred:\\n',slr_predict,'\\n')\n",
    "print('y_proba:\\n',slr_proba[:10],'\\n')\n",
    "\n",
    "print(\"accuracy:\", accuracy_score(slr_predict, y_test))\n",
    "print(\"recall:\", recall_score(slr_predict, y_test))\n",
    "print(\"precision:\", precision_score(slr_predict, y_test))\n",
    "print(\"F1:\", f1_score(slr_predict, y_test))\n",
    "print(\"matrix:\\n\", confusion_matrix(slr_predict, y_test))"
   ]
  },
  {
   "cell_type": "markdown",
   "metadata": {},
   "source": [
    "## scikit-learnのLogisticRegressionで学習、推定"
   ]
  },
  {
   "cell_type": "code",
   "execution_count": 36,
   "metadata": {},
   "outputs": [
    {
     "name": "stdout",
     "output_type": "stream",
     "text": [
      "y_pred:\n",
      " [0 1 0 1 1 1 0 1 1 1 1 1 1 0 0 0 1 0 1 0 0 1 0 0 0] \n",
      "\n",
      "y_proba:\n",
      " [[0.6345729  0.3654271 ]\n",
      " [0.0294102  0.9705898 ]\n",
      " [0.6029293  0.3970707 ]\n",
      " [0.00134983 0.99865017]\n",
      " [0.02096354 0.97903646]\n",
      " [0.01136684 0.98863316]\n",
      " [0.77745735 0.22254265]\n",
      " [0.31257353 0.68742647]\n",
      " [0.01352453 0.98647547]\n",
      " [0.09991446 0.90008554]] \n",
      "\n",
      "accuracy: 0.88\n",
      "recall: 0.8461538461538461\n",
      "precision: 0.9166666666666666\n",
      "F1: 0.8799999999999999\n",
      "matrix:\n",
      " [[11  1]\n",
      " [ 2 11]]\n"
     ]
    }
   ],
   "source": [
    "from sklearn.linear_model import LogisticRegression\n",
    "#初期化、学習、推定\n",
    "model = LogisticRegression()\n",
    "model.fit(X_train, y_train)\n",
    "y_pred_sk = model.predict(X_test)\n",
    "y_proba_sk = model.predict_proba(X_test)\n",
    "\n",
    "print('y_pred:\\n',y_pred_sk,'\\n')\n",
    "print('y_proba:\\n',y_proba_sk[:10],'\\n')\n",
    "\n",
    "print(\"accuracy:\", accuracy_score(y_pred_sk, y_test))\n",
    "print(\"recall:\", recall_score(y_pred_sk, y_test))\n",
    "print(\"precision:\", precision_score(y_pred_sk, y_test))\n",
    "print(\"F1:\", f1_score(y_pred_sk, y_test))\n",
    "print(\"matrix:\\n\", confusion_matrix(y_pred_sk, y_test))\n"
   ]
  },
  {
   "cell_type": "markdown",
   "metadata": {},
   "source": [
    "## 【問題7】学習曲線のプロット\n",
    "学習曲線を見て損失が適切に下がっているかどうか確認してください。"
   ]
  },
  {
   "cell_type": "code",
   "execution_count": 37,
   "metadata": {},
   "outputs": [
    {
     "data": {
      "text/plain": [
       "<function matplotlib.pyplot.show(*args, **kw)>"
      ]
     },
     "execution_count": 37,
     "metadata": {},
     "output_type": "execute_result"
    },
    {
     "data": {
      "image/png": "[encoded data removed]",
      "text/plain": [
       "<matplotlib.figure.Figure at 0x1a179777f0>"
      ]
     },
     "metadata": {},
     "output_type": "display_data"
    }
   ],
   "source": [
    "plt.scatter(np.array(range(slr.iter)), slr.loss, label=\"loss\")\n",
    "plt.scatter(np.array(range(slr.iter)), slr.val_loss, label=\"val_loss\")\n",
    "\n",
    "plt.title(\"bias\")\n",
    "plt.xlabel(\"iter\")\n",
    "plt.ylabel(\"loss\")\n",
    "plt.legend()\n",
    "\n",
    "plt.show"
   ]
  },
  {
   "cell_type": "markdown",
   "metadata": {},
   "source": [
    "## 【問題8】決定領域の可視化\n",
    "決定領域を可視化してください。"
   ]
  },
  {
   "cell_type": "code",
   "execution_count": 47,
   "metadata": {},
   "outputs": [],
   "source": [
    "# データの準備\n",
    "# versicolor と virginicaのみを抜き出す\n",
    "iris_versicolor1 = df[df.Species == 1]\n",
    "iris_virginica2 = df[df.Species == 2]\n",
    "\n",
    "# sepal length と petal length のみを抜き出す\n",
    "X_train_plot = X_train[:, [0, 2]]\n",
    "X_test_plot = X_test[:,[0, 2]]"
   ]
  },
  {
   "cell_type": "code",
   "execution_count": 48,
   "metadata": {},
   "outputs": [],
   "source": [
    "# 学習\n",
    "slr_plot = ScratchLogisticRegression(num_iter=3000, lr=0.01, bias=False, verbose=False)\n",
    "slr_plot.fit(X_train_plot, y_train)"
   ]
  },
  {
   "cell_type": "code",
   "execution_count": 49,
   "metadata": {},
   "outputs": [],
   "source": [
    "# 回帰直線の式\n",
    "xrange = np.arange(4,9,0.1)\n",
    "by = -(slr_plot.theta[0]+slr_plot.theta[1]*xrange)/slr_plot.theta[2]"
   ]
  },
  {
   "cell_type": "code",
   "execution_count": 50,
   "metadata": {
    "scrolled": true
   },
   "outputs": [
    {
     "data": {
      "image/png": "[encoded data removed]",
      "text/plain": [
       "<matplotlib.figure.Figure at 0x1a2108f128>"
      ]
     },
     "metadata": {},
     "output_type": "display_data"
    }
   ],
   "source": [
    "plt.scatter(iris_versicolor1[\"sepal length (cm)\"], iris_versicolor1[\"petal length (cm)\"], c=\"red\", label=\"virgicolor\")\n",
    "plt.scatter(iris_virginica2[\"sepal length (cm)\"], iris_virginica2[\"petal length (cm)\"], c=\"blue\", label=\"verginica\")\n",
    "plt.plot(xrange, by)\n",
    "plt.xlabel(\"petal length (cm)\")\n",
    "plt.ylabel(\"petal width (cm)\")\n",
    "plt.title(\"iris character\")\n",
    "plt.legend()\n",
    "plt.show()"
   ]
  },
  {
   "cell_type": "markdown",
   "metadata": {},
   "source": [
    "### 決定領域上手く出てない？？"
   ]
  },
  {
   "cell_type": "code",
   "execution_count": null,
   "metadata": {},
   "outputs": [],
   "source": []
  }
 ],
 "metadata": {
  "kernelspec": {
   "display_name": "Python 3",
   "language": "python",
   "name": "python3"
  },
  "language_info": {
   "codemirror_mode": {
    "name": "ipython",
    "version": 3
   },
   "file_extension": ".py",
   "mimetype": "text/x-python",
   "name": "python",
   "nbconvert_exporter": "python",
   "pygments_lexer": "ipython3",
   "version": "3.6.4"
  },
  "varInspector": {
   "cols": {
    "lenName": 16,
    "lenType": 16,
    "lenVar": 40
   },
   "kernels_config": {
    "python": {
     "delete_cmd_postfix": "",
     "delete_cmd_prefix": "del ",
     "library": "var_list.py",
     "varRefreshCmd": "print(var_dic_list())"
    },
    "r": {
     "delete_cmd_postfix": ") ",
     "delete_cmd_prefix": "rm(",
     "library": "var_list.r",
     "varRefreshCmd": "cat(var_dic_list()) "
    }
   },
   "types_to_exclude": [
    "module",
    "function",
    "builtin_function_or_method",
    "instance",
    "_Feature"
   ],
   "window_display": false
  }
 },
 "nbformat": 4,
 "nbformat_minor": 2
}
