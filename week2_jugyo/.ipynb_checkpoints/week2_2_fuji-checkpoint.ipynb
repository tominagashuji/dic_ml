{
 "cells": [
  {
   "cell_type": "markdown",
   "metadata": {},
   "source": [
    "# Week2授業課題２　富士下山問題"
   ]
  },
  {
   "cell_type": "markdown",
   "metadata": {},
   "source": [
    "### 【問題1】データの可視化"
   ]
  },
  {
   "cell_type": "code",
   "execution_count": 5,
   "metadata": {},
   "outputs": [
    {
     "data": {
      "image/png": "[encoded data removed]",
      "text/plain": [
       "<matplotlib.figure.Figure at 0x1120d3198>"
      ]
     },
     "metadata": {},
     "output_type": "display_data"
    }
   ],
   "source": [
    "import numpy as np\n",
    "import matplotlib.pyplot as plt\n",
    "%matplotlib inline\n",
    "\n",
    "csv_path = \"mtfuji_data.csv\" # ファイル名（パス）を指定する\n",
    "\n",
    "np.set_printoptions(suppress=True) # 指数表示の禁止を設定する\n",
    "fuji = np.loadtxt(csv_path, delimiter=\",\", skiprows=1)\n",
    "plt.title(\"Mt.fuji\")\n",
    "plt.xlabel(\"position\") # その地点の番号\n",
    "plt.ylabel(\"elevation[m]\") # 標高\n",
    "plt.plot(fuji[:,0,], fuji[:,3])\n",
    "plt.show()"
   ]
  },
  {
   "cell_type": "markdown",
   "metadata": {},
   "source": [
    "### 【問題2】ある地点の勾配を計算する関数を作成"
   ]
  },
  {
   "cell_type": "code",
   "execution_count": 6,
   "metadata": {},
   "outputs": [
    {
     "data": {
      "text/plain": [
       "18.90000000000009"
      ]
     },
     "execution_count": 6,
     "metadata": {},
     "output_type": "execute_result"
    }
   ],
   "source": [
    "def compute_slope(i):\n",
    "    # 標高の変化量\n",
    "    position_amount = fuji[i, 0] - fuji[i-1, 0]\n",
    "    elevation_amount = fuji[i, 3] - fuji[i-1, 3]\n",
    "\n",
    "    slope = elevation_amount/position_amount\n",
    "\n",
    "    return slope\n",
    "\n",
    "i = 100\n",
    "compute_slope(i)\n"
   ]
  },
  {
   "cell_type": "markdown",
   "metadata": {},
   "source": [
    "### 【問題3】移動先の地点を計算する関数を作成"
   ]
  },
  {
   "cell_type": "code",
   "execution_count": 21,
   "metadata": {},
   "outputs": [
    {
     "name": "stdout",
     "output_type": "stream",
     "text": [
      "96\n"
     ]
    }
   ],
   "source": [
    "# 今いる地点 position,異動先の地点　next_position, a=0.2\n",
    "\n",
    "def move_point(position):\n",
    "    a = 0.2\n",
    "    next_position = position - (a*compute_slope(position))\n",
    "    if next_position < 0:\n",
    "        print(\"次は０地点に行ってください\")\n",
    "    return int(next_position.round(decimals=0)) # 整数値じゃないとcompute_slope関数で配列の場所が指定できない\n",
    "position = 100\n",
    "print(move_point(position))"
   ]
  },
  {
   "cell_type": "markdown",
   "metadata": {},
   "source": [
    "### 【問題4】山を下る関数を作成"
   ]
  },
  {
   "cell_type": "code",
   "execution_count": 33,
   "metadata": {},
   "outputs": [
    {
     "name": "stdout",
     "output_type": "stream",
     "text": [
      "[136, 102, 98, 95, 93, 89, 85, 82, 79, 73, 70, 78, 77, 75]\n"
     ]
    }
   ],
   "source": [
    "def down_mt_fuji(position):\n",
    "    # 初期化（最初の位置をリストへ登録しておく）\n",
    "    position_list = np.empty\n",
    "    position_list.append(position)\n",
    "\n",
    "    # 下山地点が更新されなくなるまで繰り返す\n",
    "    while True:\n",
    "        position = move_point(position) # 次の地点を関数を使って算出して更新\n",
    "        if position == position_list[-1]: # 更新地点と今の地点とが同じか判定\n",
    "            break # 今の地点と同じだったら、それ以上更新しないので、そこが下山最終地点\n",
    "        else:\n",
    "            position_list.append(position) # リストを更新して再度ループ\n",
    "\n",
    "    return position_list\n",
    "    \n",
    "position = 136 # 最初は 136 ポジションから\n",
    "position_list = down_mt_fuji(position) # 戻り値は下山地点リストが欲しい\n",
    "print(position_list)"
   ]
  },
  {
   "cell_type": "markdown",
   "metadata": {},
   "source": [
    "### 【問題5】下山過程の可視化"
   ]
  },
  {
   "cell_type": "code",
   "execution_count": 61,
   "metadata": {},
   "outputs": [
    {
     "ename": "AttributeError",
     "evalue": "'numpy.ndarray' object has no attribute 'append'",
     "output_type": "error",
     "traceback": [
      "\u001b[0;31m-----------------------------------------------------------------\u001b[0m",
      "\u001b[0;31mAttributeError\u001b[0m                  Traceback (most recent call last)",
      "\u001b[0;32m<ipython-input-61-81db48d92eeb>\u001b[0m in \u001b[0;36m<module>\u001b[0;34m()\u001b[0m\n\u001b[1;32m      2\u001b[0m     \u001b[0melevation_list\u001b[0m \u001b[0;34m=\u001b[0m \u001b[0mnp\u001b[0m\u001b[0;34m.\u001b[0m\u001b[0mempty\u001b[0m\u001b[0;34m(\u001b[0m\u001b[0;34m(\u001b[0m\u001b[0;36m14\u001b[0m\u001b[0;34m,\u001b[0m\u001b[0;36m1\u001b[0m\u001b[0;34m)\u001b[0m\u001b[0;34m)\u001b[0m\u001b[0;34m\u001b[0m\u001b[0m\n\u001b[1;32m      3\u001b[0m \u001b[0;31m#     print(fuji[position_list[i],3])\u001b[0m\u001b[0;34m\u001b[0m\u001b[0;34m\u001b[0m\u001b[0m\n\u001b[0;32m----> 4\u001b[0;31m     \u001b[0melevation_list\u001b[0m\u001b[0;34m.\u001b[0m\u001b[0mappend\u001b[0m\u001b[0;34m(\u001b[0m\u001b[0mfuji\u001b[0m\u001b[0;34m[\u001b[0m\u001b[0mposition_list\u001b[0m\u001b[0;34m[\u001b[0m\u001b[0mi\u001b[0m\u001b[0;34m]\u001b[0m\u001b[0;34m,\u001b[0m\u001b[0;36m3\u001b[0m\u001b[0;34m]\u001b[0m\u001b[0;34m)\u001b[0m\u001b[0;34m\u001b[0m\u001b[0m\n\u001b[0m\u001b[1;32m      5\u001b[0m     \u001b[0mprint\u001b[0m\u001b[0;34m(\u001b[0m\u001b[0mi\u001b[0m\u001b[0;34m)\u001b[0m\u001b[0;34m\u001b[0m\u001b[0m\n\u001b[1;32m      6\u001b[0m     \u001b[0mprint\u001b[0m\u001b[0;34m(\u001b[0m\u001b[0mfuji\u001b[0m\u001b[0;34m[\u001b[0m\u001b[0mposition_list\u001b[0m\u001b[0;34m[\u001b[0m\u001b[0mi\u001b[0m\u001b[0;34m]\u001b[0m\u001b[0;34m,\u001b[0m\u001b[0;36m3\u001b[0m\u001b[0;34m]\u001b[0m\u001b[0;34m)\u001b[0m\u001b[0;34m\u001b[0m\u001b[0m\n",
      "\u001b[0;31mAttributeError\u001b[0m: 'numpy.ndarray' object has no attribute 'append'"
     ]
    }
   ],
   "source": [
    "for i in range(len(position_list)):\n",
    "    elevation_list = np.empty((14,1))\n",
    "#     print(fuji[position_list[i],3])\n",
    "    elevation_list.append(fuji[position_list[i],3])\n",
    "    print(i)\n",
    "    print(fuji[position_list[i],3])\n",
    "    print(elevation_list)\n",
    "\n",
    "print(elevation_list)\n",
    "elevation_list = np.array(elevation_list)\n",
    "print(elevation_list)\n",
    "\n",
    "# elevation_list.reshape(14,1)\n",
    "\n",
    "plt.title(\"Mt.fuji\")\n",
    "plt.xlabel(\"position\") # その地点の番号\n",
    "plt.ylabel(\"elevation[m]\") # 標高\n",
    "plt.plot(fuji[:,0,], fuji[:,3])\n",
    "plt.plot(position_list,elevation_list )\n",
    "plt.show()"
   ]
  },
  {
   "cell_type": "markdown",
   "metadata": {},
   "source": [
    "### 【問題6】初期値の変更"
   ]
  },
  {
   "cell_type": "code",
   "execution_count": null,
   "metadata": {},
   "outputs": [],
   "source": []
  },
  {
   "cell_type": "markdown",
   "metadata": {},
   "source": [
    "### 【問題7】（アドバンス問題）ハイパーパラメータの変更"
   ]
  },
  {
   "cell_type": "code",
   "execution_count": null,
   "metadata": {},
   "outputs": [],
   "source": []
  }
 ],
 "metadata": {
  "kernelspec": {
   "display_name": "Python 3",
   "language": "python",
   "name": "python3"
  },
  "language_info": {
   "codemirror_mode": {
    "name": "ipython",
    "version": 3
   },
   "file_extension": ".py",
   "mimetype": "text/x-python",
   "name": "python",
   "nbconvert_exporter": "python",
   "pygments_lexer": "ipython3",
   "version": "3.6.4"
  }
 },
 "nbformat": 4,
 "nbformat_minor": 2
}
