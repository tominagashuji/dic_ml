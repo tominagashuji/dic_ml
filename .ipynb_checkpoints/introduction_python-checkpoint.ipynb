{
 "cells": [
  {
   "cell_type": "code",
   "execution_count": null,
   "metadata": {},
   "outputs": [],
   "source": [
    "# 1 四則演算"
   ]
  },
  {
   "cell_type": "code",
   "execution_count": 10,
   "metadata": {},
   "outputs": [
    {
     "name": "stdout",
     "output_type": "stream",
     "text": [
      "3\n",
      "750\n"
     ]
    }
   ],
   "source": [
    "## 足し算\n",
    "print(1 + 2)\n",
    "print(250 + 100 + 400)"
   ]
  },
  {
   "cell_type": "code",
   "execution_count": 11,
   "metadata": {},
   "outputs": [
    {
     "name": "stdout",
     "output_type": "stream",
     "text": [
      "12\n",
      "-30\n",
      "-70\n"
     ]
    }
   ],
   "source": [
    "## 引き算\n",
    "print(15 - 3)\n",
    "print(54 + 21 - 105)\n",
    "print(-30 - 40)"
   ]
  },
  {
   "cell_type": "code",
   "execution_count": 7,
   "metadata": {},
   "outputs": [
    {
     "name": "stdout",
     "output_type": "stream",
     "text": [
      "63\n"
     ]
    }
   ],
   "source": [
    "## 掛け算\n",
    "print(7*9)"
   ]
  },
  {
   "cell_type": "code",
   "execution_count": 12,
   "metadata": {},
   "outputs": [
    {
     "name": "stdout",
     "output_type": "stream",
     "text": [
      "12.5\n",
      "25.0\n",
      "16.666666666666668\n",
      "16\n"
     ]
    }
   ],
   "source": [
    "## 割り算\n",
    "print(50/4)\n",
    "print(50/2)\n",
    "print(50/3)\n",
    "print(50//3)"
   ]
  },
  {
   "cell_type": "code",
   "execution_count": 19,
   "metadata": {},
   "outputs": [
    {
     "name": "stdout",
     "output_type": "stream",
     "text": [
      "2\n",
      "-1\n"
     ]
    },
    {
     "ename": "ZeroDivisionError",
     "evalue": "division by zero",
     "output_type": "error",
     "traceback": [
      "\u001b[0;31m---------------------------------------------------------------------------\u001b[0m",
      "\u001b[0;31mZeroDivisionError\u001b[0m                         Traceback (most recent call last)",
      "\u001b[0;32m<ipython-input-19-fd76f99ac0c4>\u001b[0m in \u001b[0;36m<module>\u001b[0;34m()\u001b[0m\n\u001b[1;32m      2\u001b[0m \u001b[0mprint\u001b[0m\u001b[0;34m(\u001b[0m\u001b[0;36m50\u001b[0m\u001b[0;34m%\u001b[0m\u001b[0;36m3\u001b[0m\u001b[0;34m)\u001b[0m\u001b[0;34m\u001b[0m\u001b[0m\n\u001b[1;32m      3\u001b[0m \u001b[0mprint\u001b[0m\u001b[0;34m(\u001b[0m\u001b[0;34m-\u001b[0m\u001b[0;36m1\u001b[0m\u001b[0;34m//\u001b[0m\u001b[0;36m2\u001b[0m\u001b[0;34m)\u001b[0m\u001b[0;34m\u001b[0m\u001b[0m\n\u001b[0;32m----> 4\u001b[0;31m \u001b[0mprint\u001b[0m\u001b[0;34m(\u001b[0m\u001b[0;36m2\u001b[0m\u001b[0;34m/\u001b[0m\u001b[0;36m0\u001b[0m\u001b[0;34m)\u001b[0m \u001b[0;31m##エラー起きるよ！\u001b[0m\u001b[0;34m\u001b[0m\u001b[0m\n\u001b[0m",
      "\u001b[0;31mZeroDivisionError\u001b[0m: division by zero"
     ]
    }
   ],
   "source": [
    "## 余り\n",
    "print(50%3)\n",
    "print(-1//2)\n",
    "print(2/0) ##エラー起きるよ！"
   ]
  },
  {
   "cell_type": "code",
   "execution_count": 18,
   "metadata": {},
   "outputs": [
    {
     "name": "stdout",
     "output_type": "stream",
     "text": [
      "8\n",
      "1.4142135623730951\n"
     ]
    }
   ],
   "source": [
    "## ベキ乗\n",
    "print(2**3)\n",
    "print(2**0.5)"
   ]
  },
  {
   "cell_type": "code",
   "execution_count": 21,
   "metadata": {},
   "outputs": [
    {
     "name": "stdout",
     "output_type": "stream",
     "text": [
      "<class 'int'>\n",
      "<class 'int'>\n",
      "<class 'int'>\n",
      "<class 'int'>\n",
      "<class 'int'>\n",
      "<class 'float'>\n",
      "<class 'float'>\n",
      "2.0\n",
      "2.0\n",
      "0.5\n",
      "0.5\n"
     ]
    }
   ],
   "source": [
    "## データ型\n",
    "print(type(7))\n",
    "print(type(9))\n",
    "print(type(7*9))\n",
    "\n",
    "print(type(50))\n",
    "print(type(4))\n",
    "print(type(50/4))\n",
    "\n",
    "print(type(50/2))\n",
    "\n",
    "print(2.0)\n",
    "print(2.)\n",
    "print(0.5)\n",
    "print(.5)"
   ]
  },
  {
   "cell_type": "code",
   "execution_count": 24,
   "metadata": {},
   "outputs": [
    {
     "name": "stdout",
     "output_type": "stream",
     "text": [
      "2.0\n",
      "<class 'float'>\n",
      "3\n"
     ]
    }
   ],
   "source": [
    "## 型の変換\n",
    "print(float(2))\n",
    "print(type(float(2)))\n",
    "\n",
    "print(int(3.7))"
   ]
  },
  {
   "cell_type": "code",
   "execution_count": 25,
   "metadata": {},
   "outputs": [
    {
     "name": "stdout",
     "output_type": "stream",
     "text": [
      "2.0\n",
      "<class 'float'>\n"
     ]
    }
   ],
   "source": [
    "## float に float を重ねてもエラーにならない\n",
    "print(float(2.0))\n",
    "print(type(float(2.0)))"
   ]
  },
  {
   "cell_type": "code",
   "execution_count": 27,
   "metadata": {},
   "outputs": [
    {
     "name": "stdout",
     "output_type": "stream",
     "text": [
      "18.0\n",
      "18.0\n"
     ]
    }
   ],
   "source": [
    "## 計算には優先順位があるよ！\n",
    "print(3 + 5*4 - 10/2)\n",
    "print(3+5*4-10/2)"
   ]
  },
  {
   "cell_type": "code",
   "execution_count": 28,
   "metadata": {},
   "outputs": [
    {
     "name": "stdout",
     "output_type": "stream",
     "text": [
      "27.0\n"
     ]
    }
   ],
   "source": [
    "## カッコの使い方　カッコの中はスペース不要の方が見やすい\n",
    "print((3+5) * 4 - 10/2)\n"
   ]
  },
  {
   "cell_type": "code",
   "execution_count": 29,
   "metadata": {},
   "outputs": [],
   "source": [
    "#### python に初めから定義されている関数を「組み込み関数」という\n",
    "#### print(abs(-3)) "
   ]
  },
  {
   "cell_type": "code",
   "execution_count": 2,
   "metadata": {},
   "outputs": [
    {
     "name": "stdout",
     "output_type": "stream",
     "text": [
      "750\n",
      "1500\n",
      "375.0\n",
      "100\n",
      "200\n"
     ]
    }
   ],
   "source": [
    "# 2数値型の変数\n",
    "## 変数を使う\n",
    "x = 250 + 100 + 400\n",
    "print(x)\n",
    "print(x*2)\n",
    "y = x/2\n",
    "print(y)\n",
    "s, t = 100, 200\n",
    "print(s)\n",
    "print(t)\n"
   ]
  },
  {
   "cell_type": "code",
   "execution_count": 3,
   "metadata": {},
   "outputs": [
    {
     "name": "stdout",
     "output_type": "stream",
     "text": [
      "<class 'int'>\n",
      "<class 'float'>\n"
     ]
    },
    {
     "ename": "NameError",
     "evalue": "name 'z' is not defined",
     "output_type": "error",
     "traceback": [
      "\u001b[0;31m---------------------------------------------------------------------------\u001b[0m",
      "\u001b[0;31mNameError\u001b[0m                                 Traceback (most recent call last)",
      "\u001b[0;32m<ipython-input-3-348a5610465b>\u001b[0m in \u001b[0;36m<module>\u001b[0;34m()\u001b[0m\n\u001b[1;32m      2\u001b[0m \u001b[0mprint\u001b[0m\u001b[0;34m(\u001b[0m\u001b[0mtype\u001b[0m\u001b[0;34m(\u001b[0m\u001b[0mx\u001b[0m\u001b[0;34m)\u001b[0m\u001b[0;34m)\u001b[0m\u001b[0;34m\u001b[0m\u001b[0m\n\u001b[1;32m      3\u001b[0m \u001b[0mprint\u001b[0m\u001b[0;34m(\u001b[0m\u001b[0mtype\u001b[0m\u001b[0;34m(\u001b[0m\u001b[0my\u001b[0m\u001b[0;34m)\u001b[0m\u001b[0;34m)\u001b[0m\u001b[0;34m\u001b[0m\u001b[0m\n\u001b[0;32m----> 4\u001b[0;31m \u001b[0mprint\u001b[0m\u001b[0;34m(\u001b[0m\u001b[0mz\u001b[0m\u001b[0;34m)\u001b[0m\u001b[0;34m\u001b[0m\u001b[0m\n\u001b[0m\u001b[1;32m      5\u001b[0m \u001b[0mz\u001b[0m \u001b[0;34m=\u001b[0m \u001b[0;36m100\u001b[0m \u001b[0;34m-\u001b[0m \u001b[0;36m50\u001b[0m\u001b[0;34m\u001b[0m\u001b[0m\n",
      "\u001b[0;31mNameError\u001b[0m: name 'z' is not defined"
     ]
    }
   ],
   "source": [
    "## データを入れれば勝手にデータ型が決まるが、データを入れて無いと決まらない\n",
    "print(type(x))\n",
    "print(type(y))\n",
    "print(z)\n",
    "z = 100 - 50"
   ]
  },
  {
   "cell_type": "code",
   "execution_count": 34,
   "metadata": {},
   "outputs": [
    {
     "ename": "SyntaxError",
     "evalue": "invalid syntax (<ipython-input-34-98fdf35bec8e>, line 5)",
     "output_type": "error",
     "traceback": [
      "\u001b[0;36m  File \u001b[0;32m\"<ipython-input-34-98fdf35bec8e>\"\u001b[0;36m, line \u001b[0;32m5\u001b[0m\n\u001b[0;31m    if = 300\u001b[0m\n\u001b[0m       ^\u001b[0m\n\u001b[0;31mSyntaxError\u001b[0m\u001b[0;31m:\u001b[0m invalid syntax\n"
     ]
    }
   ],
   "source": [
    "## 分かりやすい変数名にする\n",
    "today_temperature = 25\n",
    "student_age = 19\n",
    "## やってはいけない命名 ●●●　実行したらカーネルからrestart を実施して再起動しよう\n",
    "if = 300 "
   ]
  },
  {
   "cell_type": "code",
   "execution_count": 35,
   "metadata": {},
   "outputs": [
    {
     "ename": "TypeError",
     "evalue": "'int' object is not callable",
     "output_type": "error",
     "traceback": [
      "\u001b[0;31m---------------------------------------------------------------------------\u001b[0m",
      "\u001b[0;31mTypeError\u001b[0m                                 Traceback (most recent call last)",
      "\u001b[0;32m<ipython-input-35-9cb0aa7c03eb>\u001b[0m in \u001b[0;36m<module>\u001b[0;34m()\u001b[0m\n\u001b[1;32m      1\u001b[0m \u001b[0;31m## やってはいけない命名 ●●●　実行したらカーネルからrestart を実施して再起動しよう\u001b[0m\u001b[0;34m\u001b[0m\u001b[0;34m\u001b[0m\u001b[0m\n\u001b[1;32m      2\u001b[0m \u001b[0mprint\u001b[0m \u001b[0;34m=\u001b[0m \u001b[0;36m100\u001b[0m\u001b[0;34m\u001b[0m\u001b[0m\n\u001b[0;32m----> 3\u001b[0;31m \u001b[0mprint\u001b[0m\u001b[0;34m(\u001b[0m\u001b[0;34m\"Hello, World!\"\u001b[0m\u001b[0;34m)\u001b[0m\u001b[0;34m\u001b[0m\u001b[0m\n\u001b[0m",
      "\u001b[0;31mTypeError\u001b[0m: 'int' object is not callable"
     ]
    }
   ],
   "source": [
    "## やってはいけない命名 ●●●　実行したらカーネルからrestart を実施して再起動しよう\n",
    "print = 100\n",
    "print(\"Hello, World!\")"
   ]
  },
  {
   "cell_type": "code",
   "execution_count": 36,
   "metadata": {},
   "outputs": [],
   "source": [
    "## 定数は大文字で変数定義しよう\n",
    "STANDARD_ATMOSPHERE = 1013245"
   ]
  },
  {
   "cell_type": "code",
   "execution_count": 4,
   "metadata": {},
   "outputs": [
    {
     "name": "stdout",
     "output_type": "stream",
     "text": [
      "6\n",
      "6\n"
     ]
    }
   ],
   "source": [
    "## 累積代入文\n",
    "x = 1\n",
    "x = x + 5\n",
    "print(x)\n",
    "\n",
    "x = 1 \n",
    "x += 5\n",
    "print(x)"
   ]
  },
  {
   "cell_type": "code",
   "execution_count": 11,
   "metadata": {},
   "outputs": [
    {
     "name": "stdout",
     "output_type": "stream",
     "text": [
      "text\n",
      "learn pytghonb\n",
      "こんにちは\n",
      "<class 'str'>\n"
     ]
    },
    {
     "ename": "NameError",
     "evalue": "name 'text' is not defined",
     "output_type": "error",
     "traceback": [
      "\u001b[0;31m---------------------------------------------------------------------------\u001b[0m",
      "\u001b[0;31mNameError\u001b[0m                                 Traceback (most recent call last)",
      "\u001b[0;32m<ipython-input-11-b9e1c16186e7>\u001b[0m in \u001b[0;36m<module>\u001b[0;34m()\u001b[0m\n\u001b[1;32m      4\u001b[0m \u001b[0mprint\u001b[0m\u001b[0;34m(\u001b[0m\u001b[0;34m\"こんにちは\"\u001b[0m\u001b[0;34m)\u001b[0m\u001b[0;34m\u001b[0m\u001b[0m\n\u001b[1;32m      5\u001b[0m \u001b[0mprint\u001b[0m\u001b[0;34m(\u001b[0m\u001b[0mtype\u001b[0m\u001b[0;34m(\u001b[0m\u001b[0;34m(\u001b[0m\u001b[0;34m\"text\"\u001b[0m\u001b[0;34m)\u001b[0m\u001b[0;34m)\u001b[0m\u001b[0;34m)\u001b[0m\u001b[0;34m\u001b[0m\u001b[0m\n\u001b[0;32m----> 6\u001b[0;31m \u001b[0mprint\u001b[0m\u001b[0;34m(\u001b[0m\u001b[0mtext\u001b[0m\u001b[0;34m)\u001b[0m\u001b[0;34m\u001b[0m\u001b[0m\n\u001b[0m",
      "\u001b[0;31mNameError\u001b[0m: name 'text' is not defined"
     ]
    }
   ],
   "source": [
    "# テキストデータ３\n",
    "print(\"text\")\n",
    "print(\"learn pytghonb\")\n",
    "print(\"こんにちは\")\n",
    "print(type((\"text\")))\n",
    "print(text) #未定義の変数扱いをされてエラー"
   ]
  },
  {
   "cell_type": "code",
   "execution_count": 12,
   "metadata": {},
   "outputs": [
    {
     "ename": "SyntaxError",
     "evalue": "invalid syntax (<ipython-input-12-3f57a148ce00>, line 1)",
     "output_type": "error",
     "traceback": [
      "\u001b[0;36m  File \u001b[0;32m\"<ipython-input-12-3f57a148ce00>\"\u001b[0;36m, line \u001b[0;32m1\u001b[0m\n\u001b[0;31m    print(learn python)\u001b[0m\n\u001b[0m                     ^\u001b[0m\n\u001b[0;31mSyntaxError\u001b[0m\u001b[0;31m:\u001b[0m invalid syntax\n"
     ]
    }
   ],
   "source": [
    "print(learn python) # 変数としてもスペースがあるとおかしい"
   ]
  },
  {
   "cell_type": "code",
   "execution_count": 17,
   "metadata": {},
   "outputs": [
    {
     "name": "stdout",
     "output_type": "stream",
     "text": [
      "私の名前はAliceです。\n",
      "私の名前は19です。\n"
     ]
    },
    {
     "ename": "TypeError",
     "evalue": "must be str, not int",
     "output_type": "error",
     "traceback": [
      "\u001b[0;31m---------------------------------------------------------------------------\u001b[0m",
      "\u001b[0;31mTypeError\u001b[0m                                 Traceback (most recent call last)",
      "\u001b[0;32m<ipython-input-17-96ea2388e27a>\u001b[0m in \u001b[0;36m<module>\u001b[0;34m()\u001b[0m\n\u001b[1;32m      7\u001b[0m \u001b[0;34m\u001b[0m\u001b[0m\n\u001b[1;32m      8\u001b[0m \u001b[0mstudent_age\u001b[0m \u001b[0;34m=\u001b[0m \u001b[0;36m19\u001b[0m\u001b[0;34m\u001b[0m\u001b[0m\n\u001b[0;32m----> 9\u001b[0;31m \u001b[0mprint\u001b[0m\u001b[0;34m(\u001b[0m\u001b[0;34m\"私の名前は\"\u001b[0m \u001b[0;34m+\u001b[0m \u001b[0mstudent_age\u001b[0m \u001b[0;34m+\u001b[0m \u001b[0;34m\"です。\"\u001b[0m\u001b[0;34m)\u001b[0m\u001b[0;34m\u001b[0m\u001b[0m\n\u001b[0m",
      "\u001b[0;31mTypeError\u001b[0m: must be str, not int"
     ]
    }
   ],
   "source": [
    "## 文字列の演算\n",
    "student_name = \"Alice\"\n",
    "print(\"私の名前は\" + student_name + \"です。\")\n",
    "\n",
    "student_age = 19\n",
    "print(\"私の名前は\" + str(student_age) +  \"です。\")\n",
    "\n",
    "student_age = 19\n",
    "print(\"私の名前は\" + student_age + \"です。\")"
   ]
  },
  {
   "cell_type": "code",
   "execution_count": 26,
   "metadata": {},
   "outputs": [
    {
     "name": "stdout",
     "output_type": "stream",
     "text": [
      "私の名前はAliceです。\n",
      "私の名前はAliceで、19歳です。\n",
      "私は19で、名前はAliceです。\n",
      "今日の天気は晴れです。\n",
      "今日の最低気温は+3、明日の最低気温は-5です\n",
      "今日の最低気温は3.5、明日の最低気温は-5.3です。\n"
     ]
    }
   ],
   "source": [
    "## format メソッドで文字列に埋め込む\n",
    "student_name = \"Alice\"\n",
    "print(\"私の名前は{}です。\".format(student_name))\n",
    "\n",
    "student_name = \"Alice\"\n",
    "student_age = 19\n",
    "print(\"私の名前は{}で、{}歳です。\".format(student_name,student_age))\n",
    "\n",
    "### 配列みたいにすることも可能\n",
    "print(\"私は{1}で、名前は{0}です。\".format(student_name,student_age))\n",
    "\n",
    "weather_text = \"今日の天気は{}です。\"\n",
    "weather_text = weather_text.format(\"晴れ\")\n",
    "print(weather_text)\n",
    "\n",
    "today_temperature = 3\n",
    "tomorrow_temperature = -5\n",
    "print(\"今日の最低気温は{:+}、明日の最低気温は{:+}です\".format(today_temperature, tomorrow_temperature))\n",
    "\n",
    "today_temperature = 3.53\n",
    "tomorrow_temperature = -5.27\n",
    "print(\"今日の最低気温は{:.1f}、明日の最低気温は{:.1f}です。\".format(today_temperature, tomorrow_temperature))"
   ]
  },
  {
   "cell_type": "code",
   "execution_count": 27,
   "metadata": {},
   "outputs": [
    {
     "name": "stdout",
     "output_type": "stream",
     "text": [
      "Python\n"
     ]
    }
   ],
   "source": [
    "print(\"python\".capitalize())"
   ]
  },
  {
   "cell_type": "code",
   "execution_count": 31,
   "metadata": {},
   "outputs": [
    {
     "name": "stdout",
     "output_type": "stream",
     "text": [
      "学生の年齢 19\n",
      "学生の年齢:19\n",
      "学生の年齢 19\n",
      "学生の年齢19\n",
      "学生の年齢19\n",
      "1:2\n"
     ]
    }
   ],
   "source": [
    "## print関数の発展的利用方法\n",
    "student_age = 19\n",
    "print(\"学生の年齢\",student_age)\n",
    "\n",
    "print(\"学生の年齢\", student_age,sep=\":\")\n",
    "\n",
    "print(\"学生の年齢\", format(student_age))\n",
    "print(\"学生の年齢\",student_age,sep=\"\")\n",
    "print(\"学生の年齢\"+str(student_age))\n",
    "\n",
    "print(\"1\",end=\":\")\n",
    "print(\"2\")"
   ]
  },
  {
   "cell_type": "code",
   "execution_count": 15,
   "metadata": {},
   "outputs": [
    {
     "name": "stdout",
     "output_type": "stream",
     "text": [
      "各月の平均気温は、1月は6度、2月は7度です。\n",
      "[6, 7, 9, 15, 22, 27, 26, 23, 17, 12, 7]\n",
      "<class 'list'>\n",
      "各月の平均気温は、1月は6度、2月は7度です。\n",
      "各月の平均気温は、7月は27度、12月は7度です。\n",
      "<class 'int'>\n",
      "22\n",
      "24\n",
      "[15, 20, 24, 27, 26]\n",
      "[6, 9, 20, 27]\n",
      "[6, 24, 12]\n",
      "[7, 12, 17, 23, 26, 27, 24, 20, 15, 9, 7, 6]\n"
     ]
    }
   ],
   "source": [
    "# 4.リストとタプル\n",
    "january_average_temperature = 6\n",
    "february_average_temperature = 7\n",
    "print(\"各月の平均気温は、1月は{}度、2月は{}度です。\".format(january_average_temperature,february_average_temperature))\n",
    "\n",
    "##リスト化出来るよ\n",
    "monthly_average_temperatures = [6,7, 9, 15, 22, 27, 26, 23, 17, 12, 7]\n",
    "print(monthly_average_temperatures)\n",
    "print(type(monthly_average_temperatures))\n",
    "\n",
    "##要素取り出し\n",
    "monthly_average_temperatures = [6, 7, 9, 15, 20, 22, 27, 26, 23, 17, 12, 7]\n",
    "print(\"各月の平均気温は、1月は{}度、2月は{}度です。\".format(monthly_average_temperatures[0],monthly_average_temperatures[1]))\n",
    "\n",
    "print(\"各月の平均気温は、7月は{}度、12月は{}度です。\".format(monthly_average_temperatures[6],monthly_average_temperatures[11]))\n",
    "\n",
    "print(type(monthly_average_temperatures[0]))\n",
    "\n",
    "## 要素の書き換え\n",
    "print(monthly_average_temperatures[5])\n",
    "monthly_average_temperatures[5] = 24\n",
    "print(monthly_average_temperatures[5])\n",
    "\n",
    "## スライスによる複数要素取り出し\n",
    "print(monthly_average_temperatures[3:8])\n",
    "print(monthly_average_temperatures[0:7:2]) # 始まりのindex:終了一つ前のindex:ステップ数\n",
    "print(monthly_average_temperatures[::5])\n",
    "print(monthly_average_temperatures[::-1])"
   ]
  },
  {
   "cell_type": "code",
   "execution_count": 30,
   "metadata": {},
   "outputs": [
    {
     "name": "stdout",
     "output_type": "stream",
     "text": [
      "12\n",
      "[[0, 2, 4, 6, 8], [1, 3, 5, 7, 9]]\n",
      "[-5.5, 'Pytohon', 270, ['a', 'b', 'c']]\n",
      "[0, 1, 2, 3, 4]\n",
      "['alpha', 'beta']\n",
      "None\n",
      "<class 'NoneType'>\n",
      "None\n",
      "[0, 1, 2, 3, 4]\n",
      "python\n",
      "python\n",
      "Python\n",
      "[1, 2, 3, 4, 5, 6]\n"
     ]
    }
   ],
   "source": [
    "## 要素の長さ\n",
    "print(len(monthly_average_temperatures))\n",
    "\n",
    "## 数値以外の要素\n",
    "months = [\"January\", \"February\", \"March\", \"April\", \"May\", \"June\", \"July\", \"August\", \"September\", \"October\", \"November\", \"December\"]\n",
    "odd_and_event = [[0,2,4,6,8],[1,3,5,7,9]]\n",
    "mixed = [-5.5, \"Pytohon\",270,[\"a\",\"b\",\"c\"]]\n",
    "print(odd_and_event)\n",
    "print(mixed)\n",
    "\n",
    "## リストが持つメソッド\n",
    "numbers = [0,1,2,3]\n",
    "numbers.append(4)\n",
    "print(numbers)\n",
    "\n",
    "texts = []\n",
    "texts.append(\"alpha\")\n",
    "texts.append(\"beta\")\n",
    "print(texts)\n",
    "\n",
    "## 代入してはいけない、間違い例\n",
    "numbers = [0, 1, 2, 3]\n",
    "numbers = numbers.append(4)\n",
    "print(numbers)\n",
    "print(type(numbers))\n",
    "\n",
    "numbers = [0,1,2,3]\n",
    "print(numbers.append(4)) ##typeはnoneだけど、次の行の命令では4 が追加されている\n",
    "print(numbers) \n",
    "\n",
    "text = \"python\"\n",
    "text.capitalize() ##メソッド当てただけだと、textは書き変わらない。\n",
    "print(text)\n",
    "capitalized_text = text.capitalize()\n",
    "print(text)\n",
    "print(capitalized_text)\n",
    "\n",
    "print([1,2,3] + [4,5,6])\n"
   ]
  },
  {
   "cell_type": "code",
   "execution_count": 34,
   "metadata": {},
   "outputs": [
    {
     "name": "stdout",
     "output_type": "stream",
     "text": [
      "('A081', 'A114', 'A186')\n",
      "<class 'tuple'>\n",
      "A081\n"
     ]
    },
    {
     "ename": "TypeError",
     "evalue": "'tuple' object does not support item assignment",
     "output_type": "error",
     "traceback": [
      "\u001b[0;31m---------------------------------------------------------------------------\u001b[0m",
      "\u001b[0;31mTypeError\u001b[0m                                 Traceback (most recent call last)",
      "\u001b[0;32m<ipython-input-34-e2535ec1d7d4>\u001b[0m in \u001b[0;36m<module>\u001b[0;34m()\u001b[0m\n\u001b[1;32m      6\u001b[0m \u001b[0mprint\u001b[0m\u001b[0;34m(\u001b[0m\u001b[0muser_ids\u001b[0m\u001b[0;34m[\u001b[0m\u001b[0;36m0\u001b[0m\u001b[0;34m]\u001b[0m\u001b[0;34m)\u001b[0m\u001b[0;34m\u001b[0m\u001b[0m\n\u001b[1;32m      7\u001b[0m \u001b[0;34m\u001b[0m\u001b[0m\n\u001b[0;32m----> 8\u001b[0;31m \u001b[0muser_ids\u001b[0m\u001b[0;34m[\u001b[0m\u001b[0;36m0\u001b[0m\u001b[0;34m]\u001b[0m \u001b[0;34m=\u001b[0m \u001b[0;34m\"A082\"\u001b[0m \u001b[0;31m## タプルは変更できない！！！！\u001b[0m\u001b[0;34m\u001b[0m\u001b[0m\n\u001b[0m",
      "\u001b[0;31mTypeError\u001b[0m: 'tuple' object does not support item assignment"
     ]
    }
   ],
   "source": [
    "## タプル\n",
    "user_ids = (\"A081\", \"A114\", \"A186\")\n",
    "print(user_ids)\n",
    "print(type(user_ids))\n",
    "\n",
    "print(user_ids[0])\n",
    "\n",
    "user_ids[0] = \"A082\" ## タプルは変更できない！！！！\n"
   ]
  },
  {
   "cell_type": "code",
   "execution_count": 36,
   "metadata": {},
   "outputs": [
    {
     "name": "stdout",
     "output_type": "stream",
     "text": [
      "('A081', 'A114', 'A186')\n",
      "<class 'tuple'>\n"
     ]
    }
   ],
   "source": [
    "## タプルはカッコが無くても定義可能\n",
    "user_ids = \"A081\", \"A114\", \"A186\"\n",
    "print(user_ids)\n",
    "print(type(user_ids))"
   ]
  },
  {
   "cell_type": "code",
   "execution_count": 44,
   "metadata": {},
   "outputs": [
    {
     "name": "stdout",
     "output_type": "stream",
     "text": [
      "100 200\n",
      "100 200\n",
      "A081 A114 A186\n",
      "()\n"
     ]
    }
   ],
   "source": [
    "## こんな事も出来るよ〜、ただ何しているかがいまいち分からん〜\n",
    "s, t = 100, 200\n",
    "print(s,t)\n",
    "(s, t) = (100, 200)\n",
    "print(s,t) ##同じ？？\n",
    "\n",
    "user_ids = (\"A081\", \"A114\", \"A186\")\n",
    "user_id1, user_id2, user_id3 = user_ids ## user_ids に入っている要素を左辺に順番に入れれる\n",
    "print(user_id1, user_id2, user_id3)\n",
    "\n",
    "## 空のタプルを作る時\n",
    "empty_tuple = ()\n",
    "print(empty_tuple)\n",
    "\n",
    "## 一つのタプルを作る時は、user_ids = (\"A081\")とは書かない\n",
    "user_ids = (\"A081\",)\n",
    "user_ids = \"A081\","
   ]
  },
  {
   "cell_type": "code",
   "execution_count": 45,
   "metadata": {},
   "outputs": [],
   "source": [
    "### list や tuple と言う変数名は定義しないように！！！！"
   ]
  },
  {
   "cell_type": "code",
   "execution_count": null,
   "metadata": {},
   "outputs": [],
   "source": [
    "# 5.条件分岐の書き方\n"
   ]
  }
 ],
 "metadata": {
  "kernelspec": {
   "display_name": "Python 3",
   "language": "python",
   "name": "python3"
  },
  "language_info": {
   "codemirror_mode": {
    "name": "ipython",
    "version": 3
   },
   "file_extension": ".py",
   "mimetype": "text/x-python",
   "name": "python",
   "nbconvert_exporter": "python",
   "pygments_lexer": "ipython3",
   "version": "3.6.4"
  }
 },
 "nbformat": 4,
 "nbformat_minor": 2
}
