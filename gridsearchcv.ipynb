{
 "cells": [
  {
   "cell_type": "code",
   "execution_count": 17,
   "metadata": {},
   "outputs": [
    {
     "name": "stdout",
     "output_type": "stream",
     "text": [
      "test_score : 1.0\n",
      "best_params : {'max_depth': 2, 'n_estimators': 10}\n"
     ]
    },
    {
     "name": "stderr",
     "output_type": "stream",
     "text": [
      "/Users/tominagashuuji/.pyenv/versions/anaconda3-5.1.0/lib/python3.6/site-packages/sklearn/utils/deprecation.py:122: FutureWarning: You are accessing a training score ('split0_train_score'), which will not be available by default any more in 0.21. If you need training scores, please set return_train_score=True\n",
      "  warnings.warn(*warn_args, **warn_kwargs)\n",
      "/Users/tominagashuuji/.pyenv/versions/anaconda3-5.1.0/lib/python3.6/site-packages/sklearn/utils/deprecation.py:122: FutureWarning: You are accessing a training score ('split1_train_score'), which will not be available by default any more in 0.21. If you need training scores, please set return_train_score=True\n",
      "  warnings.warn(*warn_args, **warn_kwargs)\n",
      "/Users/tominagashuuji/.pyenv/versions/anaconda3-5.1.0/lib/python3.6/site-packages/sklearn/utils/deprecation.py:122: FutureWarning: You are accessing a training score ('split2_train_score'), which will not be available by default any more in 0.21. If you need training scores, please set return_train_score=True\n",
      "  warnings.warn(*warn_args, **warn_kwargs)\n",
      "/Users/tominagashuuji/.pyenv/versions/anaconda3-5.1.0/lib/python3.6/site-packages/sklearn/utils/deprecation.py:122: FutureWarning: You are accessing a training score ('split3_train_score'), which will not be available by default any more in 0.21. If you need training scores, please set return_train_score=True\n",
      "  warnings.warn(*warn_args, **warn_kwargs)\n",
      "/Users/tominagashuuji/.pyenv/versions/anaconda3-5.1.0/lib/python3.6/site-packages/sklearn/utils/deprecation.py:122: FutureWarning: You are accessing a training score ('split4_train_score'), which will not be available by default any more in 0.21. If you need training scores, please set return_train_score=True\n",
      "  warnings.warn(*warn_args, **warn_kwargs)\n",
      "/Users/tominagashuuji/.pyenv/versions/anaconda3-5.1.0/lib/python3.6/site-packages/sklearn/utils/deprecation.py:122: FutureWarning: You are accessing a training score ('mean_train_score'), which will not be available by default any more in 0.21. If you need training scores, please set return_train_score=True\n",
      "  warnings.warn(*warn_args, **warn_kwargs)\n",
      "/Users/tominagashuuji/.pyenv/versions/anaconda3-5.1.0/lib/python3.6/site-packages/sklearn/utils/deprecation.py:122: FutureWarning: You are accessing a training score ('std_train_score'), which will not be available by default any more in 0.21. If you need training scores, please set return_train_score=True\n",
      "  warnings.warn(*warn_args, **warn_kwargs)\n"
     ]
    },
    {
     "data": {
      "text/html": [
       "<div>\n",
       "<style scoped>\n",
       "    .dataframe tbody tr th:only-of-type {\n",
       "        vertical-align: middle;\n",
       "    }\n",
       "\n",
       "    .dataframe tbody tr th {\n",
       "        vertical-align: top;\n",
       "    }\n",
       "\n",
       "    .dataframe thead th {\n",
       "        text-align: right;\n",
       "    }\n",
       "</style>\n",
       "<table border=\"1\" class=\"dataframe\">\n",
       "  <thead>\n",
       "    <tr style=\"text-align: right;\">\n",
       "      <th></th>\n",
       "      <th>param_max_depth</th>\n",
       "      <th>param_n_estimators</th>\n",
       "      <th>mean_train_score</th>\n",
       "    </tr>\n",
       "  </thead>\n",
       "  <tbody>\n",
       "    <tr>\n",
       "      <th>0</th>\n",
       "      <td>2</td>\n",
       "      <td>2</td>\n",
       "      <td>1.000000</td>\n",
       "    </tr>\n",
       "    <tr>\n",
       "      <th>1</th>\n",
       "      <td>2</td>\n",
       "      <td>5</td>\n",
       "      <td>0.998425</td>\n",
       "    </tr>\n",
       "    <tr>\n",
       "      <th>2</th>\n",
       "      <td>2</td>\n",
       "      <td>10</td>\n",
       "      <td>0.998425</td>\n",
       "    </tr>\n",
       "    <tr>\n",
       "      <th>3</th>\n",
       "      <td>5</td>\n",
       "      <td>2</td>\n",
       "      <td>0.996887</td>\n",
       "    </tr>\n",
       "    <tr>\n",
       "      <th>4</th>\n",
       "      <td>5</td>\n",
       "      <td>5</td>\n",
       "      <td>1.000000</td>\n",
       "    </tr>\n",
       "    <tr>\n",
       "      <th>5</th>\n",
       "      <td>5</td>\n",
       "      <td>10</td>\n",
       "      <td>1.000000</td>\n",
       "    </tr>\n",
       "  </tbody>\n",
       "</table>\n",
       "</div>"
      ],
      "text/plain": [
       "  param_max_depth param_n_estimators  mean_train_score\n",
       "0               2                  2          1.000000\n",
       "1               2                  5          0.998425\n",
       "2               2                 10          0.998425\n",
       "3               5                  2          0.996887\n",
       "4               5                  5          1.000000\n",
       "5               5                 10          1.000000"
      ]
     },
     "metadata": {},
     "output_type": "display_data"
    },
    {
     "data": {
      "text/plain": [
       "None"
      ]
     },
     "metadata": {},
     "output_type": "display_data"
    }
   ],
   "source": [
    "\"\"\"\n",
    "参考URL：https://qiita.com/ishizakiiii/items/0650723cc2b4eef2c1cf\n",
    "\"\"\"\n",
    "# データを適当に用意\n",
    "df_a = pd.DataFrame({'x1': np.random.randn(100),\n",
    "                     'x2': np.random.randn(100),\n",
    "                     'y' : 0})\n",
    "# class: 1\n",
    "df_b = pd.DataFrame({'x1': np.random.randn(100) + 5,\n",
    "                     'x2': np.random.randn(100) + 3,\n",
    "                     'y' : 1})\n",
    "df = df_a.append(df_b)\n",
    "\n",
    "# トレーニングデータとテストデータに分割\n",
    "X_train, X_test, y_train, y_test = \\\n",
    "    train_test_split(df[['x1','x2']], df['y'], test_size=0.2)\n",
    "    \n",
    "from sklearn.model_selection import GridSearchCV\n",
    "from sklearn.ensemble import RandomForestClassifier\n",
    "\n",
    "# 探索したハイパーパラメータ\n",
    "param_grid = {'n_estimators': [2, 5, 10],\n",
    "              'max_depth': [2, 5]}\n",
    "\n",
    "grid_search = GridSearchCV(RandomForestClassifier(random_state=0), param_grid, cv=5)\n",
    "\n",
    "# 最適なパラメータで学習\n",
    "grid_search.fit(X_train, y_train)\n",
    "\n",
    "print('test_score : {}'.format(grid_search.score(X_test, y_test)))\n",
    "print('best_params : {}'.format(grid_search.best_params_))\n",
    "\n",
    "# 各パラメータのCV平均スコア\n",
    "display(display(pd.DataFrame(grid_search.cv_results_)\\\n",
    "       [['param_max_depth', 'param_n_estimators', 'mean_train_score']]))"
   ]
  },
  {
   "cell_type": "code",
   "execution_count": 19,
   "metadata": {},
   "outputs": [
    {
     "name": "stdout",
     "output_type": "stream",
     "text": [
      "ElasticNet(default) R2 score: 0.501\n",
      "ElasticNet(tuned) R2 score: 0.588\n"
     ]
    }
   ],
   "source": [
    "\"\"\"\n",
    "http://starpentagon.net/analytics/scikit_learn_grid_search_cv/\n",
    "\"\"\"\n",
    "\n",
    "from sklearn.datasets import load_boston\n",
    "from sklearn.model_selection import train_test_split\n",
    " \n",
    "# Boston house-pricesのロード\n",
    "boston = load_boston()\n",
    " \n",
    "X = boston.data\n",
    "y = boston.target\n",
    " \n",
    "# 学習データと評価データに分割（分割比率8:2）\n",
    "(X_train, X_test, y_train, y_test) = train_test_split(X, y, test_size=0.2, random_state=0)\n",
    "\n",
    "from sklearn.linear_model import ElasticNet\n",
    "from sklearn.metrics import r2_score\n",
    " \n",
    "# デフォルトパラメタ\n",
    "elastic_net = ElasticNet()\n",
    "elastic_net.fit(X_train, y_train)\n",
    " \n",
    "# 評価データでのR2スコアを算出\n",
    "pred = elastic_net.predict(X_test)\n",
    "score = r2_score(y_test, pred)\n",
    " \n",
    "print('ElasticNet(default) R2 score: %.3f' % score)\n",
    "\n",
    "from sklearn.model_selection import GridSearchCV\n",
    "import numpy as np\n",
    " \n",
    "# チューニングモデル\n",
    "estimator = ElasticNet()\n",
    " \n",
    "# モデルのパラメタ候補を定義\n",
    "alpha_params = np.logspace(-3, 3, 7)\n",
    "l1_ratio_params = np.arange(0.1, 1.0, 0.1)\n",
    " \n",
    "paramters = {\n",
    "    'alpha': alpha_params,\n",
    "    'l1_ratio': l1_ratio_params\n",
    "}\n",
    " \n",
    "# パラメタチューニング\n",
    "model_tuning = GridSearchCV(\n",
    "    estimator = estimator,     # 識別器\n",
    "    param_grid = paramters,    # パラメタ\n",
    "    cv = 5,                    # Cross validationの分割数\n",
    "    n_jobs = -1,               # 並列実行数(-1: コア数で並列実行)\n",
    ")\n",
    " \n",
    "model_tuning.fit(X_train, y_train)\n",
    "\n",
    "# チューニングしたモデルを評価\n",
    "elastic_net_tuned = model_tuning.best_estimator_\n",
    " \n",
    "# 評価データでのR2スコアを算出\n",
    "pred = elastic_net_tuned.predict(X_test)\n",
    "score = r2_score(y_test, pred)\n",
    " \n",
    "print('ElasticNet(tuned) R2 score: %.3f' % score)"
   ]
  },
  {
   "cell_type": "code",
   "execution_count": 16,
   "metadata": {},
   "outputs": [],
   "source": []
  },
  {
   "cell_type": "code",
   "execution_count": null,
   "metadata": {},
   "outputs": [],
   "source": []
  },
  {
   "cell_type": "code",
   "execution_count": null,
   "metadata": {},
   "outputs": [],
   "source": []
  },
  {
   "cell_type": "code",
   "execution_count": null,
   "metadata": {},
   "outputs": [],
   "source": []
  },
  {
   "cell_type": "code",
   "execution_count": null,
   "metadata": {},
   "outputs": [],
   "source": []
  },
  {
   "cell_type": "code",
   "execution_count": null,
   "metadata": {},
   "outputs": [],
   "source": []
  },
  {
   "cell_type": "code",
   "execution_count": null,
   "metadata": {},
   "outputs": [],
   "source": []
  },
  {
   "cell_type": "code",
   "execution_count": null,
   "metadata": {},
   "outputs": [],
   "source": []
  }
 ],
 "metadata": {
  "kernelspec": {
   "display_name": "Python 3",
   "language": "python",
   "name": "python3"
  },
  "language_info": {
   "codemirror_mode": {
    "name": "ipython",
    "version": 3
   },
   "file_extension": ".py",
   "mimetype": "text/x-python",
   "name": "python",
   "nbconvert_exporter": "python",
   "pygments_lexer": "ipython3",
   "version": "3.6.4"
  }
 },
 "nbformat": 4,
 "nbformat_minor": 2
}
