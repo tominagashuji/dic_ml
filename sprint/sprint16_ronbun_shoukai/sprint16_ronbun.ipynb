{
 "cells": [
  {
   "cell_type": "markdown",
   "metadata": {},
   "source": [
    "# Sprint16 論文紹介\n",
    "## 1.このSprintについて\n",
    "**Sprintの目的**  \n",
    "```\n",
    "関心分野の研究動向を掴めるようにする  \n",
    "論文の要旨を紹介できるようにする  \n",
    "```\n",
    "\n",
    "**どのように学ぶか**  \n",
    "```\n",
    "論文を短期間で読み資料を作成します\n",
    "```\n",
    "\n",
    "## 2.論文紹介\n",
    "```\n",
    "機械学習分野のある分野に関して短期間で研究動向を把握することを目指します。\n",
    "自分自身が興味のある分野に対し、論文5本の要旨をまとめたスライドを用意し、5分程度で紹介してください。\n",
    "```\n",
    "\n",
    "### 要件\n",
    "**聞いた人がその分野について何らかの傾向をつかめる発表にする。**\n",
    "```\n",
    "映画を題材に機械学習における分類手法の分野について傾向が掴める発表がしたい。\n",
    "```\n",
    "\n",
    "**論文の選定理由を答えられるようにする。**\n",
    "```\n",
    "映画が好きだったのと、映画以外にも音楽やアート、漫画等にも転用出来そうだから。\n",
    "```"
   ]
  },
  {
   "cell_type": "markdown",
   "metadata": {},
   "source": [
    "## タイトル：Multi-view Characterization of Stories from Narratives and Reviews using Multi-label Ranking  \n",
    "マルチラベルランキングを使用した物語とレビューからのストーリーのマルチビュー特性評価  \n",
    "https://arxiv.org/pdf/1908.09083.pdf  \n",
    "\n",
    "## 年代：2019/08/24\n",
    "## 著者：Sudipta Kar, Gustavo Aguilar, Thamar Solorio\n",
    "\n",
    "(1)どんなもの？  \n",
    "サブスクで映画を自分の好みにあった映画を選ぼうとした時にオプションが多く困ることがある。\n",
    "そこで、映画のレビューやタイトルからどんな映画かをマルチラベル分類にて、その映画がどんな映画かを予測しようとする論文。\n",
    "予測の時にマルチラベルランクという新しい手法を提案し、その有用性について説明している。  \n",
    "尤度推定スコアを降順に並べ替えたときに、ターゲットタグを最上位にランク付けするマルチラベル分類問題としている。  \n",
    "\n",
    "(2)どうやって有効だと検証した？  \n",
    "ランキングとマルチラベル分類問題が混在してるものとして物として扱い、様々な設定で各ストーリーを特徴つける最終タグとして上位Nタグを選択する。  \n",
    "\n",
    "(3)技術の手法や肝は？  \n",
    "\n",
    "マルチラベルランク\n",
    "\n",
    "識別（分類）問題  \n",
    "シングルラベル分類問題  \n",
    "マルチラベル分類問題  \n",
    "\n",
    "### シングルラベル分類・マルチ分類問題  \n",
    "<img src='https://image.slidesharecdn.com/ml-08single-170819065631/95/ml08-6-638.jpg?cb=1503127249' >\n",
    "\n",
    "(4)議論はある？  \n",
    "(5)先行研究と比べて何がすごい？  \n",
    "(6)次に読むべき論文は？  "
   ]
  },
  {
   "cell_type": "markdown",
   "metadata": {},
   "source": [
    "## 引用\n",
    "[1]識別問題について1  \n",
    "https://www.slideshare.net/katsuhiromorishita/ml08-78973050\n",
    "\n",
    "[2]識別問題について2  \n",
    "https://slidesplayer.net/slide/11419192/\n",
    "\n"
   ]
  },
  {
   "cell_type": "code",
   "execution_count": null,
   "metadata": {},
   "outputs": [],
   "source": []
  }
 ],
 "metadata": {
  "kernelspec": {
   "display_name": "Python 3",
   "language": "python",
   "name": "python3"
  },
  "language_info": {
   "codemirror_mode": {
    "name": "ipython",
    "version": 3
   },
   "file_extension": ".py",
   "mimetype": "text/x-python",
   "name": "python",
   "nbconvert_exporter": "python",
   "pygments_lexer": "ipython3",
   "version": "3.6.4"
  }
 },
 "nbformat": 4,
 "nbformat_minor": 2
}
