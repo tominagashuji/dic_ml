{
 "cells": [
  {
   "cell_type": "markdown",
   "metadata": {},
   "source": [
    "# Sprint7 機械学習スクラッチ クラスタリング"
   ]
  },
  {
   "cell_type": "markdown",
   "metadata": {},
   "source": [
    "## 大上さんとペアプロ"
   ]
  },
  {
   "cell_type": "code",
   "execution_count": 187,
   "metadata": {},
   "outputs": [],
   "source": [
    "# 最初に使用予定のデータやライブラリーを宣言しておく\n",
    "import os # ファイルの読み込み先のpath指定する時に必要\n",
    "\n",
    "import numpy as np # numpyのライブラリー読み込み\n",
    "from numpy import linalg as LA # ユークリッド距離を算出するメソッド\n",
    "from numpy.random import *\n",
    "import pandas as pd # pandasのライブラリー読み込み\n",
    "\n",
    "import matplotlib.pyplot as plt # グラフ描写のライブラリー\n",
    "import matplotlib.patches as mpatches # 可視化\n",
    "import seaborn as sns # グラフ描写のライブラリー\n",
    "from matplotlib.colors import ListedColormap # マップ\n",
    "\n",
    "from sklearn.datasets import load_iris # アイリスデータ\n",
    "\n",
    "from sklearn.model_selection import train_test_split # データ分割\n",
    "\n",
    "from sklearn.preprocessing import StandardScaler # 標準化\n",
    "from sklearn.neighbors import KNeighborsClassifier # 最近傍法\n",
    "\n",
    "from sklearn.metrics import accuracy_score # 正解率\n",
    "from sklearn.metrics import precision_score # 適合率\n",
    "from sklearn.metrics import recall_score # 再現率\n",
    "from sklearn.metrics import f1_score # F値\n",
    "from sklearn.metrics import confusion_matrix # 混合行列\n",
    "\n",
    "from sklearn import linear_model\n",
    "from sklearn.linear_model import LogisticRegression # ロジスティック回帰\n",
    "from sklearn.svm import SVC #SVC \n",
    "from sklearn.model_selection import cross_val_score # 決定木\n",
    "from sklearn.tree import DecisionTreeClassifier # 決定木\n",
    "from sklearn.ensemble import RandomForestClassifier # ランダムフォレスト1\n",
    "from sklearn.datasets import make_classification # ランダムフォレスト2\n",
    "\n",
    "from sklearn.linear_model import LinearRegression # 線形回帰モデル"
   ]
  },
  {
   "cell_type": "code",
   "execution_count": 154,
   "metadata": {},
   "outputs": [
    {
     "data": {
      "text/html": [
       "<div>\n",
       "<style scoped>\n",
       "    .dataframe tbody tr th:only-of-type {\n",
       "        vertical-align: middle;\n",
       "    }\n",
       "\n",
       "    .dataframe tbody tr th {\n",
       "        vertical-align: top;\n",
       "    }\n",
       "\n",
       "    .dataframe thead th {\n",
       "        text-align: right;\n",
       "    }\n",
       "</style>\n",
       "<table border=\"1\" class=\"dataframe\">\n",
       "  <thead>\n",
       "    <tr style=\"text-align: right;\">\n",
       "      <th></th>\n",
       "      <th>X</th>\n",
       "      <th>Y</th>\n",
       "    </tr>\n",
       "  </thead>\n",
       "  <tbody>\n",
       "    <tr>\n",
       "      <th>0</th>\n",
       "      <td>0.720868</td>\n",
       "      <td>3.713471</td>\n",
       "    </tr>\n",
       "    <tr>\n",
       "      <th>1</th>\n",
       "      <td>-1.894684</td>\n",
       "      <td>7.968985</td>\n",
       "    </tr>\n",
       "    <tr>\n",
       "      <th>2</th>\n",
       "      <td>1.356789</td>\n",
       "      <td>4.364625</td>\n",
       "    </tr>\n",
       "    <tr>\n",
       "      <th>3</th>\n",
       "      <td>1.053744</td>\n",
       "      <td>4.492869</td>\n",
       "    </tr>\n",
       "    <tr>\n",
       "      <th>4</th>\n",
       "      <td>1.591415</td>\n",
       "      <td>4.904977</td>\n",
       "    </tr>\n",
       "  </tbody>\n",
       "</table>\n",
       "</div>"
      ],
      "text/plain": [
       "          X         Y\n",
       "0  0.720868  3.713471\n",
       "1 -1.894684  7.968985\n",
       "2  1.356789  4.364625\n",
       "3  1.053744  4.492869\n",
       "4  1.591415  4.904977"
      ]
     },
     "execution_count": 154,
     "metadata": {},
     "output_type": "execute_result"
    }
   ],
   "source": [
    "# データの取得\n",
    "from sklearn.datasets import make_blobs\n",
    "# yは回答で、今回は使用しないので、_で埋めてる\n",
    "X, _ = make_blobs(n_samples=100,\n",
    "                  n_features=2, centers=4,\n",
    "                  cluster_std=0.5,\n",
    "                  shuffle=True,\n",
    "                  random_state=0)\n",
    "# 全データ点を表にする\n",
    "# データを操作しやすいように pd に変換\n",
    "X = pd.DataFrame(X,columns=['X', 'Y'])\n",
    "X.head()"
   ]
  },
  {
   "cell_type": "markdown",
   "metadata": {},
   "source": [
    "### 【問題1】中心点の初期値を決める（クラスタをあげる）"
   ]
  },
  {
   "cell_type": "code",
   "execution_count": 155,
   "metadata": {},
   "outputs": [
    {
     "name": "stdout",
     "output_type": "stream",
     "text": [
      "[20 61  7]\n"
     ]
    }
   ],
   "source": [
    "# データ群（今回は１００）からデータの番地を３つランダムに抽出\n",
    "def get_cluster(c):\n",
    "    cluster = randint(0,100,c)       #  0〜99 の整数をc個生成\n",
    "    return cluster\n",
    "c = 3\n",
    "cluster = get_cluster(c)\n",
    "print(cluster)"
   ]
  },
  {
   "cell_type": "code",
   "execution_count": 157,
   "metadata": {},
   "outputs": [],
   "source": [
    "# myu 列の作成\n",
    "myu = randint(0, c, 100)       #  0〜c の整数を100個生成\n",
    "myu = pd.DataFrame(myu, columns=['myu'])       # aをpandasデータに変更し、列名をmyuに\n",
    "myu.head()\n",
    "\n",
    "# 全データ点座標に対して、適当なクラスタを割り当てたいので、全データ点とmyuを結合\n",
    "X_myu = pd.concat([X, myu], axis=1)\n",
    "X_myu.head()\n",
    "\n",
    "# X_myu をnumpyに変更\n",
    "X_myu_np = X_myu.values\n",
    "\n",
    "# print(type(i))\n",
    "# print(type(X))\n",
    "# print(i.shape)\n",
    "# print(X.shape)\n",
    "# i.reshape(50,2)\n",
    "# print(i.shape)\n",
    "# np.hstack(X, i, axis=1)\n",
    "# print(X)\n",
    "# print(i)\n",
    "# X1 = np.insert(X, 2, a,axis=1) # 2は行数指定をする\n",
    "# print(X1)"
   ]
  },
  {
   "cell_type": "code",
   "execution_count": 171,
   "metadata": {},
   "outputs": [
    {
     "data": {
      "text/html": [
       "<div>\n",
       "<style scoped>\n",
       "    .dataframe tbody tr th:only-of-type {\n",
       "        vertical-align: middle;\n",
       "    }\n",
       "\n",
       "    .dataframe tbody tr th {\n",
       "        vertical-align: top;\n",
       "    }\n",
       "\n",
       "    .dataframe thead th {\n",
       "        text-align: right;\n",
       "    }\n",
       "</style>\n",
       "<table border=\"1\" class=\"dataframe\">\n",
       "  <thead>\n",
       "    <tr style=\"text-align: right;\">\n",
       "      <th></th>\n",
       "      <th>X</th>\n",
       "      <th>Y</th>\n",
       "      <th>myu</th>\n",
       "    </tr>\n",
       "  </thead>\n",
       "  <tbody>\n",
       "    <tr>\n",
       "      <th>0</th>\n",
       "      <td>0.720868</td>\n",
       "      <td>3.713471</td>\n",
       "      <td>2</td>\n",
       "    </tr>\n",
       "    <tr>\n",
       "      <th>1</th>\n",
       "      <td>-1.894684</td>\n",
       "      <td>7.968985</td>\n",
       "      <td>2</td>\n",
       "    </tr>\n",
       "    <tr>\n",
       "      <th>2</th>\n",
       "      <td>1.356789</td>\n",
       "      <td>4.364625</td>\n",
       "      <td>1</td>\n",
       "    </tr>\n",
       "    <tr>\n",
       "      <th>3</th>\n",
       "      <td>1.053744</td>\n",
       "      <td>4.492869</td>\n",
       "      <td>1</td>\n",
       "    </tr>\n",
       "    <tr>\n",
       "      <th>4</th>\n",
       "      <td>1.591415</td>\n",
       "      <td>4.904977</td>\n",
       "      <td>2</td>\n",
       "    </tr>\n",
       "  </tbody>\n",
       "</table>\n",
       "</div>"
      ],
      "text/plain": [
       "          X         Y  myu\n",
       "0  0.720868  3.713471    2\n",
       "1 -1.894684  7.968985    2\n",
       "2  1.356789  4.364625    1\n",
       "3  1.053744  4.492869    1\n",
       "4  1.591415  4.904977    2"
      ]
     },
     "execution_count": 171,
     "metadata": {},
     "output_type": "execute_result"
    }
   ],
   "source": [
    "X_myu.head()"
   ]
  },
  {
   "cell_type": "code",
   "execution_count": 159,
   "metadata": {},
   "outputs": [
    {
     "name": "stdout",
     "output_type": "stream",
     "text": [
      "[[ 2.11114739  3.57660449]\n",
      " [ 1.51989121  1.42488952]\n",
      " [-0.77354537  7.87923564]]\n"
     ]
    }
   ],
   "source": [
    "# myu_k の作成（myu_kは重心・クラスタの座標）\n",
    "n = 0\n",
    "myu_k = np.zeros(6).reshape(3,2)\n",
    "\n",
    "# print(myu_k)\n",
    "# クラスタの座標を取得する\n",
    "for c in range (len(cluster)):\n",
    "    myu_k[c, 0] = X_myu_np[cluster[c], 0]\n",
    "    myu_k[c, 1] = X_myu_np[cluster[c], 1]\n",
    "\n",
    "print(myu_k)"
   ]
  },
  {
   "cell_type": "code",
   "execution_count": 134,
   "metadata": {},
   "outputs": [],
   "source": [
    "# やろうとしたけど中止\n",
    "\n",
    "# k番目の中心点（myu_k 番目の 入力データ）\n",
    "# myu_k = X1[33]\n",
    "# myu_k = X1.iloc[1]\n",
    "# print(myu_k)\n",
    "\n",
    "# print(type(X1[i[b]]))\n",
    "# print(X1[i[b]].shape)\n",
    "# print(X1[i[b]])\n",
    "# print(k)\n",
    "# myu_k = np.empty((0,5), int)\n",
    "# for b in range (k):\n",
    "#     print(i[b])\n",
    "#     myu_k = np.hstack(X1[i[b]])\n",
    "#     myu_k.insert(myu_k, X1[i[b]], axis=0)\n",
    "#     myu_k = np.insert(myu_k, X1[i[b]], axis=0)\n",
    "#     np.insert(myu_k, b, X1[i[b]], axis=0)\n",
    "#     myu_k = np.append(myu_k, X1[i[b]], axis=0)\n",
    "#     np.insert(myu_k, b, X1[i[b]], axis=0)\n",
    "# pass\n",
    "\n",
    "# myu_k.reshape(3.3)\n",
    "# print(myu_k)"
   ]
  },
  {
   "cell_type": "markdown",
   "metadata": {},
   "source": [
    "## 【問題2】SSEを求める関数の作成"
   ]
  },
  {
   "cell_type": "code",
   "execution_count": 135,
   "metadata": {},
   "outputs": [],
   "source": [
    "X_k = np.zeros(len(X)*(k + 1)).reshape(len(X),k + 1)\n",
    "# print(X_k)\n",
    "# print(len(X))\n",
    "k = 0\n",
    "n = 0\n",
    "# for k in range (len(myu_k) - 1):\n",
    "for n in range (len(X) - 1):\n",
    "#         print(k)\n",
    "#         print(len(myu_k) - 1)\n",
    "#         print(myu_k[k, 0])\n",
    "#         print(myu_k[k+1, 0])\n",
    "        \n",
    "#         print(X_k[n, 1])\n",
    "#         print(n)\n",
    "#         print(len(X) - 1)\n",
    "#         print(X_k[n, 1])\n",
    "\n",
    "    X_k[n, 0] = n\n",
    "    X_k[n, 1] = X[n, 0] - myu_k[0, 0]\n",
    "    X_k[n, 2] = X[n, 0] - myu_k[1, 0] \n",
    "    X_k[n, 3] = X[n, 0] - myu_k[2, 0]\n",
    "    pass\n",
    "# print(X_k)\n",
    "# ２連続で実施しようとするとこけるので、run all cells を実施する"
   ]
  },
  {
   "cell_type": "code",
   "execution_count": 179,
   "metadata": {},
   "outputs": [],
   "source": [
    "def get_sse(X_myu_np,myu_k):\n",
    "    for N in range (len(X_myu_np)):\n",
    "#         print(N)\n",
    "        for K in range (len(myu_k)):\n",
    "#             print(K)\n",
    "            if X_myu_np[N,2] == K:\n",
    "                rnk = 1\n",
    "            else:\n",
    "                rnk = 0\n",
    "            rmk = 0.5\n",
    "#             print(X_myu_np[N,0])\n",
    "#             print(X_myu_np[N,1])\n",
    "#             print(myu_k[K,0])\n",
    "#             print(myu_k[K,1])\n",
    "\n",
    "            distans = abs(X_myu_np[N,0] - myu_k[K,0]) + abs(X_myu_np[N,1] - myu_k[K,1])\n",
    "            sse = rmk*(distans**2)\n",
    "\n",
    "    return sse"
   ]
  },
  {
   "cell_type": "code",
   "execution_count": 180,
   "metadata": {},
   "outputs": [
    {
     "name": "stdout",
     "output_type": "stream",
     "text": [
      "6.926491457375577\n"
     ]
    }
   ],
   "source": [
    "# X_myu_np：全データ点の座標,myu_k：全クラスタ点の座標\n",
    "sse = get_sse(X_myu_np,myu_k)\n",
    "print(sse)"
   ]
  },
  {
   "cell_type": "code",
   "execution_count": null,
   "metadata": {},
   "outputs": [],
   "source": [
    "# 絶対値計算の練習\n",
    "a = -3\n",
    "b = 4\n",
    "c = abs(a) + abs(b)\n",
    "print(c)"
   ]
  },
  {
   "cell_type": "markdown",
   "metadata": {},
   "source": [
    "### 【問題3】クラスタへの割り当て\n",
    "全てのデータ点 Xn を最も近い中心点 μk に割り当てるコードを作成してください。"
   ]
  },
  {
   "cell_type": "code",
   "execution_count": 193,
   "metadata": {},
   "outputs": [],
   "source": [
    "def cluster_allocation(q,p):\n",
    "    distans = 0\n",
    "    a = np.arange(9) - 4\n",
    "    print(a)\n",
    "    b = a.reshape((3, 3))\n",
    "    print(b)\n",
    "    print(LA.norm(a))\n",
    "    print(LA.norm(b))    \n",
    "\n",
    "    return distans"
   ]
  },
  {
   "cell_type": "code",
   "execution_count": 194,
   "metadata": {},
   "outputs": [
    {
     "name": "stdout",
     "output_type": "stream",
     "text": [
      "[-4 -3 -2 -1  0  1  2  3  4]\n",
      "[[-4 -3 -2]\n",
      " [-1  0  1]\n",
      " [ 2  3  4]]\n",
      "7.745966692414834\n",
      "7.745966692414834\n",
      "0\n"
     ]
    }
   ],
   "source": [
    "q = 1\n",
    "p = 1\n",
    "distans = cluster_allocation(q,p)\n",
    "print(distans)"
   ]
  },
  {
   "cell_type": "code",
   "execution_count": null,
   "metadata": {},
   "outputs": [],
   "source": []
  }
 ],
 "metadata": {
  "kernelspec": {
   "display_name": "Python 3",
   "language": "python",
   "name": "python3"
  },
  "language_info": {
   "codemirror_mode": {
    "name": "ipython",
    "version": 3
   },
   "file_extension": ".py",
   "mimetype": "text/x-python",
   "name": "python",
   "nbconvert_exporter": "python",
   "pygments_lexer": "ipython3",
   "version": "3.6.4"
  }
 },
 "nbformat": 4,
 "nbformat_minor": 2
}
