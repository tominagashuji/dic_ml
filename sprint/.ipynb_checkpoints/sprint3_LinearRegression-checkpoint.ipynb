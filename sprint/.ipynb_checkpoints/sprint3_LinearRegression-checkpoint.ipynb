{
 "cells": [
  {
   "cell_type": "markdown",
   "metadata": {},
   "source": [
    "# Sprint3 機械学習スクラッチ 線形回帰"
   ]
  },
  {
   "cell_type": "code",
   "execution_count": 334,
   "metadata": {},
   "outputs": [],
   "source": [
    "# 最初に使用予定のデータやライブラリーを宣言しておく\n",
    "import os # ファイルの読み込み先のpath指定する時に必要\n",
    "import numpy as np # numpyのライブラリー読み込み\n",
    "import pandas as pd # pandasのライブラリー読み込み\n",
    "import matplotlib.pyplot as plt # グラフ描写のライブラリー\n",
    "import matplotlib.patches as mpatches # 可視化\n",
    "import seaborn as sns # グラフ描写のライブラリー\n",
    "\n",
    "from sklearn.datasets import load_iris # アイリスデータ\n",
    "from sklearn.model_selection import train_test_split # データ分割\n",
    "from sklearn.preprocessing import StandardScaler # 標準化\n",
    "from sklearn.neighbors import KNeighborsClassifier # 最近傍法\n",
    "from sklearn.metrics import accuracy_score # 正解率\n",
    "from sklearn.metrics import precision_score # 適合率\n",
    "from sklearn.metrics import recall_score # 再現率\n",
    "from sklearn.metrics import f1_score # F値\n",
    "from sklearn.metrics import confusion_matrix # 混合行列\n",
    "from sklearn import linear_model\n",
    "from sklearn.linear_model import LogisticRegression # ロジスティック回帰\n",
    "from sklearn.svm import SVC #SVC \n",
    "from sklearn.model_selection import cross_val_score # 決定木\n",
    "from sklearn.tree import DecisionTreeClassifier # 決定木\n",
    "from sklearn.ensemble import RandomForestClassifier # ランダムフォレスト\n",
    "from sklearn.datasets import make_classification # ランダムフォレスト\n",
    "\n",
    "from matplotlib.colors import ListedColormap\n",
    "\n",
    "from sklearn.linear_model import LinearRegression # 線形回帰モデル"
   ]
  },
  {
   "cell_type": "markdown",
   "metadata": {},
   "source": [
    "### 【問題1】仮定関数\n",
    "以下の数式で表される線形回帰の仮定関数を実装してください。\n",
    "メソッドの雛形を用意してあります。"
   ]
  },
  {
   "cell_type": "code",
   "execution_count": 335,
   "metadata": {},
   "outputs": [],
   "source": [
    "class ScratchLinearRegression():\n",
    "    \"\"\"\n",
    "    線形回帰のスクラッチ実装\n",
    "\n",
    "    Parameters\n",
    "    ----------\n",
    "    num_iter : int\n",
    "      イテレーション数\n",
    "    lr : float\n",
    "      学習率\n",
    "    no_bias : bool\n",
    "      バイアス項を入れない場合はTrue\n",
    "    verbose : bool\n",
    "      学習過程を出力する場合はTrue\n",
    "\n",
    "    Attributes\n",
    "    ----------\n",
    "    self.coef_ : 次の形のndarray, shape (n_features,)\n",
    "      パラメータ\n",
    "    self.loss : 次の形のndarray, shape (self.iter,)\n",
    "      学習用データに対する損失の記録\n",
    "    self.val_loss : 次の形のndarray, shape (self.iter,)\n",
    "      検証用データに対する損失の記録\n",
    "\n",
    "    \"\"\"\n",
    "\n",
    "    def __init__(self, num_iter, lr, bias, verbose):\n",
    "        # ハイパーパラメータを属性として記録\n",
    "        self.iter = num_iter\n",
    "        self.lr = lr\n",
    "        self.bias = bias\n",
    "        self.verbose = verbose\n",
    "        # 損失を記録する配列を用意\n",
    "        self.loss = np.zeros(self.iter)\n",
    "        self.val_loss = np.zeros(self.iter)\n",
    "        self.theta = 0\n",
    "\n",
    "    def fit(self, X, y, X_val=None, y_val=None):\n",
    "        \"\"\"\n",
    "        線形回帰を学習する。検証用データが入力された場合はそれに対する損失と精度もイテレーションごとに計算する。\n",
    "\n",
    "        Parameters\n",
    "        ----------\n",
    "        X : 次の形のndarray, shape (n_samples, n_features)\n",
    "            学習用データの特徴量\n",
    "        y : 次の形のndarray, shape (n_samples, )\n",
    "            学習用データの正解値\n",
    "        X_val : 次の形のndarray, shape (n_samples, n_features)\n",
    "            検証用データの特徴量\n",
    "        y_val : 次の形のndarray, shape (n_samples, )\n",
    "            検証用データの正解値\n",
    "        \"\"\"\n",
    "\n",
    "        if self.verbose:\n",
    "            #verboseをTrueにした際は学習過程を出力\n",
    "            print()\n",
    "\n",
    "        self.theta = np.random.rand(X.shape[1])\n",
    "#         self._gradient_descent(self, self._linear_hypothesis(self, X), X)\n",
    "        self._gradient_descent(X, y)\n",
    "\n",
    "    def predict(self, X):\n",
    "        \"\"\"\n",
    "        線形回帰を使い推定する。\n",
    "\n",
    "        Parameters\n",
    "        ----------\n",
    "        X : 次の形のndarray, shape (n_samples, n_features)\n",
    "            サンプル\n",
    "\n",
    "        Returns\n",
    "        -------\n",
    "            次の形のndarray, shape (n_samples, 1)\n",
    "            線形回帰による推定結果\n",
    "        \"\"\"\n",
    "        y_pred = np.dot(X, self.theta) # 特徴量\n",
    "        return y_pred\n",
    "\n",
    "    def _linear_hypothesis(self, X): # リニアハイポセシス\n",
    "        \"\"\"\n",
    "        線形の仮定関数を計算する\n",
    "\n",
    "        Parameters\n",
    "        ----------\n",
    "        X : 次の形のndarray, shape (n_samples, n_features)\n",
    "          学習データ\n",
    "\n",
    "        Returns\n",
    "        -------\n",
    "          次の形のndarray, shape (n_samples, 1)\n",
    "          線形の仮定関数による推定結果\n",
    "\n",
    "        \"\"\"\n",
    "        linear_hypothesis = np.dot(X, self.theta)\n",
    "        print(linear_hypothesis.shape)\n",
    "        return linear_hypothesis\n",
    "\n",
    "    def _gradient_descent(self, X, y):\n",
    "        m = len(X)\n",
    "        alpha = 0.01\n",
    "        h = self._linear_hypothesis(X)\n",
    "\n",
    "        gradient = np.dot((h - y), X)\n",
    "        self.theta = self.theta - alpha/m*gradient\n",
    "        return self.theta\n"
   ]
  },
  {
   "cell_type": "code",
   "execution_count": 336,
   "metadata": {},
   "outputs": [],
   "source": [
    "def _linear_hypothesis(self, X): # リニアハイポセシス\n",
    "    \"\"\"\n",
    "    線形の仮定関数を計算する\n",
    "\n",
    "    Parameters\n",
    "    ----------\n",
    "    X : 次の形のndarray, shape (n_samples, n_features)\n",
    "      学習データ\n",
    "\n",
    "    Returns\n",
    "    -------\n",
    "      次の形のndarray, shape (n_samples, 1)\n",
    "      線形の仮定関数による推定結果\n",
    "\n",
    "    \"\"\"\n",
    "    #(サンプル数 x 特徴量数) @ (特徴量数 x 1) = (サンプル数 x 1)\n",
    "    # 公式をそのまま使わない。使うと転置させる必要があるが、あれは考え方。行列席の仕組みを理解する必要がある。\n",
    "    linear_hypothesis = np.dot(X, self)\n",
    "#     print(theta)\n",
    "#     print(theta.shape)\n",
    "#     print(theta.T)\n",
    "#     print(theta.T.shape)\n",
    "#     print(X)\n",
    "#     print(X.shape)\n",
    "#     print(linear_hypothesis)\n",
    "    print(linear_hypothesis.shape)\n",
    "    return linear_hypothesis\n"
   ]
  },
  {
   "cell_type": "code",
   "execution_count": 337,
   "metadata": {},
   "outputs": [
    {
     "name": "stdout",
     "output_type": "stream",
     "text": [
      "(10, 1)\n",
      "[[ 14]\n",
      " [ 38]\n",
      " [ 62]\n",
      " [ 86]\n",
      " [110]\n",
      " [134]\n",
      " [158]\n",
      " [182]\n",
      " [206]\n",
      " [230]]\n"
     ]
    }
   ],
   "source": [
    "a = np.arange(4).reshape(4,1) # 特徴量4,1\n",
    "X = np.arange(40).reshape(10,4) # サンプル数10,特徴量4の行列\n",
    "\n",
    "# print(a.shape)\n",
    "# print(X.shape)\n",
    "\n",
    "linear_hypothesis = _linear_hypothesis(a, X)\n",
    "# linear_hypothesis = ScratchLinearRegression（_linear_hypothesis(a, X))\n",
    "\n",
    "print(linear_hypothesis)"
   ]
  },
  {
   "cell_type": "markdown",
   "metadata": {},
   "source": [
    "### 【問題2】最急降下法\n",
    "最急降下法により学習させる実装を行なってください。以下の式で表されるパラメータの更新式のメソッド_gradient_descentを追加し、fitメソッドから呼び出すようにしてください。"
   ]
  },
  {
   "cell_type": "code",
   "execution_count": 338,
   "metadata": {},
   "outputs": [],
   "source": [
    "def _gradient_descent(self, X, y):\n",
    "    m = len(X) # サンプル数\n",
    "    alpha = 0.01 # 学習率\n",
    "    h = _linear_hypothesis(self, X) # ハイポネシスにて仮定関数を出力\n",
    "\n",
    "    print(\"aaaaa\")\n",
    "    print(m)\n",
    "    print(h)\n",
    "    print(h.shape)\n",
    "    print(y.shape)\n",
    "    print(X.shape)\n",
    "    print(X.T.shape)\n",
    "\n",
    "    gradient = np.dot(X.T, (h - y)) # \n",
    "    self = self - alpha/m*gradient\n",
    "    return self"
   ]
  },
  {
   "cell_type": "code",
   "execution_count": 339,
   "metadata": {},
   "outputs": [
    {
     "name": "stdout",
     "output_type": "stream",
     "text": [
      "(10, 1)\n",
      "aaaaa\n",
      "10\n",
      "[[ 14]\n",
      " [ 38]\n",
      " [ 62]\n",
      " [ 86]\n",
      " [110]\n",
      " [134]\n",
      " [158]\n",
      " [182]\n",
      " [206]\n",
      " [230]]\n",
      "(10, 1)\n",
      "(10, 1)\n",
      "(10, 4)\n",
      "(4, 10)\n",
      "[[-28.74 ]\n",
      " [-28.915]\n",
      " [-29.09 ]\n",
      " [-29.265]]\n"
     ]
    }
   ],
   "source": [
    "a = np.arange(4).reshape(4,1) # 特徴量4,目的変数1の行列\n",
    "X = np.arange(40).reshape(10,4) # サンプル数10,特徴量4の行列\n",
    "y = np.arange(10).reshape(10,1) # サンプル数10,目的変数1の行列\n",
    "\n",
    "theta = _gradient_descent(a, X, y)\n",
    "\n",
    "print(theta)\n",
    "# print(type(theta))\n",
    "# print(theta)"
   ]
  },
  {
   "cell_type": "markdown",
   "metadata": {},
   "source": [
    "### 【問題3】推定\n",
    "推定する仕組みを実装してください。ScratchLinearRegressionクラスの雛形に含まれるpredictメソッドに書き加えてください。\n",
    "\n",
    "仮定関数 hθ(x) の出力が推定結果です。"
   ]
  },
  {
   "cell_type": "code",
   "execution_count": 340,
   "metadata": {},
   "outputs": [],
   "source": [
    "def predict(self, X):\n",
    "    \"\"\"\n",
    "    線形回帰を使い推定する。\n",
    "\n",
    "    Parameters\n",
    "    ----------\n",
    "    X : 次の形のndarray, shape (n_samples, n_features)\n",
    "        サンプル\n",
    "\n",
    "    Returns\n",
    "    -------\n",
    "        次の形のndarray, shape (n_samples, 1)\n",
    "        線形回帰による推定結果\n",
    "    \"\"\"\n",
    "    y_pred = np.dot(X, self) # Xは最急降下法で求めたもの\n",
    "    return y_pred"
   ]
  },
  {
   "cell_type": "code",
   "execution_count": 341,
   "metadata": {},
   "outputs": [
    {
     "name": "stdout",
     "output_type": "stream",
     "text": [
      "[[ 14]\n",
      " [ 38]\n",
      " [ 62]\n",
      " [ 86]\n",
      " [110]\n",
      " [134]\n",
      " [158]\n",
      " [182]\n",
      " [206]\n",
      " [230]]\n"
     ]
    }
   ],
   "source": [
    "# 確認 np.insert(X, 0, np.ones(X.shape[0]), axis=1)\n",
    "a = np.arange(4).reshape(4,1)\n",
    "X = np.arange(40).reshape(10,4)\n",
    "\n",
    "y_pred = predict(a, X)\n",
    "print(y_pred)\n"
   ]
  },
  {
   "cell_type": "markdown",
   "metadata": {},
   "source": [
    "### 【問題4】平均二乗誤差\n",
    "線形回帰の指標値として用いられる平均二乗誤差（mean square error, MSE）の関数を作成してください。"
   ]
  },
  {
   "cell_type": "code",
   "execution_count": 342,
   "metadata": {},
   "outputs": [],
   "source": [
    "def MSE(y_pred, y):\n",
    "    \"\"\"\n",
    "    平均二乗誤差の計算\n",
    "\n",
    "    Parameters\n",
    "    ----------\n",
    "    y_pred : 次の形のndarray, shape (n_samples,)\n",
    "      推定した値\n",
    "    y : 次の形のndarray, shape (n_samples,)\n",
    "      正解値\n",
    "\n",
    "    Returns\n",
    "    ----------\n",
    "    mse : numpy.float\n",
    "      平均二乗誤差\n",
    "    \"\"\"\n",
    "    m = len(y)\n",
    "    \n",
    "    lh = _linear_hypothesis(y_pred, X.T)\n",
    "    mse = 1/m*((lh.T - y)**2)\n",
    "\n",
    "    return mse"
   ]
  },
  {
   "cell_type": "code",
   "execution_count": 343,
   "metadata": {},
   "outputs": [
    {
     "name": "stdout",
     "output_type": "stream",
     "text": [
      "[[ 14]\n",
      " [ 38]\n",
      " [ 62]\n",
      " [ 86]\n",
      " [110]\n",
      " [134]\n",
      " [158]\n",
      " [182]\n",
      " [206]\n",
      " [230]]\n",
      "[[0]\n",
      " [1]\n",
      " [2]\n",
      " [3]\n",
      " [4]\n",
      " [5]\n",
      " [6]\n",
      " [7]\n",
      " [8]\n",
      " [9]]\n",
      "(4, 1)\n",
      "[[8.92814400e+07 9.67210000e+07 1.04458240e+08 1.12493160e+08]\n",
      " [8.92754641e+07 9.67147801e+07 1.04451776e+08 1.12486452e+08]\n",
      " [8.92694884e+07 9.67085604e+07 1.04445312e+08 1.12479744e+08]\n",
      " [8.92635129e+07 9.67023409e+07 1.04438849e+08 1.12473037e+08]\n",
      " [8.92575376e+07 9.66961216e+07 1.04432386e+08 1.12466330e+08]\n",
      " [8.92515625e+07 9.66899025e+07 1.04425922e+08 1.12459622e+08]\n",
      " [8.92455876e+07 9.66836836e+07 1.04419460e+08 1.12452916e+08]\n",
      " [8.92396129e+07 9.66774649e+07 1.04412997e+08 1.12446209e+08]\n",
      " [8.92336384e+07 9.66712464e+07 1.04406534e+08 1.12439502e+08]\n",
      " [8.92276641e+07 9.66650281e+07 1.04400072e+08 1.12432796e+08]]\n"
     ]
    }
   ],
   "source": [
    "pred = y_pred\n",
    "y = np.arange(10).reshape(10,1)\n",
    "\n",
    "print(pred)\n",
    "print(y)\n",
    "\n",
    "mse = MSE(pred, y)\n",
    "print(mse)"
   ]
  },
  {
   "cell_type": "markdown",
   "metadata": {},
   "source": [
    "### 【問題5】目的関数\n",
    "以下の数式で表される線形回帰の 目的関数（損失関数） を実装してください。そして、これをself.loss, self.val_lossに記録するようにしてください。"
   ]
  },
  {
   "cell_type": "code",
   "execution_count": 344,
   "metadata": {},
   "outputs": [],
   "source": [
    "def target_def(self, X, y, theta):\n",
    "    target = mse/2\n",
    "#     return target, self.loss, self.val_loss\n",
    "    return target\n"
   ]
  },
  {
   "cell_type": "code",
   "execution_count": 345,
   "metadata": {},
   "outputs": [
    {
     "name": "stdout",
     "output_type": "stream",
     "text": [
      "[[44640720.   48360500.   52229120.   56246580.  ]\n",
      " [44637732.05 48357390.05 52225888.05 56243226.05]\n",
      " [44634744.2  48354280.2  52222656.2  56239872.2 ]\n",
      " [44631756.45 48351170.45 52219424.45 56236518.45]\n",
      " [44628768.8  48348060.8  52216192.8  56233164.8 ]\n",
      " [44625781.25 48344951.25 52212961.25 56229811.25]\n",
      " [44622793.8  48341841.8  52209729.8  56226457.8 ]\n",
      " [44619806.45 48338732.45 52206498.45 56223104.45]\n",
      " [44616819.2  48335623.2  52203267.2  56219751.2 ]\n",
      " [44613832.05 48332514.05 52200036.05 56216398.05]]\n"
     ]
    }
   ],
   "source": [
    "a = np.arange(4).reshape(4,1)\n",
    "X = np.arange(40).reshape(10,4)\n",
    "y = np.arange(4).reshape(4,1)\n",
    "theta = np.arange(40).reshape(10,4)\n",
    "\n",
    "# target, self.loss, self.val_loss = target_def(a, X, y, theta)\n",
    "target = target_def(a, X, y, theta)\n",
    "print(target)"
   ]
  },
  {
   "cell_type": "markdown",
   "metadata": {},
   "source": [
    "### 【問題6】学習と推定\n",
    "機械学習スクラッチ入門のSprintで用意したHouse Pricesコンペティションのデータに対してスクラッチ実装の学習と推定を行なってください。\n",
    "\n",
    "scikit-learnによる実装と比べ、正しく動いているかを確認してください。"
   ]
  },
  {
   "cell_type": "code",
   "execution_count": 346,
   "metadata": {},
   "outputs": [
    {
     "data": {
      "text/html": [
       "<div>\n",
       "<style scoped>\n",
       "    .dataframe tbody tr th:only-of-type {\n",
       "        vertical-align: middle;\n",
       "    }\n",
       "\n",
       "    .dataframe tbody tr th {\n",
       "        vertical-align: top;\n",
       "    }\n",
       "\n",
       "    .dataframe thead th {\n",
       "        text-align: right;\n",
       "    }\n",
       "</style>\n",
       "<table border=\"1\" class=\"dataframe\">\n",
       "  <thead>\n",
       "    <tr style=\"text-align: right;\">\n",
       "      <th></th>\n",
       "      <th>Id</th>\n",
       "      <th>MSSubClass</th>\n",
       "      <th>MSZoning</th>\n",
       "      <th>LotFrontage</th>\n",
       "      <th>LotArea</th>\n",
       "      <th>Street</th>\n",
       "      <th>Alley</th>\n",
       "      <th>LotShape</th>\n",
       "      <th>LandContour</th>\n",
       "      <th>Utilities</th>\n",
       "      <th>...</th>\n",
       "      <th>PoolArea</th>\n",
       "      <th>PoolQC</th>\n",
       "      <th>Fence</th>\n",
       "      <th>MiscFeature</th>\n",
       "      <th>MiscVal</th>\n",
       "      <th>MoSold</th>\n",
       "      <th>YrSold</th>\n",
       "      <th>SaleType</th>\n",
       "      <th>SaleCondition</th>\n",
       "      <th>SalePrice</th>\n",
       "    </tr>\n",
       "  </thead>\n",
       "  <tbody>\n",
       "    <tr>\n",
       "      <th>0</th>\n",
       "      <td>1</td>\n",
       "      <td>60</td>\n",
       "      <td>RL</td>\n",
       "      <td>65.0</td>\n",
       "      <td>8450</td>\n",
       "      <td>Pave</td>\n",
       "      <td>NaN</td>\n",
       "      <td>Reg</td>\n",
       "      <td>Lvl</td>\n",
       "      <td>AllPub</td>\n",
       "      <td>...</td>\n",
       "      <td>0</td>\n",
       "      <td>NaN</td>\n",
       "      <td>NaN</td>\n",
       "      <td>NaN</td>\n",
       "      <td>0</td>\n",
       "      <td>2</td>\n",
       "      <td>2008</td>\n",
       "      <td>WD</td>\n",
       "      <td>Normal</td>\n",
       "      <td>208500</td>\n",
       "    </tr>\n",
       "    <tr>\n",
       "      <th>1</th>\n",
       "      <td>2</td>\n",
       "      <td>20</td>\n",
       "      <td>RL</td>\n",
       "      <td>80.0</td>\n",
       "      <td>9600</td>\n",
       "      <td>Pave</td>\n",
       "      <td>NaN</td>\n",
       "      <td>Reg</td>\n",
       "      <td>Lvl</td>\n",
       "      <td>AllPub</td>\n",
       "      <td>...</td>\n",
       "      <td>0</td>\n",
       "      <td>NaN</td>\n",
       "      <td>NaN</td>\n",
       "      <td>NaN</td>\n",
       "      <td>0</td>\n",
       "      <td>5</td>\n",
       "      <td>2007</td>\n",
       "      <td>WD</td>\n",
       "      <td>Normal</td>\n",
       "      <td>181500</td>\n",
       "    </tr>\n",
       "    <tr>\n",
       "      <th>2</th>\n",
       "      <td>3</td>\n",
       "      <td>60</td>\n",
       "      <td>RL</td>\n",
       "      <td>68.0</td>\n",
       "      <td>11250</td>\n",
       "      <td>Pave</td>\n",
       "      <td>NaN</td>\n",
       "      <td>IR1</td>\n",
       "      <td>Lvl</td>\n",
       "      <td>AllPub</td>\n",
       "      <td>...</td>\n",
       "      <td>0</td>\n",
       "      <td>NaN</td>\n",
       "      <td>NaN</td>\n",
       "      <td>NaN</td>\n",
       "      <td>0</td>\n",
       "      <td>9</td>\n",
       "      <td>2008</td>\n",
       "      <td>WD</td>\n",
       "      <td>Normal</td>\n",
       "      <td>223500</td>\n",
       "    </tr>\n",
       "    <tr>\n",
       "      <th>3</th>\n",
       "      <td>4</td>\n",
       "      <td>70</td>\n",
       "      <td>RL</td>\n",
       "      <td>60.0</td>\n",
       "      <td>9550</td>\n",
       "      <td>Pave</td>\n",
       "      <td>NaN</td>\n",
       "      <td>IR1</td>\n",
       "      <td>Lvl</td>\n",
       "      <td>AllPub</td>\n",
       "      <td>...</td>\n",
       "      <td>0</td>\n",
       "      <td>NaN</td>\n",
       "      <td>NaN</td>\n",
       "      <td>NaN</td>\n",
       "      <td>0</td>\n",
       "      <td>2</td>\n",
       "      <td>2006</td>\n",
       "      <td>WD</td>\n",
       "      <td>Abnorml</td>\n",
       "      <td>140000</td>\n",
       "    </tr>\n",
       "    <tr>\n",
       "      <th>4</th>\n",
       "      <td>5</td>\n",
       "      <td>60</td>\n",
       "      <td>RL</td>\n",
       "      <td>84.0</td>\n",
       "      <td>14260</td>\n",
       "      <td>Pave</td>\n",
       "      <td>NaN</td>\n",
       "      <td>IR1</td>\n",
       "      <td>Lvl</td>\n",
       "      <td>AllPub</td>\n",
       "      <td>...</td>\n",
       "      <td>0</td>\n",
       "      <td>NaN</td>\n",
       "      <td>NaN</td>\n",
       "      <td>NaN</td>\n",
       "      <td>0</td>\n",
       "      <td>12</td>\n",
       "      <td>2008</td>\n",
       "      <td>WD</td>\n",
       "      <td>Normal</td>\n",
       "      <td>250000</td>\n",
       "    </tr>\n",
       "  </tbody>\n",
       "</table>\n",
       "<p>5 rows × 81 columns</p>\n",
       "</div>"
      ],
      "text/plain": [
       "   Id  MSSubClass MSZoning  LotFrontage  LotArea Street Alley LotShape  \\\n",
       "0   1          60       RL         65.0     8450   Pave   NaN      Reg   \n",
       "1   2          20       RL         80.0     9600   Pave   NaN      Reg   \n",
       "2   3          60       RL         68.0    11250   Pave   NaN      IR1   \n",
       "3   4          70       RL         60.0     9550   Pave   NaN      IR1   \n",
       "4   5          60       RL         84.0    14260   Pave   NaN      IR1   \n",
       "\n",
       "  LandContour Utilities    ...     PoolArea PoolQC Fence MiscFeature MiscVal  \\\n",
       "0         Lvl    AllPub    ...            0    NaN   NaN         NaN       0   \n",
       "1         Lvl    AllPub    ...            0    NaN   NaN         NaN       0   \n",
       "2         Lvl    AllPub    ...            0    NaN   NaN         NaN       0   \n",
       "3         Lvl    AllPub    ...            0    NaN   NaN         NaN       0   \n",
       "4         Lvl    AllPub    ...            0    NaN   NaN         NaN       0   \n",
       "\n",
       "  MoSold YrSold  SaleType  SaleCondition  SalePrice  \n",
       "0      2   2008        WD         Normal     208500  \n",
       "1      5   2007        WD         Normal     181500  \n",
       "2      9   2008        WD         Normal     223500  \n",
       "3      2   2006        WD        Abnorml     140000  \n",
       "4     12   2008        WD         Normal     250000  \n",
       "\n",
       "[5 rows x 81 columns]"
      ]
     },
     "execution_count": 346,
     "metadata": {},
     "output_type": "execute_result"
    }
   ],
   "source": [
    "# house_price データを取得\n",
    "os.chdir('../week03')\n",
    "\n",
    "House_Prices = pd.read_csv('train.csv')\n",
    "House_Prices.head()"
   ]
  },
  {
   "cell_type": "code",
   "execution_count": 347,
   "metadata": {},
   "outputs": [
    {
     "name": "stdout",
     "output_type": "stream",
     "text": [
      "[[0.35879745 0.76015295]\n",
      " [0.94925038 0.65474382]\n",
      " [0.05946987 0.86676869]\n",
      " [0.00963531 0.71068529]]\n",
      "(4, 2)\n"
     ]
    }
   ],
   "source": [
    "# house_price を numpy に変更\n",
    "hp = House_Prices.values\n",
    "theta = np.random.rand(4, 2) # ランダムな行列データを作成する\n",
    "print(theta)\n",
    "print(theta.shape)"
   ]
  },
  {
   "cell_type": "code",
   "execution_count": 348,
   "metadata": {},
   "outputs": [],
   "source": [
    "# 目的変数と特徴量データにスライス\n",
    "Target = House_Prices[\"SalePrice\"]\n",
    "X_house = House_Prices.loc[:, [\"GrLivArea\", \"YearBuilt\"]]"
   ]
  },
  {
   "cell_type": "code",
   "execution_count": 349,
   "metadata": {},
   "outputs": [],
   "source": [
    "# データの分割（トラインデータと、テストデータに分割）\n",
    "X_train, X_test, y_train, y_test = train_test_split(X_house, Target, test_size = 0.25)"
   ]
  },
  {
   "cell_type": "code",
   "execution_count": 350,
   "metadata": {},
   "outputs": [],
   "source": [
    "# pandas から　numpy に変更\n",
    "X_train = X_train.values\n",
    "y_train = y_train.values\n",
    "\n",
    "X_test = X_test.values\n",
    "y_test = y_test.values"
   ]
  },
  {
   "cell_type": "code",
   "execution_count": 351,
   "metadata": {},
   "outputs": [],
   "source": [
    "# 標準化している（もしくはStandardScalerを使う）\n",
    "X_train_std = (X_train - X_train.mean()) / X_train.std()\n",
    "y_train_std = (y_train - y_train.mean()) / y_train.std()\n",
    "\n",
    "X_test_std = (X_test - X_test.mean()) / X_test.std()\n",
    "y_test_std = (y_test - y_test.mean()) / y_test.std()"
   ]
  },
  {
   "cell_type": "code",
   "execution_count": 352,
   "metadata": {},
   "outputs": [
    {
     "name": "stdout",
     "output_type": "stream",
     "text": [
      "切片: -2.7672822339755636\n",
      "パラメータ： [0.51237008 5.94182675]\n"
     ]
    }
   ],
   "source": [
    "# モデルを使用して学習と推定\n",
    "lr = LinearRegression()\n",
    "lr.fit(X_train_std, y_train_std)\n",
    "\n",
    "y_lr_pred = lr.predict(X_test)\n",
    "print(\"切片:\", lr.intercept_)\n",
    "print(\"パラメータ：\", lr.coef_)"
   ]
  },
  {
   "cell_type": "code",
   "execution_count": 353,
   "metadata": {},
   "outputs": [
    {
     "name": "stdout",
     "output_type": "stream",
     "text": [
      "(1095,)\n",
      "切片: 0.69633155368131\n",
      "パラメータ： [0.14496831]\n"
     ]
    }
   ],
   "source": [
    "slr = ScratchLinearRegression(bias=False, num_iter=1000, lr=0.001, verbose=0)\n",
    "slr.fit(X_train_std, y_train_std)\n",
    "\n",
    "y_slr_pred = slr.predict(X_test_std)\n",
    "print(\"切片:\", slr.theta[0])\n",
    "print(\"パラメータ：\", slr.theta[1:])"
   ]
  },
  {
   "cell_type": "markdown",
   "metadata": {},
   "source": [
    "### 【問題7】学習曲線のプロット\n",
    "学習曲線を表示する関数を作成し、実行してください。グラフを見て損失が適切に下がっているかどうか確認してください。"
   ]
  },
  {
   "cell_type": "code",
   "execution_count": 354,
   "metadata": {},
   "outputs": [
    {
     "data": {
      "text/plain": [
       "0.0"
      ]
     },
     "execution_count": 354,
     "metadata": {},
     "output_type": "execute_result"
    }
   ],
   "source": [
    "slr.loss[-1]"
   ]
  },
  {
   "cell_type": "code",
   "execution_count": 355,
   "metadata": {},
   "outputs": [
    {
     "data": {
      "image/png": "[encoded data removed]",
      "text/plain": [
       "<matplotlib.figure.Figure at 0x1171615f8>"
      ]
     },
     "metadata": {},
     "output_type": "display_data"
    }
   ],
   "source": [
    "plt.plot(slr.loss, color=\"blue\", label=\"TrainData\")\n",
    "plt.plot(slr.val_loss, color=\"red\", label=\"TestData\")\n",
    "plt.title(\"history of loss\")\n",
    "plt.xlabel(\"iteration\")\n",
    "plt.ylabel(\"loss\")\n",
    "plt.legend()\n",
    "\n",
    "plt.show()"
   ]
  },
  {
   "cell_type": "code",
   "execution_count": 358,
   "metadata": {},
   "outputs": [
    {
     "ename": "ValueError",
     "evalue": "shapes (10,4) and (2,) not aligned: 4 (dim 1) != 2 (dim 0)",
     "output_type": "error",
     "traceback": [
      "\u001b[0;31m------------------------------------------------------------------------\u001b[0m",
      "\u001b[0;31mValueError\u001b[0m                             Traceback (most recent call last)",
      "\u001b[0;32m<ipython-input-358-8343840bd616>\u001b[0m in \u001b[0;36m<module>\u001b[0;34m()\u001b[0m\n\u001b[1;32m      1\u001b[0m \u001b[0mX\u001b[0m \u001b[0;34m=\u001b[0m \u001b[0mnp\u001b[0m\u001b[0;34m.\u001b[0m\u001b[0marange\u001b[0m\u001b[0;34m(\u001b[0m\u001b[0;36m40\u001b[0m\u001b[0;34m)\u001b[0m\u001b[0;34m.\u001b[0m\u001b[0mreshape\u001b[0m\u001b[0;34m(\u001b[0m\u001b[0;36m10\u001b[0m\u001b[0;34m,\u001b[0m\u001b[0;36m4\u001b[0m\u001b[0;34m)\u001b[0m\u001b[0;34m\u001b[0m\u001b[0m\n\u001b[1;32m      2\u001b[0m \u001b[0;34m\u001b[0m\u001b[0m\n\u001b[0;32m----> 3\u001b[0;31m \u001b[0mslr\u001b[0m\u001b[0;34m.\u001b[0m\u001b[0m_linear_hypothesis\u001b[0m\u001b[0;34m(\u001b[0m\u001b[0mX\u001b[0m\u001b[0;34m)\u001b[0m\u001b[0;34m\u001b[0m\u001b[0m\n\u001b[0m",
      "\u001b[0;32m<ipython-input-335-14a792e379c2>\u001b[0m in \u001b[0;36m_linear_hypothesis\u001b[0;34m(self, X)\u001b[0m\n\u001b[1;32m     92\u001b[0m \u001b[0;34m\u001b[0m\u001b[0m\n\u001b[1;32m     93\u001b[0m         \"\"\"\n\u001b[0;32m---> 94\u001b[0;31m         \u001b[0mlinear_hypothesis\u001b[0m \u001b[0;34m=\u001b[0m \u001b[0mnp\u001b[0m\u001b[0;34m.\u001b[0m\u001b[0mdot\u001b[0m\u001b[0;34m(\u001b[0m\u001b[0mX\u001b[0m\u001b[0;34m,\u001b[0m \u001b[0mself\u001b[0m\u001b[0;34m.\u001b[0m\u001b[0mtheta\u001b[0m\u001b[0;34m)\u001b[0m\u001b[0;34m\u001b[0m\u001b[0m\n\u001b[0m\u001b[1;32m     95\u001b[0m         \u001b[0mprint\u001b[0m\u001b[0;34m(\u001b[0m\u001b[0mlinear_hypothesis\u001b[0m\u001b[0;34m.\u001b[0m\u001b[0mshape\u001b[0m\u001b[0;34m)\u001b[0m\u001b[0;34m\u001b[0m\u001b[0m\n\u001b[1;32m     96\u001b[0m         \u001b[0;32mreturn\u001b[0m \u001b[0mlinear_hypothesis\u001b[0m\u001b[0;34m\u001b[0m\u001b[0m\n",
      "\u001b[0;31mValueError\u001b[0m: shapes (10,4) and (2,) not aligned: 4 (dim 1) != 2 (dim 0)"
     ]
    }
   ],
   "source": [
    "X = np.arange(40).reshape(10,4)\n",
    "\n",
    "slr._linear_hypothesis(X)\n"
   ]
  },
  {
   "cell_type": "code",
   "execution_count": null,
   "metadata": {},
   "outputs": [],
   "source": []
  },
  {
   "cell_type": "code",
   "execution_count": null,
   "metadata": {},
   "outputs": [],
   "source": []
  },
  {
   "cell_type": "code",
   "execution_count": null,
   "metadata": {},
   "outputs": [],
   "source": []
  },
  {
   "cell_type": "code",
   "execution_count": null,
   "metadata": {},
   "outputs": [],
   "source": []
  },
  {
   "cell_type": "markdown",
   "metadata": {},
   "source": [
    "# *修司は力尽きた。。*"
   ]
  }
 ],
 "metadata": {
  "kernelspec": {
   "display_name": "Python 3",
   "language": "python",
   "name": "python3"
  },
  "language_info": {
   "codemirror_mode": {
    "name": "ipython",
    "version": 3
   },
   "file_extension": ".py",
   "mimetype": "text/x-python",
   "name": "python",
   "nbconvert_exporter": "python",
   "pygments_lexer": "ipython3",
   "version": "3.6.4"
  }
 },
 "nbformat": 4,
 "nbformat_minor": 2
}
