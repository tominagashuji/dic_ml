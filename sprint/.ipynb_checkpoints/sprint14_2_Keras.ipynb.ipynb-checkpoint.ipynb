{
 "cells": [
  {
   "cell_type": "markdown",
   "metadata": {},
   "source": [
    "# Sprint ディープラーニングフレームワーク2\n",
    "## 1.このSprintについて\n",
    "### Sprintの目的\n",
    "フレームワークのコードを読めるようにする\n",
    "フレームワークを習得し続けられるようになる\n",
    "理論を知っている範囲をフレームワークで動かす\n",
    "### どのように学ぶか\n",
    "前半はTensorFlowのExampleを動かします。後半ではKerasのコードを書いていきます。"
   ]
  },
  {
   "cell_type": "markdown",
   "metadata": {},
   "source": [
    "### 【問題1】公式Exampleを分担して実行\n",
    "TensorFLowの公式Exampleを分担して実行してください。\n",
    "以下の中から1人ひとつ選び実行し、その結果を簡単に発表してください。\n",
    "\n",
    "research\n",
    "\n",
    "定番のモデルから最新のモデルまで多様なコードが公開されています。\n",
    "\n",
    "models/research at master · tensorflow/models\n",
    "\n",
    "tutorials\n",
    "TensorFLowのチュートリアルとして用意された簡単なモデルが含まれています。\n",
    "\n",
    "models/tutorials at master · tensorflow/models"
   ]
  },
  {
   "cell_type": "code",
   "execution_count": 259,
   "metadata": {},
   "outputs": [],
   "source": [
    "# 下記のtensorflowのテンプレを発表。\n",
    "# https://tfhub.dev/s?module-type=image-generator\n",
    "# 画像を読み取り、各ブロック毎に切りとり、切り取った部分に何が写っているかを当てる（99% chareとか）"
   ]
  },
  {
   "cell_type": "markdown",
   "metadata": {},
   "source": [
    "### Kerasへの書き換え\n",
    "KerasはTensorFLowに含まれるtf.kerasモジュールを使用してください。\n",
    "\n",
    "KerasにはSequentialモデルかFunctional APIかなど書き方に種類がありますが、これは指定しません。\n",
    "\n",
    "### 【問題2】Iris（2値分類）をKerasで学習\n",
    "TensorFlowによるIrisデータセットに対する2値分類をKerasに書き換えてください。"
   ]
  },
  {
   "cell_type": "code",
   "execution_count": 285,
   "metadata": {},
   "outputs": [],
   "source": [
    "import os # ファイルの読み込み先のpath指定する時に必要\n",
    "import numpy as np\n",
    "import pandas as pd\n",
    "import tensorflow as tf\n",
    "import matplotlib.pyplot as plt # グラフ描写のライブラリー\n",
    "import matplotlib.patches as mpatches # 【問題7】可視化\n",
    "\n",
    "\n",
    "from sklearn.datasets import load_iris # アイリスデータ\n",
    "from tensorflow import keras\n",
    "from sklearn.preprocessing import StandardScaler # 標準化\n",
    "from sklearn.metrics import accuracy_score # 正解率\n",
    "from sklearn import metrics"
   ]
  },
  {
   "cell_type": "code",
   "execution_count": 261,
   "metadata": {},
   "outputs": [],
   "source": [
    "# iris データの取得\n",
    "iris = load_iris()\n",
    "df1 = pd.DataFrame(iris.data, columns=iris.feature_names) \n",
    "df1[\"species\"] = iris.target\n",
    "df1 = df1[df1[\"species\"].isin([\"1\",\"2\"])]\n",
    "X = df1.loc[:,['sepal length (cm)','sepal width (cm)','petal length (cm)','petal width (cm)']]\n",
    "Y = df1.loc[:,['species']]"
   ]
  },
  {
   "cell_type": "code",
   "execution_count": 262,
   "metadata": {},
   "outputs": [
    {
     "name": "stderr",
     "output_type": "stream",
     "text": [
      "/Users/tominagashuuji/.pyenv/versions/anaconda3-5.1.0/lib/python3.6/site-packages/ipykernel_launcher.py:3: UserWarning: Update your `Dense` call to the Keras 2 API: `Dense(12, input_dim=4, activation=\"relu\", kernel_initializer=\"uniform\")`\n",
      "  This is separate from the ipykernel package so we can avoid doing imports until\n",
      "/Users/tominagashuuji/.pyenv/versions/anaconda3-5.1.0/lib/python3.6/site-packages/ipykernel_launcher.py:4: UserWarning: Update your `Dense` call to the Keras 2 API: `Dense(8, activation=\"relu\", kernel_initializer=\"uniform\")`\n",
      "  after removing the cwd from sys.path.\n",
      "/Users/tominagashuuji/.pyenv/versions/anaconda3-5.1.0/lib/python3.6/site-packages/ipykernel_launcher.py:5: UserWarning: Update your `Dense` call to the Keras 2 API: `Dense(1, activation=\"sigmoid\", kernel_initializer=\"uniform\")`\n",
      "  \"\"\"\n"
     ]
    }
   ],
   "source": [
    "# create model\n",
    "model = Sequential()\n",
    "model.add(Dense(12, input_dim=4, init='uniform', activation='relu'))\n",
    "model.add(Dense(8, init='uniform', activation='relu'))\n",
    "model.add(Dense(1, init='uniform', activation='sigmoid'))\n",
    "# model.add(Dense(1, init='uniform', activation='softmax'))"
   ]
  },
  {
   "cell_type": "code",
   "execution_count": 263,
   "metadata": {},
   "outputs": [],
   "source": [
    "# compile model\n",
    "model.compile(loss='binary_crossentropy',\n",
    "              optimizer='adam',\n",
    "              metrics=['accuracy'])"
   ]
  },
  {
   "cell_type": "code",
   "execution_count": 264,
   "metadata": {},
   "outputs": [
    {
     "name": "stderr",
     "output_type": "stream",
     "text": [
      "/Users/tominagashuuji/.pyenv/versions/anaconda3-5.1.0/lib/python3.6/site-packages/ipykernel_launcher.py:2: UserWarning: The `nb_epoch` argument in `fit` has been renamed `epochs`.\n",
      "  \n"
     ]
    },
    {
     "name": "stdout",
     "output_type": "stream",
     "text": [
      "Epoch 1/50\n",
      "100/100 [==============================] - 2s 18ms/step - loss: 0.6858 - acc: 0.5000\n",
      "Epoch 2/50\n",
      "100/100 [==============================] - 0s 361us/step - loss: 0.6693 - acc: 0.5000\n",
      "Epoch 3/50\n",
      "100/100 [==============================] - 0s 409us/step - loss: 0.6458 - acc: 0.5000\n",
      "Epoch 4/50\n",
      "100/100 [==============================] - 0s 349us/step - loss: 0.6141 - acc: 0.5000\n",
      "Epoch 5/50\n",
      "100/100 [==============================] - 0s 341us/step - loss: 0.5638 - acc: 0.5000\n",
      "Epoch 6/50\n",
      "100/100 [==============================] - 0s 313us/step - loss: 0.4963 - acc: 0.5000\n",
      "Epoch 7/50\n",
      "100/100 [==============================] - 0s 309us/step - loss: 0.4001 - acc: 0.5000\n",
      "Epoch 8/50\n",
      "100/100 [==============================] - 0s 372us/step - loss: 0.2719 - acc: 0.5000\n",
      "Epoch 9/50\n",
      "100/100 [==============================] - 0s 315us/step - loss: 0.1090 - acc: 0.5000\n",
      "Epoch 10/50\n",
      "100/100 [==============================] - 0s 450us/step - loss: -0.0909 - acc: 0.5000\n",
      "Epoch 11/50\n",
      "100/100 [==============================] - 0s 310us/step - loss: -0.3259 - acc: 0.5000\n",
      "Epoch 12/50\n",
      "100/100 [==============================] - 0s 378us/step - loss: -0.5814 - acc: 0.5000\n",
      "Epoch 13/50\n",
      "100/100 [==============================] - 0s 272us/step - loss: -0.8716 - acc: 0.5000\n",
      "Epoch 14/50\n",
      "100/100 [==============================] - 0s 303us/step - loss: -1.1770 - acc: 0.5000\n",
      "Epoch 15/50\n",
      "100/100 [==============================] - 0s 268us/step - loss: -1.5163 - acc: 0.5000\n",
      "Epoch 16/50\n",
      "100/100 [==============================] - 0s 378us/step - loss: -1.8817 - acc: 0.5000\n",
      "Epoch 17/50\n",
      "100/100 [==============================] - 0s 380us/step - loss: -2.2927 - acc: 0.5000\n",
      "Epoch 18/50\n",
      "100/100 [==============================] - 0s 301us/step - loss: -2.7429 - acc: 0.5000\n",
      "Epoch 19/50\n",
      "100/100 [==============================] - 0s 282us/step - loss: -3.2455 - acc: 0.5000\n",
      "Epoch 20/50\n",
      "100/100 [==============================] - 0s 286us/step - loss: -3.8250 - acc: 0.5000\n",
      "Epoch 21/50\n",
      "100/100 [==============================] - 0s 428us/step - loss: -4.5256 - acc: 0.5000\n",
      "Epoch 22/50\n",
      "100/100 [==============================] - 0s 388us/step - loss: -5.2525 - acc: 0.5000\n",
      "Epoch 23/50\n",
      "100/100 [==============================] - 0s 301us/step - loss: -6.0308 - acc: 0.5000\n",
      "Epoch 24/50\n",
      "100/100 [==============================] - 0s 325us/step - loss: -7.0393 - acc: 0.5000\n",
      "Epoch 25/50\n",
      "100/100 [==============================] - 0s 307us/step - loss: -7.7092 - acc: 0.5000\n",
      "Epoch 26/50\n",
      "100/100 [==============================] - 0s 333us/step - loss: -7.9448 - acc: 0.5000\n",
      "Epoch 27/50\n",
      "100/100 [==============================] - 0s 279us/step - loss: -7.9643 - acc: 0.5000\n",
      "Epoch 28/50\n",
      "100/100 [==============================] - 0s 249us/step - loss: -7.9712 - acc: 0.5000\n",
      "Epoch 29/50\n",
      "100/100 [==============================] - 0s 277us/step - loss: -7.9712 - acc: 0.5000\n",
      "Epoch 30/50\n",
      "100/100 [==============================] - 0s 288us/step - loss: -7.9712 - acc: 0.5000\n",
      "Epoch 31/50\n",
      "100/100 [==============================] - 0s 260us/step - loss: -7.9671 - acc: 0.5000\n",
      "Epoch 32/50\n",
      "100/100 [==============================] - 0s 270us/step - loss: -7.9643 - acc: 0.5000\n",
      "Epoch 33/50\n",
      "100/100 [==============================] - 0s 239us/step - loss: -7.9671 - acc: 0.5000\n",
      "Epoch 34/50\n",
      "100/100 [==============================] - 0s 248us/step - loss: -7.9671 - acc: 0.5000\n",
      "Epoch 35/50\n",
      "100/100 [==============================] - 0s 268us/step - loss: -7.9712 - acc: 0.5000\n",
      "Epoch 36/50\n",
      "100/100 [==============================] - 0s 304us/step - loss: -7.9712 - acc: 0.5000\n",
      "Epoch 37/50\n",
      "100/100 [==============================] - 0s 297us/step - loss: -7.9712 - acc: 0.5000\n",
      "Epoch 38/50\n",
      "100/100 [==============================] - 0s 279us/step - loss: -7.9712 - acc: 0.5000\n",
      "Epoch 39/50\n",
      "100/100 [==============================] - 0s 319us/step - loss: -7.9712 - acc: 0.5000\n",
      "Epoch 40/50\n",
      "100/100 [==============================] - 0s 262us/step - loss: -7.9712 - acc: 0.5000\n",
      "Epoch 41/50\n",
      "100/100 [==============================] - 0s 259us/step - loss: -7.9712 - acc: 0.5000\n",
      "Epoch 42/50\n",
      "100/100 [==============================] - 0s 362us/step - loss: -7.9712 - acc: 0.5000\n",
      "Epoch 43/50\n",
      "100/100 [==============================] - 0s 222us/step - loss: -7.9712 - acc: 0.5000\n",
      "Epoch 44/50\n",
      "100/100 [==============================] - 0s 259us/step - loss: -7.9712 - acc: 0.5000\n",
      "Epoch 45/50\n",
      "100/100 [==============================] - 0s 339us/step - loss: -7.9712 - acc: 0.5000\n",
      "Epoch 46/50\n",
      "100/100 [==============================] - 0s 296us/step - loss: -7.9712 - acc: 0.5000\n",
      "Epoch 47/50\n",
      "100/100 [==============================] - 0s 310us/step - loss: -7.9712 - acc: 0.5000\n",
      "Epoch 48/50\n",
      "100/100 [==============================] - 0s 271us/step - loss: -7.9712 - acc: 0.5000\n",
      "Epoch 49/50\n",
      "100/100 [==============================] - 0s 227us/step - loss: -7.9712 - acc: 0.5000\n",
      "Epoch 50/50\n",
      "100/100 [==============================] - 0s 359us/step - loss: -7.9712 - acc: 0.5000\n"
     ]
    },
    {
     "data": {
      "text/plain": [
       "<keras.callbacks.History at 0x1395bc208>"
      ]
     },
     "execution_count": 264,
     "metadata": {},
     "output_type": "execute_result"
    }
   ],
   "source": [
    "# fit the model\n",
    "model.fit(X, Y, nb_epoch=50, batch_size=10)"
   ]
  },
  {
   "cell_type": "code",
   "execution_count": 265,
   "metadata": {},
   "outputs": [
    {
     "name": "stdout",
     "output_type": "stream",
     "text": [
      "100/100 [==============================] - 1s 5ms/step\n",
      "acc: 50.00%\n"
     ]
    }
   ],
   "source": [
    "# evaluate the model\n",
    "scores = model.evaluate(X, Y)\n",
    "print(\"%s: %.2f%%\" % (model.metrics_names[1], scores[1] * 100))"
   ]
  },
  {
   "cell_type": "code",
   "execution_count": 266,
   "metadata": {},
   "outputs": [
    {
     "name": "stdout",
     "output_type": "stream",
     "text": [
      "['loss', 'acc']\n",
      "[-7.971192350387555, 0.5]\n"
     ]
    }
   ],
   "source": [
    "print(model.metrics_names)\n",
    "print(scores)"
   ]
  },
  {
   "cell_type": "code",
   "execution_count": 267,
   "metadata": {},
   "outputs": [],
   "source": [
    "predictions = np.round(model.predict(X))\n",
    "# print(predictions)\n",
    "# correct = Y[:, np.newaxis]"
   ]
  },
  {
   "cell_type": "markdown",
   "metadata": {},
   "source": [
    "### 【問題3】Iris（多値分類）をKerasで学習\n",
    "TensorFlowによるIrisデータセットに対する3値分類をKerasに書き換えてください。"
   ]
  },
  {
   "cell_type": "code",
   "execution_count": 268,
   "metadata": {},
   "outputs": [],
   "source": [
    "#データのロード\n",
    "from sklearn.datasets import load_iris\n",
    "iris = load_iris()\n",
    "\n",
    "# print(iris.data) # xデータ\n",
    "# print(iris.feature_names) # 変数の説明\n",
    "# print(iris.target) # yデータ\n",
    "# print(iris.target_names) # 変数の説明"
   ]
  },
  {
   "cell_type": "code",
   "execution_count": 269,
   "metadata": {},
   "outputs": [
    {
     "name": "stdout",
     "output_type": "stream",
     "text": [
      "<class 'numpy.ndarray'>\n",
      "<class 'numpy.ndarray'>\n"
     ]
    }
   ],
   "source": [
    "# データのタイプ確認\n",
    "print(type(iris.data))\n",
    "print(type(iris.target))"
   ]
  },
  {
   "cell_type": "code",
   "execution_count": 270,
   "metadata": {},
   "outputs": [],
   "source": [
    "#データ処理。one-hot エンコーディングの実施。up_utiles関数を使用\n",
    "from keras.utils import np_utils\n",
    "data_y = np_utils.to_categorical(iris.target)"
   ]
  },
  {
   "cell_type": "code",
   "execution_count": 271,
   "metadata": {},
   "outputs": [],
   "source": [
    "# データの分離\n",
    "from sklearn.model_selection import train_test_split\n",
    "data_X = iris.data\n",
    "data_y = np_utils.to_categorical(iris.target)\n",
    "X_train, X_test, y_train, y_test = train_test_split(data_X, data_y, test_size=0.3, random_state=0)\n",
    "# print(X_train, X_test, y_train, y_test)"
   ]
  },
  {
   "cell_type": "code",
   "execution_count": 272,
   "metadata": {},
   "outputs": [
    {
     "name": "stderr",
     "output_type": "stream",
     "text": [
      "/Users/tominagashuuji/.pyenv/versions/anaconda3-5.1.0/lib/python3.6/site-packages/ipykernel_launcher.py:11: UserWarning: Update your `Dense` call to the Keras 2 API: `Dense(input_dim=4, activation=\"relu\", units=100, use_bias=True)`\n",
      "  # This is added back by InteractiveShellApp.init_path()\n",
      "/Users/tominagashuuji/.pyenv/versions/anaconda3-5.1.0/lib/python3.6/site-packages/ipykernel_launcher.py:12: UserWarning: Update your `Dense` call to the Keras 2 API: `Dense(input_dim=100, activation=\"softmax\", units=3, use_bias=True)`\n",
      "  if sys.path[0] == '':\n"
     ]
    }
   ],
   "source": [
    "# Kearsで学習\n",
    "# 流れはモデル定義＞ネットワーク構築＞コンパイル＞実行\n",
    "from keras.models import Sequential\n",
    "from keras.layers.core import Dense\n",
    "from keras.utils import to_categorical\n",
    "from keras.optimizers import Adam\n",
    "from keras.callbacks import CSVLogger\n",
    "\n",
    "# モデル作成（定義）\n",
    "model = Sequential()\n",
    "model.add(Dense(input_dim=4, output_dim=100, bias=True, activation='relu'))\n",
    "model.add(Dense(input_dim=100, output_dim=3, bias=True, activation='softmax'))\n",
    "model.compile(loss='categorical_crossentropy', optimizer=Adam(), metrics=['accuracy'])\n",
    "csv_logger = CSVLogger('log.csv', separator=',', append=False)\n",
    "history = model.fit(X_train, y_train,\n",
    "                    batch_size=32, epochs=100,\n",
    "                    validation_data=(X_test, y_test),\n",
    "                    verbose=0,\n",
    "                    callbacks=[csv_logger])"
   ]
  },
  {
   "cell_type": "code",
   "execution_count": 273,
   "metadata": {},
   "outputs": [
    {
     "name": "stdout",
     "output_type": "stream",
     "text": [
      "105/105 [==============================] - 0s 81us/step\n",
      "45/45 [==============================] - 0s 101us/step\n",
      "Train loss: 0.16642091941265832\n",
      "Train accuracy: 0.9714285719962347\n",
      "Test loss: 0.21294478244251674\n",
      "Test accuracy: 0.9555555568801032\n"
     ]
    }
   ],
   "source": [
    "# モデルの評価 model.evaluate を使うと学習し終えたモデルの誤差と精度を呼び出せる\n",
    "train_score = model.evaluate(X_train, y_train)\n",
    "test_score = model.evaluate(X_test, y_test)\n",
    "print('Train loss:', train_score[0])\n",
    "print('Train accuracy:', train_score[1])\n",
    "print('Test loss:', test_score[0])\n",
    "print('Test accuracy:', test_score[1])"
   ]
  },
  {
   "cell_type": "code",
   "execution_count": 274,
   "metadata": {},
   "outputs": [
    {
     "name": "stdout",
     "output_type": "stream",
     "text": [
      "[1 2 2 2 2 1 2 1 1 2 2 2 2 1 2 1 0 2 1 1 1 1 2 0 0 2 1 0 0 1 0 2 1 0 2 2 1\n",
      " 0 2 2 2 2 0 0 2 2 0 2 0 2 2 0 0 2 0 0 0 1 2 2 0 0 0 1 1 0 0 1 0 2 1 2 1 0\n",
      " 2 0 2 0 0 2 0 2 1 1 1 2 2 2 1 0 1 2 2 0 1 1 2 1 0 0 0 2 1 2 0]\n",
      "[1 2 2 2 2 1 2 1 1 2 2 2 2 1 2 1 0 2 1 1 1 1 2 0 0 2 1 0 0 1 0 2 1 0 1 2 1\n",
      " 0 2 2 2 2 0 0 2 2 0 2 0 2 2 0 0 2 0 0 0 1 2 2 0 0 0 1 1 0 0 1 0 2 1 2 1 0\n",
      " 2 0 2 0 0 2 0 2 1 1 1 2 2 1 1 0 1 2 2 0 1 1 1 1 0 0 0 2 1 2 0]\n",
      "[2 1 0 2 0 2 0 1 1 1 2 1 1 1 1 0 1 1 0 0 2 1 0 0 2 0 0 1 1 0 2 2 0 2 2 1 0\n",
      " 2 1 1 2 0 2 0 0]\n",
      "[2 1 0 2 0 2 0 1 1 1 2 1 1 1 1 0 1 1 0 0 2 1 0 0 2 0 0 1 1 0 2 1 0 2 2 1 0\n",
      " 1 1 1 2 0 2 0 0]\n"
     ]
    }
   ],
   "source": [
    "# model.predictでは具体的な予測結果が分かる\n",
    "pred_train = model.predict(X_train)\n",
    "pred_test = model.predict(X_test)\n",
    "pred_train = np.argmax(pred_train, axis=1)\n",
    "pred_test = np.argmax(pred_test, axis=1)\n",
    "\n",
    "print(pred_train)\n",
    "print(np.argmax(y_train, axis=1))\n",
    "print(pred_test)\n",
    "print(np.argmax(y_test, axis=1))"
   ]
  },
  {
   "cell_type": "code",
   "execution_count": 275,
   "metadata": {},
   "outputs": [],
   "source": [
    "#モデルの保存\n",
    "from keras.models import model_from_json\n",
    "\n",
    "model_json = model.to_json()\n",
    "with open('model.json', 'w') as file:\n",
    "    file.write(model_json)\n",
    "\n",
    "model.save_weights('weights.hdf5')"
   ]
  },
  {
   "cell_type": "code",
   "execution_count": 276,
   "metadata": {},
   "outputs": [
    {
     "name": "stdout",
     "output_type": "stream",
     "text": [
      "105/105 [==============================] - 1s 11ms/step\n",
      "45/45 [==============================] - 0s 118us/step\n",
      "Train score: 0.16642091941265832\n",
      "Train accuracy: 0.9714285719962347\n",
      "Test score: 0.21294478244251674\n",
      "Test accuracy: 0.9555555568801032\n"
     ]
    }
   ],
   "source": [
    "# モデルの読み込み\n",
    "with open('model.json', 'r') as file:\n",
    "    model_json = file.read()\n",
    "    model = model_from_json(model_json)\n",
    "\n",
    "model.load_weights('weights.hdf5')\n",
    "\n",
    "model.compile(loss='categorical_crossentropy', optimizer=Adam(), metrics=['accuracy'])\n",
    "train_score = model.evaluate(X_train, y_train)\n",
    "test_score = model.evaluate(X_test, y_test)\n",
    "print('Train score:', train_score[0])\n",
    "print('Train accuracy:', train_score[1])\n",
    "print('Test score:', test_score[0])\n",
    "print('Test accuracy:', test_score[1])"
   ]
  },
  {
   "cell_type": "markdown",
   "metadata": {},
   "source": [
    "### 【問題4】House PricesをKerasで学習\n",
    "TensorFlowによるHouse Pricesデータセットに対する回帰をKerasに書き換えてください。"
   ]
  },
  {
   "cell_type": "code",
   "execution_count": 277,
   "metadata": {},
   "outputs": [
    {
     "name": "stdout",
     "output_type": "stream",
     "text": [
      "1.14.0\n"
     ]
    }
   ],
   "source": [
    "print(tf.__version__)"
   ]
  },
  {
   "cell_type": "code",
   "execution_count": 278,
   "metadata": {},
   "outputs": [],
   "source": [
    "# データの取り込み\n",
    "df_train = pd.read_csv('../../dic_ml_ans/train.csv')"
   ]
  },
  {
   "cell_type": "code",
   "execution_count": 279,
   "metadata": {},
   "outputs": [],
   "source": [
    "# データ分離\n",
    "cols = ['SalePrice','OverallQual', 'GrLivArea', 'GarageCars', 'FullBath', 'YearBuilt']\n",
    "df_train = df_train[cols]\n",
    "# Create dummy values\n",
    "df_train = pd.get_dummies(df_train)\n",
    "#filling NA's with the mean of the column:\n",
    "df_train = df_train.fillna(df_train.mean())\n",
    "# Always standard scale the data before using NN\n",
    "scale = StandardScaler()\n",
    "X_train = df_train[['OverallQual', 'GrLivArea', 'GarageCars', 'FullBath', 'YearBuilt']]\n",
    "X_train = scale.fit_transform(X_train)\n",
    "# Y is just the 'SalePrice' column\n",
    "y = df_train['SalePrice'].values\n",
    "seed = 7\n",
    "np.random.seed(seed)\n",
    "# split into 67% for train and 33% for test\n",
    "X_train, X_test, y_train, y_test = train_test_split(X_train, y, test_size=0.33, random_state=seed)"
   ]
  },
  {
   "cell_type": "code",
   "execution_count": 280,
   "metadata": {},
   "outputs": [],
   "source": [
    "# モデルの作成\n",
    "def create_model():\n",
    "    # create model\n",
    "    model = Sequential()\n",
    "    model.add(Dense(10, input_dim=X_train.shape[1], activation='relu'))\n",
    "    model.add(Dense(30, activation='relu'))\n",
    "    model.add(Dense(40, activation='relu'))\n",
    "    model.add(Dense(1))\n",
    "    # Compile model\n",
    "    model.compile(optimizer ='adam', loss = 'mean_squared_error', \n",
    "              metrics =[metrics.mae])\n",
    "    return model"
   ]
  },
  {
   "cell_type": "code",
   "execution_count": 282,
   "metadata": {},
   "outputs": [
    {
     "name": "stdout",
     "output_type": "stream",
     "text": [
      "Model: \"sequential_38\"\n",
      "_________________________________________________________________\n",
      "Layer (type)                 Output Shape              Param #   \n",
      "=================================================================\n",
      "dense_109 (Dense)            (None, 10)                60        \n",
      "_________________________________________________________________\n",
      "dense_110 (Dense)            (None, 30)                330       \n",
      "_________________________________________________________________\n",
      "dense_111 (Dense)            (None, 40)                1240      \n",
      "_________________________________________________________________\n",
      "dense_112 (Dense)            (None, 1)                 41        \n",
      "=================================================================\n",
      "Total params: 1,671\n",
      "Trainable params: 1,671\n",
      "Non-trainable params: 0\n",
      "_________________________________________________________________\n"
     ]
    }
   ],
   "source": [
    "from keras import metrics\n",
    "model = create_model()\n",
    "model.summary()"
   ]
  },
  {
   "cell_type": "code",
   "execution_count": 283,
   "metadata": {},
   "outputs": [
    {
     "name": "stdout",
     "output_type": "stream",
     "text": [
      "Train on 978 samples, validate on 482 samples\n",
      "Epoch 1/150\n",
      "978/978 [==============================] - 3s 3ms/step - loss: 38028677815.2311 - mean_absolute_error: 179315.3897 - val_loss: 41088962589.7427 - val_mean_absolute_error: 184177.2654\n",
      "Epoch 2/150\n",
      "978/978 [==============================] - 0s 166us/step - loss: 38027988757.4642 - mean_absolute_error: 179313.5436 - val_loss: 41087762058.0913 - val_mean_absolute_error: 184174.2361\n",
      "Epoch 3/150\n",
      "978/978 [==============================] - 0s 149us/step - loss: 38026116064.5890 - mean_absolute_error: 179308.6184 - val_loss: 41084460563.1203 - val_mean_absolute_error: 184165.9694\n",
      "Epoch 4/150\n",
      "978/978 [==============================] - 0s 114us/step - loss: 38021159385.2597 - mean_absolute_error: 179295.5069 - val_loss: 41076111538.4564 - val_mean_absolute_error: 184145.0953\n",
      "Epoch 5/150\n",
      "978/978 [==============================] - 0s 141us/step - loss: 38009105418.4704 - mean_absolute_error: 179263.8392 - val_loss: 41056388941.5436 - val_mean_absolute_error: 184096.3781\n",
      "Epoch 6/150\n",
      "978/978 [==============================] - 0s 128us/step - loss: 37982337430.2495 - mean_absolute_error: 179195.2090 - val_loss: 41016596335.5353 - val_mean_absolute_error: 183999.1454\n",
      "Epoch 7/150\n",
      "978/978 [==============================] - 0s 157us/step - loss: 37932145180.2699 - mean_absolute_error: 179068.4868 - val_loss: 40946882874.4232 - val_mean_absolute_error: 183829.7030\n",
      "Epoch 8/150\n",
      "978/978 [==============================] - 0s 138us/step - loss: 37848743341.2843 - mean_absolute_error: 178855.2138 - val_loss: 40835156839.0373 - val_mean_absolute_error: 183558.8233\n",
      "Epoch 9/150\n",
      "978/978 [==============================] - 0s 162us/step - loss: 37719552820.8753 - mean_absolute_error: 178526.2614 - val_loss: 40665463140.9129 - val_mean_absolute_error: 183148.3909\n",
      "Epoch 10/150\n",
      "978/978 [==============================] - 0s 154us/step - loss: 37528291030.6421 - mean_absolute_error: 178038.7150 - val_loss: 40420221769.2946 - val_mean_absolute_error: 182555.9733\n",
      "Epoch 11/150\n",
      "978/978 [==============================] - 0s 179us/step - loss: 37259534361.1288 - mean_absolute_error: 177350.4072 - val_loss: 40079569197.6763 - val_mean_absolute_error: 181732.4442\n",
      "Epoch 12/150\n",
      "978/978 [==============================] - 0s 108us/step - loss: 36889522314.2086 - mean_absolute_error: 176406.8736 - val_loss: 39628869865.6929 - val_mean_absolute_error: 180637.3238\n",
      "Epoch 13/150\n",
      "978/978 [==============================] - 0s 116us/step - loss: 36403412242.3231 - mean_absolute_error: 175167.0367 - val_loss: 39042072223.3361 - val_mean_absolute_error: 179204.0537\n",
      "Epoch 14/150\n",
      "978/978 [==============================] - 0s 216us/step - loss: 35788671985.3415 - mean_absolute_error: 173571.8870 - val_loss: 38304325266.5892 - val_mean_absolute_error: 177385.3346\n",
      "Epoch 15/150\n",
      "978/978 [==============================] - 0s 211us/step - loss: 35016807137.1125 - mean_absolute_error: 171566.1959 - val_loss: 37403847684.2490 - val_mean_absolute_error: 175144.0920\n",
      "Epoch 16/150\n",
      "978/978 [==============================] - 0s 156us/step - loss: 34085345895.6564 - mean_absolute_error: 169100.8471 - val_loss: 36320276454.5062 - val_mean_absolute_error: 172411.8012\n",
      "Epoch 17/150\n",
      "978/978 [==============================] - 0s 178us/step - loss: 32988893359.9018 - mean_absolute_error: 166123.8876 - val_loss: 35027897666.9212 - val_mean_absolute_error: 169099.3943\n",
      "Epoch 18/150\n",
      "978/978 [==============================] - 0s 150us/step - loss: 31695977126.4785 - mean_absolute_error: 162578.2036 - val_loss: 33562085426.9876 - val_mean_absolute_error: 165249.0917\n",
      "Epoch 19/150\n",
      "978/978 [==============================] - 0s 133us/step - loss: 30232361366.2495 - mean_absolute_error: 158478.8657 - val_loss: 31912437760.0000 - val_mean_absolute_error: 160804.4138\n",
      "Epoch 20/150\n",
      "978/978 [==============================] - 0s 127us/step - loss: 28596921626.6994 - mean_absolute_error: 153795.5421 - val_loss: 30055283401.8257 - val_mean_absolute_error: 155648.9846\n",
      "Epoch 21/150\n",
      "978/978 [==============================] - 0s 128us/step - loss: 26798390035.3701 - mean_absolute_error: 148479.5362 - val_loss: 28041647167.7344 - val_mean_absolute_error: 149861.4521\n",
      "Epoch 22/150\n",
      "978/978 [==============================] - 0s 102us/step - loss: 24862599130.3068 - mean_absolute_error: 142630.0702 - val_loss: 25925716320.6639 - val_mean_absolute_error: 143509.5471\n",
      "Epoch 23/150\n",
      "978/978 [==============================] - 0s 106us/step - loss: 22856359316.1554 - mean_absolute_error: 136276.4401 - val_loss: 23672242095.2697 - val_mean_absolute_error: 136467.9681\n",
      "Epoch 24/150\n",
      "978/978 [==============================] - 0s 130us/step - loss: 20748555594.8630 - mean_absolute_error: 129321.8355 - val_loss: 21395144967.4357 - val_mean_absolute_error: 128938.3676\n",
      "Epoch 25/150\n",
      "978/978 [==============================] - 0s 117us/step - loss: 18658797228.7607 - mean_absolute_error: 122115.7083 - val_loss: 19112242320.4647 - val_mean_absolute_error: 121002.5882\n",
      "Epoch 26/150\n",
      "978/978 [==============================] - 0s 115us/step - loss: 16553516293.7587 - mean_absolute_error: 114611.5266 - val_loss: 16930535574.8382 - val_mean_absolute_error: 113130.2422\n",
      "Epoch 27/150\n",
      "978/978 [==============================] - 0s 134us/step - loss: 14581536813.0225 - mean_absolute_error: 107100.1477 - val_loss: 14770015305.2946 - val_mean_absolute_error: 105060.8698\n",
      "Epoch 28/150\n",
      "978/978 [==============================] - 0s 206us/step - loss: 12728148696.7362 - mean_absolute_error: 99508.1240 - val_loss: 12813038031.1369 - val_mean_absolute_error: 97259.5258\n",
      "Epoch 29/150\n",
      "978/978 [==============================] - 0s 153us/step - loss: 11055943734.4458 - mean_absolute_error: 92208.7960 - val_loss: 11058670333.8755 - val_mean_absolute_error: 89736.3873\n",
      "Epoch 30/150\n",
      "978/978 [==============================] - 0s 151us/step - loss: 9582699554.5521 - mean_absolute_error: 85190.0675 - val_loss: 9536007578.5560 - val_mean_absolute_error: 82652.6529\n",
      "Epoch 31/150\n",
      "978/978 [==============================] - 0s 135us/step - loss: 8333884742.6748 - mean_absolute_error: 78548.1330 - val_loss: 8230729622.8382 - val_mean_absolute_error: 76054.5095\n",
      "Epoch 32/150\n",
      "978/978 [==============================] - 0s 118us/step - loss: 7301236361.1616 - mean_absolute_error: 72428.9254 - val_loss: 7152562672.8631 - val_mean_absolute_error: 70091.6566\n",
      "Epoch 33/150\n",
      "978/978 [==============================] - 0s 139us/step - loss: 6469548511.5419 - mean_absolute_error: 67271.0561 - val_loss: 6309828220.4149 - val_mean_absolute_error: 65013.3298\n",
      "Epoch 34/150\n",
      "978/978 [==============================] - 0s 127us/step - loss: 5843315408.3599 - mean_absolute_error: 62728.7191 - val_loss: 5618504539.2199 - val_mean_absolute_error: 60647.4701\n",
      "Epoch 35/150\n",
      "978/978 [==============================] - 0s 178us/step - loss: 5360086526.9530 - mean_absolute_error: 58955.8792 - val_loss: 5125440973.6763 - val_mean_absolute_error: 57488.0302\n",
      "Epoch 36/150\n",
      "978/978 [==============================] - 0s 122us/step - loss: 5006582114.9448 - mean_absolute_error: 56157.9828 - val_loss: 4758391345.4606 - val_mean_absolute_error: 54999.2443\n",
      "Epoch 37/150\n",
      "978/978 [==============================] - 0s 125us/step - loss: 4750905460.7444 - mean_absolute_error: 54199.8658 - val_loss: 4504943332.7801 - val_mean_absolute_error: 53189.2209\n",
      "Epoch 38/150\n",
      "978/978 [==============================] - 0s 166us/step - loss: 4566628462.9857 - mean_absolute_error: 52588.9799 - val_loss: 4304586589.4108 - val_mean_absolute_error: 51685.3169\n",
      "Epoch 39/150\n",
      "978/978 [==============================] - 0s 196us/step - loss: 4430015429.8896 - mean_absolute_error: 51366.8132 - val_loss: 4159795944.4315 - val_mean_absolute_error: 50631.0692\n",
      "Epoch 40/150\n",
      "978/978 [==============================] - 0s 113us/step - loss: 4328831262.8875 - mean_absolute_error: 50429.4939 - val_loss: 4051297373.6100 - val_mean_absolute_error: 49888.6060\n",
      "Epoch 41/150\n",
      "978/978 [==============================] - 0s 143us/step - loss: 4250404070.3476 - mean_absolute_error: 49712.0913 - val_loss: 3971050616.7635 - val_mean_absolute_error: 49354.2694\n",
      "Epoch 42/150\n",
      "978/978 [==============================] - 0s 137us/step - loss: 4185793668.4499 - mean_absolute_error: 49137.5900 - val_loss: 3897722415.6017 - val_mean_absolute_error: 48857.9735\n",
      "Epoch 43/150\n",
      "978/978 [==============================] - 0s 168us/step - loss: 4128605959.3292 - mean_absolute_error: 48714.9554 - val_loss: 3847643380.2490 - val_mean_absolute_error: 48520.7094\n",
      "Epoch 44/150\n",
      "978/978 [==============================] - 0s 152us/step - loss: 4079140201.7505 - mean_absolute_error: 48357.4708 - val_loss: 3794249418.0913 - val_mean_absolute_error: 48148.0269\n",
      "Epoch 45/150\n",
      "978/978 [==============================] - 0s 142us/step - loss: 4033229459.6319 - mean_absolute_error: 47956.0604 - val_loss: 3740320072.2324 - val_mean_absolute_error: 47753.3317\n",
      "Epoch 46/150\n",
      "978/978 [==============================] - 0s 119us/step - loss: 3989309081.9141 - mean_absolute_error: 47676.0040 - val_loss: 3703912173.0124 - val_mean_absolute_error: 47509.0305\n",
      "Epoch 47/150\n",
      "978/978 [==============================] - 0s 116us/step - loss: 3945890715.4847 - mean_absolute_error: 47377.3403 - val_loss: 3664189786.3568 - val_mean_absolute_error: 47233.0652\n",
      "Epoch 48/150\n",
      "978/978 [==============================] - 0s 110us/step - loss: 3905396759.2965 - mean_absolute_error: 47120.4173 - val_loss: 3626613741.6763 - val_mean_absolute_error: 46978.0616\n",
      "Epoch 49/150\n",
      "978/978 [==============================] - 0s 164us/step - loss: 3865331869.0552 - mean_absolute_error: 46865.4032 - val_loss: 3585953058.7884 - val_mean_absolute_error: 46686.9388\n",
      "Epoch 50/150\n",
      "978/978 [==============================] - 0s 112us/step - loss: 3826175070.2331 - mean_absolute_error: 46596.5742 - val_loss: 3555025377.9917 - val_mean_absolute_error: 46480.3765\n",
      "Epoch 51/150\n",
      "978/978 [==============================] - 0s 120us/step - loss: 3784810702.7894 - mean_absolute_error: 46296.2551 - val_loss: 3513530685.8755 - val_mean_absolute_error: 46190.6568\n",
      "Epoch 52/150\n",
      "978/978 [==============================] - 0s 126us/step - loss: 3744780019.9591 - mean_absolute_error: 46020.1372 - val_loss: 3472471936.9295 - val_mean_absolute_error: 45878.8290\n",
      "Epoch 53/150\n",
      "978/978 [==============================] - 0s 204us/step - loss: 3706900021.1370 - mean_absolute_error: 45767.7997 - val_loss: 3438513387.4191 - val_mean_absolute_error: 45645.1888\n",
      "Epoch 54/150\n",
      "978/978 [==============================] - 0s 179us/step - loss: 3667082491.0266 - mean_absolute_error: 45482.9371 - val_loss: 3399786179.2531 - val_mean_absolute_error: 45358.1953\n",
      "Epoch 55/150\n",
      "978/978 [==============================] - 0s 157us/step - loss: 3627087980.8916 - mean_absolute_error: 45200.5404 - val_loss: 3359696129.8589 - val_mean_absolute_error: 45067.3906\n",
      "Epoch 56/150\n",
      "978/978 [==============================] - 0s 143us/step - loss: 3589210819.7955 - mean_absolute_error: 44890.9101 - val_loss: 3322773917.4772 - val_mean_absolute_error: 44797.2249\n",
      "Epoch 57/150\n",
      "978/978 [==============================] - 0s 236us/step - loss: 3549667565.6769 - mean_absolute_error: 44659.0196 - val_loss: 3284626173.4108 - val_mean_absolute_error: 44514.2998\n",
      "Epoch 58/150\n",
      "978/978 [==============================] - 0s 121us/step - loss: 3509936230.0859 - mean_absolute_error: 44395.3078 - val_loss: 3252298462.8050 - val_mean_absolute_error: 44275.5633\n",
      "Epoch 59/150\n",
      "978/978 [==============================] - 0s 143us/step - loss: 3473192667.8773 - mean_absolute_error: 44179.2855 - val_loss: 3217495860.5809 - val_mean_absolute_error: 44011.7187\n",
      "Epoch 60/150\n",
      "978/978 [==============================] - 0s 184us/step - loss: 3433654293.4642 - mean_absolute_error: 43856.9417 - val_loss: 3178850767.2697 - val_mean_absolute_error: 43711.1216\n",
      "Epoch 61/150\n",
      "978/978 [==============================] - 0s 132us/step - loss: 3397185140.2209 - mean_absolute_error: 43567.7357 - val_loss: 3139540625.5270 - val_mean_absolute_error: 43398.9817\n",
      "Epoch 62/150\n",
      "978/978 [==============================] - 0s 161us/step - loss: 3356837360.2945 - mean_absolute_error: 43306.5679 - val_loss: 3107482173.9419 - val_mean_absolute_error: 43153.2204\n",
      "Epoch 63/150\n",
      "978/978 [==============================] - 0s 174us/step - loss: 3318860317.3170 - mean_absolute_error: 43053.7431 - val_loss: 3077181349.2448 - val_mean_absolute_error: 42909.4944\n",
      "Epoch 64/150\n",
      "978/978 [==============================] - 0s 142us/step - loss: 3280928170.6667 - mean_absolute_error: 42725.2685 - val_loss: 3029917042.4564 - val_mean_absolute_error: 42520.8305\n",
      "Epoch 65/150\n",
      "978/978 [==============================] - 0s 159us/step - loss: 3242638371.0757 - mean_absolute_error: 42456.0283 - val_loss: 2997967540.1826 - val_mean_absolute_error: 42269.4159\n",
      "Epoch 66/150\n",
      "978/978 [==============================] - 0s 142us/step - loss: 3203593714.3885 - mean_absolute_error: 42142.1248 - val_loss: 2957500235.1535 - val_mean_absolute_error: 41939.6113\n",
      "Epoch 67/150\n",
      "978/978 [==============================] - 0s 151us/step - loss: 3168368258.3558 - mean_absolute_error: 41795.5874 - val_loss: 2916972514.7884 - val_mean_absolute_error: 41611.0463\n",
      "Epoch 68/150\n",
      "978/978 [==============================] - 0s 153us/step - loss: 3131518623.6728 - mean_absolute_error: 41515.2437 - val_loss: 2882284968.3651 - val_mean_absolute_error: 41327.3272\n",
      "Epoch 69/150\n",
      "978/978 [==============================] - 0s 134us/step - loss: 3092907543.5583 - mean_absolute_error: 41290.3672 - val_loss: 2855464619.1535 - val_mean_absolute_error: 41123.6568\n",
      "Epoch 70/150\n",
      "978/978 [==============================] - 0s 104us/step - loss: 3054908077.8078 - mean_absolute_error: 40960.7689 - val_loss: 2811079611.3527 - val_mean_absolute_error: 40737.1838\n",
      "Epoch 71/150\n",
      "978/978 [==============================] - 0s 151us/step - loss: 3015436956.7935 - mean_absolute_error: 40652.7995 - val_loss: 2781686016.0000 - val_mean_absolute_error: 40501.6438\n",
      "Epoch 72/150\n",
      "978/978 [==============================] - 0s 187us/step - loss: 2979765315.0102 - mean_absolute_error: 40388.7874 - val_loss: 2746271912.0996 - val_mean_absolute_error: 40190.4082\n",
      "Epoch 73/150\n",
      "978/978 [==============================] - 0s 134us/step - loss: 2942240386.3558 - mean_absolute_error: 40089.1050 - val_loss: 2712566050.7884 - val_mean_absolute_error: 39907.4278\n",
      "Epoch 74/150\n",
      "978/978 [==============================] - 0s 156us/step - loss: 2907189901.3497 - mean_absolute_error: 39817.6413 - val_loss: 2679667814.3734 - val_mean_absolute_error: 39622.6016\n",
      "Epoch 75/150\n",
      "978/978 [==============================] - 0s 181us/step - loss: 2870386345.6196 - mean_absolute_error: 39498.4038 - val_loss: 2641867389.3444 - val_mean_absolute_error: 39304.0953\n",
      "Epoch 76/150\n",
      "978/978 [==============================] - 0s 171us/step - loss: 2833872431.6401 - mean_absolute_error: 39161.3559 - val_loss: 2598899729.2614 - val_mean_absolute_error: 38935.3375\n",
      "Epoch 77/150\n",
      "978/978 [==============================] - 0s 176us/step - loss: 2798786666.7975 - mean_absolute_error: 38878.1278 - val_loss: 2566914583.9004 - val_mean_absolute_error: 38664.5181\n",
      "Epoch 78/150\n",
      "978/978 [==============================] - 0s 191us/step - loss: 2764024339.3701 - mean_absolute_error: 38591.5335 - val_loss: 2534469125.3112 - val_mean_absolute_error: 38399.0244\n",
      "Epoch 79/150\n",
      "978/978 [==============================] - 0s 194us/step - loss: 2731231313.1452 - mean_absolute_error: 38271.6840 - val_loss: 2497172202.4896 - val_mean_absolute_error: 38078.6088\n",
      "Epoch 80/150\n",
      "978/978 [==============================] - 0s 152us/step - loss: 2697965096.8344 - mean_absolute_error: 37987.4996 - val_loss: 2464730056.4979 - val_mean_absolute_error: 37796.7929\n",
      "Epoch 81/150\n",
      "978/978 [==============================] - 0s 253us/step - loss: 2663477568.3926 - mean_absolute_error: 37713.4016 - val_loss: 2436103384.0332 - val_mean_absolute_error: 37541.7771\n",
      "Epoch 82/150\n",
      "978/978 [==============================] - 0s 176us/step - loss: 2630699144.1145 - mean_absolute_error: 37425.9262 - val_loss: 2403875491.9834 - val_mean_absolute_error: 37248.9206\n",
      "Epoch 83/150\n",
      "978/978 [==============================] - 0s 241us/step - loss: 2599296157.5787 - mean_absolute_error: 37115.3474 - val_loss: 2368132030.6722 - val_mean_absolute_error: 36925.9364\n",
      "Epoch 84/150\n",
      "978/978 [==============================] - 0s 135us/step - loss: 2570204745.8160 - mean_absolute_error: 36916.3059 - val_loss: 2345244564.4481 - val_mean_absolute_error: 36700.4636\n",
      "Epoch 85/150\n",
      "978/978 [==============================] - 0s 173us/step - loss: 2535957338.0450 - mean_absolute_error: 36554.4207 - val_loss: 2308068268.4813 - val_mean_absolute_error: 36352.2913\n",
      "Epoch 86/150\n",
      "978/978 [==============================] - 0s 227us/step - loss: 2505047302.8057 - mean_absolute_error: 36260.9777 - val_loss: 2273047425.4606 - val_mean_absolute_error: 36044.5392\n",
      "Epoch 87/150\n",
      "978/978 [==============================] - 0s 138us/step - loss: 2479864593.0143 - mean_absolute_error: 36071.6938 - val_loss: 2249537652.4481 - val_mean_absolute_error: 35805.6810\n",
      "Epoch 88/150\n",
      "978/978 [==============================] - 0s 234us/step - loss: 2445615083.8446 - mean_absolute_error: 35731.7358 - val_loss: 2212835504.5975 - val_mean_absolute_error: 35471.5913\n",
      "Epoch 89/150\n",
      "978/978 [==============================] - 0s 249us/step - loss: 2416817236.5481 - mean_absolute_error: 35440.4059 - val_loss: 2182067484.6805 - val_mean_absolute_error: 35155.8517\n",
      "Epoch 90/150\n",
      "978/978 [==============================] - 0s 190us/step - loss: 2388380958.1022 - mean_absolute_error: 35202.6633 - val_loss: 2157042741.3776 - val_mean_absolute_error: 34913.0212\n",
      "Epoch 91/150\n",
      "978/978 [==============================] - 0s 202us/step - loss: 2361854117.9550 - mean_absolute_error: 34953.3564 - val_loss: 2130501664.3983 - val_mean_absolute_error: 34627.2328\n",
      "Epoch 92/150\n",
      "978/978 [==============================] - 0s 204us/step - loss: 2334436768.4581 - mean_absolute_error: 34716.4870 - val_loss: 2106059275.4191 - val_mean_absolute_error: 34387.8485\n",
      "Epoch 93/150\n",
      "978/978 [==============================] - 0s 226us/step - loss: 2310269928.4417 - mean_absolute_error: 34480.8043 - val_loss: 2072556691.1203 - val_mean_absolute_error: 34081.0086\n",
      "Epoch 94/150\n",
      "978/978 [==============================] - 0s 189us/step - loss: 2283707049.8814 - mean_absolute_error: 34272.3820 - val_loss: 2053424269.1452 - val_mean_absolute_error: 33878.6539\n",
      "Epoch 95/150\n",
      "978/978 [==============================] - 0s 212us/step - loss: 2259349299.8282 - mean_absolute_error: 34045.1343 - val_loss: 2028829429.1120 - val_mean_absolute_error: 33651.6544\n",
      "Epoch 96/150\n",
      "978/978 [==============================] - 0s 186us/step - loss: 2234487579.7464 - mean_absolute_error: 33810.3362 - val_loss: 2004800871.4357 - val_mean_absolute_error: 33398.0144\n",
      "Epoch 97/150\n",
      "978/978 [==============================] - 0s 242us/step - loss: 2214172274.2577 - mean_absolute_error: 33615.2876 - val_loss: 1988657301.2448 - val_mean_absolute_error: 33213.8769\n",
      "Epoch 98/150\n",
      "978/978 [==============================] - 0s 181us/step - loss: 2187029327.8364 - mean_absolute_error: 33381.0083 - val_loss: 1960688750.0747 - val_mean_absolute_error: 32952.6038\n",
      "Epoch 99/150\n",
      "978/978 [==============================] - 0s 197us/step - loss: 2166842549.1370 - mean_absolute_error: 33169.5287 - val_loss: 1933868510.0083 - val_mean_absolute_error: 32701.4355\n",
      "Epoch 100/150\n",
      "978/978 [==============================] - 0s 189us/step - loss: 2147085233.8650 - mean_absolute_error: 32997.0545 - val_loss: 1926049786.6888 - val_mean_absolute_error: 32576.3674\n",
      "Epoch 101/150\n",
      "978/978 [==============================] - 0s 195us/step - loss: 2127547461.1043 - mean_absolute_error: 32779.0677 - val_loss: 1896341402.5560 - val_mean_absolute_error: 32334.8750\n",
      "Epoch 102/150\n",
      "978/978 [==============================] - 0s 207us/step - loss: 2108048563.8282 - mean_absolute_error: 32558.9961 - val_loss: 1891298650.5560 - val_mean_absolute_error: 32194.1285\n",
      "Epoch 103/150\n",
      "978/978 [==============================] - 0s 171us/step - loss: 2092621530.5685 - mean_absolute_error: 32423.2272 - val_loss: 1879221796.3817 - val_mean_absolute_error: 32055.4885\n",
      "Epoch 104/150\n",
      "978/978 [==============================] - 0s 108us/step - loss: 2072360794.8303 - mean_absolute_error: 32223.3258 - val_loss: 1857143819.1535 - val_mean_absolute_error: 31860.4609\n",
      "Epoch 105/150\n",
      "978/978 [==============================] - 0s 119us/step - loss: 2057739148.3027 - mean_absolute_error: 32040.4481 - val_loss: 1840501571.5851 - val_mean_absolute_error: 31697.7379\n",
      "Epoch 106/150\n",
      "978/978 [==============================] - 0s 118us/step - loss: 2042617629.8405 - mean_absolute_error: 31884.0196 - val_loss: 1818212938.6224 - val_mean_absolute_error: 31542.1447\n",
      "Epoch 107/150\n",
      "978/978 [==============================] - 0s 126us/step - loss: 2030082833.7996 - mean_absolute_error: 31742.1535 - val_loss: 1814299801.6266 - val_mean_absolute_error: 31430.2192\n",
      "Epoch 108/150\n",
      "978/978 [==============================] - 0s 194us/step - loss: 2013537993.5542 - mean_absolute_error: 31578.0437 - val_loss: 1802355549.3444 - val_mean_absolute_error: 31311.4347\n",
      "Epoch 109/150\n",
      "978/978 [==============================] - 0s 195us/step - loss: 1998491644.0736 - mean_absolute_error: 31432.6464 - val_loss: 1791564647.8340 - val_mean_absolute_error: 31200.7188\n",
      "Epoch 110/150\n",
      "978/978 [==============================] - 0s 163us/step - loss: 1986074112.2618 - mean_absolute_error: 31273.8528 - val_loss: 1777200120.5643 - val_mean_absolute_error: 31051.2808\n",
      "Epoch 111/150\n",
      "978/978 [==============================] - 0s 232us/step - loss: 1975030037.9877 - mean_absolute_error: 31160.9903 - val_loss: 1773433503.6017 - val_mean_absolute_error: 30989.5631\n",
      "Epoch 112/150\n",
      "978/978 [==============================] - 0s 270us/step - loss: 1961473976.1472 - mean_absolute_error: 31021.4763 - val_loss: 1754297613.9419 - val_mean_absolute_error: 30834.6004\n",
      "Epoch 113/150\n",
      "978/978 [==============================] - 0s 252us/step - loss: 1949258986.5358 - mean_absolute_error: 30891.3635 - val_loss: 1748894547.3859 - val_mean_absolute_error: 30766.0008\n",
      "Epoch 114/150\n",
      "978/978 [==============================] - 0s 292us/step - loss: 1938696639.0838 - mean_absolute_error: 30785.1824 - val_loss: 1740067110.9046 - val_mean_absolute_error: 30679.1368\n",
      "Epoch 115/150\n",
      "978/978 [==============================] - 0s 188us/step - loss: 1927702783.6074 - mean_absolute_error: 30660.2644 - val_loss: 1725549992.0996 - val_mean_absolute_error: 30574.6023\n",
      "Epoch 116/150\n",
      "978/978 [==============================] - 0s 189us/step - loss: 1914396336.6871 - mean_absolute_error: 30538.2073 - val_loss: 1721840107.1535 - val_mean_absolute_error: 30486.4202\n",
      "Epoch 117/150\n",
      "978/978 [==============================] - 0s 231us/step - loss: 1904353329.9959 - mean_absolute_error: 30432.5841 - val_loss: 1714617873.7925 - val_mean_absolute_error: 30406.2631\n",
      "Epoch 118/150\n",
      "978/978 [==============================] - 0s 244us/step - loss: 1892426112.2618 - mean_absolute_error: 30315.5537 - val_loss: 1705468546.2573 - val_mean_absolute_error: 30307.3252\n",
      "Epoch 119/150\n",
      "978/978 [==============================] - 0s 149us/step - loss: 1880908889.2597 - mean_absolute_error: 30214.2584 - val_loss: 1703306463.6017 - val_mean_absolute_error: 30266.2727\n",
      "Epoch 120/150\n",
      "978/978 [==============================] - 0s 227us/step - loss: 1868764237.4806 - mean_absolute_error: 30097.1128 - val_loss: 1693050001.7925 - val_mean_absolute_error: 30166.0465\n",
      "Epoch 121/150\n",
      "978/978 [==============================] - 0s 159us/step - loss: 1858442204.6626 - mean_absolute_error: 29968.5362 - val_loss: 1696431586.6556 - val_mean_absolute_error: 30128.2669\n",
      "Epoch 122/150\n",
      "978/978 [==============================] - 0s 267us/step - loss: 1843833003.9755 - mean_absolute_error: 29871.6038 - val_loss: 1684719319.9668 - val_mean_absolute_error: 30030.8691\n",
      "Epoch 123/150\n",
      "978/978 [==============================] - 0s 211us/step - loss: 1832091703.2311 - mean_absolute_error: 29749.4291 - val_loss: 1679334164.5809 - val_mean_absolute_error: 29953.8485\n",
      "Epoch 124/150\n",
      "978/978 [==============================] - 0s 117us/step - loss: 1822873292.5644 - mean_absolute_error: 29656.7409 - val_loss: 1667587075.8506 - val_mean_absolute_error: 29870.0945\n",
      "Epoch 125/150\n",
      "978/978 [==============================] - 0s 138us/step - loss: 1808699560.3108 - mean_absolute_error: 29545.7541 - val_loss: 1665354395.0871 - val_mean_absolute_error: 29806.8206\n",
      "Epoch 126/150\n",
      "978/978 [==============================] - 0s 112us/step - loss: 1798352445.7751 - mean_absolute_error: 29428.4947 - val_loss: 1655677327.2697 - val_mean_absolute_error: 29703.8386\n",
      "Epoch 127/150\n",
      "978/978 [==============================] - 0s 98us/step - loss: 1793409581.2843 - mean_absolute_error: 29326.9254 - val_loss: 1657891071.8672 - val_mean_absolute_error: 29649.7785\n",
      "Epoch 128/150\n",
      "978/978 [==============================] - 0s 119us/step - loss: 1777585612.4335 - mean_absolute_error: 29264.8060 - val_loss: 1645819149.4108 - val_mean_absolute_error: 29581.6878\n",
      "Epoch 129/150\n",
      "978/978 [==============================] - 0s 105us/step - loss: 1765304964.1881 - mean_absolute_error: 29134.8168 - val_loss: 1642932488.2988 - val_mean_absolute_error: 29507.7755\n",
      "Epoch 130/150\n",
      "978/978 [==============================] - 0s 126us/step - loss: 1755591072.4581 - mean_absolute_error: 29044.9401 - val_loss: 1641026200.4315 - val_mean_absolute_error: 29450.1922\n",
      "Epoch 131/150\n",
      "978/978 [==============================] - 0s 103us/step - loss: 1746954038.4458 - mean_absolute_error: 28923.2811 - val_loss: 1638580855.4357 - val_mean_absolute_error: 29365.7569\n",
      "Epoch 132/150\n",
      "978/978 [==============================] - 0s 148us/step - loss: 1739057969.7342 - mean_absolute_error: 28816.3161 - val_loss: 1637813242.5560 - val_mean_absolute_error: 29316.7428\n",
      "Epoch 133/150\n",
      "978/978 [==============================] - 0s 114us/step - loss: 1728491501.1534 - mean_absolute_error: 28754.2138 - val_loss: 1631024640.7303 - val_mean_absolute_error: 29254.2040\n",
      "Epoch 134/150\n",
      "978/978 [==============================] - 0s 165us/step - loss: 1722120217.5215 - mean_absolute_error: 28692.8626 - val_loss: 1632114379.8174 - val_mean_absolute_error: 29187.6683\n",
      "Epoch 135/150\n",
      "978/978 [==============================] - 0s 127us/step - loss: 1716841156.8425 - mean_absolute_error: 28632.7503 - val_loss: 1629548176.9295 - val_mean_absolute_error: 29130.9603\n",
      "Epoch 136/150\n",
      "978/978 [==============================] - 0s 178us/step - loss: 1704071188.1554 - mean_absolute_error: 28511.2183 - val_loss: 1620500678.9046 - val_mean_absolute_error: 29025.1183\n",
      "Epoch 137/150\n",
      "978/978 [==============================] - 0s 140us/step - loss: 1696014449.8650 - mean_absolute_error: 28402.9231 - val_loss: 1621108370.7884 - val_mean_absolute_error: 28985.8448\n",
      "Epoch 138/150\n",
      "978/978 [==============================] - 0s 145us/step - loss: 1698135518.2331 - mean_absolute_error: 28454.1372 - val_loss: 1611248078.4066 - val_mean_absolute_error: 28915.0477\n",
      "Epoch 139/150\n",
      "978/978 [==============================] - 0s 111us/step - loss: 1681994520.3436 - mean_absolute_error: 28302.3032 - val_loss: 1615663245.4108 - val_mean_absolute_error: 28876.1901\n",
      "Epoch 140/150\n",
      "978/978 [==============================] - 0s 99us/step - loss: 1676408503.2311 - mean_absolute_error: 28187.5140 - val_loss: 1619590989.7427 - val_mean_absolute_error: 28833.7697\n",
      "Epoch 141/150\n",
      "978/978 [==============================] - 0s 109us/step - loss: 1672347297.7669 - mean_absolute_error: 28101.6651 - val_loss: 1620077078.3734 - val_mean_absolute_error: 28781.8618\n",
      "Epoch 142/150\n",
      "978/978 [==============================] - 0s 97us/step - loss: 1662961162.2086 - mean_absolute_error: 28028.6679 - val_loss: 1608175853.7427 - val_mean_absolute_error: 28709.7790\n",
      "Epoch 143/150\n",
      "978/978 [==============================] - 0s 123us/step - loss: 1659826043.2883 - mean_absolute_error: 27976.7777 - val_loss: 1604800096.2656 - val_mean_absolute_error: 28647.8966\n",
      "Epoch 144/150\n",
      "978/978 [==============================] - 0s 116us/step - loss: 1655657300.5481 - mean_absolute_error: 27876.2278 - val_loss: 1606961851.4191 - val_mean_absolute_error: 28627.7288\n",
      "Epoch 145/150\n",
      "978/978 [==============================] - 0s 105us/step - loss: 1659763309.9387 - mean_absolute_error: 27995.3997 - val_loss: 1597656523.0871 - val_mean_absolute_error: 28564.4369\n",
      "Epoch 146/150\n",
      "978/978 [==============================] - 0s 113us/step - loss: 1644172084.8753 - mean_absolute_error: 27806.7656 - val_loss: 1606583954.2573 - val_mean_absolute_error: 28573.6902\n",
      "Epoch 147/150\n",
      "978/978 [==============================] - 0s 120us/step - loss: 1646671766.2495 - mean_absolute_error: 27728.2497 - val_loss: 1607213147.0207 - val_mean_absolute_error: 28530.8069\n",
      "Epoch 148/150\n",
      "978/978 [==============================] - 0s 203us/step - loss: 1634912482.2904 - mean_absolute_error: 27699.4826 - val_loss: 1592838298.5560 - val_mean_absolute_error: 28445.3815\n",
      "Epoch 149/150\n",
      "978/978 [==============================] - 0s 129us/step - loss: 1633412594.9121 - mean_absolute_error: 27712.8335 - val_loss: 1593514623.6017 - val_mean_absolute_error: 28427.3622\n",
      "Epoch 150/150\n",
      "978/978 [==============================] - 0s 117us/step - loss: 1630310600.2454 - mean_absolute_error: 27547.4716 - val_loss: 1602548113.3942 - val_mean_absolute_error: 28423.3520\n"
     ]
    }
   ],
   "source": [
    "history = model.fit(X_train, y_train, validation_data=(X_test,y_test), epochs=150, batch_size=32)"
   ]
  },
  {
   "cell_type": "code",
   "execution_count": 286,
   "metadata": {},
   "outputs": [
    {
     "data": {
      "image/png": "[encoded data removed]",
      "text/plain": [
       "<Figure size 432x288 with 1 Axes>"
      ]
     },
     "metadata": {
      "needs_background": "light"
     },
     "output_type": "display_data"
    },
    {
     "data": {
      "image/png": "[encoded data removed]",
      "text/plain": [
       "<Figure size 432x288 with 1 Axes>"
      ]
     },
     "metadata": {
      "needs_background": "light"
     },
     "output_type": "display_data"
    }
   ],
   "source": [
    "# summarize history for accuracy\n",
    "plt.plot(history.history['mean_absolute_error'])\n",
    "plt.plot(history.history['val_mean_absolute_error'])\n",
    "plt.title('model accuracy')\n",
    "plt.ylabel('accuracy')\n",
    "plt.xlabel('epoch')\n",
    "plt.legend(['train', 'test'], loc='upper left')\n",
    "plt.show()\n",
    "# summarize history for loss\n",
    "plt.plot(history.history['loss'])\n",
    "plt.plot(history.history['val_loss'])\n",
    "plt.title('model loss')\n",
    "plt.ylabel('loss')\n",
    "plt.xlabel('epoch')\n",
    "plt.legend(['train', 'test'], loc='upper left')\n",
    "plt.show()"
   ]
  },
  {
   "cell_type": "code",
   "execution_count": 288,
   "metadata": {},
   "outputs": [],
   "source": [
    "df_test = pd.read_csv('../../dic_ml_ans/train.csv')\n",
    "cols = ['OverallQual', 'GrLivArea', 'GarageCars', 'FullBath', 'YearBuilt']\n",
    "id_col = df_test['Id'].values.tolist()\n",
    "df_test['GrLivArea'] = np.log1p(df_test['GrLivArea'])\n",
    "df_test = pd.get_dummies(df_test)\n",
    "df_test = df_test.fillna(df_test.mean())\n",
    "X_test = df_test[cols].values\n",
    "# Always standard scale the data before using NN\n",
    "scale = StandardScaler()\n",
    "X_test = scale.fit_transform(X_test)"
   ]
  },
  {
   "cell_type": "code",
   "execution_count": 289,
   "metadata": {},
   "outputs": [],
   "source": [
    "prediction = model.predict(X_test)"
   ]
  },
  {
   "cell_type": "code",
   "execution_count": 290,
   "metadata": {},
   "outputs": [],
   "source": [
    "submission = pd.DataFrame()\n",
    "submission['Id'] = id_col\n",
    "submission['SalePrice'] = prediction"
   ]
  },
  {
   "cell_type": "code",
   "execution_count": 292,
   "metadata": {},
   "outputs": [
    {
     "name": "stdout",
     "output_type": "stream",
     "text": [
      "        Id      SalePrice\n",
      "0        1  223871.515625\n",
      "1        2  158368.062500\n",
      "2        3  226758.640625\n",
      "3        4  218458.484375\n",
      "4        5  311287.437500\n",
      "...    ...            ...\n",
      "1455  1456  193975.875000\n",
      "1456  1457  203948.203125\n",
      "1457  1458  178584.921875\n",
      "1458  1459  118332.335938\n",
      "1459  1460  112694.953125\n",
      "\n",
      "[1460 rows x 2 columns]\n"
     ]
    }
   ],
   "source": [
    "print(submission)"
   ]
  },
  {
   "cell_type": "markdown",
   "metadata": {},
   "source": [
    "### 【問題5】MNISTをKerasで学習\n",
    "TensorFlowによるMNISTデータセットによる画像の多値分類をKerasに書き換えてください。"
   ]
  },
  {
   "cell_type": "code",
   "execution_count": null,
   "metadata": {},
   "outputs": [],
   "source": []
  },
  {
   "cell_type": "code",
   "execution_count": null,
   "metadata": {},
   "outputs": [],
   "source": []
  },
  {
   "cell_type": "code",
   "execution_count": null,
   "metadata": {},
   "outputs": [],
   "source": []
  },
  {
   "cell_type": "code",
   "execution_count": null,
   "metadata": {},
   "outputs": [],
   "source": []
  }
 ],
 "metadata": {
  "kernelspec": {
   "display_name": "Python 3",
   "language": "python",
   "name": "python3"
  },
  "language_info": {
   "codemirror_mode": {
    "name": "ipython",
    "version": 3
   },
   "file_extension": ".py",
   "mimetype": "text/x-python",
   "name": "python",
   "nbconvert_exporter": "python",
   "pygments_lexer": "ipython3",
   "version": "3.6.4"
  }
 },
 "nbformat": 4,
 "nbformat_minor": 2
}
