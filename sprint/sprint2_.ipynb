{
 "cells": [
  {
   "cell_type": "markdown",
   "metadata": {},
   "source": [
    "# Sprint課題 機械学習スクラッチ入門"
   ]
  },
  {
   "cell_type": "markdown",
   "metadata": {},
   "source": [
    "### 【問題1】train_test_splitのスクラッチ\n",
    "スクラッチの練習として、scikit-learnのtrain_test_splitを自作してみます。"
   ]
  },
  {
   "cell_type": "code",
   "execution_count": 48,
   "metadata": {},
   "outputs": [],
   "source": [
    "# 最初に使用予定のデータやライブラリーを宣言しておく\n",
    "from sklearn.datasets import load_iris # アイリスデータ\n",
    "from sklearn.model_selection import train_test_split # データ分割\n",
    "from sklearn.preprocessing import StandardScaler # 標準化\n",
    "from sklearn.neighbors import KNeighborsClassifier # 最近傍法\n",
    "from sklearn.metrics import accuracy_score # 正解率\n",
    "from sklearn.metrics import precision_score # 適合率\n",
    "from sklearn.metrics import recall_score # 再現率\n",
    "from sklearn.metrics import f1_score # F値\n",
    "from sklearn.metrics import confusion_matrix # 混合行列\n",
    "from sklearn import linear_model\n",
    "from sklearn.linear_model import LogisticRegression # ロジスティック回帰\n",
    "from sklearn.svm import SVC #SVC \n",
    "from sklearn.model_selection import cross_val_score # 決定木\n",
    "from sklearn.tree import DecisionTreeClassifier # 決定木\n",
    "from sklearn.ensemble import RandomForestClassifier # ランダムフォレスト\n",
    "from sklearn.datasets import make_classification # ランダムフォレスト\n",
    "\n",
    "from matplotlib.colors import ListedColormap\n",
    "\n",
    "import os # ファイルの読み込み先のpath指定する時に必要\n",
    "import numpy as np\n",
    "import pandas as pd\n",
    "import matplotlib.pyplot as plt # グラフ描写のライブラリー\n",
    "import matplotlib.patches as mpatches # 【問題7】可視化\n",
    "import seaborn as sns # グラフ描写のライブラリー"
   ]
  },
  {
   "cell_type": "code",
   "execution_count": 49,
   "metadata": {},
   "outputs": [],
   "source": [
    "def scratch_train_test_split(X, y, train_size=0.8,):\n",
    "    \"\"\"\n",
    "    検証用データを分割する。\n",
    "\n",
    "    Parameters\n",
    "    ----------\n",
    "    X : 次の形のndarray, shape (n_samples, n_features)\n",
    "      学習データ\n",
    "    y : 次の形のndarray, shape (n_samples, )\n",
    "      正解値\n",
    "    train_size : float (0<train_size<1)\n",
    "      何割をtrainとするか指定\n",
    "\n",
    "    Returns\n",
    "    ----------\n",
    "    X_train : 次の形のndarray, shape (n_samples, n_features)\n",
    "      学習データ\n",
    "    X_test : 次の形のndarray, shape (n_samples, n_features)\n",
    "      検証データ\n",
    "    y_train : 次の形のndarray, shape (n_samples, )\n",
    "      学習データの正解値\n",
    "    y_test : 次の形のndarray, shape (n_samples, )\n",
    "      検証データの正解値\n",
    "    \"\"\"\n",
    "\n",
    "    n_features = X.shape[0] # 行数データを取得する\n",
    "    len_train = int(n_features * train_size) # \n",
    "    X_train = X[:len_train,:]\n",
    "    X_test = X[len_train:,:]\n",
    "\n",
    "    n_features_y = y.shape[0] # 行数データを取得する\n",
    "    len_train_y = int(n_features_y * train_size) # \n",
    "    y_train = y[:len_train_y,:]\n",
    "    y_test = y[len_train_y:,:]\n",
    "    \n",
    "    return X_train, X_test, y_train, y_test"
   ]
  },
  {
   "cell_type": "code",
   "execution_count": 50,
   "metadata": {},
   "outputs": [],
   "source": [
    "X = np.arange(30).reshape(10,3) # 適当な配列を作成して、サイズを変更した\n",
    "y = np.arange(30).reshape(10,3) # \n",
    "X_train, X_test, y_train, y_test = scratch_train_test_split(X, y, train_size=0.8)"
   ]
  },
  {
   "cell_type": "code",
   "execution_count": 51,
   "metadata": {},
   "outputs": [
    {
     "name": "stdout",
     "output_type": "stream",
     "text": [
      "<class 'numpy.ndarray'>\n",
      "<class 'numpy.ndarray'>\n",
      "(array([[ 0,  1,  2],\n",
      "       [ 3,  4,  5],\n",
      "       [ 6,  7,  8],\n",
      "       [ 9, 10, 11],\n",
      "       [12, 13, 14],\n",
      "       [15, 16, 17],\n",
      "       [18, 19, 20],\n",
      "       [21, 22, 23]]), array([[24, 25, 26],\n",
      "       [27, 28, 29]]), array([[ 0,  1,  2],\n",
      "       [ 3,  4,  5],\n",
      "       [ 6,  7,  8],\n",
      "       [ 9, 10, 11],\n",
      "       [12, 13, 14],\n",
      "       [15, 16, 17],\n",
      "       [18, 19, 20],\n",
      "       [21, 22, 23]]), array([[24, 25, 26],\n",
      "       [27, 28, 29]]))\n"
     ]
    }
   ],
   "source": [
    "# 上記の関数の動作確認用セル\n",
    "X = np.arange(30).reshape(10,3) # 適当な配列を作成して、サイズを変更した\n",
    "y = np.arange(30).reshape(10,3) # 適当な配列を作成して、サイズを変更した\n",
    "\n",
    "print(type(X))\n",
    "print(type(y))\n",
    "\n",
    "print(scratch_train_test_split(X, y, train_size=0.8))"
   ]
  },
  {
   "cell_type": "code",
   "execution_count": 52,
   "metadata": {},
   "outputs": [
    {
     "name": "stdout",
     "output_type": "stream",
     "text": [
      "(10, 3)\n",
      "10\n",
      "8\n",
      "[[ 0  1  2]\n",
      " [ 3  4  5]\n",
      " [ 6  7  8]\n",
      " [ 9 10 11]\n",
      " [12 13 14]\n",
      " [15 16 17]\n",
      " [18 19 20]\n",
      " [21 22 23]]\n",
      "[[24 25 26]\n",
      " [27 28 29]]\n"
     ]
    }
   ],
   "source": [
    "\"\"\"\n",
    "# 動作確認用セル\n",
    "ndarrayの配列データを入力値とするX,y をtrain_size の割合で分割して\n",
    "多い方を train 、少ない方を test として週力する。\n",
    "\"\"\"\n",
    "X = np.arange(30).reshape(10,3) # 適当な配列を作成して、サイズを変更した\n",
    "print(X.shape)\n",
    "n_features = X.shape[0] # 行数データを取得する\n",
    "print(n_features)\n",
    "train_size = 0.8\n",
    "len_tain = int(n_features * train_size) # \n",
    "print(len_tain)\n",
    "X_train = X[:len_tain,:]\n",
    "print(X_train)\n",
    "X_test = X[len_tain:,:]\n",
    "print(X_test)\n"
   ]
  },
  {
   "cell_type": "code",
   "execution_count": 53,
   "metadata": {},
   "outputs": [
    {
     "name": "stdout",
     "output_type": "stream",
     "text": [
      "(10, 3)\n",
      "5\n",
      "4\n",
      "[[ 0  1  2]\n",
      " [ 3  4  5]\n",
      " [ 6  7  8]\n",
      " [ 9 10 11]]\n",
      "[[12 13 14]]\n"
     ]
    }
   ],
   "source": [
    "# 動作確認用セル\n",
    "y = np.arange(15).reshape(5,3) # 適当な配列を作成して、サイズを変更した\n",
    "print(X.shape)\n",
    "n_features_y = y.shape[0] # 行数データを取得する\n",
    "print(n_features_y)\n",
    "train_size_y = 0.8\n",
    "len_tain_y = int(n_features_y * train_size_y) # \n",
    "print(len_tain_y)\n",
    "y_train = y[:len_tain_y,:]\n",
    "print(y_train)\n",
    "y_test = y[len_tain_y:,:]\n",
    "print(y_test)\n"
   ]
  },
  {
   "cell_type": "code",
   "execution_count": 54,
   "metadata": {},
   "outputs": [
    {
     "name": "stdout",
     "output_type": "stream",
     "text": [
      "[[1 2 3]\n",
      " [4 5 6]]\n",
      "(2, 3)\n"
     ]
    }
   ],
   "source": [
    "# 配列作成テスト\n",
    "sample_ndarray = np.array([[1, 2, 3], [4, 5, 6]])\n",
    "print(sample_ndarray)\n",
    "print(sample_ndarray.shape)"
   ]
  },
  {
   "cell_type": "code",
   "execution_count": 55,
   "metadata": {},
   "outputs": [
    {
     "name": "stdout",
     "output_type": "stream",
     "text": [
      "[[0 1 2]\n",
      " [3 4 5]]\n"
     ]
    }
   ],
   "source": [
    "# 配列作成テスト、二次元配列の作成\n",
    "sample_ndarray1 = np.arange(6).reshape(2, 3)\n",
    "sample_ndarray1[1, 2] # 1行2列目の要素を取り出す\n",
    "sample_ndarray1[:, 1:] # 全ての行かつ1列目より後の列を配列として取り出す（スライス）\n",
    "print(sample_ndarray1)"
   ]
  },
  {
   "cell_type": "code",
   "execution_count": 56,
   "metadata": {},
   "outputs": [
    {
     "name": "stdout",
     "output_type": "stream",
     "text": [
      "[[ 0  1  2]\n",
      " [ 3  4  5]\n",
      " [ 6  7  8]\n",
      " [ 9 10 11]\n",
      " [12 13 14]\n",
      " [15 16 17]\n",
      " [18 19 20]\n",
      " [21 22 23]\n",
      " [24 25 26]\n",
      " [27 28 29]]\n"
     ]
    }
   ],
   "source": [
    "# 配列作成テスト、二次元配列の作成から行列形状変換\n",
    "sample_ndarray = np.arange(30).reshape(10,3)\n",
    "print(sample_ndarray)"
   ]
  },
  {
   "cell_type": "markdown",
   "metadata": {},
   "source": [
    "### 【問題2】 分類問題を解くコードの作成\n",
    "上記3種類の手法で3種類のデータセットを学習・推定するコードを作成してください。"
   ]
  },
  {
   "cell_type": "code",
   "execution_count": 57,
   "metadata": {},
   "outputs": [],
   "source": [
    "# シンプルデータセット1作成コード、カリキュラムの内容をコピー\n",
    "np.random.seed(seed=0)\n",
    "n_samples = 500\n",
    "f0 = [-1, 2]\n",
    "f1 = [2, -1]\n",
    "cov = [[1.0,0.8], [0.8, 1.0]]\n",
    "\n",
    "f0 = np.random.multivariate_normal(f0, cov, int(n_samples/2))\n",
    "f1 = np.random.multivariate_normal(f1, cov, int(n_samples/2))\n",
    "\n",
    "X = np.concatenate((f0, f1))\n",
    "y = np.concatenate((np.ones((int(n_samples/2))), np.ones((int(n_samples/2))) *(-1))).astype(np.int)\n",
    "\n",
    "random_index = np.random.permutation(np.arange(n_samples))\n",
    "X = X[random_index]\n",
    "y = y[random_index]\n",
    "# print(X)\n",
    "# print(y)"
   ]
  },
  {
   "cell_type": "code",
   "execution_count": 58,
   "metadata": {},
   "outputs": [],
   "source": [
    "# シンプルデータセット2作成コード、カリキュラムの内容をコピー\n",
    "X = np.array([[-0.44699 , -2.8073  ],[-1.4621  , -2.4586  ],\n",
    "       [ 0.10645 ,  1.9242  ],[-3.5944  , -4.0112  ],\n",
    "       [-0.9888  ,  4.5718  ],[-3.1625  , -3.9606  ],\n",
    "       [ 0.56421 ,  0.72888 ],[-0.60216 ,  8.4636  ],\n",
    "       [-0.61251 , -0.75345 ],[-0.73535 , -2.2718  ],\n",
    "       [-0.80647 , -2.2135  ],[ 0.86291 ,  2.3946  ],\n",
    "       [-3.1108  ,  0.15394 ],[-2.9362  ,  2.5462  ],\n",
    "       [-0.57242 , -2.9915  ],[ 1.4771  ,  3.4896  ],\n",
    "       [ 0.58619 ,  0.37158 ],[ 0.6017  ,  4.3439  ],\n",
    "       [-2.1086  ,  8.3428  ],[-4.1013  , -4.353   ],\n",
    "       [-1.9948  , -1.3927  ],[ 0.35084 , -0.031994],\n",
    "       [ 0.96765 ,  7.8929  ],[-1.281   , 15.6824  ],\n",
    "       [ 0.96765 , 10.083   ],[ 1.3763  ,  1.3347  ],\n",
    "       [-2.234   , -2.5323  ],[-2.9452  , -1.8219  ],\n",
    "       [ 0.14654 , -0.28733 ],[ 0.5461  ,  5.8245  ],\n",
    "       [-0.65259 ,  9.3444  ],[ 0.59912 ,  5.3524  ],\n",
    "       [ 0.50214 , -0.31818 ],[-3.0603  , -3.6461  ],\n",
    "       [-6.6797  ,  0.67661 ],[-2.353   , -0.72261 ],\n",
    "       [ 1.1319  ,  2.4023  ],[-0.12243 ,  9.0162  ],\n",
    "       [-2.5677  , 13.1779  ],[ 0.057313,  5.4681  ]])\n",
    "y = np.array([0, 0, 0, 0, 0, 0, 0, 0, 0, 0, 0, 0, 0, 0, 0, 0, 0, 0, 0, 0, 1, 1,\n",
    "       1, 1, 1, 1, 1, 1, 1, 1, 1, 1, 1, 1, 1, 1, 1, 1, 1, 1])\n",
    "# print(X)\n",
    "# print(y)"
   ]
  },
  {
   "cell_type": "code",
   "execution_count": 59,
   "metadata": {},
   "outputs": [],
   "source": [
    "\"\"\"\n",
    "# シンプルデータセット3作成コード、自作\n",
    "データセットの一つはアイリスデータ。\n",
    "アイリスデータの取得\n",
    "特徴量を全て取得\n",
    "目的変数は virgicolor viginica を使用\n",
    "\"\"\"\n",
    "data = load_iris()\n",
    "# print(data)\n",
    "df1 = pd.DataFrame(np.array(data.data),columns=['sepal_length','sepal_width','petal_length','petal_width']) # データフレームにするとデータを扱いやすい。Xに入れる。\n",
    "df2 = pd.DataFrame(np.array(data.target),columns=['Species']).isin([1,2])\n",
    "# df = pd.concat([df1,df2],axis=1) # 二つのデータセットを結合する\n",
    "# df.head()\n",
    "# df[df['Species'].isin([1,2])] # virgicolor,nica の二つの目的変数のデータだけ使いたい。\n",
    "# X = df.values\n",
    "# print(X)\n",
    "X = df1.values # 分類するのに都合の良いように pndas から numpyにデータ変換\n",
    "y = df2.values"
   ]
  },
  {
   "cell_type": "code",
   "execution_count": 60,
   "metadata": {},
   "outputs": [
    {
     "name": "stderr",
     "output_type": "stream",
     "text": [
      "/Users/tominagashuuji/.pyenv/versions/anaconda3-5.1.0/lib/python3.6/site-packages/sklearn/utils/validation.py:578: DataConversionWarning: A column-vector y was passed when a 1d array was expected. Please change the shape of y to (n_samples, ), for example using ravel().\n",
      "  y = column_or_1d(y, warn=True)\n"
     ]
    },
    {
     "data": {
      "text/plain": [
       "SGDClassifier(alpha=0.0001, average=False, class_weight=None, epsilon=0.1,\n",
       "       eta0=0.0, fit_intercept=True, l1_ratio=0.15,\n",
       "       learning_rate='optimal', loss='log', max_iter=1000, n_iter=None,\n",
       "       n_jobs=1, penalty='l2', power_t=0.5, random_state=None,\n",
       "       shuffle=True, tol=0.001, verbose=0, warm_start=False)"
      ]
     },
     "execution_count": 60,
     "metadata": {},
     "output_type": "execute_result"
    }
   ],
   "source": [
    "# X = np.array([[-1, -1], [-2, -1], [1, 1], [2, 1]])\n",
    "# Y = np.array([1, 1, 2, 2])\n",
    "clf = linear_model.SGDClassifier(max_iter=1000, tol=1e-3, loss=\"log\")\n",
    "clf.fit(X, y)"
   ]
  },
  {
   "cell_type": "code",
   "execution_count": 61,
   "metadata": {},
   "outputs": [],
   "source": [
    "# 配列を１次元にしないとワーニングが出るので変換してみる。\n",
    "# y_hoge = y.values.reshape(1460,)"
   ]
  },
  {
   "cell_type": "code",
   "execution_count": 62,
   "metadata": {},
   "outputs": [
    {
     "name": "stderr",
     "output_type": "stream",
     "text": [
      "/Users/tominagashuuji/.pyenv/versions/anaconda3-5.1.0/lib/python3.6/site-packages/sklearn/utils/validation.py:578: DataConversionWarning: A column-vector y was passed when a 1d array was expected. Please change the shape of y to (n_samples, ), for example using ravel().\n",
      "  y = column_or_1d(y, warn=True)\n"
     ]
    },
    {
     "data": {
      "text/plain": [
       "SGDClassifier(alpha=0.0001, average=False, class_weight=None, epsilon=0.1,\n",
       "       eta0=0.0, fit_intercept=True, l1_ratio=0.15,\n",
       "       learning_rate='optimal', loss='log', max_iter=1000, n_iter=None,\n",
       "       n_jobs=1, penalty='l2', power_t=0.5, random_state=None,\n",
       "       shuffle=True, tol=0.001, verbose=0, warm_start=False)"
      ]
     },
     "execution_count": 62,
     "metadata": {},
     "output_type": "execute_result"
    }
   ],
   "source": [
    "\"\"\"\n",
    "ロジスティック回帰\n",
    "y_hogeでワーニングが止まることを確認\n",
    "\"\"\"\n",
    "# X = np.array([[-1, -1], [-2, -1], [1, 1], [2, 1]])\n",
    "# Y = np.array([1, 1, 2, 2])\n",
    "clf = linear_model.SGDClassifier(max_iter=1000, tol=1e-3, loss=\"log\")\n",
    "clf.fit(X, y)"
   ]
  },
  {
   "cell_type": "code",
   "execution_count": 63,
   "metadata": {},
   "outputs": [
    {
     "name": "stderr",
     "output_type": "stream",
     "text": [
      "/Users/tominagashuuji/.pyenv/versions/anaconda3-5.1.0/lib/python3.6/site-packages/sklearn/utils/validation.py:578: DataConversionWarning: A column-vector y was passed when a 1d array was expected. Please change the shape of y to (n_samples, ), for example using ravel().\n",
      "  y = column_or_1d(y, warn=True)\n"
     ]
    },
    {
     "data": {
      "text/plain": [
       "SVC(C=1.0, cache_size=200, class_weight=None, coef0=0.0,\n",
       "  decision_function_shape='ovr', degree=3, gamma='auto', kernel='rbf',\n",
       "  max_iter=-1, probability=False, random_state=None, shrinking=True,\n",
       "  tol=0.001, verbose=False)"
      ]
     },
     "execution_count": 63,
     "metadata": {},
     "output_type": "execute_result"
    }
   ],
   "source": [
    "\"\"\"\n",
    "SVM\n",
    "\"\"\"\n",
    "clf = SVC(gamma='auto')\n",
    "clf.fit(X, y) "
   ]
  },
  {
   "cell_type": "code",
   "execution_count": 64,
   "metadata": {},
   "outputs": [
    {
     "data": {
      "text/plain": [
       "array([1., 1., 1., 1., 1., 1., 1., 1., 1., 1.])"
      ]
     },
     "execution_count": 64,
     "metadata": {},
     "output_type": "execute_result"
    }
   ],
   "source": [
    "\"\"\"\n",
    "決定木\n",
    "\"\"\"\n",
    "clf = DecisionTreeClassifier(random_state=0)\n",
    "cross_val_score(clf, X, y, cv=10)"
   ]
  },
  {
   "cell_type": "markdown",
   "metadata": {},
   "source": [
    "### 【問題3】 回帰問題を解くコードの作成\n",
    "回帰問題\n",
    "回帰は1種類をスクラッチします。\n",
    "\n",
    "線形回帰\n",
    "線形回帰は勾配降下法を用いて計算するSGDRegressorクラスを利用してください。\n",
    "\n",
    "sklearn.linear_model.SGDRegressor — scikit-learn 0.21.3 documentation\n",
    "\n",
    "データセットは事前学習期間同様にHouse Pricesコンペティションのものを使います。\n",
    "\n",
    "House Prices: Advanced Regression Techniques\n",
    "\n",
    "train.csvをダウンロードし、目的変数としてSalePrice、説明変数として、GrLivAreaとYearBuiltを使います。\n",
    "線形回帰でHouse Pricesデータセットを学習・推定するコードを作成してください。\n"
   ]
  },
  {
   "cell_type": "code",
   "execution_count": 65,
   "metadata": {},
   "outputs": [
    {
     "name": "stdout",
     "output_type": "stream",
     "text": [
      "   SalePrice\n",
      "0     208500\n",
      "1     181500\n",
      "2     223500\n",
      "3     140000\n",
      "4     250000\n",
      "   GrLivArea  YearBuilt\n",
      "0       1710       2003\n",
      "1       1262       1976\n",
      "2       1786       2001\n",
      "3       1717       1915\n",
      "4       2198       2000\n"
     ]
    }
   ],
   "source": [
    "\"\"\"\n",
    "使用データセット：train.csv\n",
    "y:目的変数：SalePrice\n",
    "X:特徴量（説明変数）：GrLivAreaとYearBuilt\n",
    "\"\"\"\n",
    "os.chdir('../week03')\n",
    "df = pd.read_csv('train.csv')\n",
    "df.head()\n",
    "y = df.loc[:,['SalePrice']]\n",
    "X = df.loc[:,['GrLivArea','YearBuilt']]\n",
    "\n",
    "print(y.head())\n",
    "print(X.head())"
   ]
  },
  {
   "cell_type": "code",
   "execution_count": 66,
   "metadata": {},
   "outputs": [
    {
     "data": {
      "text/plain": [
       "array([[ 0,  1,  2],\n",
       "       [ 3,  4,  5],\n",
       "       [ 6,  7,  8],\n",
       "       [ 9, 10, 11],\n",
       "       [12, 13, 14],\n",
       "       [15, 16, 17],\n",
       "       [18, 19, 20],\n",
       "       [21, 22, 23]])"
      ]
     },
     "execution_count": 66,
     "metadata": {},
     "output_type": "execute_result"
    }
   ],
   "source": [
    "X_train"
   ]
  },
  {
   "cell_type": "code",
   "execution_count": 67,
   "metadata": {},
   "outputs": [
    {
     "name": "stdout",
     "output_type": "stream",
     "text": [
      "[[1710 2003]\n",
      " [1262 1976]\n",
      " [1786 2001]\n",
      " ...\n",
      " [2340 1941]\n",
      " [1078 1950]\n",
      " [1256 1965]]\n",
      "[[208500]\n",
      " [181500]\n",
      " [223500]\n",
      " ...\n",
      " [266500]\n",
      " [142125]\n",
      " [147500]]\n"
     ]
    },
    {
     "name": "stderr",
     "output_type": "stream",
     "text": [
      "/Users/tominagashuuji/.pyenv/versions/anaconda3-5.1.0/lib/python3.6/site-packages/sklearn/utils/validation.py:475: DataConversionWarning: Data with input dtype int64 was converted to float64 by StandardScaler.\n",
      "  warnings.warn(msg, DataConversionWarning)\n"
     ]
    }
   ],
   "source": [
    "\"\"\"\n",
    "学習をする前に前処理を実施する必要がある。\n",
    "\"\"\"\n",
    "print(X.values)\n",
    "print(y.values)\n",
    "X_train, X_test, y_train, y_test = scratch_train_test_split(X.values, y.values, train_size=0.8)\n",
    "# print(X_train, X_test, y_train, y_test)\n",
    "# fit_transform で標準化している。\n",
    "ss = StandardScaler()\n",
    "# print(type(X))\n",
    "# print(type(y))\n",
    "# print(X)\n",
    "X_train_ss = ss.fit_transform(X_train)\n",
    "# print(X_train_ss)\n",
    "# X_tr_fit_form = scaler.transform(X_tr_fit)\n",
    "X_test_ss = ss.fit_transform(X_test)\n",
    "# print(X_test_sc)"
   ]
  },
  {
   "cell_type": "code",
   "execution_count": 68,
   "metadata": {},
   "outputs": [],
   "source": [
    "# int型だとワーニングになるので、float型に変換する。\n",
    "hoge = X.astype(float)"
   ]
  },
  {
   "cell_type": "code",
   "execution_count": 69,
   "metadata": {},
   "outputs": [
    {
     "name": "stderr",
     "output_type": "stream",
     "text": [
      "/Users/tominagashuuji/.pyenv/versions/anaconda3-5.1.0/lib/python3.6/site-packages/ipykernel_launcher.py:10: DataConversionWarning: A column-vector y was passed when a 1d array was expected. Please change the shape of y to (n_samples, ), for example using ravel().\n",
      "  # Remove the CWD from sys.path while we load stuff.\n"
     ]
    },
    {
     "name": "stdout",
     "output_type": "stream",
     "text": [
      "KNeighborsClassifier(algorithm='auto', leaf_size=30, metric='minkowski',\n",
      "           metric_params=None, n_jobs=1, n_neighbors=5, p=2,\n",
      "           weights='uniform')\n",
      "[[ 4.10597963e-01  1.05377353e+00]\n",
      " [-4.74094620e-01  1.51936247e-01]\n",
      " [ 5.60679741e-01  9.86970766e-01]\n",
      " ...\n",
      " [-1.52164744e-04  1.25418181e+00]\n",
      " [ 3.79001799e-01  1.22078043e+00]\n",
      " [ 3.33582314e-01  9.53569385e-01]]\n",
      "[[208500]\n",
      " [181500]\n",
      " [223500]\n",
      " ...\n",
      " [233170]\n",
      " [245350]\n",
      " [173000]]\n",
      "[135000 320000  85000  98600 194000 200624 135000 260000 131000  87000\n",
      "  40000  82000 225000 174000 184750  79000 167000  87000  87000 165600\n",
      " 185900 181000 167000 155000 103600 160000  97000 178000 212000 107400\n",
      " 151000 155000  97000 200000 100000 214000  85000 211000 129500 154000\n",
      "  98600 174000 187000 184000  80000  94750 127000 109900 126000 159895\n",
      " 122900 113000  94750 118000 131000 145000 178000 132500 213500  94750\n",
      " 210000 139900 142953 139950  98600 148000 137000 135000 214000 216837\n",
      " 155000 172785 180000 220000 107000 233230 145000 178000 173500 124000\n",
      " 135000  55993 165000 185000 122000 144000 185900 115000 194500  61000\n",
      " 155000  75000 169000 135000 127500 127000 153500 155000 135900 233230\n",
      " 197000 139900 146000 110000  94750 139000  81000 131000 122500 143000\n",
      " 198500  79000 168500 180000 124000 165150 104000  76500 160000 167000\n",
      " 169000 216837 139000 112000  90000 157000  97000 138800 139000 141000\n",
      " 184750  98600 179000  91500 262280 192500 173000 174000 164990 123600\n",
      " 108000 153900 110000 164700 290000 265000 112000 165000 174000 164990\n",
      " 172400 112000 139900  82000 194500  80000 255500 109500  60000 129500\n",
      " 133900 169000 173900 135000  80000  76500  97000 143500 155000  80000\n",
      " 192500 112500 112500 140000 222500 129900 146000  88000 172000 205950\n",
      " 155000  90000 129000 100000  66500 403000 172500 136500 109900  88000\n",
      " 168500 216837 104000 163990 127000 185850 151000 169000 173000  82500\n",
      " 131500 185900 100000 134432 215000 267000 216837 179665  87000  98000\n",
      "  91000 185850  61000 172000 127000  40000  76500  79000 151400 104000\n",
      " 240000  66500 170000 167000 108000 135900 163990 200000 152000  89500\n",
      " 131500 102000  55000 180000 164700 146000  78000 174000 111250 129500\n",
      "  98000 171000 172500 149500  92900 183500 127000 179665  90000 222000\n",
      " 139000 136500  97000 124000 131500 135000 139000  98600 236000  91500\n",
      "  82500 149500 183500 135000  79500 172400 107000 167000 111250 213500\n",
      " 128950 157000 104000 141000 252678  61000 185850 108000 140000 210000\n",
      "  98000  75500 136905 179665 141000 147000 151000 169000 187000 179500\n",
      "  55993 140000]\n",
      "0.0\n"
     ]
    }
   ],
   "source": [
    "\"\"\"\n",
    "学習は最近某方で実施する\n",
    "\"\"\"\n",
    "knn_5 = KNeighborsClassifier(n_neighbors=5) # 学習したモデルのインスタンス。model ： object 可視化の時に使用する\n",
    "print(knn_5)\n",
    "print(X_train_ss)\n",
    "# print(X_test_ss)\n",
    "print(y_train)\n",
    "\n",
    "knn_5_fit = knn_5.fit(X_train_ss, y_train)\n",
    "y_pred_knn5 = knn_5_fit.predict(X_test_ss)\n",
    "print(y_pred_knn5)\n",
    "score = knn_5.score(X_test,y_test)\n",
    "print(score)\n"
   ]
  },
  {
   "cell_type": "code",
   "execution_count": null,
   "metadata": {},
   "outputs": [],
   "source": []
  },
  {
   "cell_type": "code",
   "execution_count": null,
   "metadata": {},
   "outputs": [],
   "source": []
  }
 ],
 "metadata": {
  "kernelspec": {
   "display_name": "Python 3",
   "language": "python",
   "name": "python3"
  },
  "language_info": {
   "codemirror_mode": {
    "name": "ipython",
    "version": 3
   },
   "file_extension": ".py",
   "mimetype": "text/x-python",
   "name": "python",
   "nbconvert_exporter": "python",
   "pygments_lexer": "ipython3",
   "version": "3.6.4"
  }
 },
 "nbformat": 4,
 "nbformat_minor": 2
}
