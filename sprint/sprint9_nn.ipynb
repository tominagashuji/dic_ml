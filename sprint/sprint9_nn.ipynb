{
 "cells": [
  {
   "cell_type": "markdown",
   "metadata": {},
   "source": [
    "# sprint９　深層学習スクラッチ　ニューラルネットワーク"
   ]
  },
  {
   "cell_type": "code",
   "execution_count": 1,
   "metadata": {},
   "outputs": [],
   "source": [
    "import numpy as np\n",
    "import random\n",
    "import pandas as pd\n",
    "from numpy import linalg as LA\n",
    "import matplotlib.pyplot as plt\n",
    "from sklearn.model_selection import train_test_split # testとtrain分割\n",
    "from sklearn.metrics import accuracy_score\n",
    "from sklearn.preprocessing import OneHotEncoder"
   ]
  },
  {
   "cell_type": "code",
   "execution_count": 2,
   "metadata": {},
   "outputs": [
    {
     "name": "stderr",
     "output_type": "stream",
     "text": [
      "/Users/tominagashuuji/.pyenv/versions/anaconda3-5.1.0/lib/python3.6/site-packages/h5py/__init__.py:36: FutureWarning: Conversion of the second argument of issubdtype from `float` to `np.floating` is deprecated. In future, it will be treated as `np.float64 == np.dtype(float).type`.\n",
      "  from ._conv import register_converters as _register_converters\n",
      "Using TensorFlow backend.\n"
     ]
    }
   ],
   "source": [
    "from keras.datasets import mnist\n",
    "(X_train, y_train), (X_test, y_test) = mnist.load_data()"
   ]
  },
  {
   "cell_type": "markdown",
   "metadata": {},
   "source": [
    "### データセットの確認"
   ]
  },
  {
   "cell_type": "code",
   "execution_count": 3,
   "metadata": {},
   "outputs": [
    {
     "name": "stdout",
     "output_type": "stream",
     "text": [
      "X_train(60000, 28, 28)\n",
      "X_test(10000, 28, 28)\n",
      "y_train(60000,)\n",
      "y_test(10000,)\n",
      "uint8\n"
     ]
    }
   ],
   "source": [
    "print(\"X_train{}\".format(X_train.shape)) # (60000, 28, 28)\n",
    "print(\"X_test{}\".format(X_test.shape)) # (10000, 28, 28)\n",
    "print(\"y_train{}\".format(y_train.shape))# (60000,)\n",
    "print(\"y_test{}\".format(y_test.shape))#(10000, )\n",
    "print(X_train[0].dtype) # uint8\n",
    "#print(X_train[0])"
   ]
  },
  {
   "cell_type": "markdown",
   "metadata": {},
   "source": [
    "### 平滑化"
   ]
  },
  {
   "cell_type": "code",
   "execution_count": 4,
   "metadata": {},
   "outputs": [],
   "source": [
    "# (1, 28, 28)の各画像を、(1, 784)に変換\n",
    "X_train = X_train.reshape(-1, 784)\n",
    "X_test = X_test.reshape(-1, 784)"
   ]
  },
  {
   "cell_type": "markdown",
   "metadata": {},
   "source": [
    "### 画像データの可視化"
   ]
  },
  {
   "cell_type": "code",
   "execution_count": 5,
   "metadata": {},
   "outputs": [
    {
     "data": {
      "image/png": "[encoded data removed]",
      "text/plain": [
       "<matplotlib.figure.Figure at 0x114e82518>"
      ]
     },
     "metadata": {},
     "output_type": "display_data"
    }
   ],
   "source": [
    "import matplotlib.pyplot as plt\n",
    "%matplotlib inline\n",
    "index = 0\n",
    "image = X_train[index].reshape(28, 28)\n",
    "# X_train[index]: (784,)\n",
    "#image: (28, 28)\n",
    "plt.imshow(image, 'gray')\n",
    "plt.title('label: {}'.format(y_train[index]))\n",
    "plt.show()"
   ]
  },
  {
   "cell_type": "code",
   "execution_count": 6,
   "metadata": {},
   "outputs": [
    {
     "data": {
      "image/png": "[encoded data removed]",
      "text/plain": [
       "<matplotlib.figure.Figure at 0x1a2ef8d9e8>"
      ]
     },
     "metadata": {},
     "output_type": "display_data"
    },
    {
     "name": "stdout",
     "output_type": "stream",
     "text": [
      "[[-105.35 -105.35 -105.35 -105.35 -105.35 -105.35 -105.35 -105.35 -105.35\n",
      "  -105.35 -105.35 -105.35 -105.35 -105.35 -105.35 -105.35 -105.35 -105.35\n",
      "  -105.35 -105.35 -105.35 -105.35 -105.35 -105.35 -105.35 -105.35 -105.35\n",
      "  -105.35]\n",
      " [-105.35 -105.35 -105.35 -105.35 -105.35 -105.35 -105.35 -105.35 -105.35\n",
      "  -105.35 -105.35 -105.35 -105.35 -105.35 -105.35 -105.35 -105.35 -105.35\n",
      "  -105.35 -105.35 -105.35 -105.35 -105.35 -105.35 -105.35 -105.35 -105.35\n",
      "  -105.35]\n",
      " [-105.35 -105.35 -105.35 -105.35 -105.35 -105.35 -105.35 -105.35 -105.35\n",
      "  -105.35 -105.35 -105.35 -105.35 -105.35 -105.35 -105.35 -105.35 -105.35\n",
      "  -105.35 -105.35 -105.35 -105.35 -105.35 -105.35 -105.35 -105.35 -105.35\n",
      "  -105.35]\n",
      " [-105.35 -105.35 -105.35 -105.35 -105.35 -105.35 -105.35 -105.35 -105.35\n",
      "  -105.35 -105.35 -105.35 -105.35 -105.35 -105.35 -105.35 -105.35 -105.35\n",
      "  -105.35 -105.35 -105.35 -105.35 -105.35 -105.35 -105.35 -105.35 -105.35\n",
      "  -105.35]\n",
      " [-105.35 -105.35 -105.35 -105.35 -105.35 -105.35 -105.35 -105.35 -105.35\n",
      "  -105.35 -105.35 -105.35 -105.35 -105.35 -105.35 -105.35 -105.35 -105.35\n",
      "  -105.35 -105.35 -105.35 -105.35 -105.35 -105.35 -105.35 -105.35 -105.35\n",
      "  -105.35]\n",
      " [-105.35 -105.35 -105.35 -105.35 -105.35 -105.35 -105.35 -105.35 -105.35\n",
      "  -105.35 -105.35 -105.35 -102.35  -87.35  -87.35  -87.35   20.65   30.65\n",
      "    69.65  -79.35   60.65  149.65  141.65   21.65 -105.35 -105.35 -105.35\n",
      "  -105.35]\n",
      " [-105.35 -105.35 -105.35 -105.35 -105.35 -105.35 -105.35 -105.35  -75.35\n",
      "   -69.35  -11.35   48.65   64.65  147.65  147.65  147.65  147.65  147.65\n",
      "   119.65   66.65  147.65  136.65   89.65  -41.35 -105.35 -105.35 -105.35\n",
      "  -105.35]\n",
      " [-105.35 -105.35 -105.35 -105.35 -105.35 -105.35 -105.35  -56.35  132.65\n",
      "   147.65  147.65  147.65  147.65  147.65  147.65  147.65  147.65  145.65\n",
      "   -12.35  -23.35  -23.35  -49.35  -66.35 -105.35 -105.35 -105.35 -105.35\n",
      "  -105.35]\n",
      " [-105.35 -105.35 -105.35 -105.35 -105.35 -105.35 -105.35  -87.35  113.65\n",
      "   147.65  147.65  147.65  147.65  147.65   92.65   76.65  141.65  135.65\n",
      "  -105.35 -105.35 -105.35 -105.35 -105.35 -105.35 -105.35 -105.35 -105.35\n",
      "  -105.35]\n",
      " [-105.35 -105.35 -105.35 -105.35 -105.35 -105.35 -105.35 -105.35  -25.35\n",
      "    50.65    1.65  147.65  147.65   99.65  -94.35 -105.35  -62.35   48.65\n",
      "  -105.35 -105.35 -105.35 -105.35 -105.35 -105.35 -105.35 -105.35 -105.35\n",
      "  -105.35]\n",
      " [-105.35 -105.35 -105.35 -105.35 -105.35 -105.35 -105.35 -105.35 -105.35\n",
      "   -91.35 -104.35   48.65  147.65  -15.35 -105.35 -105.35 -105.35 -105.35\n",
      "  -105.35 -105.35 -105.35 -105.35 -105.35 -105.35 -105.35 -105.35 -105.35\n",
      "  -105.35]\n",
      " [-105.35 -105.35 -105.35 -105.35 -105.35 -105.35 -105.35 -105.35 -105.35\n",
      "  -105.35 -105.35   33.65  147.65   84.65 -103.35 -105.35 -105.35 -105.35\n",
      "  -105.35 -105.35 -105.35 -105.35 -105.35 -105.35 -105.35 -105.35 -105.35\n",
      "  -105.35]\n",
      " [-105.35 -105.35 -105.35 -105.35 -105.35 -105.35 -105.35 -105.35 -105.35\n",
      "  -105.35 -105.35  -94.35   84.65  147.65  -35.35 -105.35 -105.35 -105.35\n",
      "  -105.35 -105.35 -105.35 -105.35 -105.35 -105.35 -105.35 -105.35 -105.35\n",
      "  -105.35]\n",
      " [-105.35 -105.35 -105.35 -105.35 -105.35 -105.35 -105.35 -105.35 -105.35\n",
      "  -105.35 -105.35 -105.35  -70.35  135.65  119.65   54.65    2.65 -104.35\n",
      "  -105.35 -105.35 -105.35 -105.35 -105.35 -105.35 -105.35 -105.35 -105.35\n",
      "  -105.35]\n",
      " [-105.35 -105.35 -105.35 -105.35 -105.35 -105.35 -105.35 -105.35 -105.35\n",
      "  -105.35 -105.35 -105.35 -105.35  -24.35  134.65  147.65  147.65   13.65\n",
      "   -80.35 -105.35 -105.35 -105.35 -105.35 -105.35 -105.35 -105.35 -105.35\n",
      "  -105.35]\n",
      " [-105.35 -105.35 -105.35 -105.35 -105.35 -105.35 -105.35 -105.35 -105.35\n",
      "  -105.35 -105.35 -105.35 -105.35 -105.35  -60.35   80.65  147.65  147.65\n",
      "    44.65  -78.35 -105.35 -105.35 -105.35 -105.35 -105.35 -105.35 -105.35\n",
      "  -105.35]\n",
      " [-105.35 -105.35 -105.35 -105.35 -105.35 -105.35 -105.35 -105.35 -105.35\n",
      "  -105.35 -105.35 -105.35 -105.35 -105.35 -105.35  -89.35  -12.35  146.65\n",
      "   147.65   81.65 -105.35 -105.35 -105.35 -105.35 -105.35 -105.35 -105.35\n",
      "  -105.35]\n",
      " [-105.35 -105.35 -105.35 -105.35 -105.35 -105.35 -105.35 -105.35 -105.35\n",
      "  -105.35 -105.35 -105.35 -105.35 -105.35 -105.35 -105.35 -105.35  143.65\n",
      "   147.65  143.65  -41.35 -105.35 -105.35 -105.35 -105.35 -105.35 -105.35\n",
      "  -105.35]\n",
      " [-105.35 -105.35 -105.35 -105.35 -105.35 -105.35 -105.35 -105.35 -105.35\n",
      "  -105.35 -105.35 -105.35 -105.35 -105.35  -59.35   24.65   77.65  147.65\n",
      "   147.65  101.65 -103.35 -105.35 -105.35 -105.35 -105.35 -105.35 -105.35\n",
      "  -105.35]\n",
      " [-105.35 -105.35 -105.35 -105.35 -105.35 -105.35 -105.35 -105.35 -105.35\n",
      "  -105.35 -105.35 -105.35  -66.35   42.65  123.65  147.65  147.65  147.65\n",
      "   144.65   76.65 -105.35 -105.35 -105.35 -105.35 -105.35 -105.35 -105.35\n",
      "  -105.35]\n",
      " [-105.35 -105.35 -105.35 -105.35 -105.35 -105.35 -105.35 -105.35 -105.35\n",
      "  -105.35  -81.35    8.65  115.65  147.65  147.65  147.65  147.65   95.65\n",
      "   -27.35 -105.35 -105.35 -105.35 -105.35 -105.35 -105.35 -105.35 -105.35\n",
      "  -105.35]\n",
      " [-105.35 -105.35 -105.35 -105.35 -105.35 -105.35 -105.35 -105.35  -82.35\n",
      "   -39.35  107.65  147.65  147.65  147.65  147.65   92.65  -24.35 -103.35\n",
      "  -105.35 -105.35 -105.35 -105.35 -105.35 -105.35 -105.35 -105.35 -105.35\n",
      "  -105.35]\n",
      " [-105.35 -105.35 -105.35 -105.35 -105.35 -105.35  -87.35   65.65  113.65\n",
      "   147.65  147.65  147.65  147.65   89.65  -25.35  -96.35 -105.35 -105.35\n",
      "  -105.35 -105.35 -105.35 -105.35 -105.35 -105.35 -105.35 -105.35 -105.35\n",
      "  -105.35]\n",
      " [-105.35 -105.35 -105.35 -105.35  -50.35   66.65  120.65  147.65  147.65\n",
      "   147.65  147.65  138.65   27.65  -94.35 -105.35 -105.35 -105.35 -105.35\n",
      "  -105.35 -105.35 -105.35 -105.35 -105.35 -105.35 -105.35 -105.35 -105.35\n",
      "  -105.35]\n",
      " [-105.35 -105.35 -105.35 -105.35   30.65  147.65  147.65  147.65  106.65\n",
      "    29.65   26.65  -89.35 -105.35 -105.35 -105.35 -105.35 -105.35 -105.35\n",
      "  -105.35 -105.35 -105.35 -105.35 -105.35 -105.35 -105.35 -105.35 -105.35\n",
      "  -105.35]\n",
      " [-105.35 -105.35 -105.35 -105.35 -105.35 -105.35 -105.35 -105.35 -105.35\n",
      "  -105.35 -105.35 -105.35 -105.35 -105.35 -105.35 -105.35 -105.35 -105.35\n",
      "  -105.35 -105.35 -105.35 -105.35 -105.35 -105.35 -105.35 -105.35 -105.35\n",
      "  -105.35]\n",
      " [-105.35 -105.35 -105.35 -105.35 -105.35 -105.35 -105.35 -105.35 -105.35\n",
      "  -105.35 -105.35 -105.35 -105.35 -105.35 -105.35 -105.35 -105.35 -105.35\n",
      "  -105.35 -105.35 -105.35 -105.35 -105.35 -105.35 -105.35 -105.35 -105.35\n",
      "  -105.35]\n",
      " [-105.35 -105.35 -105.35 -105.35 -105.35 -105.35 -105.35 -105.35 -105.35\n",
      "  -105.35 -105.35 -105.35 -105.35 -105.35 -105.35 -105.35 -105.35 -105.35\n",
      "  -105.35 -105.35 -105.35 -105.35 -105.35 -105.35 -105.35 -105.35 -105.35\n",
      "  -105.35]]\n"
     ]
    },
    {
     "data": {
      "text/plain": [
       "<matplotlib.image.AxesImage at 0x1a2efa4860>"
      ]
     },
     "execution_count": 6,
     "metadata": {},
     "output_type": "execute_result"
    },
    {
     "data": {
      "image/png": "[encoded data removed]",
      "text/plain": [
       "<matplotlib.figure.Figure at 0x116dc4e80>"
      ]
     },
     "metadata": {},
     "output_type": "display_data"
    }
   ],
   "source": [
    "index = 0\n",
    "image = X_train[index].reshape(28,28)\n",
    "image = image.astype(np.float) # float型に変換\n",
    "image -= 105.35 # 意図的に負の小数値を作り出してみる\n",
    "plt.imshow(image, 'gray')\n",
    "plt.title('label : {}'.format(y_train[index]))\n",
    "plt.show()\n",
    "print(image) # 値を確認\n",
    "plt.imshow(image, 'gray', vmin = 0, vmax = 255)"
   ]
  },
  {
   "cell_type": "markdown",
   "metadata": {},
   "source": [
    "## 前処理\n",
    "画像は0から255のuint8型で表されますが、機械学習をする上では0から1のfloat型で扱うことになります。以下のコードで変換可能です。"
   ]
  },
  {
   "cell_type": "code",
   "execution_count": 7,
   "metadata": {},
   "outputs": [
    {
     "name": "stdout",
     "output_type": "stream",
     "text": [
      "1.0\n",
      "0.0\n"
     ]
    }
   ],
   "source": [
    "X_train = X_train.astype(np.float)\n",
    "X_test = X_test.astype(np.float)\n",
    "X_train /= 255 # 全て２５５で割っている\n",
    "X_test /= 255\n",
    "print(X_train.max()) # 1.0\n",
    "print(X_train.min()) # 0.0"
   ]
  },
  {
   "cell_type": "markdown",
   "metadata": {},
   "source": [
    "さらに、訓練用データ6万枚の内2割を検証用データとして分割してください。訓練用データが48000枚、検証用データが12000枚となります。"
   ]
  },
  {
   "cell_type": "code",
   "execution_count": 8,
   "metadata": {},
   "outputs": [
    {
     "name": "stdout",
     "output_type": "stream",
     "text": [
      "(48000, 784)\n",
      "(12000, 784)\n",
      "(48000,)\n",
      "(12000,)\n"
     ]
    }
   ],
   "source": [
    "X_train, X_val, y_train, y_val = train_test_split(X_train, y_train, test_size=0.2)\n",
    "print(X_train.shape) # (48000, 784)\n",
    "print(X_val.shape) # (12000, 784)\n",
    "print(y_train.shape)\n",
    "print(y_val.shape)"
   ]
  },
  {
   "cell_type": "markdown",
   "metadata": {},
   "source": [
    "#### yをone-hot表現に変換\n",
    "\n",
    "from sklearn.preprocessing import OneHotEncoder\n",
    "enc = OneHotEncoder(handle_unknown='ignore', sparse=False)\n",
    "y_train_one_hot = enc.fit_transform(y_train[:, np.newaxis])\n",
    "y_val_one_hot = enc.transform(y_val[:, np.newaxis])\n",
    "print(y_train.shape) # (48000,)\n",
    "print(y_train_one_hot.shape) # (48000, 10)\n",
    "print(y_train_one_hot.dtype) # float64\n",
    "print(y_val.shape)\n",
    "print(y_val_one_hot.shape) #(12000, 10)"
   ]
  },
  {
   "cell_type": "markdown",
   "metadata": {},
   "source": [
    "### ミニバッチ処理\n",
    "\n",
    "これまでの機械学習スクラッチでは、全てのサンプルを一度に計算していました。しかし、ニューラルネットワークではデータを分割して入力する 確率的勾配降下法 が一般的です。分割した際のひとかたまりを ミニバッチ 、そのサンプル数を バッチサイズ と呼びます。\n",
    "\n",
    "今回はバッチサイズを20とします。今回使う訓練用データは48000枚ですから、48000÷20で2400回の更新を繰り返すことになります。ニューラルネットワークではこれを2400回 イテレーション（iteration） すると呼びます。訓練用データを一度全て見ると1回の エポック（epoch） が終わったことになります。このエポックを複数回繰り返し、学習が完了します。\n",
    "\n",
    "これを実現するための簡素なイテレータを用意しました。for文で呼び出すと、ミニバッチを取得できます。"
   ]
  },
  {
   "cell_type": "code",
   "execution_count": 9,
   "metadata": {},
   "outputs": [],
   "source": [
    "class GetMiniBatch:\n",
    "    \"\"\"\n",
    "    ミニバッチを取得するイテレータ\n",
    "\n",
    "    Parameters\n",
    "    ----------\n",
    "    X : 次の形のndarray, shape (n_samples, n_features)\n",
    "      訓練用データ\n",
    "    y : 次の形のndarray, shape (n_samples, 1)\n",
    "      正解値\n",
    "    batch_size : int\n",
    "      バッチサイズ\n",
    "    seed : int\n",
    "      NumPyの乱数のシード\n",
    "    \"\"\"\n",
    "    def __init__(self, X, y, batch_size = 20, seed=0):\n",
    "        self.batch_size = batch_size\n",
    "        np.random.seed(seed)\n",
    "        shuffle_index = np.random.permutation(np.arange(X.shape[0]))\n",
    "        self._X = X[shuffle_index]\n",
    "        self._y = y[shuffle_index]\n",
    "        self._stop = np.ceil(X.shape[0]/self.batch_size).astype(np.int)\n",
    "\n",
    "    def __len__(self):\n",
    "        return self._stop\n",
    "\n",
    "    def __getitem__(self,item):\n",
    "        p0 = item*self.batch_size\n",
    "        p1 = item*self.batch_size + self.batch_size\n",
    "        return self._X[p0:p1], self._y[p0:p1]        \n",
    "\n",
    "    def __iter__(self):\n",
    "        self._counter = 0\n",
    "        return self\n",
    "\n",
    "    def __next__(self):\n",
    "        if self._counter >= self._stop:\n",
    "            raise StopIteration()\n",
    "        p0 = self._counter*self.batch_size\n",
    "        p1 = self._counter*self.batch_size + self.batch_size\n",
    "        self._counter += 1\n",
    "        return self._X[p0:p1], self._y[p0:p1]\n"
   ]
  },
  {
   "cell_type": "markdown",
   "metadata": {},
   "source": [
    "### 学習\n",
    "ニューラルネットワークの学習はフォワードプロパゲーションとバックプロパゲションの繰り返しになります。\n",
    "### 【問題1】重みの初期値を決めるコードの作成\n",
    "ニューラルネットワークの各層の重みの初期値を決めるコードを作成してください。\n",
    "\n",
    "重みの初期値は様々な方法が提案されていますが、今回はガウス分布による単純な初期化を行います。バイアスに関しても同様です。\n",
    "\n",
    "以下のコードを参考にしてください。標準偏差の値sigmaはハイパーパラメータです。発展的な重みの初期化方法については次のSprintで扱います"
   ]
  },
  {
   "cell_type": "code",
   "execution_count": 10,
   "metadata": {},
   "outputs": [],
   "source": [
    "n_features = 784 # 特徴量\n",
    "n_nodes1 = 400 #\n",
    "n_nodes2 = 200 # 2層目のノード数\n",
    "sigma = 0.01 # ガウス分布の標準偏差\n",
    "n_output = 10 # 出力のクラス数（3層目のノード数）\n",
    "W1 = sigma * np.random.randn(n_features, n_nodes1)# (784, 400)\n",
    "W2 = sigma * np.random.randn(n_nodes1, n_nodes2) # (400, 200)\n",
    "W3 = sigma * np.random.randn(n_nodes2, n_output) #(200, 10)\n",
    "# W1: (784, 400)\n"
   ]
  },
  {
   "cell_type": "markdown",
   "metadata": {},
   "source": [
    "### 【問題2】フォワードプロパゲーションの実装\n",
    "三層のニューラルネットワークの フォワードプロパゲーション を作成してください。以下の説明ではノード数は1層目は400、2層目は200としますが、変更しても構いません。\n",
    "\n",
    "各層の数式を以下に示します。今回はそれぞれの記号が表す配列が、実装上どのようなndarrayのshapeになるかを併記してあります。"
   ]
  },
  {
   "cell_type": "code",
   "execution_count": 11,
   "metadata": {},
   "outputs": [],
   "source": [
    "batch_size = 20 # バッチサイズ\n",
    "n_features = 784 # 特徴量の数\n",
    "n_nodes1 = 400 # 1層目のノード数\n",
    "n_nodes2 = 200 # 2層目のノード数\n",
    "n_output = 10 # 出力のクラス数（3層目のノード数）"
   ]
  },
  {
   "cell_type": "markdown",
   "metadata": {},
   "source": [
    "### 【問題3】交差エントロピー誤差の実装\n",
    "### 【問題4】バックプロパゲーションの実装\n",
    "### 【問題5】推定\n",
    "まとめて下記のclassに定義する"
   ]
  },
  {
   "cell_type": "code",
   "execution_count": 12,
   "metadata": {},
   "outputs": [],
   "source": [
    "class ScratchSimpleNeuralNetrowkClassifier():\n",
    "    \"\"\"\n",
    "    シンプルな三層ニューラルネットワーク分類器\n",
    "\n",
    "    Parameters\n",
    "    ----------\n",
    "\n",
    "    Attributes\n",
    "    ----------\n",
    "    \"\"\"\n",
    "\n",
    "    def __init__(self, α = 0.001, verbose = True, n_epoc=10,batch_size=100):\n",
    "        self.verbose = verbose\n",
    "        #self\n",
    "        self.batch_size = 20 # バッチサイズ\n",
    "        self.n_features = 784 # 特徴量の数\n",
    "        self.n_nodes1 = 400 # 1層目のノード数\n",
    "        self.n_nodes2 = 200 # 2層目のノード数\n",
    "        self.n_output = 10 # 出力のクラス数（3層目のノード数） \n",
    "        self.α = α\n",
    "        self.n_epoc = n_epoc\n",
    "        self.batch_size = batch_size\n",
    "    \n",
    "        #self.fit_Z3 = []\n",
    "        #損失を記録\n",
    "        self.loss_list = []\n",
    "        self.val_loss_list = []\n",
    "\n",
    "    def _softmax(self, x):\n",
    "        if x.ndim == 2:\n",
    "            x = x.T\n",
    "            x = x - np.max(x, axis=0)\n",
    "            y = np.exp(x) / np.sum(np.exp(x), axis=0)\n",
    "            return y.T\n",
    "\n",
    "        x = x - np.max(x)\n",
    "        return np.exp(x) / np.sum(np.exp(x))\n",
    "\n",
    "    #交差エントロピー関数(仮に作った予測値と正解の差を出す)  \n",
    "    def _cross_entropy(self, y_train, Z3):\n",
    "        L = - np.mean(np.sum(y_train*np.log(Z3), axis=1)) #　問７で使う　fit,predictでは使わない\n",
    "        return L\n",
    "#         term1 = self.batch_size\n",
    "#         term2 = np.log(self.Z3)\n",
    "#         L = -(1/term1)*np.sum(y*term2)\n",
    "#         return L\n",
    "    \n",
    "    def _forward(self, X):\n",
    "        \"\"\" フォワードプロパゲーションのステップを計算　\"\"\"\n",
    "\n",
    "        #１層目\n",
    "        self.A1 = X@self.W1 + self.B1#(20,400)\n",
    "\n",
    "        #１層目の活性化関数(tahn関数)\n",
    "        self.Z1 = np.tanh(self.A1) #(20,400 A1と同じshape)\n",
    "\n",
    "        #２層目\n",
    "        self.A2 = self.Z1@self.W2 + self.B2 # (20, 200)\n",
    "\n",
    "        # 2層目の活性化関数\n",
    "        self.Z2 = np.tanh(self.A2)#(20, 200)\n",
    "\n",
    "        # 3層目\n",
    "        self.A3 = self.Z2@self.W3 + self.B3#(20, 10)\n",
    "\n",
    "        # 3層目の活性化関数\n",
    "        self.Z3 = self._softmax(self.A3)#(20,10)１行のsumが１\n",
    "        \n",
    "        #print(np.sum(self.Z3, axis=1))\n",
    "        \n",
    "        \n",
    "        return self.Z3,self.A1,self.Z1,self.A2,self.Z2,self.A3\n",
    "        \n",
    "    def _Backpropagation(self, X, y,Z3,A1,Z1,A2,Z2,A3):\n",
    "        \"\"\" バックプロパゲーションのステップを計算　\"\"\"\n",
    "    \n",
    "        # ３層目\n",
    "\n",
    "        #W３の更新式(tahn関数を使用)\n",
    "        \n",
    "        gradientLA3 = self.Z3 - y #(20,10)\n",
    "        gradientLB3 = np.sum(gradientLA3, axis=0)\n",
    "        gradientLW3 = self.Z2.T@gradientLA3# (10,)\n",
    "        gradientLZ2 = gradientLA3@self.W3.T#(20,200)\n",
    "        \n",
    "        self.W3 = self.W3 - self.α*gradientLW3#(200,10)\n",
    "        \n",
    "        # B3の更新式\n",
    "        self.B3 = self.B3 - self.α*gradientLB3#(10,)\n",
    "        \n",
    "        # 2層目\n",
    "        \n",
    "        # W2の更新式\n",
    "        gradientLA2 = gradientLZ2*(1 - (np.tanh(self.A2)**2))#(20,200)\n",
    "        gradientLB2 = np.sum(gradientLA2, axis=0)#(200,)\n",
    "        gradientLW2 = self.Z1.T@gradientLA2#(400,200)\n",
    "        gradientLZ1 = gradientLA2@self.W2.T#(20,400)\n",
    "        \n",
    "        self.W2 =  self.W2 - self.α*gradientLW2#(400,200)\n",
    "        \n",
    "        # B2の更新式\n",
    "        self.B2 = self.B2 - self.α*gradientLB2#(200,)\n",
    "        \n",
    "        #１層目\n",
    "        \n",
    "        # W1の更新式\n",
    "        gradientLA1 = gradientLZ1*(1 - (np.tanh(self.A1)**2))\n",
    "        gradientLB1 = np.sum(gradientLA1, axis=0)#(20,400)\n",
    "        gradientLW1 = (X.T)@gradientLA1\n",
    "\n",
    "        \n",
    "        self.W1 = self.W1 - self.α*gradientLW1#(784,400)\n",
    "        \n",
    "        # B1の更新式\n",
    "        self.B1 = self.B1 - self.α*gradientLB1#(400,)\n",
    "\n",
    "    def fit(self, X_train, y_train, X_val=None, y_val=None):\n",
    "        \"\"\"\n",
    "        ニューラルネットワーク分類器を学習する。\n",
    "\n",
    "        Parameters\n",
    "        ----------\n",
    "        X : 次の形のndarray, shape (n_samples, n_features)\n",
    "            訓練用データの特徴量\n",
    "        y : 次の形のndarray, shape (n_samples, )\n",
    "            訓練用データの正解値\n",
    "        X_val : 次の形のndarray, shape (n_samples, n_features)\n",
    "            検証用データの特徴量\n",
    "        y_val : 次の形のndarray, shape (n_samples, )\n",
    "            検証用データの正解値\n",
    "        \"\"\"\n",
    "        # one-hot-encode\n",
    "        enc = OneHotEncoder(handle_unknown='ignore', sparse=False)\n",
    "        y_train_one_hot = enc.fit_transform(y_train[:, np.newaxis])\n",
    "\n",
    "        \n",
    "        # W(重み)の初期値を用意 ＊位置を変えてみた\n",
    "        sigma = 0.01 # ガウス分布の標準偏差\n",
    "        self.W1 = sigma * np.random.randn(n_features, n_nodes1)# (784, 400)\n",
    "        self.W2 = sigma * np.random.randn(n_nodes1, n_nodes2) # (400, 200)\n",
    "        self.W3 = sigma * np.random.randn(n_nodes2, n_output) #(200, 10)\n",
    "\n",
    "        # B(バイアス)の形を用意\n",
    "        self.B1 = sigma * np.random.randn(self.n_nodes1) #(400, )\n",
    "        self.B2 = sigma * np.random.randn(self.n_nodes2) #(400, )\n",
    "        self.B3 = sigma * np.random.randn(self.n_output) #(10, )\n",
    "        \n",
    "        #訓練用データが一次元なら二次元に変更\n",
    "        if y_train.ndim == 1:\n",
    "            y = y_train[:, np.newaxis]     \n",
    "\n",
    "        loss = 0\n",
    "        val_loss = 0\n",
    "        \n",
    "        for _ in range(self.n_epoc):\n",
    "        \n",
    "            # ミニバッチ２０枚を取得\n",
    "            get_mini_batch = GetMiniBatch(X_train, y_train_one_hot, batch_size)\n",
    "\n",
    "            for mini_X_train, mini_y_train in get_mini_batch:\n",
    "                self.Z3,self.A1,self.Z1,self.A2,self.Z2,self.A3 = self._forward(mini_X_train)\n",
    "                self._Backpropagation(mini_X_train, mini_y_train,self.Z3,self.A1,self.Z1,self.A2,self.Z2,self.A3)\n",
    "                train_loss = self._cross_entropy(mini_y_train, self.Z3)\n",
    "\n",
    "            #エポックあたりの損失\n",
    "            self.loss_list.append(train_loss)\n",
    "            #print(train_loss)\n",
    "                \n",
    "            #検証用データ有り\n",
    "            if X_val is not None and y_val is not None and y_val.ndim == 1:\n",
    "                y_val = y_val[:, np.newaxis]\n",
    "            if X_val is not None and y_val is not None: \n",
    "                #検証用データのワンホット\n",
    "                y_val_one_hot = enc.transform(y_val)\n",
    "                # ミニバッチ２０枚を取得\n",
    "                get_mini_batch = GetMiniBatch(X_val, y_val_one_hot, batch_size)\n",
    "\n",
    "                for mini_X_train, mini_y_train in get_mini_batch:\n",
    "                    self.Z3,self.A1,self.Z1,self.A2,self.Z2,self.A3 = self._forward(mini_X_train)\n",
    "                    self._Backpropagation(mini_X_train, mini_y_train,self.Z3,self.A1,self.Z1,self.A2,self.Z2,self.A3)\n",
    "                    val_loss = self._cross_entropy(mini_y_train, self.Z3)\n",
    "\n",
    "                #エポックあたりの損失                \n",
    "                self.val_loss_list.append(val_loss)\n",
    "                #print(val_loss)\n",
    "                #plt.plot(self.loss_list, self.val_loss_list)       \n",
    "\n",
    "    def predict(self, X_val):\n",
    "        \"\"\"\n",
    "        ニューラルネットワーク分類器を使い推定する。\n",
    "\n",
    "        Parameters\n",
    "        ----------\n",
    "        X : 次の形のndarray, shape (n_samples, n_features)\n",
    "            サンプル\n",
    "\n",
    "        Returns\n",
    "        -------\n",
    "            次の形のndarray, shape (n_samples, 1)\n",
    "            推定結果\n",
    "        \"\"\"\n",
    "        pred,_,_,_,_,_ = self._forward(X_val)        \n",
    "        predict = np.argmax(pred, axis=1)\n",
    "        \n",
    "#         #エポックあたりの損失\n",
    "#         val_loss = self._cross_entropy(X_val, pred)\n",
    "#         self.loss_list.append(val_loss)\n",
    "        #print(val_loss)\n",
    "        #plt.plot(self.loss_list)\n",
    "        \n",
    "        #学習曲線をプロット\n",
    "        fig = plt.figure()\n",
    "        ax = fig.add_subplot(1, 1, 1)\n",
    "\n",
    "        ax.plot(self.loss_list, label='train loss')\n",
    "        ax.plot(self.val_loss_list, label='val loss')\n",
    "\n",
    "        ax.legend()\n",
    "        ax.set_xlabel(\"epoc [num]\")\n",
    "        ax.set_ylabel(\"cross entorpy\")\n",
    "        #ax.set_ylim(0, 3)\n",
    "\n",
    "        plt.show()\n",
    "\n",
    "        return predict"
   ]
  },
  {
   "cell_type": "markdown",
   "metadata": {},
   "source": [
    "### 【問題6】学習と推定\n",
    "MNISTのデータを学習・推定し、Accuracyを計算してください。"
   ]
  },
  {
   "cell_type": "code",
   "execution_count": 13,
   "metadata": {
    "scrolled": true
   },
   "outputs": [
    {
     "data": {
      "image/png": "[encoded data removed]",
      "text/plain": [
       "<matplotlib.figure.Figure at 0x1a37fa1cf8>"
      ]
     },
     "metadata": {},
     "output_type": "display_data"
    },
    {
     "name": "stdout",
     "output_type": "stream",
     "text": [
      "正解率 ：0.9561666666666667\n",
      "予測\n",
      "[5 6 1 0 7 1 4 3 8 2 6 6 5 9 9 8 9 3 8 2 8 0 1 6 1 8 3 9 6 8 1 7 7 1 2 2 9\n",
      " 5 6 2 7 4 7 8 3 5 3 2 0 6 1 3 5 2 1 0 9 3 6 0 6 2 2 4 6 3 2 7 4 8 4 0 8 1\n",
      " 9 7 4 4 7 9 1 9 6 1 3 4 1 7 6 8 4 3 1 7 6 2 6 7 5 9 2 0 7 9 6 7 8 1 9 7 2\n",
      " 5 5 4 4 8 8 1 7 5 2 4 5 6 3 8 3 6 1 3 1 5 2 0 6 8 3 3 9 2 5 8 2 2 2 4 9 8\n",
      " 9 2 5 7 9 3 9 4 3 0 7 9 1 3 2 5 2 6 8 7 1 6 7 0 8 9 4 9 1 1 4 9 0 7 6 6 4\n",
      " 6 0 9 3 0 3 6 1 5 7 6 3 3 5 0 2 8 1 4 4 0 7 9 1 2 8 4 4 4 5 2 1 6 7 3 5 0\n",
      " 1 2 6 6 1 7 5 8 4 1 7 5 1 9 4 3 3 2 2 2 3 1 6 6 1 2 1 8 9 1 4 0 6 4 5 8 1\n",
      " 6 1 0 3 4 7 2 0 8 5 0 3 0 5 5 5 0 8 3 9 2 3 2 6 7 1 4 7 2 5 6 6 0 2 9 0 0\n",
      " 8 2 1 1]\n",
      "正解：\n",
      "[5 6 1 0 7 1 4 3 8 2 0 6 5 9 9 8 4 3 8 2 8 0 1 6 1 8 3 9 6 8 1 7 7 1 2 7 9\n",
      " 5 6 2 7 4 7 8 3 5 3 2 0 6 1 3 5 2 1 0 9 3 6 0 5 2 2 4 6 3 2 7 4 8 4 0 8 1\n",
      " 3 7 4 4 7 9 1 9 6 1 3 4 1 7 6 8 4 3 1 7 6 2 6 7 5 9 2 0 7 9 6 7 8 1 9 7 2\n",
      " 5 5 4 4 8 8 1 7 5 2 4 5 6 3 8 3 6 1 3 1 5 2 0 6 8 3 3 9 2 5 8 2 2 2 4 9 8\n",
      " 9 2 5 7 9 3 9 4 3 0 7 9 1 3 2 5 3 6 8 7 1 6 7 0 8 9 4 9 1 1 4 9 0 7 6 6 4\n",
      " 6 0 9 3 0 3 6 1 5 7 6 3 3 5 8 2 8 1 4 4 0 7 9 1 2 8 4 4 4 5 2 1 6 7 3 5 0\n",
      " 1 2 6 6 1 7 5 8 4 1 7 5 1 9 4 3 3 2 2 2 3 1 6 6 1 2 1 8 9 1 4 0 6 4 5 8 9\n",
      " 6 1 0 3 4 7 7 0 8 5 0 3 5 5 6 5 0 8 3 9 2 3 2 6 7 1 4 7 2 5 4 6 0 2 9 8 0\n",
      " 8 2 1 1]\n"
     ]
    }
   ],
   "source": [
    "NNC = ScratchSimpleNeuralNetrowkClassifier()\n",
    "NNC.fit(X_train, y_train)\n",
    "pred = NNC.predict(X_val)\n",
    "print(\"正解率 ：{}\".format(accuracy_score(y_val, pred)))\n",
    "print(\"予測\\n{}\".format(pred[:300]))\n",
    "print(\"正解：\\n{}\".format(y_val[:300]))"
   ]
  },
  {
   "cell_type": "markdown",
   "metadata": {},
   "source": [
    "### 【問題7】学習曲線のプロット"
   ]
  },
  {
   "cell_type": "code",
   "execution_count": 14,
   "metadata": {
    "scrolled": true
   },
   "outputs": [
    {
     "data": {
      "image/png": "[encoded data removed]",
      "text/plain": [
       "<matplotlib.figure.Figure at 0x1a37fa17f0>"
      ]
     },
     "metadata": {},
     "output_type": "display_data"
    },
    {
     "name": "stdout",
     "output_type": "stream",
     "text": [
      "正解率 ：0.9726666666666667\n",
      "予測\n",
      "[5 6 1 0 7 1 4 3 8 2 6 6 5 9 9 8 4 3 8 2 8 0 1 6 1 8 3 9 6 8 1 7 7 1 2 7 9\n",
      " 5 6 2 7 4 7 8 3 5 3 2 0 6 1 3 5 2 1 0 9 3 6 0 6 2 2 4 6 3 2 7 4 8 4 0 8 1\n",
      " 9 7 4 4 7 9 1 9 6 1 3 4 1 7 6 8 4 3 1 7 6 2 6 7 5 9 2 0 7 9 6 7 8 1 9 7 2\n",
      " 5 5 4 4 8 8 1 7 5 2 4 5 6 3 8 3 6 1 3 1 5 2 0 6 8 3 3 9 2 5 8 2 2 2 4 9 8\n",
      " 9 2 5 7 9 3 9 4 3 0 7 9 1 3 2 5 2 6 8 7 1 6 7 0 8 9 4 9 1 1 4 9 0 7 6 6 4\n",
      " 6 0 9 3 0 3 6 1 5 7 6 3 3 5 8 2 8 1 4 4 0 7 9 1 2 8 4 4 4 5 2 1 6 7 3 5 0\n",
      " 1 2 6 6 1 7 5 8 4 1 7 5 1 9 4 3 3 2 2 2 3 1 6 6 1 2 1 8 9 1 4 0 6 4 5 8 4\n",
      " 6 1 0 3 4 7 2 0 8 5 0 3 0 5 8 5 0 8 3 9 2 3 2 6 7 1 4 7 2 5 6 6 0 2 9 0 0\n",
      " 8 2 1 1]\n",
      "正解：\n",
      "[5 6 1 0 7 1 4 3 8 2 0 6 5 9 9 8 4 3 8 2 8 0 1 6 1 8 3 9 6 8 1 7 7 1 2 7 9\n",
      " 5 6 2 7 4 7 8 3 5 3 2 0 6 1 3 5 2 1 0 9 3 6 0 5 2 2 4 6 3 2 7 4 8 4 0 8 1\n",
      " 3 7 4 4 7 9 1 9 6 1 3 4 1 7 6 8 4 3 1 7 6 2 6 7 5 9 2 0 7 9 6 7 8 1 9 7 2\n",
      " 5 5 4 4 8 8 1 7 5 2 4 5 6 3 8 3 6 1 3 1 5 2 0 6 8 3 3 9 2 5 8 2 2 2 4 9 8\n",
      " 9 2 5 7 9 3 9 4 3 0 7 9 1 3 2 5 3 6 8 7 1 6 7 0 8 9 4 9 1 1 4 9 0 7 6 6 4\n",
      " 6 0 9 3 0 3 6 1 5 7 6 3 3 5 8 2 8 1 4 4 0 7 9 1 2 8 4 4 4 5 2 1 6 7 3 5 0\n",
      " 1 2 6 6 1 7 5 8 4 1 7 5 1 9 4 3 3 2 2 2 3 1 6 6 1 2 1 8 9 1 4 0 6 4 5 8 9\n",
      " 6 1 0 3 4 7 7 0 8 5 0 3 5 5 6 5 0 8 3 9 2 3 2 6 7 1 4 7 2 5 4 6 0 2 9 8 0\n",
      " 8 2 1 1]\n"
     ]
    }
   ],
   "source": [
    "NNC = ScratchSimpleNeuralNetrowkClassifier(α = 0.001, verbose = True, n_epoc=10,batch_size=100)\n",
    "NNC.fit(X_train, y_train, X_val, y_val)\n",
    "pred = NNC.predict(X_val)\n",
    "print(\"正解率 ：{}\".format(accuracy_score(y_val, pred)))\n",
    "print(\"予測\\n{}\".format(pred[:300]))\n",
    "print(\"正解：\\n{}\".format(y_val[:300]))"
   ]
  },
  {
   "cell_type": "markdown",
   "metadata": {},
   "source": [
    "### 【問題8】（アドバンス課題）誤分類の確認"
   ]
  },
  {
   "cell_type": "code",
   "execution_count": 15,
   "metadata": {},
   "outputs": [
    {
     "data": {
      "image/png": "[encoded data removed]",
      "text/plain": [
       "<matplotlib.figure.Figure at 0x1a38150780>"
      ]
     },
     "metadata": {},
     "output_type": "display_data"
    }
   ],
   "source": [
    "\"\"\"\n",
    "語分類結果を並べて表示する。画像の上の表示は「推定結果/正解」である。\n",
    "\n",
    "Parameters:\n",
    "----------\n",
    "y_pred : 推定値のndarray (n_samples,)\n",
    "y_val : 検証用データの正解ラベル(n_samples,)\n",
    "X_val : 検証用データの特徴量（n_samples, n_features)\n",
    "\"\"\"\n",
    "import numpy as np\n",
    "import matplotlib.pyplot as plt\n",
    "\n",
    "y_pred = pred\n",
    "\n",
    "num = 36 # いくつ表示するか\n",
    "\n",
    "true_false = y_pred==y_val\n",
    "false_list = np.where(true_false==False)[0].astype(np.int)\n",
    "\n",
    "if false_list.shape[0] < num:\n",
    "    num = false_list.shape[0]\n",
    "fig = plt.figure(figsize=(6, 6))\n",
    "fig.subplots_adjust(left=0, right=0.8,  bottom=0, top=0.8, hspace=1, wspace=0.5)\n",
    "for i in range(num):\n",
    "    ax = fig.add_subplot(6, 6, i + 1, xticks=[], yticks=[])\n",
    "    ax.set_title(\"{} / {}\".format(y_pred[false_list[i]],y_val[false_list[i]]))\n",
    "    ax.imshow(X_val.reshape(-1,28,28)[false_list[i]], cmap='gray')"
   ]
  },
  {
   "cell_type": "code",
   "execution_count": null,
   "metadata": {},
   "outputs": [],
   "source": []
  }
 ],
 "metadata": {
  "kernelspec": {
   "display_name": "Python 3",
   "language": "python",
   "name": "python3"
  },
  "language_info": {
   "codemirror_mode": {
    "name": "ipython",
    "version": 3
   },
   "file_extension": ".py",
   "mimetype": "text/x-python",
   "name": "python",
   "nbconvert_exporter": "python",
   "pygments_lexer": "ipython3",
   "version": "3.6.4"
  },
  "varInspector": {
   "cols": {
    "lenName": 16,
    "lenType": 16,
    "lenVar": 40
   },
   "kernels_config": {
    "python": {
     "delete_cmd_postfix": "",
     "delete_cmd_prefix": "del ",
     "library": "var_list.py",
     "varRefreshCmd": "print(var_dic_list())"
    },
    "r": {
     "delete_cmd_postfix": ") ",
     "delete_cmd_prefix": "rm(",
     "library": "var_list.r",
     "varRefreshCmd": "cat(var_dic_list()) "
    }
   },
   "types_to_exclude": [
    "module",
    "function",
    "builtin_function_or_method",
    "instance",
    "_Feature"
   ],
   "window_display": false
  }
 },
 "nbformat": 4,
 "nbformat_minor": 2
}
