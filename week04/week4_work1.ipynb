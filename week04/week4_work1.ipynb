{
 "cells": [
  {
   "cell_type": "markdown",
   "metadata": {},
   "source": [
    "# Week4授業前課題1 アヤメの分類"
   ]
  },
  {
   "cell_type": "code",
   "execution_count": 42,
   "metadata": {},
   "outputs": [],
   "source": [
    "# 最初に使用予定のデータやライブラリーを宣言しておく\n",
    "from sklearn.datasets import load_iris # アイリスデータ\n",
    "from sklearn.model_selection import train_test_split # データ分割\n",
    "from sklearn.preprocessing import StandardScaler # 標準化\n",
    "from sklearn.neighbors import KNeighborsClassifier # 最近傍法\n",
    "from sklearn.metrics import accuracy_score # 正解率\n",
    "from sklearn.metrics import precision_score # 適合率\n",
    "from sklearn.metrics import recall_score # 再現率\n",
    "from sklearn.metrics import f1_score # F値\n",
    "from sklearn.metrics import confusion_matrix # 混合行列\n",
    "from matplotlib.colors import ListedColormap\n",
    "from sklearn.linear_model import LogisticRegression # ロジスティック回帰\n",
    "from sklearn.svm import SVC #SVC \n",
    "from sklearn.model_selection import cross_val_score # 決定木\n",
    "from sklearn.tree import DecisionTreeClassifier # 決定木\n",
    "from sklearn.ensemble import RandomForestClassifier # ランダムフォレスト\n",
    "from sklearn.datasets import make_classification # ランダムフォレスト\n",
    "\n",
    "import numpy as np\n",
    "import pandas as pd\n",
    "import matplotlib.pyplot as plt # グラフ描写のライブラリー\n",
    "import matplotlib.patches as mpatches # 【問題7】可視化\n",
    "import seaborn as sns # グラフ描写のライブラリー"
   ]
  },
  {
   "cell_type": "markdown",
   "metadata": {},
   "source": [
    "### 【課題1】練習のために特徴量とカテゴリを選択\n",
    "選び方は合計18通りありますが、以下の組み合わせで練習することにします。\n",
    "irisデータセットをWeek3同様に取得した後、データフレームからこれらを抜き出してください。\n",
    "\n",
    "virgicolorとvirginica\n",
    "sepal_lengthとpetal_length\n",
    "＜実際の問題では？＞\n",
    "\n",
    "実際の問題を解く上でも結果の可視化は有効です。しかし、そのために学習や推定に使う特徴量を2つに絞るのは望ましくありません。\n",
    "そのため学習や推定は多次元で行い、可視化をする際にだけ主成分分析などの特徴抽出手法を適用するといったことが行われます。\n",
    "また、Week3で利用した散布図行列を使い可視化することも可能です。"
   ]
  },
  {
   "cell_type": "code",
   "execution_count": 43,
   "metadata": {},
   "outputs": [
    {
     "data": {
      "text/html": [
       "<div>\n",
       "<style scoped>\n",
       "    .dataframe tbody tr th:only-of-type {\n",
       "        vertical-align: middle;\n",
       "    }\n",
       "\n",
       "    .dataframe tbody tr th {\n",
       "        vertical-align: top;\n",
       "    }\n",
       "\n",
       "    .dataframe thead th {\n",
       "        text-align: right;\n",
       "    }\n",
       "</style>\n",
       "<table border=\"1\" class=\"dataframe\">\n",
       "  <thead>\n",
       "    <tr style=\"text-align: right;\">\n",
       "      <th></th>\n",
       "      <th>sepal length (cm)</th>\n",
       "      <th>sepal width (cm)</th>\n",
       "      <th>petal length (cm)</th>\n",
       "      <th>petal width (cm)</th>\n",
       "      <th>species</th>\n",
       "    </tr>\n",
       "  </thead>\n",
       "  <tbody>\n",
       "    <tr>\n",
       "      <td>0</td>\n",
       "      <td>5.1</td>\n",
       "      <td>3.5</td>\n",
       "      <td>1.4</td>\n",
       "      <td>0.2</td>\n",
       "      <td>0</td>\n",
       "    </tr>\n",
       "    <tr>\n",
       "      <td>1</td>\n",
       "      <td>4.9</td>\n",
       "      <td>3.0</td>\n",
       "      <td>1.4</td>\n",
       "      <td>0.2</td>\n",
       "      <td>0</td>\n",
       "    </tr>\n",
       "    <tr>\n",
       "      <td>2</td>\n",
       "      <td>4.7</td>\n",
       "      <td>3.2</td>\n",
       "      <td>1.3</td>\n",
       "      <td>0.2</td>\n",
       "      <td>0</td>\n",
       "    </tr>\n",
       "    <tr>\n",
       "      <td>3</td>\n",
       "      <td>4.6</td>\n",
       "      <td>3.1</td>\n",
       "      <td>1.5</td>\n",
       "      <td>0.2</td>\n",
       "      <td>0</td>\n",
       "    </tr>\n",
       "    <tr>\n",
       "      <td>4</td>\n",
       "      <td>5.0</td>\n",
       "      <td>3.6</td>\n",
       "      <td>1.4</td>\n",
       "      <td>0.2</td>\n",
       "      <td>0</td>\n",
       "    </tr>\n",
       "  </tbody>\n",
       "</table>\n",
       "</div>"
      ],
      "text/plain": [
       "   sepal length (cm)  sepal width (cm)  petal length (cm)  petal width (cm)  \\\n",
       "0                5.1               3.5                1.4               0.2   \n",
       "1                4.9               3.0                1.4               0.2   \n",
       "2                4.7               3.2                1.3               0.2   \n",
       "3                4.6               3.1                1.5               0.2   \n",
       "4                5.0               3.6                1.4               0.2   \n",
       "\n",
       "   species  \n",
       "0        0  \n",
       "1        0  \n",
       "2        0  \n",
       "3        0  \n",
       "4        0  "
      ]
     },
     "execution_count": 43,
     "metadata": {},
     "output_type": "execute_result"
    }
   ],
   "source": [
    "\"\"\"\n",
    "アイリスデータを取得。取得方法はweek3と同じ。\n",
    "データフレームで抽出\n",
    "virgicolorとvirginica\n",
    "sepal_lengthとpetal_length\n",
    "\"\"\"\n",
    "iris = load_iris()\n",
    "\n",
    "# df = pd.DataFrame(np.array(iris.data))\n",
    "# df\n",
    "\n",
    "# print(iris.data.shape)\n",
    "# print(type(iris))\n",
    "\n",
    "# iris.feature_names\n",
    "# iris.target\n",
    "\n",
    "# iris.target_names\n",
    "# iris.feature_names\n",
    "# 冨永最初考えていたやつ\n",
    "# df1 = pd.DataFrame(np.array(iris.target),columns=['Species']) #データフレームのデータを良く見て判断した\n",
    "# df1[df1['Species'].isin([1,2])] # データ値がわかっているのでisinを使った\n",
    "# df1\n",
    "\n",
    "df1 = pd.DataFrame(iris.data, columns=iris.feature_names) \n",
    "df1[\"species\"] = iris.target\n",
    "df1.head()"
   ]
  },
  {
   "cell_type": "code",
   "execution_count": 44,
   "metadata": {},
   "outputs": [
    {
     "data": {
      "text/html": [
       "<div>\n",
       "<style scoped>\n",
       "    .dataframe tbody tr th:only-of-type {\n",
       "        vertical-align: middle;\n",
       "    }\n",
       "\n",
       "    .dataframe tbody tr th {\n",
       "        vertical-align: top;\n",
       "    }\n",
       "\n",
       "    .dataframe thead th {\n",
       "        text-align: right;\n",
       "    }\n",
       "</style>\n",
       "<table border=\"1\" class=\"dataframe\">\n",
       "  <thead>\n",
       "    <tr style=\"text-align: right;\">\n",
       "      <th></th>\n",
       "      <th>sepal length (cm)</th>\n",
       "      <th>petal length (cm)</th>\n",
       "      <th>species</th>\n",
       "    </tr>\n",
       "  </thead>\n",
       "  <tbody>\n",
       "    <tr>\n",
       "      <td>50</td>\n",
       "      <td>7.0</td>\n",
       "      <td>4.7</td>\n",
       "      <td>1</td>\n",
       "    </tr>\n",
       "    <tr>\n",
       "      <td>51</td>\n",
       "      <td>6.4</td>\n",
       "      <td>4.5</td>\n",
       "      <td>1</td>\n",
       "    </tr>\n",
       "    <tr>\n",
       "      <td>52</td>\n",
       "      <td>6.9</td>\n",
       "      <td>4.9</td>\n",
       "      <td>1</td>\n",
       "    </tr>\n",
       "    <tr>\n",
       "      <td>53</td>\n",
       "      <td>5.5</td>\n",
       "      <td>4.0</td>\n",
       "      <td>1</td>\n",
       "    </tr>\n",
       "    <tr>\n",
       "      <td>54</td>\n",
       "      <td>6.5</td>\n",
       "      <td>4.6</td>\n",
       "      <td>1</td>\n",
       "    </tr>\n",
       "  </tbody>\n",
       "</table>\n",
       "</div>"
      ],
      "text/plain": [
       "    sepal length (cm)  petal length (cm)  species\n",
       "50                7.0                4.7        1\n",
       "51                6.4                4.5        1\n",
       "52                6.9                4.9        1\n",
       "53                5.5                4.0        1\n",
       "54                6.5                4.6        1"
      ]
     },
     "execution_count": 44,
     "metadata": {},
     "output_type": "execute_result"
    }
   ],
   "source": [
    "\"\"\"\n",
    "アイリスデータを取得。取得方法はweek3と同じ。\n",
    "データフレームで抽出\n",
    "sepal_lengthとpetal_length\n",
    "上記のデータとは違い、データの値は定数じゃないので\n",
    "列で抽出する事にした。列の抽出は.loc を使うんだ！！\n",
    "\"\"\"\n",
    "# http://ailaby.com/lox_iloc_ix/#id1\n",
    "# 列ラベルを指定\n",
    "# \n",
    "# df.loc[:, ['col_1','col_2']]\n",
    "\n",
    "# 冨永最初考えていたやつ\n",
    "# df2 = pd.DataFrame(np.array(iris.data),columns=['sepal length (cm)', 'sepal width (cm)', 'petal length (cm)', 'petal width (cm)'])\n",
    "# df2.loc[:, ['sepal length (cm)','petal length (cm)']]\n",
    "\n",
    "df2 = df1.loc[:,['sepal length (cm)','petal length (cm)', 'species']]\n",
    "df2 = df2[df2[\"species\"].isin([\"1\",\"2\"])]\n",
    "df2.head()"
   ]
  },
  {
   "cell_type": "markdown",
   "metadata": {},
   "source": [
    "### 【問題2】データの分析\n",
    "まずはデータの分析を行いますが、これはWeek3の課題1で行いました。\n",
    "その際出力した散布図行列を見ることで、先ほどの18通りそれぞれの散布図も確認できます。\n",
    "sepal_lengthとpetal_lengthを使い、\n",
    "virgicolorとvirginicaを分類するのは\n",
    "少し難しそうな状況であることが分かるはずです。\n",
    "\n",
    "ここでは復習を兼ねて、\n",
    "抜き出したデータの散布図と箱ひげ図（boxplot）、\n",
    "バイオリン図（violinplot）を表示してください。\n",
    "\n",
    "＜実際の問題では？＞\n",
    "\n",
    "このデータ分析の結果を元に前処理として特徴量エンジニアリングを行っていきます。\n",
    "今回はsepal_lengthとpetal_lengthを抜き出しましたが、分析した上で、問題を少々難しくするための前処理をしたと言えます。\n",
    "前処理\n",
    "データに加工をしていきます。"
   ]
  },
  {
   "cell_type": "code",
   "execution_count": 45,
   "metadata": {},
   "outputs": [],
   "source": [
    "\"\"\"\n",
    "# 冨永最初考えていたやつ\n",
    "# sns.pairplot(df1, hue='Species')\n",
    "pg = sns.pairplot(df2, hue='sepal length (cm)')\n",
    "# sns.pairplot(df2, hue='petal length (cm)')\n",
    "print(type(pg))\n",
    "\"\"\"\n",
    "iris_virgicolor = df2[df2[\"species\"] == 1]\n",
    "iris_virginica = df2[df2[\"species\"] == 2]"
   ]
  },
  {
   "cell_type": "code",
   "execution_count": 46,
   "metadata": {},
   "outputs": [
    {
     "data": {
      "image/png": "[encoded data removed]",
      "text/plain": [
       "<Figure size 432x288 with 1 Axes>"
      ]
     },
     "metadata": {
      "needs_background": "light"
     },
     "output_type": "display_data"
    }
   ],
   "source": [
    "plt.scatter(iris_virgicolor[\"sepal length (cm)\"],iris_virgicolor[\"petal length (cm)\"],c=\"pink\",label=\"virgicolor\")\n",
    "plt.scatter(iris_virginica[\"sepal length (cm)\"],iris_virginica[\"petal length (cm)\"],c=\"y\",label=\"virginica\")\n",
    "plt.xlabel(\"sepal length (cm)\")\n",
    "plt.ylabel(\"petal length (cm)\")\n",
    "plt.legend()\n",
    "plt.show()"
   ]
  },
  {
   "cell_type": "code",
   "execution_count": 47,
   "metadata": {},
   "outputs": [
    {
     "data": {
      "image/png": "[encoded data removed]",
      "text/plain": [
       "<Figure size 720x288 with 2 Axes>"
      ]
     },
     "metadata": {
      "needs_background": "light"
     },
     "output_type": "display_data"
    }
   ],
   "source": [
    "\"\"\"\n",
    "抜き出したデータを元に下記を作成\n",
    "・散布図\n",
    "・箱ひげ図\n",
    "・バイオリン図\n",
    "# 散布図行列を出して見る\n",
    "\n",
    "# 箱ひげ図\n",
    "pg2 = df2.plot( kind='box')\n",
    "print(type(pg2))\n",
    "\"\"\"\n",
    "\n",
    "plt.subplots(figsize=(10,4))\n",
    "\n",
    "# plt.subplot(1,3,1) # これってどうゆう事？？表の出力させる位置を指定出来る!!!\n",
    "# plt.boxplot([iris_virgicolor[\"sepal length (cm)\"],iris_virgicolor[\"petal length (cm)\"]]) # a二つのデーたを使用している\n",
    "\n",
    "plt.subplot(1,3,2) # これってどうゆう事？？表の出力させる位置を指定出来る!!!\n",
    "plt.boxplot([iris_virgicolor[\"sepal length (cm)\"],iris_virgicolor[\"petal length (cm)\"]]) # a二つのデーたを使用している\n",
    "plt.xticks([1,2],[\"sepallength(cm)\",\"petal length(cm)\"]) # データ名を指定している\n",
    "plt.xlabel(\"feature\")\n",
    "plt.ylabel(\"cm\")\n",
    "plt.title(\"virgicolor\")\n",
    "plt.ylim(2,9)\n",
    "\n",
    "plt.subplot(1,3,3)\n",
    "plt.boxplot([iris_virginica[\"sepal length (cm)\"],iris_virginica[\"petal length (cm)\"]])\n",
    "plt.xlabel(\"feture\")\n",
    "plt.ylabel(\"cm\")\n",
    "plt.title(\"virginica\")\n",
    "plt.ylim(2,9)\n",
    "\n",
    "plt.show()"
   ]
  },
  {
   "cell_type": "code",
   "execution_count": 48,
   "metadata": {},
   "outputs": [
    {
     "data": {
      "image/png": "[encoded data removed]",
      "text/plain": [
       "<Figure size 432x288 with 2 Axes>"
      ]
     },
     "metadata": {
      "needs_background": "light"
     },
     "output_type": "display_data"
    }
   ],
   "source": [
    "\"\"\"\n",
    "# 冨永がはじめに考えたやつ。。なんでか出力されない。。\n",
    "# バイオリン図\n",
    "# グラフの見た目を良くする\n",
    "plt.style.use('default')\n",
    "sns.set()\n",
    "sns.set_style('whitegrid')\n",
    "sns.set_palette('pink')\n",
    "\n",
    "# データフレームを投入する時は.meltが使いやすいらしい\n",
    "df_melt = pd.melt(df2)\n",
    "print(df_melt.head())\n",
    "\n",
    "fig = plt.figure()\n",
    "ax = fig.add_subplot(1, 1, 1)\n",
    "\n",
    "sns.violinplot(x='variable', y='value', data=df_melt, jitter=True, color='pink', ax=ax)\n",
    "\n",
    "ax.set_xlabel('iris_columns')\n",
    "ax.set_ylabel('value')\n",
    "ax.set_ylim(-1, 9)\n",
    "plt.show()\n",
    "\"\"\"\n",
    "\n",
    "plt.subplot(1,2,1) \n",
    "plt.violinplot([iris_virgicolor[\"sepal length (cm)\"],iris_virgicolor[\"petal length (cm)\"]]) # バイオリン図にしているだけ\n",
    "plt.xticks([1,2],[\"sepallength(cm)\",\"petal length(cm)\"]) # データ名を指定している\n",
    "plt.xlabel(\"feature\")\n",
    "plt.ylabel(\"cm\")\n",
    "plt.title(\"virgicolor\")\n",
    "plt.ylim(2,9)\n",
    "\n",
    "plt.subplot(1,2,2) \n",
    "plt.violinplot([iris_virginica[\"sepal length (cm)\"],iris_virginica[\"petal length (cm)\"]]) # バイオリン図にしているだけ\n",
    "plt.xticks([1,2],[\"sepallength(cm)\",\"petal length(cm)\"]) # データ名を指定している\n",
    "plt.xlabel(\"feature\")\n",
    "plt.ylabel(\"cm\")\n",
    "plt.title(\"virginica\")\n",
    "plt.ylim(2,9)\n",
    "\n",
    "\n",
    "plt.show()"
   ]
  },
  {
   "cell_type": "markdown",
   "metadata": {},
   "source": [
    "### 【問題3】前処理・訓練用データと検証用データの分割\n",
    "前処理の一貫として、訓練用（train）データと検証用（validation）データの分割を行います。\n",
    "今回は訓練用データ75%、検証用データ25%として分割してください。\n",
    "\n",
    "scikit-learnのtrain_test_splitが利用できます。\n",
    "公式ドキュメントのExamplesを参考に動かしてください。\n",
    "\n",
    "sklearn.model_selection.train_test_split — scikit-learn 0.21.3 documentation\n",
    "\n",
    "＜注意点＞\n",
    "データの分析まではPandasのDataFrameを使用してきました。\n",
    "しかし、scikit-learnはNumPyのndarrayを想定して作られています。\n",
    "そのため、この段階でndarrayへの変換を行いましょう。\n",
    "特徴量（説明変数）をX、正解（目的変数）をyというndarrayに格納します。\n",
    "\n",
    "＜分割する理由＞\n",
    "分類問題の目的は未知のデータを正しく分類することです。\n",
    "その目的が達成できているかを確認するため、実際には答えの分かっているデータの一部を学習には使わず残しておきます。\n",
    "この学習に使用していないデータで推定を行い、そこから求めた指標値によって検証します。\n",
    "学習に使うデータを訓練用データ、検証に使うデータが検証用データで、一般的に7対3から8対2程度の割合にします。"
   ]
  },
  {
   "cell_type": "code",
   "execution_count": 49,
   "metadata": {},
   "outputs": [],
   "source": [
    "\"\"\"\n",
    "とりあえずデータを分割したい。訓練用と検証用の二つ。\n",
    "で、それぞれの割合を75%,25%で分割する。\n",
    "分割する時にdataframeは使えないのでnumpyで進める。\n",
    "Xには特徴量、yには目的変数をそれぞれ numpy で作成する\n",
    "\"\"\"\n",
    "# df2.head()\n",
    "# iris データ(df2)から特徴量だけに変換して numpy に変換(values)している。\n",
    "X = df2.drop(columns = \"species\").values\n"
   ]
  },
  {
   "cell_type": "code",
   "execution_count": 50,
   "metadata": {},
   "outputs": [],
   "source": [
    "# iris データ(df2)の目的変数だけ\n",
    "y = df2[\"species\"].values"
   ]
  },
  {
   "cell_type": "code",
   "execution_count": 51,
   "metadata": {},
   "outputs": [
    {
     "data": {
      "text/plain": [
       "array([2, 2, 2, 1, 1, 1, 1, 2, 1, 1, 1, 1, 2, 1, 2, 1, 2, 2, 1, 1, 2, 2,\n",
       "       1, 1, 2])"
      ]
     },
     "execution_count": 51,
     "metadata": {},
     "output_type": "execute_result"
    }
   ],
   "source": [
    "# データ分割メソッドを使用する\n",
    "# https://scikit-learn.org/stable/modules/generated/sklearn.model_selection.train_test_split.html\n",
    "X_train, X_test, y_train, y_test = train_test_split(\n",
    "X,y,test_size = 0.25, random_state=42)\n",
    "y_test"
   ]
  },
  {
   "cell_type": "markdown",
   "metadata": {},
   "source": [
    "### 【問題4】前処理・標準化\n",
    "分類精度をあげるための加工を行います。手法ごとに適切な方法は異なりますが、ここでは一例として 標準化 を行うことにします。\n",
    "標準化を行うライブラリもscikit-learnに用意されています。これを使って標準化してください。\n",
    "\n",
    "sklearn.model_selection.train_test_split — scikit-learn 0.21.3 documentation\n",
    "\n",
    "＜注意点＞\n",
    "標準化は訓練用のデータでfitを行い、訓練用、検証用双方のデータにtransformを行います。検証用データは学習の段階には存在しない未知のデータの代わりなので、標準化のための平均や標準偏差の計算に使ってはいけません。\n",
    "\n",
    "＜実際の問題での前処理は？＞\n",
    "アヤメのデータセットのように綺麗で扱いやすい状況で提供されることはまずありません。分析を行いながら、様々な加工が必要になってきます。例えばWeek3の課題2で行った欠損値の確認の後、場合により欠損値の補間も行います。外れ値の確認や、複数のデータセットの整理などもあります。"
   ]
  },
  {
   "cell_type": "code",
   "execution_count": 76,
   "metadata": {},
   "outputs": [],
   "source": [
    "\"\"\"\n",
    "標準化のやり方は、\n",
    "訓練用データでfit をする。\n",
    "訓練用データと検証用データをfitする。\n",
    "\n",
    "\"\"\"\n",
    "scaler = StandardScaler() # 標準化用のライブラリーをインスタンス化\n",
    "# fitする,\n",
    "# print(\"1\")\n",
    "# print(X_train)\n",
    "# scaler.fit(X_train) # 訓練用データで fit をする。(スカラーデータに変更？)別の変数に格納しない。\n",
    "X_train_fit = scaler.fit(X_train) # 訓練用データで fit をする。(スカラーデータに変更？)別の変数に格納しない。\n",
    "X_test_fit = scaler.fit(X_train) # 訓練用データで fit をする。(スカラーデータに変更？)別の変数に格納しない。\n",
    "# print(\"2\")\n",
    "# print(X_train_fit)\n",
    "\n",
    "# transformする。対象は訓練用データと検証用データ\n",
    "X_train_transform = scaler.transform(X_train)\n",
    "X_test_transform = scaler.transform(X_test)\n"
   ]
  },
  {
   "cell_type": "markdown",
   "metadata": {},
   "source": [
    "### 【問題5】学習と推定\n",
    "最近傍法（k-nearest neighbors, k-nn）で学習を行います。scikit-learnの公式ドキュメントのExamplesを参考に、k-nnの学習を行ってください。ここで入力するのは訓練用データです。\n",
    "\n",
    "sklearn.neighbors.KNeighborsClassifier — scikit-learn 0.21.3 documentation\n",
    "\n",
    "学習が終わった後、検証用データをpredictメソッドに入力し、推定を行ってください。\n",
    "\n",
    "パラメータが複数ありますが、今はそれらの理解を重視しません。最も基本的な要素として、n_neighborsの数があるため、これは複数試してみましょう。デフォルトの5、および1と3を最低限行ってください。5の場合を5-nn、3の場合を3-nnのように呼びます。"
   ]
  },
  {
   "cell_type": "code",
   "execution_count": 86,
   "metadata": {},
   "outputs": [
    {
     "name": "stdout",
     "output_type": "stream",
     "text": [
      "[2 2 2 1 1 1 1 2 1 1 1 1 1 2 2 1 1 1 1 1 2 1 1 1 2]\n",
      "[2 2 2 1 1 1 2 2 1 1 1 1 2 2 2 1 1 1 1 1 2 1 1 1 2]\n",
      "[2 2 2 1 1 1 2 2 1 1 1 1 2 2 2 1 1 1 1 1 2 1 1 1 2]\n",
      "[2 2 2 1 1 1 1 2 1 1 1 1 2 1 2 1 2 2 1 1 2 2 1 1 2]\n"
     ]
    }
   ],
   "source": [
    "# 解答例\n",
    "# 最近某方のインスタンスを作成する。\n",
    "neigh_5 = KNeighborsClassifier(n_neighbors=5)\n",
    "# 【学習】作成したインスタンスで訓練用データを引数にして学習をさせる。\n",
    "neigh_5.fit(X_train_transform, y_train) \n",
    "# 【推定】作成したインスタンスにpredict メソッドを使用して推定する。\n",
    "y_pred_5nn = neigh_5.predict(X_test_transform)\n",
    "# 推定結果を（y_pred_3nn）\n",
    "print(y_pred_5nn)\n",
    "\n",
    "neigh_3 = KNeighborsClassifier(n_neighbors=3) \n",
    "neigh_3.fit(X_train, y_train) \n",
    "y_pred_3nn = neigh_3.predict(X_test)\n",
    "print(y_pred_3nn)\n",
    "\n",
    "neigh_1 = KNeighborsClassifier(n_neighbors=1) \n",
    "neigh_1.fit(X_train, y_train) \n",
    "y_pred_1nn = neigh_1.predict(X_test)\n",
    "print(y_pred_1nn)\n",
    "\n",
    "# 実際の判別表(模範解答)\n",
    "print(y_test)\n"
   ]
  },
  {
   "cell_type": "code",
   "execution_count": 54,
   "metadata": {},
   "outputs": [
    {
     "name": "stdout",
     "output_type": "stream",
     "text": [
      "KNeighborsClassifier(algorithm='auto', leaf_size=30, metric='minkowski',\n",
      "                     metric_params=None, n_jobs=None, n_neighbors=5, p=2,\n",
      "                     weights='uniform')\n",
      "[2 2 2 1 1 1 2 2 1 1 1 1 2 2 2 1 2 2 1 1 2 1 2 1 2]\n",
      "0.44\n",
      "[2 2 2 1 1 1 2 2 1 1 1 1 2 2 2 1 2 2 1 1 2 2 1 1 2]\n",
      "0.44\n",
      "[2 2 2 1 1 1 2 2 1 1 1 1 2 2 2 1 2 2 1 1 2 1 1 1 2]\n",
      "0.44\n"
     ]
    }
   ],
   "source": [
    "# 冨永独自作成\n",
    "# https://qiita.com/fujin/items/128ed7188f7e7df74f2c\n",
    "knn_5 = KNeighborsClassifier(n_neighbors=5) # 学習したモデルのインスタンス。model ： object 可視化の時に使用する\n",
    "print(knn_5)\n",
    "# neigh_fit = neigh.fit(X_train, y_train) \n",
    "# neigh_fit_pre = neigh_fit.predict\n",
    "# print(neigh_fit_pre)\n",
    "knn_5_fit = knn_5.fit(X_tr_sc,y_train)\n",
    "y_pred_knn5 = knn_5_fit.predict(X_te_sc)\n",
    "print(y_pred_knn5)\n",
    "score = knn_5.score(X_test,y_test)\n",
    "print(score)\n",
    "\n",
    "knn_1 = KNeighborsClassifier(n_neighbors=1)\n",
    "knn_1_fit = knn_1.fit(X_tr_sc,y_train)\n",
    "y_pred_knn1 = knn_1_fit.predict(X_te_sc)\n",
    "print(y_pred_knn1)\n",
    "score = knn_1.score(X_test,y_test)\n",
    "print(score)\n",
    "\n",
    "knn_3 = KNeighborsClassifier(n_neighbors=3)\n",
    "knn_3_fit = knn_3.fit(X_tr_sc,y_train)\n",
    "y_pred_knn3 = knn_3_fit.predict(X_te_sc)\n",
    "print(y_pred_knn3)\n",
    "score = knn_3.score(X_test,y_test)\n",
    "print(score)\n"
   ]
  },
  {
   "cell_type": "markdown",
   "metadata": {},
   "source": [
    "### 【問題6】評価\n",
    "検証用データの特徴量を入力して得られた推定値と、検証用データの正解値の近さを計算し、学習したモデルを評価します。\n",
    "\n",
    "2値分類を評価するための指標値には Accuracy（正解率）、Precision（適合率）、Recall（再現率）、F値 があります。それぞれの意味を理解するには、 混同行列（confusion matrix） を見ることになります。"
   ]
  },
  {
   "cell_type": "code",
   "execution_count": 55,
   "metadata": {},
   "outputs": [
    {
     "name": "stdout",
     "output_type": "stream",
     "text": [
      "0.84\n",
      "21\n"
     ]
    }
   ],
   "source": [
    "\"\"\"\n",
    "scikit-learnを使い4種類の指標を計算する\n",
    "\"\"\"\n",
    "# 正解率\n",
    "acc_knn5 = accuracy_score(y_test, y_pred_knn5)\n",
    "print(acc_knn5)\n",
    "print(accuracy_score(y_test, y_pred_knn5, normalize=False))"
   ]
  },
  {
   "cell_type": "code",
   "execution_count": 56,
   "metadata": {},
   "outputs": [
    {
     "name": "stdout",
     "output_type": "stream",
     "text": [
      "0.842948717948718\n",
      "0.84\n",
      "0.8517948717948718\n"
     ]
    }
   ],
   "source": [
    "# 適合率\n",
    "precision_knn5 = precision_score(y_test, y_pred_knn5)\n",
    "print(precision_score(y_test, y_pred_knn5, average='macro'))\n",
    "print(precision_score(y_test, y_pred_knn5, average='micro'))\n",
    "print(precision_score(y_test, y_pred_knn5, average='weighted'))\n",
    "# precision_score(y_test, y_pred_knn5, average='None')"
   ]
  },
  {
   "cell_type": "code",
   "execution_count": 57,
   "metadata": {},
   "outputs": [
    {
     "name": "stdout",
     "output_type": "stream",
     "text": [
      "0.8474025974025974\n",
      "0.84\n",
      "0.84\n"
     ]
    }
   ],
   "source": [
    "# 再現率\n",
    "recall_knn5 = recall_score(y_test, y_pred_knn5)\n",
    "print(recall_score(y_test, y_pred_knn5, average='macro'))\n",
    "print(recall_score(y_test, y_pred_knn5, average='micro'))\n",
    "print(recall_score(y_test, y_pred_knn5, average='weighted'))\n",
    "# recall_score(y_true, y_pred, average=None)\n"
   ]
  },
  {
   "cell_type": "code",
   "execution_count": 58,
   "metadata": {},
   "outputs": [
    {
     "name": "stdout",
     "output_type": "stream",
     "text": [
      "0.8397435897435896\n",
      "0.8399999999999999\n",
      "0.8405128205128204\n"
     ]
    }
   ],
   "source": [
    "# F値\n",
    "f1_knn5 = f1_score(y_test, y_pred_knn5)\n",
    "print(f1_score(y_test, y_pred_knn5, average='macro'))\n",
    "print(f1_score(y_test, y_pred_knn5, average='micro'))\n",
    "print(f1_score(y_test, y_pred_knn5, average='weighted'))\n",
    "# f1_score(y_true, y_pred, average=None)\n"
   ]
  },
  {
   "cell_type": "code",
   "execution_count": 59,
   "metadata": {},
   "outputs": [
    {
     "data": {
      "text/plain": [
       "array([[11,  3],\n",
       "       [ 1, 10]])"
      ]
     },
     "execution_count": 59,
     "metadata": {},
     "output_type": "execute_result"
    }
   ],
   "source": [
    "\"\"\"\n",
    "混同行列をscikit-learnを使い表示する\n",
    "\"\"\"\n",
    "# 混合行列\n",
    "confusion_matrix(y_test, y_pred_knn5)"
   ]
  },
  {
   "cell_type": "code",
   "execution_count": 60,
   "metadata": {},
   "outputs": [
    {
     "data": {
      "text/plain": [
       "'\\n4種類の指標値の意味について簡単に調査して文章でまとめる\\n'"
      ]
     },
     "execution_count": 60,
     "metadata": {},
     "output_type": "execute_result"
    }
   ],
   "source": [
    "\"\"\"\n",
    "4種類の指標値の意味について簡単に調査して文章でまとめる\n",
    "\"\"\""
   ]
  },
  {
   "cell_type": "markdown",
   "metadata": {},
   "source": [
    "https://data.gunosy.io/entry/2016/08/05/115345\n",
    "#### 正解率 (Accuracy)\n",
    "この指標自体を精度という場合もあります*3。 予測結果全体と、答えがどれぐらい一致しているかを判断する指標。計算式は下記を参照。\n",
    "一見優れた指標に見えますが、発表スライドにもある通り、正解データの正が1%で負が99%のような場合、すべてのデータを不正解と予測するデータがある場合、99%の精度 を持つモデルと評価されてしまいます。これではよいモデルとは言えないので下記の指標を併せて使う場合が多いです。\n",
    "\n",
    "#### 適合率 (Precision)\n",
    "偽陽性を低く抑えることを目的とする場合には適合率が高いモデルを採用します。犯罪の検挙を例にすると、一般市民を冤罪で逮捕してしまう率を低く抑えることができます。しかし、逆に真犯人を見つける確率も下がる場合もあります。\n",
    "\n",
    "#### 再現率 (Recall)\n",
    "偽陰性を低く抑えたい場合に採用する指標です。\n",
    "\n",
    "#### F値 (F-measure, F-score)\n",
    "適合率と再現率はトレードオフの関係にある(どちらかが高くなるとどちらかが低くなる)ので調和平均をとった指標です。"
   ]
  },
  {
   "cell_type": "markdown",
   "metadata": {},
   "source": [
    "### 【問題7】可視化\n",
    "評価の一貫として可視化を行います。\n",
    "今回の場合2次元の特徴量で分類を行いましたから、散布図で可視化が可能です。\n",
    "以下にどう分割するかという 決定領域 を描く関数を用意しました。これを利用して可視化を行ってください。\n",
    "Xとyには訓練用データまたは検証用データを与えます。"
   ]
  },
  {
   "cell_type": "code",
   "execution_count": 61,
   "metadata": {},
   "outputs": [],
   "source": [
    "def decision_region(X, y, model, step=0.01, title='decision region', xlabel='xlabel', ylabel='ylabel', target_names=['versicolor', 'virginica']):\n",
    "    \"\"\"\n",
    "    2値分類を2次元の特徴量で学習したモデルの決定領域を描く。\n",
    "    背景の色が学習したモデルによる推定値から描画される。\n",
    "    散布図の点は訓練データまたは検証データである。\n",
    "\n",
    "    Parameters\n",
    "    ----------------\n",
    "    X : ndarray, shape(n_samples, 2)\n",
    "        特徴量\n",
    "    y : ndarray, shape(n_samples,)\n",
    "        ラベル\n",
    "    model : object\n",
    "        学習したモデルのインスンタスを入れる\n",
    "    step : float, (default : 0.1)\n",
    "        推定値を計算する間隔を設定する\n",
    "    title : str\n",
    "        グラフのタイトルの文章を与える\n",
    "    xlabel, ylabel : str\n",
    "        軸ラベルの文章を与える\n",
    "    target_names= : list of str\n",
    "        凡例の一覧を与える\n",
    "    \"\"\"\n",
    "    # setting\n",
    "    scatter_color = ['red', 'blue']\n",
    "    contourf_color = ['pink', 'skyblue']\n",
    "    n_class = 2\n",
    "\n",
    "    # pred\n",
    "    mesh_f0, mesh_f1  = np.meshgrid(np.arange(np.min(X[:,0])-0.5, np.max(X[:,0])+0.5, step), np.arange(np.min(X[:,1])-0.5, np.max(X[:,1])+0.5, step))\n",
    "    mesh = np.c_[np.ravel(mesh_f0),np.ravel(mesh_f1)]\n",
    "    y_pred = model.predict(mesh).reshape(mesh_f0.shape)\n",
    "\n",
    "    # plot\n",
    "    plt.title(title)\n",
    "    plt.xlabel(xlabel)\n",
    "    plt.ylabel(ylabel)\n",
    "    plt.contourf(mesh_f0, mesh_f1, y_pred, n_class-1, cmap=ListedColormap(contourf_color))\n",
    "    plt.contour(mesh_f0, mesh_f1, y_pred, n_class-1, colors='y', linewidths=3, alpha=0.5)\n",
    "    for i, target in enumerate(set(y)):\n",
    "        plt.scatter(X[y==target][:, 0], X[y==target][:, 1], s=80, color=scatter_color[i], label=target_names[i], marker='o')\n",
    "    patches = [mpatches.Patch(color=scatter_color[i], label=target_names[i]) for i in range(n_class)]\n",
    "    plt.legend(handles=patches)\n",
    "    plt.legend()\n",
    "    plt.show()"
   ]
  },
  {
   "cell_type": "code",
   "execution_count": 62,
   "metadata": {},
   "outputs": [
    {
     "data": {
      "image/png": "[encoded data removed]",
      "text/plain": [
       "<Figure size 432x288 with 1 Axes>"
      ]
     },
     "metadata": {
      "needs_background": "light"
     },
     "output_type": "display_data"
    }
   ],
   "source": [
    "decision_region(X_tr_sc, y_train, knn_5)"
   ]
  },
  {
   "cell_type": "code",
   "execution_count": 63,
   "metadata": {},
   "outputs": [
    {
     "data": {
      "image/png": "[encoded data removed]",
      "text/plain": [
       "<Figure size 432x288 with 1 Axes>"
      ]
     },
     "metadata": {
      "needs_background": "light"
     },
     "output_type": "display_data"
    }
   ],
   "source": [
    "decision_region(X_tr_sc, y_train, knn_1)"
   ]
  },
  {
   "cell_type": "code",
   "execution_count": 64,
   "metadata": {},
   "outputs": [
    {
     "data": {
      "image/png": "[encoded data removed]",
      "text/plain": [
       "<Figure size 432x288 with 1 Axes>"
      ]
     },
     "metadata": {
      "needs_background": "light"
     },
     "output_type": "display_data"
    }
   ],
   "source": [
    "decision_region(X_tr_sc, y_train, knn_3)"
   ]
  },
  {
   "cell_type": "markdown",
   "metadata": {},
   "source": [
    "### 【問題8】他の手法の学習\n",
    "以下の全ての手法について学習・推定・評価・可視化を行ってください。\n",
    "そして、指標値を１つの表にまとめてください。その表と決定領域を利用して結果を簡単に考察してください。\n",
    "どの手法がどの指標値で良かったかや、どういった決定領域になっていたかを述べてください。\n",
    "  \n",
    "最近傍法  \n",
    "ロジスティック回帰  \n",
    "SVM  \n",
    "決定木  \n",
    "ランダムフォレスト  \n",
    "公式ドキュメントへのリンクは以下です。それぞれ調整すべき引数（ハイパーパラメータ）がありますが、この課題では扱いません。まずはデフォルトの値で実行してください。  \n",
    "＜実際の問題では？＞  \n",
    "ハイパーパラメータの調整は パラメータチューニング と呼ばれる工程で、その手法としてグリッドサーチなどが存在します。  "
   ]
  },
  {
   "cell_type": "code",
   "execution_count": 65,
   "metadata": {},
   "outputs": [],
   "source": [
    "# 最近傍法 # 問題５で実施済み"
   ]
  },
  {
   "cell_type": "code",
   "execution_count": 66,
   "metadata": {},
   "outputs": [
    {
     "name": "stderr",
     "output_type": "stream",
     "text": [
      "/Users/tominagashuuji/.pyenv/versions/anaconda3-5.1.0/lib/python3.6/site-packages/sklearn/linear_model/logistic.py:432: FutureWarning: Default solver will be changed to 'lbfgs' in 0.22. Specify a solver to silence this warning.\n",
      "  FutureWarning)\n"
     ]
    }
   ],
   "source": [
    "# ロジクスティック回帰\n",
    "# logistic regression model \n",
    "logreg = LogisticRegression()\n",
    "logreg = logreg.fit(X_tr_sc, y_train)\n",
    "\n",
    "y_pred_logreg = logreg.predict(X_te_sc)\n",
    "\n",
    "cnf_matrix_logreg = confusion_matrix(y_test, y_pred_logreg)\n",
    "accuracy_logreg = accuracy_score(y_test, y_pred_logreg)\n",
    "precision_logreg = precision_score(y_test, y_pred_logreg)\n",
    "recall_logreg = recall_score(y_test, y_pred_logreg)\n",
    "f1_logreg = f1_score(y_test, y_pred_logreg)"
   ]
  },
  {
   "cell_type": "code",
   "execution_count": 67,
   "metadata": {},
   "outputs": [],
   "source": [
    "# SVM\n",
    "svmcf = SVC()\n",
    "svmcf = svmcf.fit(X_tr_sc, y_train)\n",
    "\n",
    "y_pred_svmcf = svmcf.predict(X_te_sc)\n",
    "\n",
    "cnf_matrix_svmcf = confusion_matrix(y_test, y_pred_svmcf)\n",
    "accuracy_svmcf = accuracy_score(y_test, y_pred_svmcf)\n",
    "precision_svmcf = precision_score(y_test, y_pred_svmcf)\n",
    "recall_svmcf = recall_score(y_test, y_pred_svmcf)\n",
    "f1_svmcf = f1_score(y_test, y_pred_svmcf)"
   ]
  },
  {
   "cell_type": "code",
   "execution_count": 68,
   "metadata": {},
   "outputs": [],
   "source": [
    "# 決定木 #Decision Tree\n",
    "dtcf = DecisionTreeClassifier()\n",
    "dtcf = dtcf.fit(X_tr_sc, y_train)\n",
    "\n",
    "y_pred_dtcf = dtcf.predict(X_te_sc)\n",
    "\n",
    "cnf_matrix_dtcf = confusion_matrix(y_test, y_pred_dtcf)\n",
    "accuracy_dtcf = accuracy_score(y_test, y_pred_dtcf)\n",
    "precision_dtcf  = precision_score(y_test, y_pred_dtcf)\n",
    "recall_dtcf = recall_score(y_test, y_pred_dtcf)\n",
    "f1_dtcf  = f1_score(y_test, y_pred_dtcf)"
   ]
  },
  {
   "cell_type": "code",
   "execution_count": 69,
   "metadata": {},
   "outputs": [
    {
     "name": "stderr",
     "output_type": "stream",
     "text": [
      "/Users/tominagashuuji/.pyenv/versions/anaconda3-5.1.0/lib/python3.6/site-packages/sklearn/ensemble/forest.py:245: FutureWarning: The default value of n_estimators will change from 10 in version 0.20 to 100 in 0.22.\n",
      "  \"10 in version 0.20 to 100 in 0.22.\", FutureWarning)\n"
     ]
    }
   ],
   "source": [
    "# ランダムフォレスト #Random Forest\n",
    "RF = RandomForestClassifier()\n",
    "RF = RF.fit(X_tr_sc, y_train)\n",
    "\n",
    "y_pred_RF = dtcf.predict(X_te_sc)\n",
    "\n",
    "cnf_matrix_RF = confusion_matrix(y_test, y_pred_RF)\n",
    "accuracy_RF = accuracy_score(y_test, y_pred_RF)\n",
    "precision_RF  = precision_score(y_test, y_pred_RF)\n",
    "recall_RF = recall_score(y_test, y_pred_RF)\n",
    "f1_RF = f1_score(y_test, y_pred_RF)"
   ]
  },
  {
   "cell_type": "code",
   "execution_count": 70,
   "metadata": {},
   "outputs": [
    {
     "data": {
      "text/html": [
       "<div>\n",
       "<style scoped>\n",
       "    .dataframe tbody tr th:only-of-type {\n",
       "        vertical-align: middle;\n",
       "    }\n",
       "\n",
       "    .dataframe tbody tr th {\n",
       "        vertical-align: top;\n",
       "    }\n",
       "\n",
       "    .dataframe thead th {\n",
       "        text-align: right;\n",
       "    }\n",
       "</style>\n",
       "<table border=\"1\" class=\"dataframe\">\n",
       "  <thead>\n",
       "    <tr style=\"text-align: right;\">\n",
       "      <th></th>\n",
       "      <th>accuracy</th>\n",
       "      <th>precision</th>\n",
       "      <th>recall</th>\n",
       "      <th>f1 score</th>\n",
       "    </tr>\n",
       "  </thead>\n",
       "  <tbody>\n",
       "    <tr>\n",
       "      <td>k-means</td>\n",
       "      <td>0.84</td>\n",
       "      <td>0.916667</td>\n",
       "      <td>0.785714</td>\n",
       "      <td>0.846154</td>\n",
       "    </tr>\n",
       "    <tr>\n",
       "      <td>LogisticRegression</td>\n",
       "      <td>0.92</td>\n",
       "      <td>1.000000</td>\n",
       "      <td>0.857143</td>\n",
       "      <td>0.923077</td>\n",
       "    </tr>\n",
       "    <tr>\n",
       "      <td>SVM</td>\n",
       "      <td>0.88</td>\n",
       "      <td>1.000000</td>\n",
       "      <td>0.785714</td>\n",
       "      <td>0.880000</td>\n",
       "    </tr>\n",
       "    <tr>\n",
       "      <td>DecisionTree</td>\n",
       "      <td>0.92</td>\n",
       "      <td>1.000000</td>\n",
       "      <td>0.857143</td>\n",
       "      <td>0.923077</td>\n",
       "    </tr>\n",
       "    <tr>\n",
       "      <td>RandomForest</td>\n",
       "      <td>0.92</td>\n",
       "      <td>1.000000</td>\n",
       "      <td>0.857143</td>\n",
       "      <td>0.923077</td>\n",
       "    </tr>\n",
       "  </tbody>\n",
       "</table>\n",
       "</div>"
      ],
      "text/plain": [
       "                    accuracy  precision    recall  f1 score\n",
       "k-means                 0.84   0.916667  0.785714  0.846154\n",
       "LogisticRegression      0.92   1.000000  0.857143  0.923077\n",
       "SVM                     0.88   1.000000  0.785714  0.880000\n",
       "DecisionTree            0.92   1.000000  0.857143  0.923077\n",
       "RandomForest            0.92   1.000000  0.857143  0.923077"
      ]
     },
     "execution_count": 70,
     "metadata": {},
     "output_type": "execute_result"
    }
   ],
   "source": [
    "result_df = pd.DataFrame({\"accuracy\":[acc_knn5,accuracy_logreg,accuracy_svmcf,accuracy_dtcf,accuracy_RF],\n",
    "                         \"precision\":[precision_knn5,precision_logreg,precision_svmcf ,precision_dtcf,precision_RF],\n",
    "                         \"recall\":[recall_knn5,recall_logreg,recall_svmcf, recall_dtcf, recall_RF],\n",
    "                         \"f1 score\":[f1_knn5,f1_logreg, f1_svmcf, f1_dtcf, f1_RF]},\n",
    "                        index=[\"k-means\", \"LogisticRegression\", \"SVM\", \"DecisionTree\", \"RandomForest\"])\n",
    "result_df"
   ]
  },
  {
   "cell_type": "code",
   "execution_count": 71,
   "metadata": {},
   "outputs": [
    {
     "data": {
      "image/png": "[encoded data removed]",
      "text/plain": [
       "<Figure size 432x288 with 1 Axes>"
      ]
     },
     "metadata": {
      "needs_background": "light"
     },
     "output_type": "display_data"
    },
    {
     "data": {
      "image/png": "[encoded data removed]",
      "text/plain": [
       "<Figure size 432x288 with 1 Axes>"
      ]
     },
     "metadata": {
      "needs_background": "light"
     },
     "output_type": "display_data"
    },
    {
     "data": {
      "image/png": "[encoded data removed]",
      "text/plain": [
       "<Figure size 432x288 with 1 Axes>"
      ]
     },
     "metadata": {
      "needs_background": "light"
     },
     "output_type": "display_data"
    },
    {
     "data": {
      "image/png": "[encoded data removed]",
      "text/plain": [
       "<Figure size 432x288 with 1 Axes>"
      ]
     },
     "metadata": {
      "needs_background": "light"
     },
     "output_type": "display_data"
    },
    {
     "data": {
      "image/png": "[encoded data removed]",
      "text/plain": [
       "<Figure size 432x288 with 1 Axes>"
      ]
     },
     "metadata": {
      "needs_background": "light"
     },
     "output_type": "display_data"
    }
   ],
   "source": [
    "decision_region(X_tr_sc, y_train, knn_5) # 最近ボウホウ\n",
    "\n",
    "decision_region(X_tr_sc, y_train, logreg) # ロジスティック回帰\n",
    "\n",
    "decision_region(X_tr_sc, y_train, svmcf) # SVM\n",
    "\n",
    "decision_region(X_tr_sc, y_train, dtcf) # 決定木\n",
    "\n",
    "decision_region(X_tr_sc, y_train, RF) # ランダムフォレスト"
   ]
  },
  {
   "cell_type": "markdown",
   "metadata": {},
   "source": [
    "### ●考察\n",
    "表から判断すると、正解率だけ見るとロジスティック回帰、再現性、f値が高い。  \n",
    "グラフからはSVMは楕円形の範囲をカバーしている。他の指標の決定域を見ると直線的な範囲をしている。  \n",
    "グラフだけで検討するとSVM、数値表で判断するとロジスティック回帰。"
   ]
  },
  {
   "cell_type": "code",
   "execution_count": null,
   "metadata": {},
   "outputs": [],
   "source": []
  }
 ],
 "metadata": {
  "kernelspec": {
   "display_name": "Python 3",
   "language": "python",
   "name": "python3"
  },
  "language_info": {
   "codemirror_mode": {
    "name": "ipython",
    "version": 3
   },
   "file_extension": ".py",
   "mimetype": "text/x-python",
   "name": "python",
   "nbconvert_exporter": "python",
   "pygments_lexer": "ipython3",
   "version": "3.6.4"
  }
 },
 "nbformat": 4,
 "nbformat_minor": 2
}
