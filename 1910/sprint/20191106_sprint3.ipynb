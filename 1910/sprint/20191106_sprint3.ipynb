{
 "cells": [
  {
   "cell_type": "markdown",
   "metadata": {},
   "source": [
    "# Sprint 機械学習スクラッチ 線形回帰\n",
    "\n",
    "## 1.このSprintについて\n",
    "### Sprintの目的\n",
    "スクラッチを通して線形回帰を理解する\n",
    "オブジェクト指向を意識した実装に慣れる\n",
    "数式をコードに落とし込めるようにする\n",
    "### どのように学ぶか\n",
    "スクラッチで線形回帰を実装した後、学習と検証を行なっていきます。\n",
    "\n",
    "## 2.線形回帰スクラッチ\n",
    "線形回帰のクラスをスクラッチで作成していきます。NumPyなど最低限のライブラリのみを使いアルゴリズムを実装していきます。\n",
    "\n",
    "以下に雛形を用意してあります。このScratchLinearRegressionクラスにコードを書き加えていってください。\n"
   ]
  },
  {
   "cell_type": "markdown",
   "metadata": {},
   "source": [
    "### 【問題1】仮定関数\n",
    "以下の数式で表される線形回帰の仮定関数を実装してください。メソッドの雛形を用意してあります。\n",
    "\n",
    "`雛形`  \n",
    "クラスの外から呼び出すことがないメソッドのため、Pythonの慣例としてアンダースコアを先頭にひとつつけています。"
   ]
  },
  {
   "cell_type": "markdown",
   "metadata": {},
   "source": [
    "### インポート"
   ]
  },
  {
   "cell_type": "code",
   "execution_count": 1,
   "metadata": {
    "scrolled": true
   },
   "outputs": [
    {
     "name": "stderr",
     "output_type": "stream",
     "text": [
      "/Users/tominagashuuji/.pyenv/versions/anaconda3-5.1.0/lib/python3.6/site-packages/statsmodels/compat/pandas.py:56: FutureWarning: The pandas.core.datetools module is deprecated and will be removed in a future version. Please use the pandas.tseries module instead.\n",
      "  from pandas.core import datetools\n"
     ]
    }
   ],
   "source": [
    "import numpy as np\n",
    "import pandas as pd\n",
    "import random as rd\n",
    "import matplotlib.pyplot as plt\n",
    "from sklearn.preprocessing import StandardScaler\n",
    "import statsmodels.api as sm\n",
    "from sklearn.model_selection import train_test_split"
   ]
  },
  {
   "cell_type": "markdown",
   "metadata": {},
   "source": [
    "### 手作りデータ作成"
   ]
  },
  {
   "cell_type": "code",
   "execution_count": 2,
   "metadata": {},
   "outputs": [
    {
     "data": {
      "text/plain": [
       "array([[-1,  2,  3,  4],\n",
       "       [ 4, -5,  6,  7],\n",
       "       [ 7,  8, -9, 10]])"
      ]
     },
     "execution_count": 2,
     "metadata": {},
     "output_type": "execute_result"
    }
   ],
   "source": [
    "X = np.array([[-1, 2, 3, 4], [4, -5, 6, 7], [7, 8, -9, 10]])\n",
    "X"
   ]
  },
  {
   "cell_type": "code",
   "execution_count": 3,
   "metadata": {},
   "outputs": [
    {
     "data": {
      "text/plain": [
       "(3, 4)"
      ]
     },
     "execution_count": 3,
     "metadata": {},
     "output_type": "execute_result"
    }
   ],
   "source": [
    "X.shape"
   ]
  },
  {
   "cell_type": "code",
   "execution_count": 4,
   "metadata": {},
   "outputs": [],
   "source": [
    "# shita = [rd.random() for i in range(4)]\n",
    "# print(shita)"
   ]
  },
  {
   "cell_type": "markdown",
   "metadata": {},
   "source": [
    "### データ作成"
   ]
  },
  {
   "cell_type": "code",
   "execution_count": 5,
   "metadata": {},
   "outputs": [
    {
     "data": {
      "text/plain": [
       "'/Users/tominagashuuji/workspace/dic_ml/1910/sprint'"
      ]
     },
     "execution_count": 5,
     "metadata": {},
     "output_type": "execute_result"
    }
   ],
   "source": [
    "# DLしたデータは個人的に別ディレクトリに保存したいのでosライブラリをインポート\n",
    "import os\n",
    "os.getcwd()"
   ]
  },
  {
   "cell_type": "code",
   "execution_count": 7,
   "metadata": {},
   "outputs": [
    {
     "data": {
      "text/html": [
       "<div>\n",
       "<style scoped>\n",
       "    .dataframe tbody tr th:only-of-type {\n",
       "        vertical-align: middle;\n",
       "    }\n",
       "\n",
       "    .dataframe tbody tr th {\n",
       "        vertical-align: top;\n",
       "    }\n",
       "\n",
       "    .dataframe thead th {\n",
       "        text-align: right;\n",
       "    }\n",
       "</style>\n",
       "<table border=\"1\" class=\"dataframe\">\n",
       "  <thead>\n",
       "    <tr style=\"text-align: right;\">\n",
       "      <th></th>\n",
       "      <th>Id</th>\n",
       "      <th>MSSubClass</th>\n",
       "      <th>MSZoning</th>\n",
       "      <th>LotFrontage</th>\n",
       "      <th>LotArea</th>\n",
       "      <th>Street</th>\n",
       "      <th>Alley</th>\n",
       "      <th>LotShape</th>\n",
       "      <th>LandContour</th>\n",
       "      <th>Utilities</th>\n",
       "      <th>...</th>\n",
       "      <th>PoolArea</th>\n",
       "      <th>PoolQC</th>\n",
       "      <th>Fence</th>\n",
       "      <th>MiscFeature</th>\n",
       "      <th>MiscVal</th>\n",
       "      <th>MoSold</th>\n",
       "      <th>YrSold</th>\n",
       "      <th>SaleType</th>\n",
       "      <th>SaleCondition</th>\n",
       "      <th>SalePrice</th>\n",
       "    </tr>\n",
       "  </thead>\n",
       "  <tbody>\n",
       "    <tr>\n",
       "      <th>0</th>\n",
       "      <td>1</td>\n",
       "      <td>60</td>\n",
       "      <td>RL</td>\n",
       "      <td>65.0</td>\n",
       "      <td>8450</td>\n",
       "      <td>Pave</td>\n",
       "      <td>NaN</td>\n",
       "      <td>Reg</td>\n",
       "      <td>Lvl</td>\n",
       "      <td>AllPub</td>\n",
       "      <td>...</td>\n",
       "      <td>0</td>\n",
       "      <td>NaN</td>\n",
       "      <td>NaN</td>\n",
       "      <td>NaN</td>\n",
       "      <td>0</td>\n",
       "      <td>2</td>\n",
       "      <td>2008</td>\n",
       "      <td>WD</td>\n",
       "      <td>Normal</td>\n",
       "      <td>208500</td>\n",
       "    </tr>\n",
       "    <tr>\n",
       "      <th>1</th>\n",
       "      <td>2</td>\n",
       "      <td>20</td>\n",
       "      <td>RL</td>\n",
       "      <td>80.0</td>\n",
       "      <td>9600</td>\n",
       "      <td>Pave</td>\n",
       "      <td>NaN</td>\n",
       "      <td>Reg</td>\n",
       "      <td>Lvl</td>\n",
       "      <td>AllPub</td>\n",
       "      <td>...</td>\n",
       "      <td>0</td>\n",
       "      <td>NaN</td>\n",
       "      <td>NaN</td>\n",
       "      <td>NaN</td>\n",
       "      <td>0</td>\n",
       "      <td>5</td>\n",
       "      <td>2007</td>\n",
       "      <td>WD</td>\n",
       "      <td>Normal</td>\n",
       "      <td>181500</td>\n",
       "    </tr>\n",
       "    <tr>\n",
       "      <th>2</th>\n",
       "      <td>3</td>\n",
       "      <td>60</td>\n",
       "      <td>RL</td>\n",
       "      <td>68.0</td>\n",
       "      <td>11250</td>\n",
       "      <td>Pave</td>\n",
       "      <td>NaN</td>\n",
       "      <td>IR1</td>\n",
       "      <td>Lvl</td>\n",
       "      <td>AllPub</td>\n",
       "      <td>...</td>\n",
       "      <td>0</td>\n",
       "      <td>NaN</td>\n",
       "      <td>NaN</td>\n",
       "      <td>NaN</td>\n",
       "      <td>0</td>\n",
       "      <td>9</td>\n",
       "      <td>2008</td>\n",
       "      <td>WD</td>\n",
       "      <td>Normal</td>\n",
       "      <td>223500</td>\n",
       "    </tr>\n",
       "    <tr>\n",
       "      <th>3</th>\n",
       "      <td>4</td>\n",
       "      <td>70</td>\n",
       "      <td>RL</td>\n",
       "      <td>60.0</td>\n",
       "      <td>9550</td>\n",
       "      <td>Pave</td>\n",
       "      <td>NaN</td>\n",
       "      <td>IR1</td>\n",
       "      <td>Lvl</td>\n",
       "      <td>AllPub</td>\n",
       "      <td>...</td>\n",
       "      <td>0</td>\n",
       "      <td>NaN</td>\n",
       "      <td>NaN</td>\n",
       "      <td>NaN</td>\n",
       "      <td>0</td>\n",
       "      <td>2</td>\n",
       "      <td>2006</td>\n",
       "      <td>WD</td>\n",
       "      <td>Abnorml</td>\n",
       "      <td>140000</td>\n",
       "    </tr>\n",
       "    <tr>\n",
       "      <th>4</th>\n",
       "      <td>5</td>\n",
       "      <td>60</td>\n",
       "      <td>RL</td>\n",
       "      <td>84.0</td>\n",
       "      <td>14260</td>\n",
       "      <td>Pave</td>\n",
       "      <td>NaN</td>\n",
       "      <td>IR1</td>\n",
       "      <td>Lvl</td>\n",
       "      <td>AllPub</td>\n",
       "      <td>...</td>\n",
       "      <td>0</td>\n",
       "      <td>NaN</td>\n",
       "      <td>NaN</td>\n",
       "      <td>NaN</td>\n",
       "      <td>0</td>\n",
       "      <td>12</td>\n",
       "      <td>2008</td>\n",
       "      <td>WD</td>\n",
       "      <td>Normal</td>\n",
       "      <td>250000</td>\n",
       "    </tr>\n",
       "  </tbody>\n",
       "</table>\n",
       "<p>5 rows × 81 columns</p>\n",
       "</div>"
      ],
      "text/plain": [
       "   Id  MSSubClass MSZoning  LotFrontage  LotArea Street Alley LotShape  \\\n",
       "0   1          60       RL         65.0     8450   Pave   NaN      Reg   \n",
       "1   2          20       RL         80.0     9600   Pave   NaN      Reg   \n",
       "2   3          60       RL         68.0    11250   Pave   NaN      IR1   \n",
       "3   4          70       RL         60.0     9550   Pave   NaN      IR1   \n",
       "4   5          60       RL         84.0    14260   Pave   NaN      IR1   \n",
       "\n",
       "  LandContour Utilities  ... PoolArea PoolQC Fence MiscFeature MiscVal MoSold  \\\n",
       "0         Lvl    AllPub  ...        0    NaN   NaN         NaN       0      2   \n",
       "1         Lvl    AllPub  ...        0    NaN   NaN         NaN       0      5   \n",
       "2         Lvl    AllPub  ...        0    NaN   NaN         NaN       0      9   \n",
       "3         Lvl    AllPub  ...        0    NaN   NaN         NaN       0      2   \n",
       "4         Lvl    AllPub  ...        0    NaN   NaN         NaN       0     12   \n",
       "\n",
       "  YrSold  SaleType  SaleCondition  SalePrice  \n",
       "0   2008        WD         Normal     208500  \n",
       "1   2007        WD         Normal     181500  \n",
       "2   2008        WD         Normal     223500  \n",
       "3   2006        WD        Abnorml     140000  \n",
       "4   2008        WD         Normal     250000  \n",
       "\n",
       "[5 rows x 81 columns]"
      ]
     },
     "execution_count": 7,
     "metadata": {},
     "output_type": "execute_result"
    }
   ],
   "source": [
    "#仮データを作成（HousePrise）\n",
    "df = pd.read_csv(\"../../data/house-prices-advanced-regression-techniques/train.csv\")\n",
    "df.head()"
   ]
  },
  {
   "cell_type": "code",
   "execution_count": 8,
   "metadata": {},
   "outputs": [],
   "source": [
    "# 特徴量の分割\n",
    "X = df.loc[:, [\"GrLivArea\", \"YearBuilt\"]].values"
   ]
  },
  {
   "cell_type": "code",
   "execution_count": 9,
   "metadata": {},
   "outputs": [],
   "source": [
    "# クラスの分割\n",
    "y = df.loc[:, [\"SalePrice\"]].values"
   ]
  },
  {
   "cell_type": "code",
   "execution_count": 10,
   "metadata": {},
   "outputs": [],
   "source": [
    "X_train, X_test, y_train, y_test = train_test_split(\n",
    "    X,\n",
    "    y, \n",
    "    test_size=0.25, #検証用データをどれくらいの比率にするか指定\n",
    "    random_state=42 #ランダム具合の調整\n",
    ")"
   ]
  },
  {
   "cell_type": "markdown",
   "metadata": {},
   "source": [
    "### クラス生成"
   ]
  },
  {
   "cell_type": "code",
   "execution_count": 11,
   "metadata": {},
   "outputs": [],
   "source": [
    "class ScratchLinearRegression():\n",
    "    \"\"\"\n",
    "    線形回帰のスクラッチ実装\n",
    "\n",
    "    Parameters\n",
    "    ----------\n",
    "    num_iter : int\n",
    "      イテレーション数\n",
    "    lr : float\n",
    "      学習率\n",
    "    no_bias : bool\n",
    "      バイアス項を入れない場合はTrue\n",
    "    verbose : bool\n",
    "      学習過程を出力する場合はTrue\n",
    "\n",
    "    Attributes\n",
    "    ----------\n",
    "    self.coef_ : 次の形のndarray, shape (n_features,)\n",
    "      パラメータ\n",
    "    self.loss : 次の形のndarray, shape (self.iter,)\n",
    "      学習用データに対する損失の記録\n",
    "    self.val_loss : 次の形のndarray, shape (self.iter,)\n",
    "      検証用データに対する損失の記録\n",
    "\n",
    "    \"\"\"\n",
    "\n",
    "    def __init__(self, num_iter=10, lr=0.01, bias=True, verbose=True):\n",
    "        # ハイパーパラメータを属性として記録\n",
    "        self.iter = num_iter\n",
    "        self.lr = lr\n",
    "        self.bias = bias\n",
    "        self.verbose = verbose\n",
    "        # 損失を記録する配列を用意\n",
    "        self.loss = np.zeros(self.iter)\n",
    "        self.val_loss = np.zeros(self.iter)\n",
    "        self.h = None\n",
    "        self.j_theta = None\n",
    "        self.error = None\n",
    "        self.theta = np.zeros((100, 3))\n",
    "\n",
    "    def _linear_hypothesis(self, X): # 問1 \n",
    "        \"\"\"\n",
    "        線形の仮定関数を計算する\n",
    "\n",
    "        Parameters\n",
    "        ----------\n",
    "        X : 次の形のndarray, shape (n_samples, n_features)\n",
    "          学習データ\n",
    "\n",
    "        Returns\n",
    "        -------\n",
    "          次の形のndarray, shape (n_samples, 1)\n",
    "          線形の仮定関数による推定結果\n",
    "\n",
    "        \"\"\"\n",
    "        #(サンプル数 x 特徴量数) @ (特徴量数 x 1) = (サンプル数 x 1)\n",
    "        self.h = np.dot(X, self.theta)\n",
    "        return self.h\n",
    "    \n",
    "    def _get_error(self, y):\n",
    "        \"\"\"\n",
    "        説明を記述\n",
    "        \"\"\"\n",
    "        self.error = self.h - y # self.errorは予測値と実績値の誤差を求める\n",
    "        return self.error\n",
    "\n",
    "    def _gradient_descent(self, X): # 問2 最急降下法\n",
    "        m = X.shape[0] # m はサンプル数の平均を出す時に使うので、Xのレコード数を取得\n",
    "#         self.theta = self.theta - (self.lr / m *(X.T@self.error).sum())\n",
    "        print(\"self.theta{}\".format(self.theta))\n",
    "        print(\"self.lr / m *(X.T@self.error).sum(){}\".format(self.lr / m *(X.T@self.error).sum()))\n",
    "#         self.theta = self.theta - self.lr / m *(X.T@self.error).sum()\n",
    "        self.theta = self.theta - self.lr/m*(self.error.T@X).sum()\n",
    "        print(\"self.theta.shape{}\".format(self.theta.shape))\n",
    "        print(\"self.theta{}\".format(self.theta))\n",
    "\n",
    "        return self.theta\n",
    "\n",
    "    def loss_function(self, error):\n",
    "        m = error.shape[0]\n",
    "        self.j_theta = (error**2).sum()/2/m\n",
    "#         print(\"m{}\".format(m))\n",
    "\n",
    "        return self.j_theta\n",
    "\n",
    "    def fit(self, X, y, X_val=None, y_val=None):\n",
    "        \"\"\"\n",
    "        線形回帰を学習する。検証用データが入力された場合はそれに対する損失と精度もイテレーションごとに計算する。\n",
    "\n",
    "        Parameters\n",
    "        ----------\n",
    "        X : 次の形のndarray, shape (n_samples, n_features)\n",
    "            学習用データの特徴量\n",
    "        y : 次の形のndarray, shape (n_samples, )\n",
    "            学習用データの正解値\n",
    "        X_val : 次の形のndarray, shape (n_samples, n_features)\n",
    "            検証用データの特徴量\n",
    "        y_val : 次の形のndarray, shape (n_samples, )\n",
    "            検証用データの正解値\n",
    "        \"\"\"\n",
    "        # 検証用データの有無を判断する。\n",
    "        self.val_enable = False\n",
    "        if X_val is not None:\n",
    "            self.val_enable = True\n",
    "\n",
    "        # bias（切片）の有無を判定し、有なら切片に影響が出ないように0列目に1を追加する\n",
    "        if self.bias:\n",
    "            X = np.concatenate([np.ones((X.shape[0], 1)), X], axis=1)\n",
    "            if self.val_enable:\n",
    "                X_val = np.concatenate([np.ones((X_val.shape[0], 1)), X_val], axis=1)\n",
    "\n",
    "        # 適当なthetaを用意する（これを更新して正解に近づけて行くイメージ）\n",
    "        self.theta = np.array([rd.random() for i in range(3)])\n",
    "\n",
    "        for i in range(self.iter):\n",
    "            # 訓練用データの処理\n",
    "            self._linear_hypothesis(X)# 引数のself は不要\n",
    "            self._get_error(y)\n",
    "            self._gradient_descent(X)\n",
    "            self.loss_function(self.error) # 最適化されたthetaで目的関数を算出\n",
    "            self.loss[i] = self.j_theta # 問5、目的関数算出\n",
    "\n",
    "            if self.val_enable:\n",
    "                # 検証用データの処理\n",
    "                self._linear_hypothesis(X_val)# 引数のself は不要\n",
    "                self._get_error(y_val)\n",
    "                self._gradient_descent(X_val)\n",
    "                self.loss_function(self.error) # 最適化されたthetaで目的関数を算出           \n",
    "                self.val_loss[i] = self.j_theta # 問5、目的関数算出\n",
    "            \n",
    "        if self.verbose:\n",
    "            print(\"self.loss{}\".format(self.loss))\n",
    "            print(\"self.val_loss{}\".format(self.val_loss))\n",
    "            #verboseをTrueにした際は学習過程を出力\n",
    "            self.learning_curve()\n",
    "            print()\n",
    "        return\n",
    "\n",
    "    def predict(self, X):# 問3 推定\n",
    "        \"\"\"\n",
    "        線形回帰を使い推定する。\n",
    "\n",
    "        Parameters\n",
    "        ----------\n",
    "        X : 次の形のndarray, shape (n_samples, n_features)\n",
    "            サンプル\n",
    "\n",
    "        Returns\n",
    "        -------\n",
    "            次の形のndarray, shape (n_samples, 1)\n",
    "            線形回帰による推定結果\n",
    "        \"\"\"\n",
    "        \n",
    "#      切片の確認、学習後に再度実行するので\n",
    "        n_samples = X.shape[0]\n",
    "        if self.bias:\n",
    "            X = np.concatenate([np.ones((X.shape[0], 1)), X], axis=1)\n",
    "\n",
    "        #(サンプル数 x 特徴量数) @ (特徴量数 x 1) = (サンプル数 x 1)\n",
    "        y_pred = np.dot(X, self.theta)\n",
    "\n",
    "        return y_pred\n",
    "    \n",
    "    def learning_curve(self):\n",
    "        plt.title(\"model loss\")\n",
    "        plt.xlabel(\"iter\")\n",
    "        plt.ylabel(\"loss\")\n",
    "        plt.plot(np.arange(self.iter), self.loss, label=\"train_loss\")\n",
    "        if self.val_enable:\n",
    "            plt.plot(np.arange(self.iter), self.val_loss, label=\"val_loss\")\n",
    "        plt.legend()\n",
    "        plt.show()\n"
   ]
  },
  {
   "cell_type": "markdown",
   "metadata": {},
   "source": [
    "### インスタンス化"
   ]
  },
  {
   "cell_type": "code",
   "execution_count": 12,
   "metadata": {},
   "outputs": [],
   "source": [
    "slr = ScratchLinearRegression()"
   ]
  },
  {
   "cell_type": "markdown",
   "metadata": {},
   "source": [
    "###  学習（線形回帰） 問１、問２動作確認、問５"
   ]
  },
  {
   "cell_type": "code",
   "execution_count": 13,
   "metadata": {
    "scrolled": true
   },
   "outputs": [
    {
     "name": "stdout",
     "output_type": "stream",
     "text": [
      "self.theta[0.04216766 0.38816062 0.63167849]\n",
      "self.lr / m *(X.T@self.error).sum()-7225282225.112826\n",
      "self.theta.shape(3,)\n",
      "self.theta[7.22528223e+09 7.22528223e+09 7.22528223e+09]\n",
      "self.theta[7.22528223e+09 7.22528223e+09 7.22528223e+09]\n",
      "self.lr / m *(X.T@self.error).sum()3.122535179871733e+17\n",
      "self.theta.shape(3,)\n",
      "self.theta[-3.12253511e+17 -3.12253511e+17 -3.12253511e+17]\n",
      "self.theta[-3.12253511e+17 -3.12253511e+17 -3.12253511e+17]\n",
      "self.lr / m *(X.T@self.error).sum()-4.196443964183406e+25\n",
      "self.theta.shape(3,)\n",
      "self.theta[4.19644393e+25 4.19644393e+25 4.19644393e+25]\n",
      "self.theta[4.19644393e+25 4.19644393e+25 4.19644393e+25]\n",
      "self.lr / m *(X.T@self.error).sum()1.8135684532624e+33\n",
      "self.theta.shape(3,)\n",
      "self.theta[-1.81356841e+33 -1.81356841e+33 -1.81356841e+33]\n",
      "self.theta[-1.81356841e+33 -1.81356841e+33 -1.81356841e+33]\n",
      "self.lr / m *(X.T@self.error).sum()-2.437294682341757e+41\n",
      "self.theta.shape(3,)\n",
      "self.theta[2.43729466e+41 2.43729466e+41 2.43729466e+41]\n",
      "self.theta[2.43729466e+41 2.43729466e+41 2.43729466e+41]\n",
      "self.lr / m *(X.T@self.error).sum()1.0533205697313172e+49\n",
      "self.theta.shape(3,)\n",
      "self.theta[-1.05332055e+49 -1.05332055e+49 -1.05332055e+49]\n",
      "self.theta[-1.05332055e+49 -1.05332055e+49 -1.05332055e+49]\n",
      "self.lr / m *(X.T@self.error).sum()-1.4155807677339876e+57\n",
      "self.theta.shape(3,)\n",
      "self.theta[1.41558076e+57 1.41558076e+57 1.41558076e+57]\n",
      "self.theta[1.41558076e+57 1.41558076e+57 1.41558076e+57]\n",
      "self.lr / m *(X.T@self.error).sum()6.11768593913989e+64\n",
      "self.theta.shape(3,)\n",
      "self.theta[-6.1176858e+64 -6.1176858e+64 -6.1176858e+64]\n",
      "self.theta[-6.1176858e+64 -6.1176858e+64 -6.1176858e+64]\n",
      "self.lr / m *(X.T@self.error).sum()-8.221693193262235e+72\n",
      "self.theta.shape(3,)\n",
      "self.theta[8.22169313e+72 8.22169313e+72 8.22169313e+72]\n",
      "self.theta[8.22169313e+72 8.22169313e+72 8.22169313e+72]\n",
      "self.lr / m *(X.T@self.error).sum()3.553152034189994e+80\n",
      "self.theta.shape(3,)\n",
      "self.theta[-3.55315195e+80 -3.55315195e+80 -3.55315195e+80]\n",
      "self.theta[-3.55315195e+80 -3.55315195e+80 -3.55315195e+80]\n",
      "self.lr / m *(X.T@self.error).sum()-4.775159461394792e+88\n",
      "self.theta.shape(3,)\n",
      "self.theta[4.77515943e+88 4.77515943e+88 4.77515943e+88]\n",
      "self.theta[4.77515943e+88 4.77515943e+88 4.77515943e+88]\n",
      "self.lr / m *(X.T@self.error).sum()2.0636707251179156e+96\n",
      "self.theta.shape(3,)\n",
      "self.theta[-2.06367068e+96 -2.06367068e+96 -2.06367068e+96]\n",
      "self.theta[-2.06367068e+96 -2.06367068e+96 -2.06367068e+96]\n",
      "self.lr / m *(X.T@self.error).sum()-2.7734126469757844e+104\n",
      "self.theta.shape(3,)\n",
      "self.theta[2.77341263e+104 2.77341263e+104 2.77341263e+104]\n",
      "self.theta[2.77341263e+104 2.77341263e+104 2.77341263e+104]\n",
      "self.lr / m *(X.T@self.error).sum()1.1985799708904263e+112\n",
      "self.theta.shape(3,)\n",
      "self.theta[-1.19857994e+112 -1.19857994e+112 -1.19857994e+112]\n",
      "self.theta[-1.19857994e+112 -1.19857994e+112 -1.19857994e+112]\n",
      "self.lr / m *(X.T@self.error).sum()-1.6107980838316337e+120\n",
      "self.theta.shape(3,)\n",
      "self.theta[1.61079807e+120 1.61079807e+120 1.61079807e+120]\n",
      "self.theta[1.61079807e+120 1.61079807e+120 1.61079807e+120]\n",
      "self.lr / m *(X.T@self.error).sum()6.961352550744793e+127\n",
      "self.theta.shape(3,)\n",
      "self.theta[-6.96135239e+127 -6.96135239e+127 -6.96135239e+127]\n",
      "self.theta[-6.96135239e+127 -6.96135239e+127 -6.96135239e+127]\n",
      "self.lr / m *(X.T@self.error).sum()-9.355515378156846e+135\n",
      "self.theta.shape(3,)\n",
      "self.theta[9.35551531e+135 9.35551531e+135 9.35551531e+135]\n",
      "self.theta[9.35551531e+135 9.35551531e+135 9.35551531e+135]\n",
      "self.lr / m *(X.T@self.error).sum()4.0431536078280795e+143\n",
      "self.theta.shape(3,)\n",
      "self.theta[-4.04315351e+143 -4.04315351e+143 -4.04315351e+143]\n",
      "self.theta[-4.04315351e+143 -4.04315351e+143 -4.04315351e+143]\n",
      "self.lr / m *(X.T@self.error).sum()-5.433683393931681e+151\n",
      "self.theta.shape(3,)\n",
      "self.theta[5.43368335e+151 5.43368335e+151 5.43368335e+151]\n",
      "self.theta[5.43368335e+151 5.43368335e+151 5.43368335e+151]\n",
      "self.lr / m *(X.T@self.error).sum()2.3482636423498253e+159\n",
      "self.theta.shape(3,)\n",
      "self.theta[-2.34826359e+159 -2.34826359e+159 -2.34826359e+159]\n",
      "self.loss[2.10380741e+013 6.70339070e+044 2.26124572e+076 7.62782961e+107\n",
      " 2.57308545e+139 8.67975435e+170 2.92792980e+202 9.87674599e+233\n",
      " 3.33170937e+265 1.12388102e+297]\n",
      "self.val_loss[1.15451464e+029 3.89450861e+060 1.31372932e+092 4.43158536e+123\n",
      " 1.49490070e+155 5.04272830e+186 1.70105672e+218 5.73815163e+249\n",
      " 1.93564293e+281             inf]\n"
     ]
    },
    {
     "name": "stderr",
     "output_type": "stream",
     "text": [
      "/Users/tominagashuuji/.pyenv/versions/anaconda3-5.1.0/lib/python3.6/site-packages/ipykernel_launcher.py:81: RuntimeWarning: overflow encountered in square\n"
     ]
    },
    {
     "data": {
      "image/png": "[encoded data removed]",
      "text/plain": [
       "<matplotlib.figure.Figure at 0x1169306d8>"
      ]
     },
     "metadata": {},
     "output_type": "display_data"
    },
    {
     "name": "stdout",
     "output_type": "stream",
     "text": [
      "\n"
     ]
    }
   ],
   "source": [
    "slr.fit(X_train, y_train, X_test, y_test)"
   ]
  },
  {
   "cell_type": "markdown",
   "metadata": {},
   "source": [
    "### 推定 問3"
   ]
  },
  {
   "cell_type": "code",
   "execution_count": 14,
   "metadata": {
    "scrolled": true
   },
   "outputs": [
    {
     "name": "stdout",
     "output_type": "stream",
     "text": [
      "y_pred[-7.11993520e+162 -1.08419330e+163 -6.94146717e+162 -8.48192808e+162\n",
      " -8.51950030e+162 -6.11253012e+162 -9.14413841e+162 -8.06628542e+162\n",
      " -6.10783359e+162 -7.86433476e+162 -7.99818578e+162 -6.67611338e+162\n",
      " -6.64558595e+162 -8.31285310e+162 -8.66744090e+162 -6.95555675e+162\n",
      " -8.74728187e+162 -7.26787580e+162 -6.88745710e+162 -8.17900208e+162\n",
      " -8.83181935e+162 -8.45140065e+162 -8.17665381e+162 -6.79352656e+162\n",
      " -8.05689237e+162 -7.49800564e+162 -7.86198649e+162 -6.61271026e+162\n",
      " -8.45844544e+162 -7.88781739e+162 -7.42286120e+162 -9.51046753e+162\n",
      " -1.18188106e+163 -6.83109878e+162 -8.55472425e+162 -7.28431365e+162\n",
      " -9.05255613e+162 -9.23337243e+162 -1.06000618e+163 -6.66672033e+162\n",
      " -7.30544802e+162 -9.63962203e+162 -6.86162620e+162 -9.51281580e+162\n",
      " -6.92737758e+162 -9.60674634e+162 -6.75595434e+162 -6.86162620e+162\n",
      " -1.01092747e+163 -8.17900208e+162 -6.90154669e+162 -8.32459442e+162\n",
      " -7.70465283e+162 -1.14477850e+163 -6.69959602e+162 -8.78250582e+162\n",
      " -8.85060546e+162 -7.28901018e+162 -7.26552754e+162 -6.53521757e+162\n",
      " -5.74854926e+162 -7.52853306e+162 -1.05155243e+163 -8.25414651e+162\n",
      " -8.88348115e+162 -9.64901508e+162 -6.98608417e+162 -1.00176925e+163\n",
      " -6.96494980e+162 -8.12029549e+162 -8.25414651e+162 -7.46747821e+162\n",
      " -6.72777518e+162 -7.02365639e+162 -1.02713049e+163 -7.72109068e+162\n",
      " -1.03088772e+163 -1.03605390e+163 -7.30309976e+162 -6.46476966e+162\n",
      " -6.95086022e+162 -7.04009424e+162 -6.91093974e+162 -6.63384464e+162\n",
      " -7.93478266e+162 -8.24005693e+162 -9.26624812e+162 -8.07802674e+162\n",
      " -6.69959602e+162 -8.13203681e+162 -8.23770867e+162 -8.43026628e+162\n",
      " -6.57278978e+162 -1.10767593e+163 -8.77546103e+162 -7.80093164e+162\n",
      " -8.15786770e+162 -8.10620591e+162 -8.23066388e+162 -1.01773744e+163\n",
      " -8.51950030e+162 -8.85765025e+162 -9.85566228e+162 -6.53756583e+162\n",
      " -8.00992710e+162 -8.06863369e+162 -7.03539771e+162 -8.75432666e+162\n",
      " -7.00956681e+162 -9.51046753e+162 -6.42719744e+162 -7.08940777e+162\n",
      " -7.05183555e+162 -8.06393716e+162 -8.93279469e+162 -6.44598355e+162\n",
      " -6.70664081e+162 -6.67846164e+162 -9.11361099e+162 -8.53124162e+162\n",
      " -6.49529708e+162 -6.69959602e+162 -8.44905239e+162 -8.85765025e+162\n",
      " -7.98644446e+162 -6.81231267e+162 -9.99655809e+162 -6.73012344e+162\n",
      " -7.26787580e+162 -8.55002772e+162 -8.42322149e+162 -9.47289531e+162\n",
      " -8.87173984e+162 -9.72650778e+162 -5.70628052e+162 -8.74728187e+162\n",
      " -8.71440618e+162 -6.84284010e+162 -8.58759994e+162 -1.48198915e+163\n",
      " -1.12481826e+163 -6.77474045e+162 -8.73084402e+162 -8.50071419e+162\n",
      " -7.07296993e+162 -6.73481997e+162 -9.37896477e+162 -8.05924063e+162\n",
      " -6.43659049e+162 -6.52582451e+162 -7.28666191e+162 -7.78449379e+162\n",
      " -1.05037830e+163 -9.94489630e+162 -7.04479076e+162 -8.84590894e+162\n",
      " -7.58019486e+162 -7.81971775e+162 -5.93171382e+162 -7.29370670e+162\n",
      " -7.61307055e+162 -7.13167652e+162 -8.58055515e+162 -8.18135034e+162\n",
      " -7.42990599e+162 -8.83416762e+162 -9.27094465e+162 -1.07597438e+163\n",
      " -1.14454367e+163 -1.02008570e+163 -9.27094465e+162 -6.66672033e+162\n",
      " -8.09916112e+162 -8.30580831e+162 -1.14243024e+163 -8.33163921e+162\n",
      " -8.06158890e+162 -8.70736138e+162 -7.74692158e+162 -8.39269406e+162\n",
      " -7.58723965e+162 -7.03774597e+162 -6.88276058e+162 -7.83380733e+162\n",
      " -9.37426824e+162 -8.52889335e+162 -8.66978917e+162 -8.23536040e+162\n",
      " -7.92304135e+162 -7.19273137e+162 -7.83615559e+162 -7.03304945e+162\n",
      " -7.62950840e+162 -7.27022407e+162 -7.77744900e+162 -9.29207902e+162\n",
      " -7.63890145e+162 -7.60367750e+162 -8.78015756e+162 -7.66708061e+162\n",
      " -8.24005693e+162 -8.08507153e+162 -7.66708061e+162 -1.08701121e+163\n",
      " -7.84554865e+162 -6.92268106e+162 -9.43062657e+162 -7.24439317e+162\n",
      " -8.30346005e+162 -6.71368560e+162 -9.94254803e+162 -7.66238409e+162\n",
      " -7.47921953e+162 -8.15082291e+162 -7.79153859e+162 -8.39504233e+162\n",
      " -8.00523057e+162 -7.28901018e+162 -7.77510074e+162 -8.71675444e+162\n",
      " -6.73716823e+162 -7.82206601e+162 -8.51245551e+162 -7.21621401e+162\n",
      " -8.15786770e+162 -7.45338863e+162 -7.15985568e+162 -6.80057135e+162\n",
      " -8.45140065e+162 -7.23030359e+162 -6.75595434e+162 -8.20718124e+162\n",
      " -6.63149637e+162 -7.48156779e+162 -9.17701410e+162 -7.77744900e+162\n",
      " -7.55201570e+162 -7.01895986e+162 -9.51281580e+162 -6.81935746e+162\n",
      " -6.22055024e+162 -1.16145117e+163 -8.77780929e+162 -1.16286013e+163\n",
      " -9.04316308e+162 -7.65064277e+162 -7.97000662e+162 -7.33832371e+162\n",
      " -7.13167652e+162 -6.42954570e+162 -9.02672523e+162 -8.13438507e+162\n",
      " -8.09211632e+162 -6.13366449e+162 -7.34536850e+162 -7.15515915e+162\n",
      " -7.39937857e+162 -7.69056325e+162 -8.44435586e+162 -9.59500502e+162\n",
      " -9.34608908e+162 -7.48156779e+162 -6.74186476e+162 -8.53358988e+162\n",
      " -8.76841624e+162 -9.25450680e+162 -7.83380733e+162 -6.69724775e+162\n",
      " -6.95320848e+162 -8.05689237e+162 -9.58796023e+162 -7.82206601e+162\n",
      " -9.33904429e+162 -7.25378622e+162 -7.48391605e+162 -6.98138765e+162\n",
      " -8.72145097e+162 -9.10421793e+162 -8.08272327e+162 -8.22831561e+162\n",
      " -8.87408810e+162 -6.10783359e+162 -8.41382844e+162 -6.38023217e+162\n",
      " -8.74963013e+162 -8.12029549e+162 -9.02202871e+162 -7.20682095e+162\n",
      " -8.30346005e+162 -8.12968854e+162 -8.10385764e+162 -6.65732727e+162\n",
      " -7.68351846e+162 -8.37155969e+162 -6.35674953e+162 -8.70266486e+162\n",
      " -8.49132113e+162 -6.73247171e+162 -8.37390795e+162 -7.22560706e+162\n",
      " -7.99348925e+162 -8.22831561e+162 -6.76299913e+162 -7.16924873e+162\n",
      " -8.40678365e+162 -9.28033770e+162 -7.35945808e+162 -1.00270855e+163\n",
      " -9.89323450e+162 -6.53052104e+162 -7.99348925e+162 -8.54298293e+162\n",
      " -6.37788391e+162 -1.08114056e+163 -8.23066388e+162 -8.19543992e+162\n",
      " -7.52383654e+162 -7.64829451e+162 -9.06899398e+162 -7.02130813e+162\n",
      " -8.24710172e+162 -7.50270216e+162 -7.55671223e+162 -6.55165541e+162\n",
      " -8.61108258e+162 -8.44670413e+162 -6.67141685e+162 -7.76805595e+162\n",
      " -8.12264375e+162 -6.65732727e+162 -7.52383654e+162 -7.83850386e+162\n",
      " -6.57278978e+162 -7.84789691e+162 -7.98409620e+162 -7.10584562e+162\n",
      " -7.42286120e+162 -7.92069308e+162 -7.09410430e+162 -8.06863369e+162\n",
      " -8.58055515e+162 -6.61036200e+162 -9.02907350e+162 -8.21892256e+162\n",
      " -9.08778009e+162 -9.43062657e+162 -8.91400858e+162 -6.79117830e+162\n",
      " -1.08560226e+163 -6.87101926e+162 -1.09640427e+163 -1.09194257e+163\n",
      " -8.57351036e+162 -7.71169762e+162 -8.69562007e+162 -6.85458141e+162\n",
      " -6.95555675e+162 -6.80057135e+162 -8.62986869e+162 -9.64901508e+162\n",
      " -9.40949220e+162 -7.50974695e+162 -9.79695569e+162 -9.02907350e+162\n",
      " -7.29840323e+162]\n"
     ]
    }
   ],
   "source": [
    "# y_pred = reg.predict(X_test)# 検証用データを推定させる\n",
    "y_pred = slr.predict(X_test)\n",
    "\n",
    "print(\"y_pred{}\".format(y_pred))"
   ]
  },
  {
   "cell_type": "markdown",
   "metadata": {},
   "source": [
    "### 評価（問4、平均２乗誤差）"
   ]
  },
  {
   "cell_type": "code",
   "execution_count": 15,
   "metadata": {},
   "outputs": [],
   "source": [
    "def MSE(y_pred, y):\n",
    "    \"\"\"\n",
    "    平均二乗誤差の計算\n",
    "\n",
    "    Parameters\n",
    "    ----------\n",
    "    y_pred : 次の形のndarray, shape (n_samples,)\n",
    "      推定した値\n",
    "    y : 次の形のndarray, shape (n_samples,)\n",
    "      正解値\n",
    "\n",
    "    Returns\n",
    "    ----------\n",
    "    mse : numpy.float\n",
    "      平均二乗誤差\n",
    "    \"\"\"\n",
    "\n",
    "#     print(\"y_pred{}\".format(y_pred.shape))\n",
    "#     print(y_pred.reshape(365, 1).shape)\n",
    "#     print(\"y{}\".format(y.shape))\n",
    "    m = y.shape[0]\n",
    "    mse = ((y_pred - y)**2).sum()/m\n",
    "#     print(((y_pred.reshape(365, 1) - y)**2).shape)\n",
    "#     print(mse.shape)\n",
    "#     mse2 = np.average((y_pred.reshape(365, 1) - y)**2)\n",
    "#     print(mse2.shape)\n",
    "    print(\"m{}\".format(m))\n",
    "#     print(\"y_pred{}\".format(y_pred))\n",
    "#     print(\"y{}\".format(y))\n",
    "    print(\"(y_pred - y)){}\".format((y_pred - y)))\n",
    "    print(\"(y_pred - y)**2{}\".format((y_pred - y)**2))\n",
    "    print(\" ((y_pred - y)**2).sum(){}\".format(((y_pred - y)**2).sum()))\n",
    "    \n",
    "    print(\"mse{}\".format(mse))\n",
    "#     print(\"mse2{}\".format(mse2))\n",
    "    return mse"
   ]
  },
  {
   "cell_type": "code",
   "execution_count": 16,
   "metadata": {
    "scrolled": true
   },
   "outputs": [
    {
     "name": "stdout",
     "output_type": "stream",
     "text": [
      "m365\n",
      "(y_pred - y))[[-7.11993520e+162 -1.08419330e+163 -6.94146717e+162 ... -9.79695569e+162\n",
      "  -9.02907350e+162 -7.29840323e+162]\n",
      " [-7.11993520e+162 -1.08419330e+163 -6.94146717e+162 ... -9.79695569e+162\n",
      "  -9.02907350e+162 -7.29840323e+162]\n",
      " [-7.11993520e+162 -1.08419330e+163 -6.94146717e+162 ... -9.79695569e+162\n",
      "  -9.02907350e+162 -7.29840323e+162]\n",
      " ...\n",
      " [-7.11993520e+162 -1.08419330e+163 -6.94146717e+162 ... -9.79695569e+162\n",
      "  -9.02907350e+162 -7.29840323e+162]\n",
      " [-7.11993520e+162 -1.08419330e+163 -6.94146717e+162 ... -9.79695569e+162\n",
      "  -9.02907350e+162 -7.29840323e+162]\n",
      " [-7.11993520e+162 -1.08419330e+163 -6.94146717e+162 ... -9.79695569e+162\n",
      "  -9.02907350e+162 -7.29840323e+162]]\n",
      "(y_pred - y)**2[[inf inf inf ... inf inf inf]\n",
      " [inf inf inf ... inf inf inf]\n",
      " [inf inf inf ... inf inf inf]\n",
      " ...\n",
      " [inf inf inf ... inf inf inf]\n",
      " [inf inf inf ... inf inf inf]\n",
      " [inf inf inf ... inf inf inf]]\n",
      " ((y_pred - y)**2).sum()inf\n",
      "mseinf\n",
      "<class 'numpy.float64'>\n",
      "inf\n"
     ]
    },
    {
     "name": "stderr",
     "output_type": "stream",
     "text": [
      "/Users/tominagashuuji/.pyenv/versions/anaconda3-5.1.0/lib/python3.6/site-packages/ipykernel_launcher.py:22: RuntimeWarning: overflow encountered in square\n",
      "/Users/tominagashuuji/.pyenv/versions/anaconda3-5.1.0/lib/python3.6/site-packages/ipykernel_launcher.py:31: RuntimeWarning: overflow encountered in square\n",
      "/Users/tominagashuuji/.pyenv/versions/anaconda3-5.1.0/lib/python3.6/site-packages/ipykernel_launcher.py:32: RuntimeWarning: overflow encountered in square\n"
     ]
    }
   ],
   "source": [
    "mse = MSE(y_pred, y_test)\n",
    "print(type(mse))\n",
    "print(mse)"
   ]
  },
  {
   "cell_type": "code",
   "execution_count": 17,
   "metadata": {
    "scrolled": true
   },
   "outputs": [
    {
     "name": "stdout",
     "output_type": "stream",
     "text": [
      "m365\n",
      "(y_pred - y))[[-7.11993520e+162 -1.08419330e+163 -6.94146717e+162 ... -9.79695569e+162\n",
      "  -9.02907350e+162 -7.29840323e+162]\n",
      " [-7.11993520e+162 -1.08419330e+163 -6.94146717e+162 ... -9.79695569e+162\n",
      "  -9.02907350e+162 -7.29840323e+162]\n",
      " [-7.11993520e+162 -1.08419330e+163 -6.94146717e+162 ... -9.79695569e+162\n",
      "  -9.02907350e+162 -7.29840323e+162]\n",
      " ...\n",
      " [-7.11993520e+162 -1.08419330e+163 -6.94146717e+162 ... -9.79695569e+162\n",
      "  -9.02907350e+162 -7.29840323e+162]\n",
      " [-7.11993520e+162 -1.08419330e+163 -6.94146717e+162 ... -9.79695569e+162\n",
      "  -9.02907350e+162 -7.29840323e+162]\n",
      " [-7.11993520e+162 -1.08419330e+163 -6.94146717e+162 ... -9.79695569e+162\n",
      "  -9.02907350e+162 -7.29840323e+162]]\n",
      "(y_pred - y)**2[[inf inf inf ... inf inf inf]\n",
      " [inf inf inf ... inf inf inf]\n",
      " [inf inf inf ... inf inf inf]\n",
      " ...\n",
      " [inf inf inf ... inf inf inf]\n",
      " [inf inf inf ... inf inf inf]\n",
      " [inf inf inf ... inf inf inf]]\n",
      " ((y_pred - y)**2).sum()inf\n",
      "mseinf\n",
      "MSE : inf\n",
      "[-7.11993520e+162 -1.08419330e+163 -6.94146717e+162 -8.48192808e+162\n",
      " -8.51950030e+162 -6.11253012e+162 -9.14413841e+162 -8.06628542e+162\n",
      " -6.10783359e+162 -7.86433476e+162 -7.99818578e+162 -6.67611338e+162\n",
      " -6.64558595e+162 -8.31285310e+162 -8.66744090e+162 -6.95555675e+162\n",
      " -8.74728187e+162 -7.26787580e+162 -6.88745710e+162 -8.17900208e+162\n",
      " -8.83181935e+162 -8.45140065e+162 -8.17665381e+162 -6.79352656e+162\n",
      " -8.05689237e+162 -7.49800564e+162 -7.86198649e+162 -6.61271026e+162\n",
      " -8.45844544e+162 -7.88781739e+162 -7.42286120e+162 -9.51046753e+162\n",
      " -1.18188106e+163 -6.83109878e+162 -8.55472425e+162 -7.28431365e+162\n",
      " -9.05255613e+162 -9.23337243e+162 -1.06000618e+163 -6.66672033e+162\n",
      " -7.30544802e+162 -9.63962203e+162 -6.86162620e+162 -9.51281580e+162\n",
      " -6.92737758e+162 -9.60674634e+162 -6.75595434e+162 -6.86162620e+162\n",
      " -1.01092747e+163 -8.17900208e+162 -6.90154669e+162 -8.32459442e+162\n",
      " -7.70465283e+162 -1.14477850e+163 -6.69959602e+162 -8.78250582e+162\n",
      " -8.85060546e+162 -7.28901018e+162 -7.26552754e+162 -6.53521757e+162\n",
      " -5.74854926e+162 -7.52853306e+162 -1.05155243e+163 -8.25414651e+162\n",
      " -8.88348115e+162 -9.64901508e+162 -6.98608417e+162 -1.00176925e+163\n",
      " -6.96494980e+162 -8.12029549e+162 -8.25414651e+162 -7.46747821e+162\n",
      " -6.72777518e+162 -7.02365639e+162 -1.02713049e+163 -7.72109068e+162\n",
      " -1.03088772e+163 -1.03605390e+163 -7.30309976e+162 -6.46476966e+162\n",
      " -6.95086022e+162 -7.04009424e+162 -6.91093974e+162 -6.63384464e+162\n",
      " -7.93478266e+162 -8.24005693e+162 -9.26624812e+162 -8.07802674e+162\n",
      " -6.69959602e+162 -8.13203681e+162 -8.23770867e+162 -8.43026628e+162\n",
      " -6.57278978e+162 -1.10767593e+163 -8.77546103e+162 -7.80093164e+162\n",
      " -8.15786770e+162 -8.10620591e+162 -8.23066388e+162 -1.01773744e+163\n",
      " -8.51950030e+162 -8.85765025e+162 -9.85566228e+162 -6.53756583e+162\n",
      " -8.00992710e+162 -8.06863369e+162 -7.03539771e+162 -8.75432666e+162\n",
      " -7.00956681e+162 -9.51046753e+162 -6.42719744e+162 -7.08940777e+162\n",
      " -7.05183555e+162 -8.06393716e+162 -8.93279469e+162 -6.44598355e+162\n",
      " -6.70664081e+162 -6.67846164e+162 -9.11361099e+162 -8.53124162e+162\n",
      " -6.49529708e+162 -6.69959602e+162 -8.44905239e+162 -8.85765025e+162\n",
      " -7.98644446e+162 -6.81231267e+162 -9.99655809e+162 -6.73012344e+162\n",
      " -7.26787580e+162 -8.55002772e+162 -8.42322149e+162 -9.47289531e+162\n",
      " -8.87173984e+162 -9.72650778e+162 -5.70628052e+162 -8.74728187e+162\n",
      " -8.71440618e+162 -6.84284010e+162 -8.58759994e+162 -1.48198915e+163\n",
      " -1.12481826e+163 -6.77474045e+162 -8.73084402e+162 -8.50071419e+162\n",
      " -7.07296993e+162 -6.73481997e+162 -9.37896477e+162 -8.05924063e+162\n",
      " -6.43659049e+162 -6.52582451e+162 -7.28666191e+162 -7.78449379e+162\n",
      " -1.05037830e+163 -9.94489630e+162 -7.04479076e+162 -8.84590894e+162\n",
      " -7.58019486e+162 -7.81971775e+162 -5.93171382e+162 -7.29370670e+162\n",
      " -7.61307055e+162 -7.13167652e+162 -8.58055515e+162 -8.18135034e+162\n",
      " -7.42990599e+162 -8.83416762e+162 -9.27094465e+162 -1.07597438e+163\n",
      " -1.14454367e+163 -1.02008570e+163 -9.27094465e+162 -6.66672033e+162\n",
      " -8.09916112e+162 -8.30580831e+162 -1.14243024e+163 -8.33163921e+162\n",
      " -8.06158890e+162 -8.70736138e+162 -7.74692158e+162 -8.39269406e+162\n",
      " -7.58723965e+162 -7.03774597e+162 -6.88276058e+162 -7.83380733e+162\n",
      " -9.37426824e+162 -8.52889335e+162 -8.66978917e+162 -8.23536040e+162\n",
      " -7.92304135e+162 -7.19273137e+162 -7.83615559e+162 -7.03304945e+162\n",
      " -7.62950840e+162 -7.27022407e+162 -7.77744900e+162 -9.29207902e+162\n",
      " -7.63890145e+162 -7.60367750e+162 -8.78015756e+162 -7.66708061e+162\n",
      " -8.24005693e+162 -8.08507153e+162 -7.66708061e+162 -1.08701121e+163\n",
      " -7.84554865e+162 -6.92268106e+162 -9.43062657e+162 -7.24439317e+162\n",
      " -8.30346005e+162 -6.71368560e+162 -9.94254803e+162 -7.66238409e+162\n",
      " -7.47921953e+162 -8.15082291e+162 -7.79153859e+162 -8.39504233e+162\n",
      " -8.00523057e+162 -7.28901018e+162 -7.77510074e+162 -8.71675444e+162\n",
      " -6.73716823e+162 -7.82206601e+162 -8.51245551e+162 -7.21621401e+162\n",
      " -8.15786770e+162 -7.45338863e+162 -7.15985568e+162 -6.80057135e+162\n",
      " -8.45140065e+162 -7.23030359e+162 -6.75595434e+162 -8.20718124e+162\n",
      " -6.63149637e+162 -7.48156779e+162 -9.17701410e+162 -7.77744900e+162\n",
      " -7.55201570e+162 -7.01895986e+162 -9.51281580e+162 -6.81935746e+162\n",
      " -6.22055024e+162 -1.16145117e+163 -8.77780929e+162 -1.16286013e+163\n",
      " -9.04316308e+162 -7.65064277e+162 -7.97000662e+162 -7.33832371e+162\n",
      " -7.13167652e+162 -6.42954570e+162 -9.02672523e+162 -8.13438507e+162\n",
      " -8.09211632e+162 -6.13366449e+162 -7.34536850e+162 -7.15515915e+162\n",
      " -7.39937857e+162 -7.69056325e+162 -8.44435586e+162 -9.59500502e+162\n",
      " -9.34608908e+162 -7.48156779e+162 -6.74186476e+162 -8.53358988e+162\n",
      " -8.76841624e+162 -9.25450680e+162 -7.83380733e+162 -6.69724775e+162\n",
      " -6.95320848e+162 -8.05689237e+162 -9.58796023e+162 -7.82206601e+162\n",
      " -9.33904429e+162 -7.25378622e+162 -7.48391605e+162 -6.98138765e+162\n",
      " -8.72145097e+162 -9.10421793e+162 -8.08272327e+162 -8.22831561e+162\n",
      " -8.87408810e+162 -6.10783359e+162 -8.41382844e+162 -6.38023217e+162\n",
      " -8.74963013e+162 -8.12029549e+162 -9.02202871e+162 -7.20682095e+162\n",
      " -8.30346005e+162 -8.12968854e+162 -8.10385764e+162 -6.65732727e+162\n",
      " -7.68351846e+162 -8.37155969e+162 -6.35674953e+162 -8.70266486e+162\n",
      " -8.49132113e+162 -6.73247171e+162 -8.37390795e+162 -7.22560706e+162\n",
      " -7.99348925e+162 -8.22831561e+162 -6.76299913e+162 -7.16924873e+162\n",
      " -8.40678365e+162 -9.28033770e+162 -7.35945808e+162 -1.00270855e+163\n",
      " -9.89323450e+162 -6.53052104e+162 -7.99348925e+162 -8.54298293e+162\n",
      " -6.37788391e+162 -1.08114056e+163 -8.23066388e+162 -8.19543992e+162\n",
      " -7.52383654e+162 -7.64829451e+162 -9.06899398e+162 -7.02130813e+162\n",
      " -8.24710172e+162 -7.50270216e+162 -7.55671223e+162 -6.55165541e+162\n",
      " -8.61108258e+162 -8.44670413e+162 -6.67141685e+162 -7.76805595e+162\n",
      " -8.12264375e+162 -6.65732727e+162 -7.52383654e+162 -7.83850386e+162\n",
      " -6.57278978e+162 -7.84789691e+162 -7.98409620e+162 -7.10584562e+162\n",
      " -7.42286120e+162 -7.92069308e+162 -7.09410430e+162 -8.06863369e+162\n",
      " -8.58055515e+162 -6.61036200e+162 -9.02907350e+162 -8.21892256e+162\n",
      " -9.08778009e+162 -9.43062657e+162 -8.91400858e+162 -6.79117830e+162\n",
      " -1.08560226e+163 -6.87101926e+162 -1.09640427e+163 -1.09194257e+163\n",
      " -8.57351036e+162 -7.71169762e+162 -8.69562007e+162 -6.85458141e+162\n",
      " -6.95555675e+162 -6.80057135e+162 -8.62986869e+162 -9.64901508e+162\n",
      " -9.40949220e+162 -7.50974695e+162 -9.79695569e+162 -9.02907350e+162\n",
      " -7.29840323e+162]\n"
     ]
    },
    {
     "name": "stderr",
     "output_type": "stream",
     "text": [
      "/Users/tominagashuuji/.pyenv/versions/anaconda3-5.1.0/lib/python3.6/site-packages/ipykernel_launcher.py:22: RuntimeWarning: overflow encountered in square\n",
      "/Users/tominagashuuji/.pyenv/versions/anaconda3-5.1.0/lib/python3.6/site-packages/ipykernel_launcher.py:31: RuntimeWarning: overflow encountered in square\n",
      "/Users/tominagashuuji/.pyenv/versions/anaconda3-5.1.0/lib/python3.6/site-packages/ipykernel_launcher.py:32: RuntimeWarning: overflow encountered in square\n"
     ]
    }
   ],
   "source": [
    "# 評価のための指標値は回帰問題では 平均二乗誤差（Mean Squared Error, MSE） を使う。\n",
    "#MSEは値が小さいほど精度が高いです。\n",
    "print(\"MSE : {}\".format(MSE(y_pred, y_test)))\n",
    "\n",
    "# 推定値を表示\n",
    "print(y_pred)"
   ]
  },
  {
   "cell_type": "markdown",
   "metadata": {},
   "source": [
    "### 目的関数（損失関数）"
   ]
  },
  {
   "cell_type": "code",
   "execution_count": 18,
   "metadata": {},
   "outputs": [],
   "source": [
    "# slr.loss_function()\n",
    "# loss_functionはfitの中で動かす。\n",
    "# loss_functionは引数としてerrorを投入する必要があるが、\n",
    "# errorはfitで生成されるのでslr.loss_function(error)が使えない"
   ]
  },
  {
   "cell_type": "markdown",
   "metadata": {},
   "source": [
    "###  可視化"
   ]
  },
  {
   "cell_type": "markdown",
   "metadata": {},
   "source": [
    "plt.title(\"linear_hypothesis_list\")\n",
    "plt.xlabel(\"theta\")\n",
    "plt.ylabel(\"SalePrice\")\n",
    "plt.plot(loss_list, color='green', marker='o', linestyle='dashed',\n",
    "         linewidth=1, markersize=2) # 「リスト名」のところに問５のリストの変数名を入れる\n",
    "plt.plot(val_loss, color='red', marker='x', linestyle='dashed',\n",
    "         linewidth=1, markersize=2) # 「リスト名」のところに問５のリストの変数名を入れる\n",
    "plt.show()"
   ]
  },
  {
   "cell_type": "markdown",
   "metadata": {},
   "source": [
    "# ------------以下から動作確認のセル------------"
   ]
  },
  {
   "cell_type": "code",
   "execution_count": 19,
   "metadata": {},
   "outputs": [],
   "source": [
    "# # データの読み込み\n",
    "# df = pd.read_csv(\"../../dic_ml_ans/house-prices-advanced-regression-techniques/train.csv\")\n",
    "# X = df.loc[:,['GrLivArea','YearBuilt']].values\n",
    "# y = df.SalePrice.values"
   ]
  },
  {
   "cell_type": "code",
   "execution_count": 20,
   "metadata": {},
   "outputs": [],
   "source": [
    "# # データの前処理\n",
    "# X_train,X_test,y_train,y_test = train_test_split(X,y,random_state=0)\n",
    "# # 標準化\n",
    "# X_train_std = (X_train - X_train.mean()) / X_train.std()\n",
    "# X_test_std = (X_test -X_test.mean()) / X_test.std()\n",
    "# y_train_std = (y_train - y_train.mean()) / y_train.std()\n",
    "# y_test_std = (y_test - y_test.mean()) / y_test.std()"
   ]
  },
  {
   "cell_type": "code",
   "execution_count": 21,
   "metadata": {},
   "outputs": [],
   "source": [
    "# # バイアス項の追加\n",
    "# X_1 = np.insert(X_test_std, 0, 1, axis=1)\n",
    "# # シータの初期値\n",
    "# coef = np.random.rand(X_1.shape[1])\n",
    "# # パラメータ\n",
    "# lr = 0.001\n",
    "\n",
    "# # shapeの確認\n",
    "# print('X_1_shape :',X_1.shape)\n",
    "# print('coef_shape： 　',coef.shape)"
   ]
  },
  {
   "cell_type": "code",
   "execution_count": 22,
   "metadata": {},
   "outputs": [],
   "source": [
    "# def _linear_hypothesis(X,coef):\n",
    "#     \"\"\"\n",
    "#     線形の仮定関数を計算する\n",
    "\n",
    "#     Parameters\n",
    "#     ----------\n",
    "#     X : 次の形のndarray, shape (n_samples, n_features)\n",
    "#       学習データ\n",
    "\n",
    "#     Returns\n",
    "#     -------\n",
    "#       次の形のndarray, shape (n_samples, 1)\n",
    "#       線形の仮定関数による推定結果\n",
    "\n",
    "#     \"\"\"\n",
    "#     hypothesis = np.dot(X,coef)\n",
    "#     return hypothesis"
   ]
  },
  {
   "cell_type": "code",
   "execution_count": 23,
   "metadata": {},
   "outputs": [],
   "source": [
    "# hypothesis = _linear_hypothesis(X_1, coef)\n",
    "# print('hypothesis_shape: ' , hypothesis.shape, '\\n')\n",
    "# print(hypothesis)"
   ]
  },
  {
   "cell_type": "markdown",
   "metadata": {},
   "source": [
    "### 【問題1】仮定関数\n",
    "以下の数式で表される線形回帰の仮定関数を実装してください。メソッドの雛形を用意してあります。"
   ]
  },
  {
   "cell_type": "code",
   "execution_count": 24,
   "metadata": {},
   "outputs": [],
   "source": [
    "# 20191213\n",
    "def _linear_hypothesis(theta, X): # 問1 \n",
    "    \"\"\"\n",
    "    線形の仮定関数を計算する\n",
    "\n",
    "    Parameters\n",
    "    ----------\n",
    "    X : 次の形のndarray, shape (n_samples, n_features)\n",
    "      学習データ\n",
    "\n",
    "    Returns\n",
    "    -------\n",
    "      次の形のndarray, shape (n_samples, 1)\n",
    "      線形の仮定関数による推定結果\n",
    "\n",
    "    \"\"\"\n",
    "    #(サンプル数 x 特徴量数) @ (特徴量数 x 1) = (サンプル数 x 1)\n",
    "#         print(X.shape)\n",
    "#         print(self.theta.shape)\n",
    "    h = np.dot(X, theta)\n",
    "#         print(self.h.shape)\n",
    "#         print(\"self.h.shape{}\".format(self.h.shape))\n",
    "#         print(\"self.h{}\".format(self.h))\n",
    "    return h"
   ]
  },
  {
   "cell_type": "code",
   "execution_count": 25,
   "metadata": {},
   "outputs": [
    {
     "name": "stdout",
     "output_type": "stream",
     "text": [
      "X_1_shape : (365, 3)\n",
      "theta_shape： 　 (3,)\n"
     ]
    }
   ],
   "source": [
    "#仮データを作成（HousePrise）\n",
    "# バイアス項の追加\n",
    "X_1 = np.insert(X_test, 0, 1, axis=1)\n",
    "# シータの初期値\n",
    "theta = np.random.rand(X_1.shape[1])\n",
    "# パラメータ\n",
    "lr = 0.001\n",
    "\n",
    "# shapeの確認\n",
    "print('X_1_shape :',X_1.shape)\n",
    "print('theta_shape： 　',theta.shape)"
   ]
  },
  {
   "cell_type": "code",
   "execution_count": 26,
   "metadata": {},
   "outputs": [
    {
     "name": "stdout",
     "output_type": "stream",
     "text": [
      "h(365,)\n",
      "h[2539.69530258 3817.1615581  2476.7014734  3005.78081416 3021.68536691\n",
      " 2194.80984884 3232.38367868 2864.86101778 2193.09905034 2794.4726914 ]\n"
     ]
    }
   ],
   "source": [
    "# shapeと中身確認\n",
    "h = _linear_hypothesis(theta, X_1)\n",
    "print(\"h{}\".format(h.shape))\n",
    "print(\"h{}\".format(h[:10]))"
   ]
  },
  {
   "cell_type": "markdown",
   "metadata": {},
   "source": [
    "### 【問題2】最急降下法\n",
    "最急降下法により学習させる実装を行なってください。以下の式で表されるパラメータの更新式のメソッド_gradient_descentを追加し、fit\n",
    "メソッドから呼び出すようにしてください。\n",
    "\n",
    "`雛形`  \n",
    "ScratchLinearRegressionクラスへ以下のメソッドを追加してください。コメントアウト部分の説明も記述してください。  \n",
    "雛形として用意されたメソッドや関数以外でも必要があれば各自作成して完成させてください。雛形を外れても問題ありません。"
   ]
  },
  {
   "cell_type": "code",
   "execution_count": 27,
   "metadata": {},
   "outputs": [],
   "source": [
    "# 20191212\n",
    "def _gradient_descent(theta, X): # 問2 最急降下法\n",
    "    m = X.shape[0] # m はサンプル数の平均を出す時に使うので、Xのレコード数を取得\n",
    "#     self.theta = self.theta - self.lr/m*(self.error.T@X).sum()\n",
    "    theta = theta - lr/m*(np.dot(error.T, X))\n",
    "\n",
    "    return theta"
   ]
  },
  {
   "cell_type": "code",
   "execution_count": 28,
   "metadata": {},
   "outputs": [
    {
     "name": "stdout",
     "output_type": "stream",
     "text": [
      "X_1_shape(365, 3)\n",
      "h_shape(365,)\n",
      "theta_shape(3,)\n",
      "h_shape(365,)\n",
      "y_test_shape(365, 1)\n",
      "y_test_shape(365, 1)\n",
      "y_test_r_shape(365,)\n",
      "X_test_shape(365, 2)\n"
     ]
    }
   ],
   "source": [
    "# print(\"X_1{}\".format(X[:10]))\n",
    "print(\"X_1_shape{}\".format(X_1.shape))\n",
    "# print(\"h{}\".format(h[:10]))\n",
    "print(\"h_shape{}\".format(h.shape))\n",
    "print(\"theta_shape{}\".format(theta.shape))\n",
    "print(\"h_shape{}\".format(h.shape))\n",
    "\n",
    "print(\"y_test_shape{}\".format(y_test.shape))\n",
    "y_test.reshape(-1,1)\n",
    "print(\"y_test_shape{}\".format(y_test.shape))\n",
    "y_test = np.ravel(y_test)\n",
    "print(\"y_test_r_shape{}\".format(y_test.shape))\n",
    "\n",
    "print(\"X_test_shape{}\".format(X_test.shape))"
   ]
  },
  {
   "cell_type": "code",
   "execution_count": 29,
   "metadata": {},
   "outputs": [
    {
     "name": "stdout",
     "output_type": "stream",
     "text": [
      "error_shape(365,)\n"
     ]
    }
   ],
   "source": [
    "error = _linear_hypothesis(theta , X_1) - y_test\n",
    "print(\"error_shape{}\".format(error.shape))\n",
    "# print(\"error{}\".format(error))"
   ]
  },
  {
   "cell_type": "markdown",
   "metadata": {},
   "source": [
    "### 【問題3】推定\n",
    "推定する仕組みを実装してください。ScratchLinearRegressionクラスの雛形に含まれるpredictメソッドに書き加えてください。\n",
    "\n",
    "`仮定関数 `\n",
    "h\n",
    "θ\n",
    "(\n",
    "x\n",
    ")\n",
    " の出力が推定結果です。"
   ]
  },
  {
   "cell_type": "code",
   "execution_count": 30,
   "metadata": {},
   "outputs": [],
   "source": [
    "def predict(theta, X):\n",
    "    \"\"\"\n",
    "    線形回帰を使い推定する。\n",
    "\n",
    "    Parameters\n",
    "    ----------\n",
    "    X : 次の形のndarray, shape (n_samples, n_features)\n",
    "        サンプル\n",
    "\n",
    "    Returns\n",
    "    -------\n",
    "        次の形のndarray, shape (n_samples, 1)\n",
    "        線形回帰による推定結果\n",
    "    \"\"\"\n",
    "    print(X.shape)\n",
    "    print(theta.shape)\n",
    "    #(サンプル数 x 特徴量数) @ (特徴量数 x 1) = (サンプル数 x 1)\n",
    "    y_pred = np.dot(X, theta)\n",
    "\n",
    "    pass\n",
    "    return y_pred"
   ]
  },
  {
   "cell_type": "code",
   "execution_count": 31,
   "metadata": {
    "scrolled": true
   },
   "outputs": [
    {
     "name": "stdout",
     "output_type": "stream",
     "text": [
      "(365, 3)\n",
      "(3,)\n",
      "[2539.69530258 3817.1615581  2476.7014734  3005.78081416 3021.68536691\n",
      " 2194.80984884 3232.38367868 2864.86101778 2193.09905034 2794.4726914\n",
      " 2838.99577009 2387.80493554 2375.67648861 2950.69532444 3072.04662079\n",
      " 2482.84212561 3099.61781003 2590.25820781 2457.83389614 2904.76068632\n",
      " 3126.2279174  2998.3911739  2904.05652558 2427.44930193 2862.69974172\n",
      " 2670.81049946 2796.28917251 2365.21328429 3000.25159192 2805.09361017\n",
      " 2640.76584325 3361.18797997 4149.61608789 2440.32908447 3033.7097502\n",
      " 2596.14517685 3201.54374995 3266.19958376 3734.19754518 2383.98003587\n",
      " 2601.82725658 3405.00851691 2451.55010033 3362.24503057 2473.5855914\n",
      " 3387.99164379 2414.97282209 2451.29803615 3566.71157834 2902.49210866\n",
      " 2464.1761997  2953.35910989 2740.79228519 4023.94062044 2397.66966176\n",
      " 3111.74301899 3134.4826708  2598.36010371 2590.25982679 2338.85038415\n",
      " 2067.76837785 2679.56128632 3705.77257568 2930.77231558 3146.4078474\n",
      " 3406.01029772 2492.65158204 3535.06504422 2487.97775905 2884.43437476\n",
      " 2929.31034331 2659.08535523 2404.96009533 2506.03549295 3622.30605337\n",
      " 2747.43544679 3634.58088187 3652.08893151 2602.2825911  2315.55781012\n",
      " 2482.18999669 2510.1580127  2467.59779668 2371.80279508 2819.7817789\n",
      " 2922.26226003 3277.62063199 2869.28925252 2397.66966176 2888.81219666\n",
      " 2922.1126405  2989.18019558 2353.09131328 3897.25689626 3107.4627848\n",
      " 2775.25870021 2893.58360736 2879.6044563  2922.62162582 3588.64462476\n",
      " 3019.82009194 3137.40175839 3478.00859693 2338.3446368  2845.54134398\n",
      " 2864.60733462 2511.01826889 3101.07492535 2503.42373932 3359.47394352\n",
      " 2300.86316546 2529.98667182 2516.30028389 2861.13208683 3163.31256198\n",
      " 2307.50470807 2397.56397914 2388.76116046 3223.884956   3025.5086476\n",
      " 2327.33336719 2397.66966176 2997.03164628 3133.36873144 2837.99560826\n",
      " 2434.34290873 3527.66892804 2404.40393514 2592.0226571  3030.58739227\n",
      " 2988.52968565 3348.40902311 3141.97961266 3430.6591614  2054.38770491\n",
      " 3099.7186357  3088.54965166 2445.31186041 3044.77790857 5180.80853421\n",
      " 3956.47461962 2421.00941066 3093.02506127 3011.11162301 2523.19227171\n",
      " 2407.87918292 3312.73108102 2863.60555381 2305.89797322 2333.5635122\n",
      " 2594.78241127 2767.65769471 3699.3782403  3507.94271357 2511.86881119\n",
      " 3131.91485408 2697.77511568 2779.1275368  2130.20442786 2599.16347114\n",
      " 2710.9606132  2544.57725285 3042.61501353 2903.24668223 2645.14690312\n",
      " 3127.23455516 3278.77688928 3789.64240068 4024.59760631 3594.67797537\n",
      " 3279.0793663  2383.98003587 2873.50935998 2947.07045713 4016.69736175\n",
      " 2954.86663805 2861.58742135 3085.22726137 2753.36635274 2977.86321099\n",
      " 2699.98842356 2510.96623707 2459.04704219 2783.55415256 3314.44835544\n",
      " 3020.56980857 3072.95243287 2924.23159863 2817.11799346 2565.0027711\n",
      " 2785.61945989 2507.79346631 2713.21785799 2591.92021244 2767.20883613\n",
      " 3283.55153795 2719.71463802 2703.35475076 3110.63555556 2725.13979662\n",
      " 2924.27877351 2872.20834012 2725.08938379 3827.02304635 2790.4526163\n",
      " 2472.27809561 3333.41513939 2582.35958223 2944.24895725 2400.58389241\n",
      " 3508.65011227 2726.35294267 2662.65657174 2894.89919807 2769.4676999\n",
      " 2979.07150009 2845.34293059 2597.45267265 2764.03444638 3087.79184012\n",
      " 2409.03705919 2782.55399073 3017.75802257 2571.59066292 2897.71745999\n",
      " 2653.75130841 2551.21231954 2428.40228888 2996.27383475 2574.35365506\n",
      " 2414.06539102 2913.91639485 2372.05647825 2663.31031964 3246.32536875\n",
      " 2762.67168081 2690.03096658 2506.54285928 3361.23677383 2437.51406051\n",
      " 2229.62105881 4080.64093992 3109.52809213 4087.43695901 3199.5337124\n",
      " 2718.95035056 2831.04996964 2615.76894666 2544.3756015  2302.27310591\n",
      " 3195.46160548 2888.86099051 2871.80018048 2199.43325899 2617.22606199\n",
      " 2552.47587842 2633.62341023 2735.76071539 2995.16960928 3389.76418799\n",
      " 3304.99016989 2664.36898921 2410.74785768 3025.60785429 3107.01392622\n",
      " 3273.64611279 2786.17562007 2396.81426251 2482.13796488 2862.75015456\n",
      " 3387.90376997 2781.89862385 3302.52479782 2586.23489475 2664.41778307\n",
      " 2492.55399433 3090.76295953 3222.12698264 2869.99179427 2918.74145636\n",
      " 3142.98625042 2193.09905034 2985.41056569 2284.15848324 3100.57403495\n",
      " 2882.87157681 3193.64998132 2568.16906594 2947.52579165 2887.95679741\n",
      " 2875.82511252 2381.46586995 2732.58956361 2970.26544345 2275.40283944\n",
      " 3080.94540819 3007.84126454 2407.3262607  2971.6753839  2573.85276465\n",
      " 2840.05767763 2921.86705225 2417.48860699 2556.75125567 2981.58404703\n",
      " 3280.38362413 2622.10639327 3538.23457702 3489.88012273 2337.24041133\n",
      " 2839.85602628 3028.67656142 2283.45432251 3805.43641387 2918.68942454\n",
      " 2910.49641685 2680.16947833 2722.98499649 3207.63237034 2505.1800937\n",
      " 2928.40776919 2671.05932569 2688.71699486 2342.9729039  3051.71869025\n",
      " 2995.1679903  2386.90074244 2764.03930333 2882.92037067 2381.46586995\n",
      " 2678.95957024 2785.56742807 2353.09131328 2790.95512569 2838.14846575\n",
      " 2534.71414562 2640.86666893 2812.02791591 2528.87435144 2867.12797646\n",
      " 3042.01005949 2364.35788504 3191.77984941 2916.37852895 3216.44166494\n",
      " 3334.07050627 3156.7214322  2424.9806919  3820.68074279 2454.46756894\n",
      " 3853.92915482 3844.33106362 3040.04881579 2743.66095995 3082.10976039\n",
      " 2448.5805999  2483.29584114 2425.78082137 3059.16683825 3408.27887538\n",
      " 3325.21241781 2674.18006463 3459.34590898 3195.71205069 2600.87426963]\n"
     ]
    }
   ],
   "source": [
    "y_pred = predict(theta, X_1)\n",
    "print(y_pred)"
   ]
  },
  {
   "cell_type": "markdown",
   "metadata": {},
   "source": [
    "### 【問題4】平均二乗誤差\n",
    "線形回帰の指標値として用いられる平均二乗誤差（mean square error, MSE）の関数を作成してください。\n",
    "\n",
    "平均二乗誤差関数は回帰問題全般で使える関数のため、ScratchLinearRegressionクラスのメソッドではなく、別の関数として作成してください。雛形を用意してあります。\n",
    "\n",
    "平均二乗誤差は以下の数式で表されます。\n",
    "\n",
    "L\n",
    "(\n",
    "θ\n",
    ")\n",
    "=\n",
    "1\n",
    "m\n",
    "m\n",
    "∑\n",
    "i\n",
    "=\n",
    "1\n",
    " \n",
    "(\n",
    "h\n",
    "θ\n",
    "(\n",
    "x\n",
    "(\n",
    "i\n",
    ")\n",
    ")\n",
    "−\n",
    "y\n",
    "(\n",
    "i\n",
    ")\n",
    ")\n",
    "2\n",
    ".\n",
    "m\n",
    " : 入力されるデータの数\n",
    "\n",
    "h\n",
    "θ\n",
    "(\n",
    ")\n",
    " : 仮定関数\n",
    "\n",
    "x\n",
    "(\n",
    "i\n",
    ")\n",
    " : i番目のサンプルの特徴量ベクトル\n",
    "\n",
    "y\n",
    "(\n",
    "i\n",
    ")\n",
    " : i番目のサンプルの正解値\n",
    "\n",
    "なお、最急降下法のための目的関数（損失関数）としては、これを2で割ったものを使用します。（問題5, 9）\n",
    "\n",
    "雛形"
   ]
  },
  {
   "cell_type": "code",
   "execution_count": 32,
   "metadata": {},
   "outputs": [],
   "source": [
    "def MSE(y_pred, y):\n",
    "    \"\"\"\n",
    "    平均二乗誤差の計算\n",
    "\n",
    "    Parameters\n",
    "    ----------\n",
    "    y_pred : 次の形のndarray, shape (n_samples,)\n",
    "      推定した値\n",
    "    y : 次の形のndarray, shape (n_samples,)\n",
    "      正解値\n",
    "\n",
    "    Returns\n",
    "    ----------\n",
    "    mse : numpy.float\n",
    "      平均二乗誤差\n",
    "    \"\"\"\n",
    "    m = y.shape[0]\n",
    "#     mse = ((y_pred - y)**2).sum()/m\n",
    "    mse = ((y_pred - y)**2).mean()\n",
    "    return mse"
   ]
  },
  {
   "cell_type": "code",
   "execution_count": 33,
   "metadata": {},
   "outputs": [
    {
     "name": "stdout",
     "output_type": "stream",
     "text": [
      "<class 'numpy.float64'>\n",
      "mse:37813516233.66159\n"
     ]
    }
   ],
   "source": [
    "mse = MSE(y_pred, y_test)\n",
    "# print(\"mse:{}\".format(MSE(y_pred, y_test)))\n",
    "print(type(mse))\n",
    "print(\"mse:{}\".format(mse))"
   ]
  },
  {
   "cell_type": "markdown",
   "metadata": {},
   "source": [
    "### 【問題5】目的関数\n",
    "以下の数式で表される線形回帰の 目的関数（損失関数） を実装してください。そして、これをself.loss, self.val_lossに記録するようにしてください。"
   ]
  },
  {
   "cell_type": "code",
   "execution_count": 34,
   "metadata": {},
   "outputs": [
    {
     "name": "stdout",
     "output_type": "stream",
     "text": [
      "18906758116.830795\n"
     ]
    }
   ],
   "source": [
    "# 目的関数実装 20191213\n",
    "#     m = error.shape[0]\n",
    "#     j_theta = (error.sum())**2/2/m\n",
    "objective_func = MSE(y_pred, y_test)/2\n",
    "print(objective_func)\n",
    "# 問６のクラス内に実装する"
   ]
  },
  {
   "cell_type": "markdown",
   "metadata": {},
   "source": [
    "## 3.検証\n",
    "### 【問題6】学習と推定\n",
    "機械学習スクラッチ入門のSprintで用意したHouse Pricesコンペティションのデータに対してスクラッチ実装の学習と推定を行なってください。\n",
    "\n",
    "scikit-learnによる実装と比べ、正しく動いているかを確認してください。"
   ]
  },
  {
   "cell_type": "code",
   "execution_count": 35,
   "metadata": {},
   "outputs": [],
   "source": [
    "class ScratchLinearRegression():\n",
    "\n",
    "    def __init__(self, num_iter=100, lr=0.000000001, bias=True, verbose=True):\n",
    "        # ハイパーパラメータを属性として記録\n",
    "        self.iter = num_iter\n",
    "        self.lr = lr\n",
    "        self.bias = bias\n",
    "        self.verbose = verbose\n",
    "        # 損失を記録する配列を用意\n",
    "        self.loss = np.zeros(self.iter)\n",
    "        self.val_loss = np.zeros(self.iter)\n",
    "\n",
    "    def _linear_hypothesis(self, X): # 問1 \n",
    "        self.h = np.dot(X, self.theta)\n",
    "        return self.h\n",
    "\n",
    "    def _get_error(self, y):\n",
    "        self.error = self.h - np.ravel(y)\n",
    "#         print(\"self.error:{}\".format(self.error))\n",
    "#         print(\"self.h:{}\".format(self.h[:3]))\n",
    "#         print(\"np.ravel(y):{}\".format(np.ravel(y)[:3]))\n",
    "\n",
    "        return self.error\n",
    "\n",
    "    def _gradient_descent(self, X): # 問2 最急降下法\n",
    "        m = X.shape[0] # m はサンプル数の平均を出す時に使うので、Xのレコード数を取得\n",
    "#         print(\"self.theta:{}\".format(self.theta))\n",
    "#         print(\"np.dot(self.error.T, X):{}\".format(np.dot(self.error.T, X)))\n",
    "#         print(\"self.lr:{}\".format(self.lr))\n",
    "#         print(\"m:{}\".format(m))\n",
    "#         print(\"self.error:{}\".format(self.error[:5]))\n",
    "#         print(\"self.lr/m * np.dot(self.error.T, X):{}\".format(self.lr/m * np.dot(self.error.T, X)))\n",
    "# error が大きくなってしまうのでそれを抑える為に self.lrを非常に小さくした所回答に近くなった。\n",
    "        self.theta = self.theta - self.lr/m * np.dot(self.error.T, X)\n",
    "#         print(\"self.theta:{}\".format(self.theta))\n",
    "        return self.theta\n",
    "\n",
    "    def MSE(self, y_pred, y):\n",
    "        m = y.shape[0]\n",
    "    #     mse = ((y_pred - y)**2).sum()/m\n",
    "        self.mse = ((y_pred - y)**2).mean()\n",
    "        return self.mse\n",
    "    \n",
    "    def loss_function(self, error):\n",
    "        m = self.theta.shape[0]\n",
    "        self.j_theta = (self.error**2).mean()/2\n",
    "        return self.j_theta\n",
    "\n",
    "    def fit(self, X, y, X_val=None, y_val=None):\n",
    "        # 検証用データの有無を判断する。\n",
    "        self.val_enable = False\n",
    "        if X_val is not None:\n",
    "            self.val_enable = True\n",
    "\n",
    "        # bias（切片）の有無を判定し、有なら切片に影響が出ないように0列目に1を追加する\n",
    "        if self.bias:\n",
    "            X = np.concatenate([np.ones((X.shape[0], 1)), X], axis=1)\n",
    "            if self.val_enable:\n",
    "                X_val = np.concatenate([np.ones((X_val.shape[0], 1)), X_val], axis=1)\n",
    "\n",
    "        # 適当なthetaを用意する（これを更新して正解に近づけて行くイメージ）\n",
    "        self.theta = np.array([rd.random() for i in range(3)])\n",
    "#         print(\"self.theta:{}\".format(self.theta))\n",
    "\n",
    "        for i in range(self.iter):\n",
    "            # 訓練用データの処理\n",
    "            self._linear_hypothesis(X)# 引数のself は不要\n",
    "            self._get_error(y)\n",
    "            self._gradient_descent(X)\n",
    "#             print(\"self.theta:{}\".format(self.theta))\n",
    "            self.loss_function(self.error) # 最適化されたthetaで目的関数を算出\n",
    "            self.loss[i] = self.j_theta # 問5、目的関数算出\n",
    "            \n",
    "#             # lossを記録 （【問題５】目的関数の実装箇所）\n",
    "#             self.loss[i] = self.MSE(self._linear_hypothesis(X),y)/2\n",
    "            \n",
    "            if self.val_enable:\n",
    "                # 検証用データの処理\n",
    "                self._linear_hypothesis(X_val)# 引数のself は不要\n",
    "                self._get_error(y_val)\n",
    "                self._gradient_descent(X_val)\n",
    "#                 self.loss_function(self.error) # 最適化されたthetaで目的関数を算出           \n",
    "#                 self.val_loss[i] = self.j_theta # 問5、目的関数算出\n",
    "\n",
    "                # lossを記録 （【問題５】目的関数の実装箇所）\n",
    "                self.val_loss[i] = self.MSE(self._linear_hypothesis(X_val),y_val)/2\n",
    "            \n",
    "        if self.verbose:\n",
    "#             print(\"self.loss{}\".format(self.loss))\n",
    "#             print(\"self.val_loss{}\".format(self.val_loss))\n",
    "            #verboseをTrueにした際は学習過程を出力\n",
    "            self.learning_curve()\n",
    "            print()\n",
    "        return\n",
    "\n",
    "    def predict(self, X):\n",
    "        #      切片の確認、学習後に再度実行するので\n",
    "        n_samples = X.shape[0]\n",
    "        if self.bias:\n",
    "            X = np.concatenate([np.ones((X.shape[0], 1)), X], axis=1)\n",
    "        #(サンプル数 x 特徴量数) @ (特徴量数 x 1) = (サンプル数 x 1)\n",
    "        print(\"Xs:{}\".format(X.shape))\n",
    "        print(\"self.thetas:{}\".format(self.theta.shape))\n",
    "        print(\"X:{}\".format(X))\n",
    "        print(\"self.theta:{}\".format(self.theta))\n",
    "        y_pred = np.dot(X, self.theta)\n",
    "        return y_pred\n",
    "    \n",
    "    def learning_curve(self):\n",
    "        plt.title(\"model loss\")\n",
    "        plt.xlabel(\"iter\")\n",
    "        plt.ylabel(\"loss\")\n",
    "        plt.plot(np.arange(self.iter), self.loss, label=\"train_loss\")\n",
    "        if self.val_enable:\n",
    "            plt.plot(np.arange(self.iter), self.val_loss, label=\"val_loss\")\n",
    "        plt.legend()\n",
    "        plt.show()\n"
   ]
  },
  {
   "cell_type": "code",
   "execution_count": 36,
   "metadata": {},
   "outputs": [],
   "source": [
    "slr = ScratchLinearRegression()"
   ]
  },
  {
   "cell_type": "code",
   "execution_count": 37,
   "metadata": {
    "scrolled": false
   },
   "outputs": [
    {
     "data": {
      "image/png": "[encoded data removed]",
      "text/plain": [
       "<matplotlib.figure.Figure at 0x1c22bac668>"
      ]
     },
     "metadata": {},
     "output_type": "display_data"
    },
    {
     "name": "stdout",
     "output_type": "stream",
     "text": [
      "\n"
     ]
    }
   ],
   "source": [
    "slr.fit(X_train, y_train, X_test, y_test)"
   ]
  },
  {
   "cell_type": "code",
   "execution_count": 38,
   "metadata": {
    "scrolled": true
   },
   "outputs": [
    {
     "name": "stdout",
     "output_type": "stream",
     "text": [
      "Xs:(1095, 3)\n",
      "self.thetas:(3,)\n",
      "X:[[1.000e+00 1.504e+03 2.005e+03]\n",
      " [1.000e+00 1.309e+03 1.974e+03]\n",
      " [1.000e+00 1.258e+03 1.939e+03]\n",
      " ...\n",
      " [1.000e+00 8.640e+02 1.955e+03]\n",
      " [1.000e+00 1.426e+03 1.918e+03]\n",
      " [1.000e+00 1.555e+03 2.007e+03]]\n",
      "self.theta:[ 0.76458536 35.68487496 39.92033897]\n",
      "y_pred:[133711.09616654 125515.01504132 122297.87455431 ... 108876.75924399\n",
      " 127454.606429   135610.86546741]\n"
     ]
    }
   ],
   "source": [
    "y_pred = slr.predict(X_train)\n",
    "print(\"y_pred:{}\".format(y_pred))"
   ]
  },
  {
   "cell_type": "code",
   "execution_count": 39,
   "metadata": {},
   "outputs": [
    {
     "name": "stdout",
     "output_type": "stream",
     "text": [
      "[[  92.19202992 1056.00826855]]\n",
      "[-2040959.50781461]\n",
      "0.647270714473142\n",
      "y_pred_s:[[214993.88361888]\n",
      " [164280.18145957]\n",
      " [122618.09853455]\n",
      " [159913.76508089]\n",
      " [159645.5891422 ]]\n"
     ]
    }
   ],
   "source": [
    "# サイキットラーンを使った線形回帰\n",
    "from sklearn import linear_model\n",
    "clf = linear_model.LinearRegression()\n",
    "\n",
    "# 予測モデルを作成\n",
    "clf.fit(X_train, y_train)\n",
    "\n",
    "# 回帰係数\n",
    "print(clf.coef_)\n",
    " \n",
    "# 切片 (誤差)\n",
    "print(clf.intercept_)\n",
    " \n",
    "# 決定係数\n",
    "print(clf.score(X_train, y_train))\n",
    "\n",
    "# \n",
    "y_pred_s = clf.predict(X_train)\n",
    "print(\"y_pred_s:{}\".format(y_pred_s[:5]))"
   ]
  },
  {
   "cell_type": "markdown",
   "metadata": {},
   "source": [
    "### 【問題7】学習曲線のプロット\n",
    "学習曲線を表示する関数を作成し、実行してください。グラフを見て損失が適切に下がっているかどうか確認してください。\n",
    "\n",
    "線形回帰クラスの雛形ではself.loss, self.val_lossに損失を記録しておくようになっているため、入力にはこれを利用してください。"
   ]
  },
  {
   "cell_type": "code",
   "execution_count": 42,
   "metadata": {},
   "outputs": [
    {
     "data": {
      "image/png": "[encoded data removed]",
      "text/plain": [
       "<matplotlib.figure.Figure at 0x1c233c5780>"
      ]
     },
     "metadata": {},
     "output_type": "display_data"
    },
    {
     "name": "stdout",
     "output_type": "stream",
     "text": [
      "\n"
     ]
    }
   ],
   "source": [
    "slr.fit(X_train, y_train, X_test, y_test)"
   ]
  },
  {
   "cell_type": "markdown",
   "metadata": {},
   "source": [
    "# ------------以下から動作確認のセル------------"
   ]
  },
  {
   "cell_type": "code",
   "execution_count": 40,
   "metadata": {},
   "outputs": [
    {
     "ename": "NameError",
     "evalue": "name 'loss_list' is not defined",
     "output_type": "error",
     "traceback": [
      "\u001b[0;31m------------\u001b[0m",
      "\u001b[0;31mNameError\u001b[0mTraceback (most recent call last)",
      "\u001b[0;32m<ipython-input-40-cab9fb174fe6>\u001b[0m in \u001b[0;36m<module>\u001b[0;34m\u001b[0m\n\u001b[1;32m      2\u001b[0m \u001b[0mplt\u001b[0m\u001b[0;34m.\u001b[0m\u001b[0mxlabel\u001b[0m\u001b[0;34m(\u001b[0m\u001b[0;34m\"SalePrice\"\u001b[0m\u001b[0;34m)\u001b[0m\u001b[0;34m\u001b[0m\u001b[0m\n\u001b[1;32m      3\u001b[0m \u001b[0mplt\u001b[0m\u001b[0;34m.\u001b[0m\u001b[0mylabel\u001b[0m\u001b[0;34m(\u001b[0m\u001b[0;34m\"theta\"\u001b[0m\u001b[0;34m)\u001b[0m\u001b[0;34m\u001b[0m\u001b[0m\n\u001b[0;32m----> 4\u001b[0;31m plt.plot(loss_list, color='green', marker='o', linestyle='dashed',\n\u001b[0m\u001b[1;32m      5\u001b[0m          linewidth=1, markersize=2) # 「リスト名」のところに問５のリストの変数名を入れる\n\u001b[1;32m      6\u001b[0m plt.plot(val_loss, color='red', marker='x', linestyle='dashed',\n",
      "\u001b[0;31mNameError\u001b[0m: name 'loss_list' is not defined"
     ]
    },
    {
     "data": {
      "image/png": "[encoded data removed]",
      "text/plain": [
       "<matplotlib.figure.Figure at 0x1c2333f668>"
      ]
     },
     "metadata": {},
     "output_type": "display_data"
    }
   ],
   "source": [
    "plt.title(\"linear_hypothesis_list\")\n",
    "plt.xlabel(\"SalePrice\")\n",
    "plt.ylabel(\"theta\")\n",
    "plt.plot(loss_list, color='green', marker='o', linestyle='dashed',\n",
    "         linewidth=1, markersize=2) # 「リスト名」のところに問５のリストの変数名を入れる\n",
    "plt.plot(val_loss, color='red', marker='x', linestyle='dashed',\n",
    "         linewidth=1, markersize=2) # 「リスト名」のところに問５のリストの変数名を入れる\n",
    "plt.show()"
   ]
  },
  {
   "cell_type": "code",
   "execution_count": null,
   "metadata": {},
   "outputs": [],
   "source": [
    "import numpy as np\n",
    "from numpy.random import *\n",
    "import matplotlib.pyplot as plt\n",
    "import pandas as pd\n",
    "from sklearn.model_selection import train_test_split # testとtrain分割\n",
    "\n",
    "# データの読み込み\n",
    "# df = pd.read_csv('./train.csv')\n",
    "X = df.loc[:,['GrLivArea','YearBuilt']].values\n",
    "y = df.SalePrice.values\n",
    "\n",
    "# データの前処理\n",
    "X_train,X_test,y_train,y_test = train_test_split(X,y,random_state=0)\n",
    "# 標準化\n",
    "X_train_std = (X_train - X_train.mean()) / X_train.std()\n",
    "X_test_std = (X_test -X_test.mean()) / X_test.std()\n",
    "y_train_std = (y_train - y_train.mean()) / y_train.std()\n",
    "y_test_std = (y_test - y_test.mean()) / y_test.std()"
   ]
  },
  {
   "cell_type": "code",
   "execution_count": null,
   "metadata": {},
   "outputs": [],
   "source": [
    "class ScratchLinearRegression():\n",
    "\n",
    "    def __init__(self, num_iter, lr, bias, verbose):\n",
    "        # ハイパーパラメータを属性として記録\n",
    "        self.iter = num_iter\n",
    "        self.lr = lr\n",
    "        self.bias = bias\n",
    "        self.verbose = verbose\n",
    "        # 損失を記録する配列を用意\n",
    "        self.loss = np.zeros(self.iter)\n",
    "        self.val_loss = np.zeros(self.iter)\n",
    "        \n",
    "    def _linear_hypothesis(self,X,coef):\n",
    "        hypothesis = np.dot(X,coef)\n",
    "        return hypothesis\n",
    "    \n",
    "    \n",
    "    def _gradient_descent(self,X,coef,error):\n",
    "        coef = coef - self.lr/len(X) * np.dot(error,X)\n",
    "        return coef\n",
    "    \n",
    "    \n",
    "    def MSE(self,y_pred, y):\n",
    "        mse = np.mean((y_pred - y)**2)\n",
    "        return mse\n",
    "\n",
    "    \n",
    "    def fit(self, X, y, X_val=None, y_val=None):\n",
    "        # trainデータ\n",
    "        #バイアス項を入れる場合はXの０列目に１を挿入する\n",
    "        if self.bias is False:\n",
    "            X_new = np.insert(X, 0, 1, axis=1)\n",
    "        #バイアス項を入れない場合はXの０列目に０を挿入する\n",
    "        else:\n",
    "            X_new = np.insert(X, 0, 0, axis=1)\n",
    "\n",
    "        # シータの初期化\n",
    "        self.coef_ = np.random.rand(X_new.shape[1])\n",
    "        # num_iter回更新\n",
    "        for i in range(self.iter):\n",
    "            # 仮定関数\n",
    "            hypothesis = self._linear_hypothesis(X_new,self.coef_)\n",
    "            \n",
    "            # 予測と実測値との誤差\n",
    "            error = hypothesis - y\n",
    "            \n",
    "            # 最急降下法\n",
    "            self.coef_ = self._gradient_descent(X_new,self.coef_,error)\n",
    "            \n",
    "            # lossを記録 （【問題５】目的関数の実装箇所）\n",
    "            self.loss[i] = self.MSE(self._linear_hypothesis(X_new,self.coef_),y)/2\n",
    "        \n",
    "            # 学習過程の出力\n",
    "            if self.verbose is True:\n",
    "                map_result = map(str, self.loss)\n",
    "                result = ',\\n'.join(map_result)                \n",
    "                print('Train Data Loss Iteration{0}: \\n{1}'.format(self.iter,result))\n",
    "            else:\n",
    "                pass\n",
    "       \n",
    "        # 検証用データがある場合\n",
    "        if X_val is not None:\n",
    "            #バイアス項を入れる場合はXの０列目に１を挿入する\n",
    "            if self.bias is False:\n",
    "                X_val_new = np.insert(X_val, 0, 1, axis=1)\n",
    "            #バイアス項を入れない場合、0を挿入する\n",
    "            else:\n",
    "                X_val_new = np.insert(X_val, 0, 0, axis=1)\n",
    "                \n",
    "        # シータの初期化\n",
    "        self.coef_val_ = np.random.rand(X_val_new.shape[1])\n",
    "        # num_iter回更新\n",
    "        for i in range(self.iter):\n",
    "            # 仮定関数\n",
    "            hypothesis_val = self._linear_hypothesis(X_val_new,self.coef_val_)\n",
    "            \n",
    "            # 予測と実測値との誤差\n",
    "            error_val = hypothesis_val - y_val\n",
    "            \n",
    "            # 最急降下法\n",
    "            self.coef_val_ = self._gradient_descent(X_val_new,self.coef_val_,error_val)\n",
    "            \n",
    "            # lossを記録　 （【問題５】目的関数の実装箇所）\n",
    "            self.val_loss[i] = self.MSE(self._linear_hypothesis(X_val_new,self.coef_val_),y_val)/2\n",
    "        \n",
    "            # 学習過程の出力\n",
    "            if self.verbose is True:\n",
    "                map_result_val = map(str, self.val_loss)\n",
    "                result_val = ',\\n'.join(map_result_val)                \n",
    "                print('\\nTest Data Loss Iteration{0}: \\n{1}'.format(self.iter,result_val))\n",
    "            else:\n",
    "                pass\n",
    "\n",
    "            \n",
    "    def predict(self,X):\n",
    "        #バイアス項を入れる場合はXの０列目に１を挿入する\n",
    "        if self.bias is False:\n",
    "            X_add = np.insert(X, 0, 1, axis=1)\n",
    "        #バイアス項を入れない場合、0を挿入する\n",
    "        else:\n",
    "            X_add = np.insert(X, 0, 0, axis=1)\n",
    "            \n",
    "        y_pred = np.dot(X_add,self.coef_).reshape(-1,1)\n",
    "        return y_pred"
   ]
  },
  {
   "cell_type": "code",
   "execution_count": null,
   "metadata": {},
   "outputs": [],
   "source": [
    "# 初期化，学習\n",
    "slr=ScratchLinearRegression(num_iter=5000, lr=0.001, bias=False ,verbose=False)\n",
    "slr.fit(X=X_train_std, y=y_train_std, X_val=X_test_std, y_val=y_test_std)"
   ]
  },
  {
   "cell_type": "code",
   "execution_count": null,
   "metadata": {},
   "outputs": [],
   "source": [
    "# 推定\n",
    "y_pred_train = slr.predict(X_train_std)\n",
    "y_pred = slr.predict(X_test_std)\n",
    "print('y_pred:\\n',y_pred[:10])"
   ]
  },
  {
   "cell_type": "code",
   "execution_count": null,
   "metadata": {},
   "outputs": [],
   "source": [
    "print('Train_MSE：',slr.MSE(y_pred_train,y_train_std))\n",
    "print('Test_MSE：',slr.MSE(y_pred,y_test_std))\n",
    "print('切片：',slr.coef_[0])\n",
    "print('係数：',slr.coef_[1:])"
   ]
  },
  {
   "cell_type": "code",
   "execution_count": null,
   "metadata": {},
   "outputs": [],
   "source": [
    "plt.scatter(np.array(range(slr.iter)), slr.loss, label=\"loss\")\n",
    "plt.scatter(np.array(range(slr.iter)), slr.val_loss, label=\"val_loss\")\n",
    "\n",
    "plt.title(\"model loss\")\n",
    "plt.xlabel(\"iter\")\n",
    "plt.ylabel(\"loss\")\n",
    "plt.legend()\n",
    "\n",
    "plt.show"
   ]
  },
  {
   "cell_type": "code",
   "execution_count": null,
   "metadata": {},
   "outputs": [],
   "source": []
  },
  {
   "cell_type": "code",
   "execution_count": null,
   "metadata": {},
   "outputs": [],
   "source": []
  },
  {
   "cell_type": "code",
   "execution_count": null,
   "metadata": {},
   "outputs": [],
   "source": []
  },
  {
   "cell_type": "code",
   "execution_count": null,
   "metadata": {},
   "outputs": [],
   "source": []
  }
 ],
 "metadata": {
  "kernelspec": {
   "display_name": "Python 3",
   "language": "python",
   "name": "python3"
  },
  "language_info": {
   "codemirror_mode": {
    "name": "ipython",
    "version": 3
   },
   "file_extension": ".py",
   "mimetype": "text/x-python",
   "name": "python",
   "nbconvert_exporter": "python",
   "pygments_lexer": "ipython3",
   "version": "3.6.4"
  },
  "varInspector": {
   "cols": {
    "lenName": 16,
    "lenType": 16,
    "lenVar": 40
   },
   "kernels_config": {
    "python": {
     "delete_cmd_postfix": "",
     "delete_cmd_prefix": "del ",
     "library": "var_list.py",
     "varRefreshCmd": "print(var_dic_list())"
    },
    "r": {
     "delete_cmd_postfix": ") ",
     "delete_cmd_prefix": "rm(",
     "library": "var_list.r",
     "varRefreshCmd": "cat(var_dic_list()) "
    }
   },
   "types_to_exclude": [
    "module",
    "function",
    "builtin_function_or_method",
    "instance",
    "_Feature"
   ],
   "window_display": false
  }
 },
 "nbformat": 4,
 "nbformat_minor": 2
}
