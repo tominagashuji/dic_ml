{
 "cells": [
  {
   "cell_type": "markdown",
   "metadata": {},
   "source": [
    "# Week4授業前課題2 住宅価格の予測"
   ]
  },
  {
   "cell_type": "code",
   "execution_count": 1,
   "metadata": {},
   "outputs": [],
   "source": [
    "import numpy as np\n",
    "import pandas as pd\n",
    "import matplotlib.pyplot as plt\n",
    "import seaborn as sns\n",
    "import os # ファイルの読み込み先のpath指定する時に必要\n",
    "\n",
    "from sklearn.linear_model import LinearRegression\n",
    "from sklearn.model_selection import train_test_split\n",
    "from sklearn.preprocessing import StandardScaler\n",
    "from sklearn.neighbors import KNeighborsClassifier\n",
    "\n",
    "from sklearn.metrics import mean_squared_error # 平均二乗誤差\n",
    "\n",
    "from sklearn.svm import SVR #SVM\n",
    "from sklearn.tree import DecisionTreeRegressor # 決定木\n",
    "from sklearn.ensemble import RandomForestRegressor# ランダムフォレスト\n"
   ]
  },
  {
   "cell_type": "code",
   "execution_count": 2,
   "metadata": {},
   "outputs": [],
   "source": [
    "# データが格納されている作業ディレクトリまでパス指定\n",
    "# 自分の今いる場所からのpathで良いらしい\n",
    "# os ってのも忘れないでね！\n",
    "\n",
    "# os.chdir('../week03')\n",
    "\n",
    "# House_Prices = pd.read_csv('train.csv')\n",
    "# House_Prices.head()"
   ]
  },
  {
   "cell_type": "code",
   "execution_count": 3,
   "metadata": {},
   "outputs": [
    {
     "data": {
      "text/html": [
       "<div>\n",
       "<style scoped>\n",
       "    .dataframe tbody tr th:only-of-type {\n",
       "        vertical-align: middle;\n",
       "    }\n",
       "\n",
       "    .dataframe tbody tr th {\n",
       "        vertical-align: top;\n",
       "    }\n",
       "\n",
       "    .dataframe thead th {\n",
       "        text-align: right;\n",
       "    }\n",
       "</style>\n",
       "<table border=\"1\" class=\"dataframe\">\n",
       "  <thead>\n",
       "    <tr style=\"text-align: right;\">\n",
       "      <th></th>\n",
       "      <th>Id</th>\n",
       "      <th>MSSubClass</th>\n",
       "      <th>MSZoning</th>\n",
       "      <th>LotFrontage</th>\n",
       "      <th>LotArea</th>\n",
       "      <th>Street</th>\n",
       "      <th>Alley</th>\n",
       "      <th>LotShape</th>\n",
       "      <th>LandContour</th>\n",
       "      <th>Utilities</th>\n",
       "      <th>...</th>\n",
       "      <th>PoolArea</th>\n",
       "      <th>PoolQC</th>\n",
       "      <th>Fence</th>\n",
       "      <th>MiscFeature</th>\n",
       "      <th>MiscVal</th>\n",
       "      <th>MoSold</th>\n",
       "      <th>YrSold</th>\n",
       "      <th>SaleType</th>\n",
       "      <th>SaleCondition</th>\n",
       "      <th>SalePrice</th>\n",
       "    </tr>\n",
       "  </thead>\n",
       "  <tbody>\n",
       "    <tr>\n",
       "      <th>0</th>\n",
       "      <td>1</td>\n",
       "      <td>60</td>\n",
       "      <td>RL</td>\n",
       "      <td>65.0</td>\n",
       "      <td>8450</td>\n",
       "      <td>Pave</td>\n",
       "      <td>NaN</td>\n",
       "      <td>Reg</td>\n",
       "      <td>Lvl</td>\n",
       "      <td>AllPub</td>\n",
       "      <td>...</td>\n",
       "      <td>0</td>\n",
       "      <td>NaN</td>\n",
       "      <td>NaN</td>\n",
       "      <td>NaN</td>\n",
       "      <td>0</td>\n",
       "      <td>2</td>\n",
       "      <td>2008</td>\n",
       "      <td>WD</td>\n",
       "      <td>Normal</td>\n",
       "      <td>208500</td>\n",
       "    </tr>\n",
       "    <tr>\n",
       "      <th>1</th>\n",
       "      <td>2</td>\n",
       "      <td>20</td>\n",
       "      <td>RL</td>\n",
       "      <td>80.0</td>\n",
       "      <td>9600</td>\n",
       "      <td>Pave</td>\n",
       "      <td>NaN</td>\n",
       "      <td>Reg</td>\n",
       "      <td>Lvl</td>\n",
       "      <td>AllPub</td>\n",
       "      <td>...</td>\n",
       "      <td>0</td>\n",
       "      <td>NaN</td>\n",
       "      <td>NaN</td>\n",
       "      <td>NaN</td>\n",
       "      <td>0</td>\n",
       "      <td>5</td>\n",
       "      <td>2007</td>\n",
       "      <td>WD</td>\n",
       "      <td>Normal</td>\n",
       "      <td>181500</td>\n",
       "    </tr>\n",
       "    <tr>\n",
       "      <th>2</th>\n",
       "      <td>3</td>\n",
       "      <td>60</td>\n",
       "      <td>RL</td>\n",
       "      <td>68.0</td>\n",
       "      <td>11250</td>\n",
       "      <td>Pave</td>\n",
       "      <td>NaN</td>\n",
       "      <td>IR1</td>\n",
       "      <td>Lvl</td>\n",
       "      <td>AllPub</td>\n",
       "      <td>...</td>\n",
       "      <td>0</td>\n",
       "      <td>NaN</td>\n",
       "      <td>NaN</td>\n",
       "      <td>NaN</td>\n",
       "      <td>0</td>\n",
       "      <td>9</td>\n",
       "      <td>2008</td>\n",
       "      <td>WD</td>\n",
       "      <td>Normal</td>\n",
       "      <td>223500</td>\n",
       "    </tr>\n",
       "    <tr>\n",
       "      <th>3</th>\n",
       "      <td>4</td>\n",
       "      <td>70</td>\n",
       "      <td>RL</td>\n",
       "      <td>60.0</td>\n",
       "      <td>9550</td>\n",
       "      <td>Pave</td>\n",
       "      <td>NaN</td>\n",
       "      <td>IR1</td>\n",
       "      <td>Lvl</td>\n",
       "      <td>AllPub</td>\n",
       "      <td>...</td>\n",
       "      <td>0</td>\n",
       "      <td>NaN</td>\n",
       "      <td>NaN</td>\n",
       "      <td>NaN</td>\n",
       "      <td>0</td>\n",
       "      <td>2</td>\n",
       "      <td>2006</td>\n",
       "      <td>WD</td>\n",
       "      <td>Abnorml</td>\n",
       "      <td>140000</td>\n",
       "    </tr>\n",
       "    <tr>\n",
       "      <th>4</th>\n",
       "      <td>5</td>\n",
       "      <td>60</td>\n",
       "      <td>RL</td>\n",
       "      <td>84.0</td>\n",
       "      <td>14260</td>\n",
       "      <td>Pave</td>\n",
       "      <td>NaN</td>\n",
       "      <td>IR1</td>\n",
       "      <td>Lvl</td>\n",
       "      <td>AllPub</td>\n",
       "      <td>...</td>\n",
       "      <td>0</td>\n",
       "      <td>NaN</td>\n",
       "      <td>NaN</td>\n",
       "      <td>NaN</td>\n",
       "      <td>0</td>\n",
       "      <td>12</td>\n",
       "      <td>2008</td>\n",
       "      <td>WD</td>\n",
       "      <td>Normal</td>\n",
       "      <td>250000</td>\n",
       "    </tr>\n",
       "  </tbody>\n",
       "</table>\n",
       "<p>5 rows × 81 columns</p>\n",
       "</div>"
      ],
      "text/plain": [
       "   Id  MSSubClass MSZoning  LotFrontage  LotArea Street Alley LotShape  \\\n",
       "0   1          60       RL         65.0     8450   Pave   NaN      Reg   \n",
       "1   2          20       RL         80.0     9600   Pave   NaN      Reg   \n",
       "2   3          60       RL         68.0    11250   Pave   NaN      IR1   \n",
       "3   4          70       RL         60.0     9550   Pave   NaN      IR1   \n",
       "4   5          60       RL         84.0    14260   Pave   NaN      IR1   \n",
       "\n",
       "  LandContour Utilities  ... PoolArea PoolQC Fence MiscFeature MiscVal MoSold  \\\n",
       "0         Lvl    AllPub  ...        0    NaN   NaN         NaN       0      2   \n",
       "1         Lvl    AllPub  ...        0    NaN   NaN         NaN       0      5   \n",
       "2         Lvl    AllPub  ...        0    NaN   NaN         NaN       0      9   \n",
       "3         Lvl    AllPub  ...        0    NaN   NaN         NaN       0      2   \n",
       "4         Lvl    AllPub  ...        0    NaN   NaN         NaN       0     12   \n",
       "\n",
       "  YrSold  SaleType  SaleCondition  SalePrice  \n",
       "0   2008        WD         Normal     208500  \n",
       "1   2007        WD         Normal     181500  \n",
       "2   2008        WD         Normal     223500  \n",
       "3   2006        WD        Abnorml     140000  \n",
       "4   2008        WD         Normal     250000  \n",
       "\n",
       "[5 rows x 81 columns]"
      ]
     },
     "execution_count": 3,
     "metadata": {},
     "output_type": "execute_result"
    }
   ],
   "source": [
    "data = pd.read_csv(\"../../data/house-prices-advanced-regression-techniques/train.csv\")\n",
    "data.head(5)"
   ]
  },
  {
   "cell_type": "markdown",
   "metadata": {},
   "source": [
    "### 【問題1】練習のために特徴量の選択\n",
    "データセットを読み込んだ後、GrLivAreaとYearBuiltを抜き出してください。"
   ]
  },
  {
   "cell_type": "code",
   "execution_count": 4,
   "metadata": {},
   "outputs": [
    {
     "data": {
      "text/html": [
       "<div>\n",
       "<style scoped>\n",
       "    .dataframe tbody tr th:only-of-type {\n",
       "        vertical-align: middle;\n",
       "    }\n",
       "\n",
       "    .dataframe tbody tr th {\n",
       "        vertical-align: top;\n",
       "    }\n",
       "\n",
       "    .dataframe thead th {\n",
       "        text-align: right;\n",
       "    }\n",
       "</style>\n",
       "<table border=\"1\" class=\"dataframe\">\n",
       "  <thead>\n",
       "    <tr style=\"text-align: right;\">\n",
       "      <th></th>\n",
       "      <th>GrLivArea</th>\n",
       "      <th>YearBuilt</th>\n",
       "    </tr>\n",
       "  </thead>\n",
       "  <tbody>\n",
       "    <tr>\n",
       "      <th>0</th>\n",
       "      <td>1710</td>\n",
       "      <td>2003</td>\n",
       "    </tr>\n",
       "    <tr>\n",
       "      <th>1</th>\n",
       "      <td>1262</td>\n",
       "      <td>1976</td>\n",
       "    </tr>\n",
       "    <tr>\n",
       "      <th>2</th>\n",
       "      <td>1786</td>\n",
       "      <td>2001</td>\n",
       "    </tr>\n",
       "    <tr>\n",
       "      <th>3</th>\n",
       "      <td>1717</td>\n",
       "      <td>1915</td>\n",
       "    </tr>\n",
       "    <tr>\n",
       "      <th>4</th>\n",
       "      <td>2198</td>\n",
       "      <td>2000</td>\n",
       "    </tr>\n",
       "  </tbody>\n",
       "</table>\n",
       "</div>"
      ],
      "text/plain": [
       "   GrLivArea  YearBuilt\n",
       "0       1710       2003\n",
       "1       1262       1976\n",
       "2       1786       2001\n",
       "3       1717       1915\n",
       "4       2198       2000"
      ]
     },
     "execution_count": 4,
     "metadata": {},
     "output_type": "execute_result"
    }
   ],
   "source": [
    "X = data.loc[:,['GrLivArea','YearBuilt']]\n",
    "X.head()"
   ]
  },
  {
   "cell_type": "code",
   "execution_count": 5,
   "metadata": {},
   "outputs": [
    {
     "data": {
      "text/html": [
       "<div>\n",
       "<style scoped>\n",
       "    .dataframe tbody tr th:only-of-type {\n",
       "        vertical-align: middle;\n",
       "    }\n",
       "\n",
       "    .dataframe tbody tr th {\n",
       "        vertical-align: top;\n",
       "    }\n",
       "\n",
       "    .dataframe thead th {\n",
       "        text-align: right;\n",
       "    }\n",
       "</style>\n",
       "<table border=\"1\" class=\"dataframe\">\n",
       "  <thead>\n",
       "    <tr style=\"text-align: right;\">\n",
       "      <th></th>\n",
       "      <th>SalePrice</th>\n",
       "    </tr>\n",
       "  </thead>\n",
       "  <tbody>\n",
       "    <tr>\n",
       "      <th>0</th>\n",
       "      <td>208500</td>\n",
       "    </tr>\n",
       "    <tr>\n",
       "      <th>1</th>\n",
       "      <td>181500</td>\n",
       "    </tr>\n",
       "    <tr>\n",
       "      <th>2</th>\n",
       "      <td>223500</td>\n",
       "    </tr>\n",
       "    <tr>\n",
       "      <th>3</th>\n",
       "      <td>140000</td>\n",
       "    </tr>\n",
       "    <tr>\n",
       "      <th>4</th>\n",
       "      <td>250000</td>\n",
       "    </tr>\n",
       "  </tbody>\n",
       "</table>\n",
       "</div>"
      ],
      "text/plain": [
       "   SalePrice\n",
       "0     208500\n",
       "1     181500\n",
       "2     223500\n",
       "3     140000\n",
       "4     250000"
      ]
     },
     "execution_count": 5,
     "metadata": {},
     "output_type": "execute_result"
    }
   ],
   "source": [
    "Y = data.loc[:, ['SalePrice']]\n",
    "Y.head()"
   ]
  },
  {
   "cell_type": "markdown",
   "metadata": {},
   "source": [
    "### 【問題2】線形回帰による推定と評価\n",
    "データを簡単に分析、前処理し、 線形回帰 による学習、推定、評価、可視化までの一連の流れを作成・実行してください。\n",
    "\n",
    "sklearn.linear_model.LinearRegression — scikit-learn 0.21.3 documentation\n",
    "\n",
    "評価のための指標値は回帰問題では 平均二乗誤差（Mean Squared Error, MSE） を使うことが一般的です。\n",
    "\n",
    "sklearn.metrics.mean_squared_error — scikit-learn 0.21.3 documentation\n",
    "\n",
    "可視化は横軸にある特徴量、縦軸に推測した住宅価格といった方法で行えます。"
   ]
  },
  {
   "cell_type": "markdown",
   "metadata": {},
   "source": [
    "#### 分析"
   ]
  },
  {
   "cell_type": "code",
   "execution_count": 6,
   "metadata": {},
   "outputs": [
    {
     "data": {
      "image/png": "[encoded data removed]",
      "text/plain": [
       "<matplotlib.figure.Figure at 0x11243cb38>"
      ]
     },
     "metadata": {},
     "output_type": "display_data"
    }
   ],
   "source": [
    "# GrLivArea と YearBuilt で散布図プロット して分析\n",
    "plt.scatter(X[\"GrLivArea\"],X[\"YearBuilt\"],c = \"pink\")\n",
    "plt.xlabel(\"GrLivArea\")\n",
    "plt.ylabel(\"YearBuilt\")\n",
    "plt.legend()\n",
    "plt.show()"
   ]
  },
  {
   "cell_type": "markdown",
   "metadata": {},
   "source": [
    "#### 前処理"
   ]
  },
  {
   "cell_type": "code",
   "execution_count": 7,
   "metadata": {},
   "outputs": [
    {
     "name": "stdout",
     "output_type": "stream",
     "text": [
      "<class 'numpy.ndarray'>\n",
      "(1460, 2)\n"
     ]
    },
    {
     "data": {
      "text/plain": [
       "array([[1710, 2003],\n",
       "       [1262, 1976],\n",
       "       [1786, 2001],\n",
       "       ...,\n",
       "       [2340, 1941],\n",
       "       [1078, 1950],\n",
       "       [1256, 1965]])"
      ]
     },
     "execution_count": 7,
     "metadata": {},
     "output_type": "execute_result"
    }
   ],
   "source": [
    "# 前処理：特徴量と目的変数に分ける\n",
    "X_v = X.values\n",
    "print(type(X_v))\n",
    "print(X_v.shape)\n",
    "X_v"
   ]
  },
  {
   "cell_type": "code",
   "execution_count": 8,
   "metadata": {
    "scrolled": true
   },
   "outputs": [
    {
     "data": {
      "text/plain": [
       "0       12.247694\n",
       "1       12.109011\n",
       "2       12.317167\n",
       "3       11.849398\n",
       "4       12.429216\n",
       "5       11.870600\n",
       "6       12.634603\n",
       "7       12.206073\n",
       "8       11.774520\n",
       "9       11.678440\n",
       "10      11.771436\n",
       "11      12.751300\n",
       "12      11.877569\n",
       "13      12.540758\n",
       "14      11.964001\n",
       "15      11.790557\n",
       "16      11.911702\n",
       "17      11.407565\n",
       "18      11.976659\n",
       "19      11.842229\n",
       "20      12.692503\n",
       "21      11.845103\n",
       "22      12.345835\n",
       "23      11.774520\n",
       "24      11.944708\n",
       "25      12.454104\n",
       "26      11.811547\n",
       "27      12.631340\n",
       "28      12.242887\n",
       "29      11.134589\n",
       "          ...    \n",
       "1430    12.165980\n",
       "1431    11.875831\n",
       "1432    11.074421\n",
       "1433    12.136187\n",
       "1434    11.982929\n",
       "1435    12.066811\n",
       "1436    11.699405\n",
       "1437    12.885671\n",
       "1438    11.916389\n",
       "1439    12.190959\n",
       "1440    12.160029\n",
       "1441    11.913713\n",
       "1442    12.644328\n",
       "1443    11.703546\n",
       "1444    12.098487\n",
       "1445    11.767568\n",
       "1446    11.969717\n",
       "1447    12.388394\n",
       "1448    11.626254\n",
       "1449    11.429544\n",
       "1450    11.820410\n",
       "1451    12.567551\n",
       "1452    11.884489\n",
       "1453    11.344507\n",
       "1454    12.128111\n",
       "1455    12.072541\n",
       "1456    12.254863\n",
       "1457    12.493130\n",
       "1458    11.864462\n",
       "1459    11.901583\n",
       "Name: SalePrice, Length: 1460, dtype: float64"
      ]
     },
     "execution_count": 8,
     "metadata": {},
     "output_type": "execute_result"
    }
   ],
   "source": [
    "import pylab as pl\n",
    "# pl.hist(X.SalePrice)\n",
    "\n",
    "Yh = Y.SalePrice.apply(np.log)\n",
    "Yh"
   ]
  },
  {
   "cell_type": "code",
   "execution_count": 9,
   "metadata": {},
   "outputs": [
    {
     "name": "stdout",
     "output_type": "stream",
     "text": [
      "<class 'numpy.ndarray'>\n",
      "(1460, 1)\n"
     ]
    }
   ],
   "source": [
    "# 前処理：特徴量と目的変数に分ける\n",
    "y = data.loc[:,['SalePrice']].values\n",
    "print(type(y))\n",
    "print(y.shape)\n",
    "y = np.log(y)"
   ]
  },
  {
   "cell_type": "code",
   "execution_count": 10,
   "metadata": {},
   "outputs": [],
   "source": [
    "# 前処理：訓練用データと検証用データに分類\n",
    "X_train, X_test, y_train, y_test = train_test_split(\n",
    "X,y,test_size = 0.25, random_state=42)"
   ]
  },
  {
   "cell_type": "code",
   "execution_count": 11,
   "metadata": {},
   "outputs": [],
   "source": [
    "# 標準化\n",
    "sc = StandardScaler()\n",
    "X_tr_sc = sc.fit_transform(X_train)\n",
    "X_ts_sc = sc.fit_transform(X_test)"
   ]
  },
  {
   "cell_type": "markdown",
   "metadata": {},
   "source": [
    "#### 学習（線形回帰）"
   ]
  },
  {
   "cell_type": "code",
   "execution_count": 12,
   "metadata": {
    "scrolled": true
   },
   "outputs": [
    {
     "data": {
      "text/plain": [
       "LinearRegression(copy_X=True, fit_intercept=True, n_jobs=1, normalize=False)"
      ]
     },
     "execution_count": 12,
     "metadata": {},
     "output_type": "execute_result"
    }
   ],
   "source": [
    "reg = LinearRegression()\n",
    "reg.fit(X_tr_sc, y_train)"
   ]
  },
  {
   "cell_type": "markdown",
   "metadata": {},
   "source": [
    "#### 推定"
   ]
  },
  {
   "cell_type": "code",
   "execution_count": 13,
   "metadata": {},
   "outputs": [
    {
     "name": "stdout",
     "output_type": "stream",
     "text": [
      "推定\n",
      "[[131968.37862616]\n",
      " [329674.03981289]\n",
      " [102642.21015895]\n",
      " [156532.10963709]]\n",
      "正解\n",
      " [[208500.]\n",
      " [181500.]\n",
      " [223500.]\n",
      " [140000.]]\n"
     ]
    }
   ],
   "source": [
    "y_pred = reg.predict(X_ts_sc)\n",
    "\n",
    "print(\"推定\\n{}\".format(np.exp(y_pred[:4])))\n",
    "print(\"正解\\n\", np.exp(y)[:4])\n",
    "# print(\"正解\\n\", y[:4])"
   ]
  },
  {
   "cell_type": "markdown",
   "metadata": {},
   "source": [
    "#### 評価（線形回帰で学習した場合、平均事情誤差で評価するのが一般的）"
   ]
  },
  {
   "cell_type": "code",
   "execution_count": 14,
   "metadata": {
    "scrolled": true
   },
   "outputs": [
    {
     "name": "stdout",
     "output_type": "stream",
     "text": [
      "MSE:0.04849898647316297\n"
     ]
    }
   ],
   "source": [
    "# 線形回帰を平均事情誤差で評価\n",
    "mse_reg = mean_squared_error(y_test, y_pred)\n",
    "print(\"MSE:{}\".format(mse_reg))"
   ]
  },
  {
   "cell_type": "markdown",
   "metadata": {},
   "source": [
    "#### 可視化"
   ]
  },
  {
   "cell_type": "markdown",
   "metadata": {},
   "source": [
    "X_test.values# Xはpandasだと処理できないので、valuesにする"
   ]
  },
  {
   "cell_type": "code",
   "execution_count": 15,
   "metadata": {
    "scrolled": true
   },
   "outputs": [
    {
     "data": {
      "image/png": "[encoded data removed]",
      "text/plain": [
       "<matplotlib.figure.Figure at 0x112e2d438>"
      ]
     },
     "metadata": {},
     "output_type": "display_data"
    },
    {
     "data": {
      "image/png": "[encoded data removed]",
      "text/plain": [
       "<matplotlib.figure.Figure at 0x112e4b5f8>"
      ]
     },
     "metadata": {},
     "output_type": "display_data"
    }
   ],
   "source": [
    "# 散布図で可視化\n",
    "\n",
    "plt.title(\"predicted SalePrice, GrLivArea\")\n",
    "plt.xlabel(\"GrLivArea [square feet]\")\n",
    "plt.ylabel(\"SalePrice [$]\")\n",
    "plt.scatter(X_test.values[:, 0], y_pred) # Xはpandasだと処理できないので、valuesにする\n",
    "plt.show()\n",
    "\n",
    "plt.title(\"predicted SalePrice, YearBuilt\")\n",
    "plt.xlabel(\"YearBuilt\")\n",
    "plt.ylabel(\"SalePrice [$]\")\n",
    "plt.scatter(X_test.values[:, 1], y_pred)\n",
    "plt.show()"
   ]
  },
  {
   "cell_type": "markdown",
   "metadata": {},
   "source": [
    "#### 【問題3】手法の比較\n",
    "以下の全ての手法について学習・推定・評価・可視化を行ってください。そして、指標値を１つの表にまとめてください。その表と可視化した図を利用して結果を簡単に考察してください。どの手法がどの指標値が良かったかや、どういった図になっていたかを述べてください。"
   ]
  },
  {
   "cell_type": "markdown",
   "metadata": {},
   "source": [
    "#### SVM"
   ]
  },
  {
   "cell_type": "code",
   "execution_count": 16,
   "metadata": {
    "scrolled": true
   },
   "outputs": [
    {
     "name": "stderr",
     "output_type": "stream",
     "text": [
      "/Users/tominagashuuji/.pyenv/versions/anaconda3-5.1.0/lib/python3.6/site-packages/sklearn/utils/validation.py:578: DataConversionWarning: A column-vector y was passed when a 1d array was expected. Please change the shape of y to (n_samples, ), for example using ravel().\n",
      "  y = column_or_1d(y, warn=True)\n"
     ]
    },
    {
     "name": "stdout",
     "output_type": "stream",
     "text": [
      "推定結果：\n",
      "[11.84202695 12.66870007 11.54157363 11.95353266]\n",
      "正解：\n",
      "[[12.16002871]\n",
      " [12.10625231]\n",
      " [11.56171563]\n",
      " [11.84868316]]\n",
      "MSE:0.04699606742559593\n"
     ]
    },
    {
     "data": {
      "image/png": "[encoded data removed]",
      "text/plain": [
       "<matplotlib.figure.Figure at 0x10a9d4da0>"
      ]
     },
     "metadata": {},
     "output_type": "display_data"
    },
    {
     "data": {
      "image/png": "[encoded data removed]",
      "text/plain": [
       "<matplotlib.figure.Figure at 0x11651bac8>"
      ]
     },
     "metadata": {},
     "output_type": "display_data"
    }
   ],
   "source": [
    "svm = SVR()\n",
    "\n",
    "# 学習\n",
    "svm.fit(X_tr_sc, y_train)\n",
    "\n",
    "# 推定\n",
    "y_pred_svm = svm.predict(X_ts_sc)\n",
    "\n",
    "print(\"推定結果：\\n{}\".format(y_pred_svm[:4]))\n",
    "print(\"正解：\\n{}\".format(y_train[:4]))\n",
    "\n",
    "# 評価\n",
    "mse_svm = mean_squared_error(y_test, y_pred_svm)\n",
    "print(\"MSE:{}\".format(mse_svm))\n",
    "\n",
    "# 可視化\n",
    "plt.title(\"predicted SalePrice, GrLivArea\")\n",
    "plt.xlabel(\"GrLivArea [square feet]\")\n",
    "plt.ylabel(\"SalePrice [$]\")\n",
    "plt.scatter(X_test.values[:, 0], y_pred_svm) # Xはpandasだと処理できないので、valuesにする\n",
    "plt.show()\n",
    "\n",
    "plt.title(\"predicted SalePrice, YearBuilt\")\n",
    "plt.xlabel(\"YearBuilt\")\n",
    "plt.ylabel(\"SalePrice [$]\")\n",
    "plt.scatter(X_test.values[:, 1], y_pred_svm)\n",
    "plt.show()"
   ]
  },
  {
   "cell_type": "markdown",
   "metadata": {},
   "source": [
    "考察：波のような形になった。  \n",
    "GrLivAreaが広くなればなるほど価格が高くなるようなグラフを予想したがそうなりませんでした。  \n",
    "反対にYearBuiltは新築なほど販売価格が大きくなりました。\n",
    "svmの平均自乗誤差は  \n",
    "MSE:7169618422.273447でした。  \n",
    "MSE:2314294633.127252は線形回帰の値です。  \n",
    "この二つを比べるとsvmは大きな値になりました。  \n",
    "平均２乗誤差はその名の通り誤差の事です。  \n",
    "つまり線形回帰と比べてsvmは誤差が大きく、モデルとして良くないと言える。  "
   ]
  },
  {
   "cell_type": "markdown",
   "metadata": {},
   "source": [
    "#### 決定木"
   ]
  },
  {
   "cell_type": "code",
   "execution_count": 17,
   "metadata": {
    "scrolled": true
   },
   "outputs": [
    {
     "name": "stdout",
     "output_type": "stream",
     "text": [
      "推定結果：\n",
      "[11.98292909 12.92391244 10.91508846 11.49272276]\n",
      "正解：\n",
      "[[12.24769432]\n",
      " [12.10901093]\n",
      " [12.31716669]\n",
      " [11.8493977 ]]\n",
      "MSE:0.08563257841141897\n"
     ]
    },
    {
     "data": {
      "image/png": "[encoded data removed]",
      "text/plain": [
       "<matplotlib.figure.Figure at 0x1164f64e0>"
      ]
     },
     "metadata": {},
     "output_type": "display_data"
    },
    {
     "data": {
      "image/png": "[encoded data removed]",
      "text/plain": [
       "<matplotlib.figure.Figure at 0x11650d470>"
      ]
     },
     "metadata": {},
     "output_type": "display_data"
    }
   ],
   "source": [
    "dtr = DecisionTreeRegressor()\n",
    "\n",
    "# 学習\n",
    "dtr.fit(X_tr_sc, y_train)\n",
    "\n",
    "# 推定\n",
    "y_pred_dtr = dtr.predict(X_ts_sc)\n",
    "print(\"推定結果：\\n{}\".format(y_pred_dtr[:4]))\n",
    "print(\"正解：\\n{}\".format(y[:4]))\n",
    "\n",
    "# 評価\n",
    "mse_dtr = mean_squared_error(y_test, y_pred_dtr)\n",
    "print(\"MSE:{}\".format(mean_squared_error(y_test, y_pred_dtr)))\n",
    "\n",
    "# 可視化\n",
    "plt.title(\"predicted SalePrice, GrLivArea\")\n",
    "plt.xlabel(\"GrLivArea [square feet]\")\n",
    "plt.ylabel(\"SalePrice [$]\")\n",
    "plt.scatter(X_test.values[:, 0], y_pred_dtr) # Xはpandasだと処理できないので、valuesにする\n",
    "plt.show()\n",
    "\n",
    "plt.title(\"predicted SalePrice, YearBuilt\")\n",
    "plt.xlabel(\"YearBuilt\")\n",
    "plt.ylabel(\"SalePrice [$]\")\n",
    "plt.scatter(X_test.values[:, 1], y_pred_dtr)\n",
    "plt.show()"
   ]
  },
  {
   "cell_type": "markdown",
   "metadata": {},
   "source": [
    "考察：\n",
    "GrLivArea,YearBuilt共に広いほど、築浅な程価格が高くなるという予想通りの結果になりました。  \n",
    "MSE:3154392684.9050994：決定木  \n",
    "MSE:2314294633.127252は線形回帰の値です。  \n",
    "svmよりも誤差は小さいが線形回帰の方がまだ誤差は小さい事がわかりました。"
   ]
  },
  {
   "cell_type": "markdown",
   "metadata": {},
   "source": [
    "#### ランダムフォレスト"
   ]
  },
  {
   "cell_type": "code",
   "execution_count": 18,
   "metadata": {
    "scrolled": true
   },
   "outputs": [
    {
     "name": "stdout",
     "output_type": "stream",
     "text": [
      "推定値：[11.87704593 12.90315644 11.54398115 11.82550667]\n",
      "正解：[[12.24769432]\n",
      " [12.10901093]\n",
      " [12.31716669]\n",
      " [11.8493977 ]]\n",
      "MSE:0.056199314227281326\n"
     ]
    },
    {
     "name": "stderr",
     "output_type": "stream",
     "text": [
      "/Users/tominagashuuji/.pyenv/versions/anaconda3-5.1.0/lib/python3.6/site-packages/ipykernel_launcher.py:4: DataConversionWarning: A column-vector y was passed when a 1d array was expected. Please change the shape of y to (n_samples,), for example using ravel().\n",
      "  after removing the cwd from sys.path.\n"
     ]
    },
    {
     "data": {
      "image/png": "[encoded data removed]",
      "text/plain": [
       "<matplotlib.figure.Figure at 0x1163a7908>"
      ]
     },
     "metadata": {},
     "output_type": "display_data"
    },
    {
     "data": {
      "image/png": "[encoded data removed]",
      "text/plain": [
       "<matplotlib.figure.Figure at 0x116438e10>"
      ]
     },
     "metadata": {},
     "output_type": "display_data"
    }
   ],
   "source": [
    "rfr = RandomForestRegressor()\n",
    "\n",
    "# 学習\n",
    "rfr.fit(X_tr_sc, y_train)\n",
    "\n",
    "# 推定\n",
    "y_pred_rfr = rfr.predict(X_ts_sc)\n",
    "print(\"推定値：{}\".format(y_pred_rfr[:4]))\n",
    "print(\"正解：{}\".format(y[:4]))\n",
    "\n",
    "# 評価\n",
    "mse_rfr = mean_squared_error(y_test, y_pred_rfr)\n",
    "print(\"MSE:{}\".format(mean_squared_error(y_test, y_pred_rfr)))\n",
    "\n",
    "# 可視化\n",
    "plt.title(\"predicted SalePrice, GrLivArea\")\n",
    "plt.xlabel(\"GrLivArea [square feet]\")\n",
    "plt.ylabel(\"SalePrice [$]\")\n",
    "plt.scatter(X_test.values[:, 0], y_pred_rfr) # Xはpandasだと処理できないので、valuesにする\n",
    "plt.show()\n",
    "\n",
    "plt.title(\"predicted SalePrice, YearBuilt\")\n",
    "plt.xlabel(\"YearBuilt\")\n",
    "plt.ylabel(\"SalePrice [$]\")\n",
    "plt.scatter(X_test.values[:, 1], y_pred_rfr)\n",
    "plt.show()\n"
   ]
  },
  {
   "cell_type": "markdown",
   "metadata": {},
   "source": [
    "考察：  \n",
    "GrLivArea,YearBuilt共に広いほど、築浅な程価格が高くなるという予想通りの結果になりました。  \n",
    "決定木に似ているグラフになりました。  \n",
    "  \n",
    "MSE:2192288163.074248：ランダムフォレスト  \n",
    "MSE:2314294633.127252は線形回帰の値です。  \n",
    "線形回帰よりも誤差が小さくなりました。  \n",
    "全てのモデルで比較するとランダムフォレストが一番良いと言えそう。"
   ]
  },
  {
   "cell_type": "markdown",
   "metadata": {},
   "source": [
    "#### 指標値を表にする"
   ]
  },
  {
   "cell_type": "code",
   "execution_count": 19,
   "metadata": {},
   "outputs": [
    {
     "name": "stdout",
     "output_type": "stream",
     "text": [
      "[0.04849898647316297, 0.04699606742559593, 0.08563257841141897, 0.056199314227281326]\n"
     ]
    },
    {
     "data": {
      "text/html": [
       "<div>\n",
       "<style scoped>\n",
       "    .dataframe tbody tr th:only-of-type {\n",
       "        vertical-align: middle;\n",
       "    }\n",
       "\n",
       "    .dataframe tbody tr th {\n",
       "        vertical-align: top;\n",
       "    }\n",
       "\n",
       "    .dataframe thead th {\n",
       "        text-align: right;\n",
       "    }\n",
       "</style>\n",
       "<table border=\"1\" class=\"dataframe\">\n",
       "  <thead>\n",
       "    <tr style=\"text-align: right;\">\n",
       "      <th></th>\n",
       "      <th>線形回帰</th>\n",
       "      <th>svm</th>\n",
       "      <th>決定木</th>\n",
       "      <th>ランダムフォレスト</th>\n",
       "    </tr>\n",
       "  </thead>\n",
       "  <tbody>\n",
       "    <tr>\n",
       "      <th>mse</th>\n",
       "      <td>0.048499</td>\n",
       "      <td>0.046996</td>\n",
       "      <td>0.085633</td>\n",
       "      <td>0.056199</td>\n",
       "    </tr>\n",
       "  </tbody>\n",
       "</table>\n",
       "</div>"
      ],
      "text/plain": [
       "         線形回帰       svm       決定木  ランダムフォレスト\n",
       "mse  0.048499  0.046996  0.085633   0.056199"
      ]
     },
     "execution_count": 19,
     "metadata": {},
     "output_type": "execute_result"
    }
   ],
   "source": [
    "# mseをリストにしてpandasに変換する\n",
    "# mseをリスト化\n",
    "mse_list = []\n",
    "mse_list.append(mse_reg)\n",
    "mse_list.append(mse_svm)\n",
    "mse_list.append(mse_dtr)\n",
    "mse_list.append(mse_rfr)\n",
    "\n",
    "print(mse_list)\n",
    "\n",
    "# リストをpanndasへ変換\n",
    "mse_list1 = [mse_list]#二次元のリストに変換しないとpandasへ変換出来ない\n",
    "df3 = pd.DataFrame(mse_list1,\n",
    "                 index=['mse'],\n",
    "                 columns=['線形回帰', 'svm', '決定木', 'ランダムフォレスト'])\n",
    "df3"
   ]
  },
  {
   "cell_type": "markdown",
   "metadata": {},
   "source": [
    "考察：  \n",
    "ランダムフォレストの平均2乗誤差が一番良いモデルでした。  \n",
    "svmは良いと言われていますがここではあまり効果的では無さそうです。"
   ]
  },
  {
   "cell_type": "markdown",
   "metadata": {},
   "source": [
    "#### 【問題4】（アドバンス課題）他の特徴量も使用しての学習\n",
    "ここまでは練習のために2つの特徴量だけを使いましたが、他の特徴量を加えるとどのようになるか検証してください。どう選択・加工するかにはデータ分析が重要になってきます。"
   ]
  },
  {
   "cell_type": "code",
   "execution_count": null,
   "metadata": {},
   "outputs": [],
   "source": []
  }
 ],
 "metadata": {
  "kernelspec": {
   "display_name": "Python 3",
   "language": "python",
   "name": "python3"
  },
  "language_info": {
   "codemirror_mode": {
    "name": "ipython",
    "version": 3
   },
   "file_extension": ".py",
   "mimetype": "text/x-python",
   "name": "python",
   "nbconvert_exporter": "python",
   "pygments_lexer": "ipython3",
   "version": "3.6.4"
  },
  "varInspector": {
   "cols": {
    "lenName": 16,
    "lenType": 16,
    "lenVar": 40
   },
   "kernels_config": {
    "python": {
     "delete_cmd_postfix": "",
     "delete_cmd_prefix": "del ",
     "library": "var_list.py",
     "varRefreshCmd": "print(var_dic_list())"
    },
    "r": {
     "delete_cmd_postfix": ") ",
     "delete_cmd_prefix": "rm(",
     "library": "var_list.r",
     "varRefreshCmd": "cat(var_dic_list()) "
    }
   },
   "types_to_exclude": [
    "module",
    "function",
    "builtin_function_or_method",
    "instance",
    "_Feature"
   ],
   "window_display": false
  }
 },
 "nbformat": 4,
 "nbformat_minor": 2
}
