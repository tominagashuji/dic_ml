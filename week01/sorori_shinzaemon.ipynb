{
 "cells": [
  {
   "cell_type": "markdown",
   "metadata": {},
   "source": [
    "# 【問題1】100日後の米粒の数"
   ]
  },
  {
   "cell_type": "code",
   "execution_count": 7,
   "metadata": {},
   "outputs": [
    {
     "name": "stdout",
     "output_type": "stream",
     "text": [
      "0\n",
      "633825300114114700748351602688\n",
      "1,2,3日で貰う米の数\n",
      "2\n",
      "4\n",
      "8\n",
      "1\n",
      "[1]\n",
      "2\n",
      "633825300114114700748351602688\n",
      "100\n"
     ]
    },
    {
     "data": {
      "image/png": "[encoded data removed]",
      "text/plain": [
       "<matplotlib.figure.Figure at 0x1138eb860>"
      ]
     },
     "metadata": {},
     "output_type": "display_data"
    }
   ],
   "source": [
    "\"\"\"\n",
    "100日後の米の数を算出し、それをグラフにして出力する\n",
    "\"\"\"\n",
    "\n",
    "# 米を１００日貰う\n",
    "print(\"0\")\n",
    "KOME = 1 # 米一粒を定数で用意\n",
    "DAY = 100\n",
    "kome_count = (KOME*2)**(DAY - 1) # 米の２乗を100日分の計算（100回貰う）\n",
    "print(kome_count) # 米の数を出力\n",
    "\n",
    "# 米を日数貰う確認\n",
    "print(\"1,2,3日で貰う米の数\")\n",
    "kome_count = (KOME*2)**1 # 米の２乗を2日分の計算（100回貰う）\n",
    "print(kome_count) # 米の数を出力\n",
    "kome_count = (KOME*2)**2 # 米の２乗を3日分の計算（100回貰う）\n",
    "print(kome_count) # 米の数を出力\n",
    "kome_count = (KOME*2)**3 # 米の２乗を4日分の計算（100回貰う）\n",
    "print(kome_count) # 米の数を出力\n",
    "\n",
    "#  米のカウントリストを作成する為に初期処理\n",
    "print(\"1\")\n",
    "kome_count = KOME # 米のカウントリスト用に初期化\n",
    "kome_count_list = [KOME] # 米リストの初日を設定\n",
    "print(kome_count_list)\n",
    "\n",
    "#  米のカウントリストを作成\n",
    "for i in range(DAY - 1):\n",
    "  kome_count *= 2\n",
    "  kome_count_list.append(kome_count)\n",
    "\n",
    "print(\"2\")\n",
    "print(kome_count)\n",
    "print(len(kome_count_list))\n",
    "\n",
    "import matplotlib.pyplot as plt\n",
    "%matplotlib inline\n",
    "\n",
    "plt.title(\"soroi_shinzaemon_rice_list\")\n",
    "plt.xlabel(\"day\")\n",
    "plt.ylabel(\"give_rice_count\")\n",
    "plt.plot(kome_count_list,color='green', marker='o', linestyle='dashed',\n",
    "         linewidth=2, markersize=12) # 「リスト名」のところに問５のリストの変数名を入れる\n",
    "plt.show()"
   ]
  },
  {
   "cell_type": "markdown",
   "metadata": {},
   "source": [
    "# 【問題2】100日後以外の米粒の数"
   ]
  },
  {
   "cell_type": "code",
   "execution_count": 8,
   "metadata": {},
   "outputs": [
    {
     "data": {
      "image/png": "[encoded data removed]",
      "text/plain": [
       "<matplotlib.figure.Figure at 0x1114c1f60>"
      ]
     },
     "metadata": {},
     "output_type": "display_data"
    }
   ],
   "source": [
    "def compute_sorori_shinzaemon(day=99):\n",
    "    \"\"\"\n",
    "    曽呂利新左衛門の米の逸話を検証する関数。日にちごとの米の粒の数を計算する。\n",
    "\n",
    "    Parameteres\n",
    "    --------------\n",
    "    day: int\n",
    "        米を貰う日数 (default : 100)\n",
    "\n",
    "    Returns\n",
    "    --------------\n",
    "    list_n_grains : list\n",
    "        ある日に貰う米の数のリスト（リストの長さはdayに等しくなる）\n",
    "    list_total_grains : list\n",
    "        ある日までに累計で貰う米の数のリスト（リストの長さはdayに等しくなる）\n",
    "    \"\"\"\n",
    "\n",
    "    # ここにコードを書く。passは何もしないことを意味する命令である。\n",
    "    \n",
    "    KOME = 1    # 　初日のコメ（定数）\n",
    "    kome_count = kome_all = KOME    # 　初日のコメ（変数）\n",
    "    list_n_grains = [kome_count]    # ある日に貰う米の数のリスト（リストの長さはdayに等しくなる）\n",
    "    list_total_grains = [kome_all]    # ある日までに累計で貰う米の数のリスト（リストの長さはdayに等しくなる）\n",
    "    \n",
    "    for i in range(day):\n",
    "       # ある日に貰う米の数のリスト（リストの長さはdayに等しくなる）\n",
    "        kome_count *= 2\n",
    "        list_n_grains.append(kome_count) \n",
    "\n",
    "        # ある日までに累計で貰う米の数のリスト（リストの長さはdayに等しくなる）\n",
    "        kome_all += kome_count\n",
    "        list_total_grains.append(kome_all)\n",
    "    \n",
    "    pass\n",
    "\n",
    "    return list_n_grains, list_total_grains\n",
    "\n",
    "list_n_grains, list_total_grains = compute_sorori_shinzaemon(day=99)\n",
    "# print(list_n_grains)\n",
    "# print(len(list_n_grains))\n",
    "# print(list_total_grains)\n",
    "# print(len(list_total_grains))\n",
    "\n",
    "# グラフ出力１ーある日に貰う米の数のリスト（リストの長さはdayに等しくなる）\n",
    "\n",
    "plt.title(\"soroi_shinzaemon_rice_list\")\n",
    "plt.xlabel(\"day\")\n",
    "plt.ylabel(\"give_rice_count\")\n",
    "plt.plot(list_n_grains,color='red', marker='o', linestyle='dashed',\n",
    "         linewidth=1, markersize=2) # 「リスト名」のところに問５のリストの変数名を入れる\n",
    "plt.plot(list_total_grains,color='b', marker='o', linestyle='dashed',\n",
    "         linewidth=1, markersize=2) # 「リスト名」のところに問５のリストの変数名を入れる\n",
    "plt.show()\n",
    "\n",
    "\n",
    "# グラフ出力２ーある日までに累計で貰う米の数のリスト（リストの長さはdayに等しくなる）\n",
    "import matplotlib.pyplot as plt\n",
    "%matplotlib inline\n",
    "\n",
    "# plt.title(\"soroi_shinzaemon_rice_list\")\n",
    "# plt.xlabel(\"give_rice_count\")\n",
    "# plt.ylabel(\"day\")\n",
    "# plt.plot(list_total_grains,color='pink', marker='o', linestyle='dashed',\n",
    "#          linewidth=2, markersize=12) # 「リスト名」のところに問５のリストの変数名を入れる\n",
    "# plt.show()\n"
   ]
  },
  {
   "cell_type": "markdown",
   "metadata": {},
   "source": [
    "# 【問題3】何人が何日生活できる米か"
   ]
  },
  {
   "cell_type": "code",
   "execution_count": 17,
   "metadata": {},
   "outputs": [
    {
     "name": "stdout",
     "output_type": "stream",
     "text": [
      "米の粒数は1267650600228229401496703205375粒です。\n",
      "一日に必要な米粒数は9750粒で、人数は15人で計算した所、生活出来る日数は8667696411816953422807040.00日でした。\n"
     ]
    }
   ],
   "source": [
    "\"\"\"\n",
    "米粒の数(int) と 人数(int) 、出力は 生活できる日数(int) \n",
    "参考URL：\n",
    "http://www.komenet.jp/_qa/chawanippai/chawan_ippai02.html\n",
    "上記のURLに茶碗１杯=3250粒とありました。一日３枚食べると考えると、\n",
    "1日=茶碗3杯=9750粒が、一人が一日に必要な米粒数です。\n",
    "また、201907期生の人数は14人＋講師で考え、15人です。\n",
    "\n",
    "kome_all：米の数\n",
    "PERSON：人数\n",
    "ONE_DAY_EAT_KOME：生活できる日数\n",
    "\"\"\"\n",
    "\n",
    "def how_long_day_alive_rice(day=10):\n",
    "    EAT_ONE_DAY_KOME = 9750\n",
    "    person = 15 #遠藤さん含む（笑）\n",
    "    kome_all = list_total_grains[day]\n",
    "#     print(list_total_grains)\n",
    "    life_day = kome_all / (EAT_ONE_DAY_KOME * person)\n",
    "\n",
    "    return life_day,kome_all\n",
    "\n",
    "life_day,kome_all = how_long_day_alive_rice(day=99)\n",
    "\n",
    "print(\"米の粒数は{}粒です。\".format(kome_all))\n",
    "print(\"一日に必要な米粒数は9750粒で、人数は15人で計算した所、生活出来る日数は{:.2f}日でした。\".format(life_day))\n"
   ]
  },
  {
   "cell_type": "code",
   "execution_count": null,
   "metadata": {},
   "outputs": [],
   "source": []
  }
 ],
 "metadata": {
  "kernelspec": {
   "display_name": "Python 3",
   "language": "python",
   "name": "python3"
  },
  "language_info": {
   "codemirror_mode": {
    "name": "ipython",
    "version": 3
   },
   "file_extension": ".py",
   "mimetype": "text/x-python",
   "name": "python",
   "nbconvert_exporter": "python",
   "pygments_lexer": "ipython3",
   "version": "3.6.4"
  }
 },
 "nbformat": 4,
 "nbformat_minor": 2
}
