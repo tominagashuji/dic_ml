{
 "cells": [
  {
   "cell_type": "markdown",
   "metadata": {},
   "source": [
    "# 1 四則演算"
   ]
  },
  {
   "cell_type": "code",
   "execution_count": 1,
   "metadata": {},
   "outputs": [
    {
     "name": "stdout",
     "output_type": "stream",
     "text": [
      "3\n",
      "750\n"
     ]
    }
   ],
   "source": [
    "## 足し算\n",
    "print(1 + 2)\n",
    "print(250 + 100 + 400)"
   ]
  },
  {
   "cell_type": "code",
   "execution_count": 2,
   "metadata": {},
   "outputs": [
    {
     "name": "stdout",
     "output_type": "stream",
     "text": [
      "12\n",
      "-30\n",
      "-70\n"
     ]
    }
   ],
   "source": [
    "## 引き算\n",
    "print(15 - 3)\n",
    "print(54 + 21 - 105)\n",
    "print(-30 - 40)"
   ]
  },
  {
   "cell_type": "code",
   "execution_count": 3,
   "metadata": {},
   "outputs": [
    {
     "name": "stdout",
     "output_type": "stream",
     "text": [
      "63\n"
     ]
    }
   ],
   "source": [
    "## 掛け算\n",
    "print(7*9)"
   ]
  },
  {
   "cell_type": "code",
   "execution_count": 4,
   "metadata": {},
   "outputs": [
    {
     "name": "stdout",
     "output_type": "stream",
     "text": [
      "12.5\n",
      "25.0\n",
      "16.666666666666668\n",
      "16\n"
     ]
    }
   ],
   "source": [
    "## 割り算\n",
    "print(50/4)\n",
    "print(50/2)\n",
    "print(50/3)\n",
    "print(50//3)"
   ]
  },
  {
   "cell_type": "code",
   "execution_count": 5,
   "metadata": {},
   "outputs": [
    {
     "name": "stdout",
     "output_type": "stream",
     "text": [
      "2\n",
      "-1\n"
     ]
    },
    {
     "ename": "ZeroDivisionError",
     "evalue": "division by zero",
     "output_type": "error",
     "traceback": [
      "\u001b[0;31m-----------------------------------------------------------------\u001b[0m",
      "\u001b[0;31mZeroDivisionError\u001b[0m               Traceback (most recent call last)",
      "\u001b[0;32m<ipython-input-5-8dc864b4920a>\u001b[0m in \u001b[0;36m<module>\u001b[0;34m()\u001b[0m\n\u001b[1;32m      2\u001b[0m \u001b[0mprint\u001b[0m\u001b[0;34m(\u001b[0m\u001b[0;36m50\u001b[0m\u001b[0;34m%\u001b[0m\u001b[0;36m3\u001b[0m\u001b[0;34m)\u001b[0m\u001b[0;34m\u001b[0m\u001b[0m\n\u001b[1;32m      3\u001b[0m \u001b[0mprint\u001b[0m\u001b[0;34m(\u001b[0m\u001b[0;34m-\u001b[0m\u001b[0;36m1\u001b[0m\u001b[0;34m//\u001b[0m\u001b[0;36m2\u001b[0m\u001b[0;34m)\u001b[0m\u001b[0;34m\u001b[0m\u001b[0m\n\u001b[0;32m----> 4\u001b[0;31m \u001b[0mprint\u001b[0m\u001b[0;34m(\u001b[0m\u001b[0;36m2\u001b[0m\u001b[0;34m/\u001b[0m\u001b[0;36m0\u001b[0m\u001b[0;34m)\u001b[0m \u001b[0;31m##エラー起きるよ！\u001b[0m\u001b[0;34m\u001b[0m\u001b[0m\n\u001b[0m",
      "\u001b[0;31mZeroDivisionError\u001b[0m: division by zero"
     ]
    }
   ],
   "source": [
    "## 余り\n",
    "print(50%3)\n",
    "print(-1//2)\n",
    "print(2/0) ##エラー起きるよ！"
   ]
  },
  {
   "cell_type": "code",
   "execution_count": null,
   "metadata": {},
   "outputs": [],
   "source": [
    "## ベキ乗\n",
    "print(2**3)\n",
    "print(2**0.5)"
   ]
  },
  {
   "cell_type": "code",
   "execution_count": 6,
   "metadata": {},
   "outputs": [
    {
     "name": "stdout",
     "output_type": "stream",
     "text": [
      "<class 'int'>\n",
      "<class 'int'>\n",
      "<class 'int'>\n",
      "<class 'int'>\n",
      "<class 'int'>\n",
      "<class 'float'>\n",
      "<class 'float'>\n",
      "2.0\n",
      "2.0\n",
      "0.5\n",
      "0.5\n"
     ]
    }
   ],
   "source": [
    "## データ型\n",
    "print(type(7))\n",
    "print(type(9))\n",
    "print(type(7*9))\n",
    "\n",
    "print(type(50))\n",
    "print(type(4))\n",
    "print(type(50/4))\n",
    "\n",
    "print(type(50/2))\n",
    "\n",
    "print(2.0)\n",
    "print(2.)\n",
    "print(0.5)\n",
    "print(.5)"
   ]
  },
  {
   "cell_type": "code",
   "execution_count": 7,
   "metadata": {},
   "outputs": [
    {
     "name": "stdout",
     "output_type": "stream",
     "text": [
      "2.0\n",
      "<class 'float'>\n",
      "3\n"
     ]
    }
   ],
   "source": [
    "## 型の変換\n",
    "print(float(2))\n",
    "print(type(float(2)))\n",
    "\n",
    "print(int(3.7))"
   ]
  },
  {
   "cell_type": "code",
   "execution_count": 8,
   "metadata": {},
   "outputs": [
    {
     "name": "stdout",
     "output_type": "stream",
     "text": [
      "2.0\n",
      "<class 'float'>\n"
     ]
    }
   ],
   "source": [
    "## float に float を重ねてもエラーにならない\n",
    "print(float(2.0))\n",
    "print(type(float(2.0)))"
   ]
  },
  {
   "cell_type": "code",
   "execution_count": 9,
   "metadata": {},
   "outputs": [
    {
     "name": "stdout",
     "output_type": "stream",
     "text": [
      "18.0\n",
      "18.0\n"
     ]
    }
   ],
   "source": [
    "## 計算には優先順位があるよ！\n",
    "print(3 + 5*4 - 10/2)\n",
    "print(3+5*4-10/2)"
   ]
  },
  {
   "cell_type": "code",
   "execution_count": 10,
   "metadata": {},
   "outputs": [
    {
     "name": "stdout",
     "output_type": "stream",
     "text": [
      "27.0\n"
     ]
    }
   ],
   "source": [
    "## カッコの使い方　カッコの中はスペース不要の方が見やすい\n",
    "print((3+5) * 4 - 10/2)\n"
   ]
  },
  {
   "cell_type": "code",
   "execution_count": 11,
   "metadata": {},
   "outputs": [],
   "source": [
    "#### python に初めから定義されている関数を「組み込み関数」という\n",
    "#### print(abs(-3)) "
   ]
  },
  {
   "cell_type": "code",
   "execution_count": 12,
   "metadata": {},
   "outputs": [
    {
     "name": "stdout",
     "output_type": "stream",
     "text": [
      "750\n",
      "1500\n",
      "375.0\n",
      "100\n",
      "200\n"
     ]
    }
   ],
   "source": [
    "# 2数値型の変数\n",
    "## 変数を使う\n",
    "x = 250 + 100 + 400\n",
    "print(x)\n",
    "print(x*2)\n",
    "y = x/2\n",
    "print(y)\n",
    "s, t = 100, 200\n",
    "print(s)\n",
    "print(t)\n"
   ]
  },
  {
   "cell_type": "code",
   "execution_count": 13,
   "metadata": {},
   "outputs": [
    {
     "name": "stdout",
     "output_type": "stream",
     "text": [
      "<class 'int'>\n",
      "<class 'float'>\n"
     ]
    },
    {
     "ename": "NameError",
     "evalue": "name 'z' is not defined",
     "output_type": "error",
     "traceback": [
      "\u001b[0;31m-----------------------------------------------------------------\u001b[0m",
      "\u001b[0;31mNameError\u001b[0m                       Traceback (most recent call last)",
      "\u001b[0;32m<ipython-input-13-348a5610465b>\u001b[0m in \u001b[0;36m<module>\u001b[0;34m()\u001b[0m\n\u001b[1;32m      2\u001b[0m \u001b[0mprint\u001b[0m\u001b[0;34m(\u001b[0m\u001b[0mtype\u001b[0m\u001b[0;34m(\u001b[0m\u001b[0mx\u001b[0m\u001b[0;34m)\u001b[0m\u001b[0;34m)\u001b[0m\u001b[0;34m\u001b[0m\u001b[0m\n\u001b[1;32m      3\u001b[0m \u001b[0mprint\u001b[0m\u001b[0;34m(\u001b[0m\u001b[0mtype\u001b[0m\u001b[0;34m(\u001b[0m\u001b[0my\u001b[0m\u001b[0;34m)\u001b[0m\u001b[0;34m)\u001b[0m\u001b[0;34m\u001b[0m\u001b[0m\n\u001b[0;32m----> 4\u001b[0;31m \u001b[0mprint\u001b[0m\u001b[0;34m(\u001b[0m\u001b[0mz\u001b[0m\u001b[0;34m)\u001b[0m\u001b[0;34m\u001b[0m\u001b[0m\n\u001b[0m\u001b[1;32m      5\u001b[0m \u001b[0mz\u001b[0m \u001b[0;34m=\u001b[0m \u001b[0;36m100\u001b[0m \u001b[0;34m-\u001b[0m \u001b[0;36m50\u001b[0m\u001b[0;34m\u001b[0m\u001b[0m\n",
      "\u001b[0;31mNameError\u001b[0m: name 'z' is not defined"
     ]
    }
   ],
   "source": [
    "## データを入れれば勝手にデータ型が決まるが、データを入れて無いと決まらない\n",
    "print(type(x))\n",
    "print(type(y))\n",
    "print(z)\n",
    "z = 100 - 50"
   ]
  },
  {
   "cell_type": "code",
   "execution_count": 14,
   "metadata": {},
   "outputs": [
    {
     "ename": "SyntaxError",
     "evalue": "invalid syntax (<ipython-input-14-fa122b705b96>, line 5)",
     "output_type": "error",
     "traceback": [
      "\u001b[0;36m  File \u001b[0;32m\"<ipython-input-14-fa122b705b96>\"\u001b[0;36m, line \u001b[0;32m5\u001b[0m\n\u001b[0;31m    if = 300\u001b[0m\n\u001b[0m       ^\u001b[0m\n\u001b[0;31mSyntaxError\u001b[0m\u001b[0;31m:\u001b[0m invalid syntax\n"
     ]
    }
   ],
   "source": [
    "## 分かりやすい変数名にする\n",
    "today_temperature = 25\n",
    "student_age = 19\n",
    "## やってはいけない命名 ●●●　実行したらカーネルからrestart を実施して再起動しよう\n",
    "if = 300 "
   ]
  },
  {
   "cell_type": "code",
   "execution_count": 15,
   "metadata": {},
   "outputs": [
    {
     "ename": "TypeError",
     "evalue": "'int' object is not callable",
     "output_type": "error",
     "traceback": [
      "\u001b[0;31m-----------------------------------------------------------------\u001b[0m",
      "\u001b[0;31mTypeError\u001b[0m                       Traceback (most recent call last)",
      "\u001b[0;32m<ipython-input-15-9cb0aa7c03eb>\u001b[0m in \u001b[0;36m<module>\u001b[0;34m()\u001b[0m\n\u001b[1;32m      1\u001b[0m \u001b[0;31m## やってはいけない命名 ●●●　実行したらカーネルからrestart を実施して再起動しよう\u001b[0m\u001b[0;34m\u001b[0m\u001b[0;34m\u001b[0m\u001b[0m\n\u001b[1;32m      2\u001b[0m \u001b[0mprint\u001b[0m \u001b[0;34m=\u001b[0m \u001b[0;36m100\u001b[0m\u001b[0;34m\u001b[0m\u001b[0m\n\u001b[0;32m----> 3\u001b[0;31m \u001b[0mprint\u001b[0m\u001b[0;34m(\u001b[0m\u001b[0;34m\"Hello, World!\"\u001b[0m\u001b[0;34m)\u001b[0m\u001b[0;34m\u001b[0m\u001b[0m\n\u001b[0m",
      "\u001b[0;31mTypeError\u001b[0m: 'int' object is not callable"
     ]
    }
   ],
   "source": [
    "## やってはいけない命名 ●●●　実行したらカーネルからrestart を実施して再起動しよう\n",
    "print = 100\n",
    "print(\"Hello, World!\")"
   ]
  },
  {
   "cell_type": "code",
   "execution_count": 16,
   "metadata": {},
   "outputs": [],
   "source": [
    "## 定数は大文字で変数定義しよう\n",
    "STANDARD_ATMOSPHERE = 1013245"
   ]
  },
  {
   "cell_type": "code",
   "execution_count": 17,
   "metadata": {},
   "outputs": [
    {
     "ename": "TypeError",
     "evalue": "'int' object is not callable",
     "output_type": "error",
     "traceback": [
      "\u001b[0;31m-----------------------------------------------------------------\u001b[0m",
      "\u001b[0;31mTypeError\u001b[0m                       Traceback (most recent call last)",
      "\u001b[0;32m<ipython-input-17-28319ec808b1>\u001b[0m in \u001b[0;36m<module>\u001b[0;34m()\u001b[0m\n\u001b[1;32m      2\u001b[0m \u001b[0mx\u001b[0m \u001b[0;34m=\u001b[0m \u001b[0;36m1\u001b[0m\u001b[0;34m\u001b[0m\u001b[0m\n\u001b[1;32m      3\u001b[0m \u001b[0mx\u001b[0m \u001b[0;34m=\u001b[0m \u001b[0mx\u001b[0m \u001b[0;34m+\u001b[0m \u001b[0;36m5\u001b[0m\u001b[0;34m\u001b[0m\u001b[0m\n\u001b[0;32m----> 4\u001b[0;31m \u001b[0mprint\u001b[0m\u001b[0;34m(\u001b[0m\u001b[0mx\u001b[0m\u001b[0;34m)\u001b[0m\u001b[0;34m\u001b[0m\u001b[0m\n\u001b[0m\u001b[1;32m      5\u001b[0m \u001b[0;34m\u001b[0m\u001b[0m\n\u001b[1;32m      6\u001b[0m \u001b[0mx\u001b[0m \u001b[0;34m=\u001b[0m \u001b[0;36m1\u001b[0m\u001b[0;34m\u001b[0m\u001b[0m\n",
      "\u001b[0;31mTypeError\u001b[0m: 'int' object is not callable"
     ]
    }
   ],
   "source": [
    "## 累積代入文\n",
    "x = 1\n",
    "x = x + 5\n",
    "print(x)\n",
    "\n",
    "x = 1 \n",
    "x += 5\n",
    "print(x)"
   ]
  },
  {
   "cell_type": "code",
   "execution_count": 18,
   "metadata": {},
   "outputs": [
    {
     "ename": "TypeError",
     "evalue": "'int' object is not callable",
     "output_type": "error",
     "traceback": [
      "\u001b[0;31m-----------------------------------------------------------------\u001b[0m",
      "\u001b[0;31mTypeError\u001b[0m                       Traceback (most recent call last)",
      "\u001b[0;32m<ipython-input-18-b1ceff1b6848>\u001b[0m in \u001b[0;36m<module>\u001b[0;34m()\u001b[0m\n\u001b[1;32m      1\u001b[0m \u001b[0;31m# テキストデータ３\u001b[0m\u001b[0;34m\u001b[0m\u001b[0;34m\u001b[0m\u001b[0m\n\u001b[0;32m----> 2\u001b[0;31m \u001b[0mprint\u001b[0m\u001b[0;34m(\u001b[0m\u001b[0;34m\"text\"\u001b[0m\u001b[0;34m)\u001b[0m\u001b[0;34m\u001b[0m\u001b[0m\n\u001b[0m\u001b[1;32m      3\u001b[0m \u001b[0mprint\u001b[0m\u001b[0;34m(\u001b[0m\u001b[0;34m\"learn pytghonb\"\u001b[0m\u001b[0;34m)\u001b[0m\u001b[0;34m\u001b[0m\u001b[0m\n\u001b[1;32m      4\u001b[0m \u001b[0mprint\u001b[0m\u001b[0;34m(\u001b[0m\u001b[0;34m\"こんにちは\"\u001b[0m\u001b[0;34m)\u001b[0m\u001b[0;34m\u001b[0m\u001b[0m\n\u001b[1;32m      5\u001b[0m \u001b[0mprint\u001b[0m\u001b[0;34m(\u001b[0m\u001b[0mtype\u001b[0m\u001b[0;34m(\u001b[0m\u001b[0;34m(\u001b[0m\u001b[0;34m\"text\"\u001b[0m\u001b[0;34m)\u001b[0m\u001b[0;34m)\u001b[0m\u001b[0;34m)\u001b[0m\u001b[0;34m\u001b[0m\u001b[0m\n",
      "\u001b[0;31mTypeError\u001b[0m: 'int' object is not callable"
     ]
    }
   ],
   "source": [
    "# テキストデータ３\n",
    "print(\"text\")\n",
    "print(\"learn pytghonb\")\n",
    "print(\"こんにちは\")\n",
    "print(type((\"text\")))\n",
    "print(text) #未定義の変数扱いをされてエラー"
   ]
  },
  {
   "cell_type": "code",
   "execution_count": 19,
   "metadata": {},
   "outputs": [
    {
     "ename": "SyntaxError",
     "evalue": "invalid syntax (<ipython-input-19-ffafcaa2b9a4>, line 1)",
     "output_type": "error",
     "traceback": [
      "\u001b[0;36m  File \u001b[0;32m\"<ipython-input-19-ffafcaa2b9a4>\"\u001b[0;36m, line \u001b[0;32m1\u001b[0m\n\u001b[0;31m    print(learn python) # 変数としてもスペースがあるとおかしい\u001b[0m\n\u001b[0m                     ^\u001b[0m\n\u001b[0;31mSyntaxError\u001b[0m\u001b[0;31m:\u001b[0m invalid syntax\n"
     ]
    }
   ],
   "source": [
    "print(learn python) # 変数としてもスペースがあるとおかしい"
   ]
  },
  {
   "cell_type": "code",
   "execution_count": 20,
   "metadata": {},
   "outputs": [
    {
     "ename": "TypeError",
     "evalue": "'int' object is not callable",
     "output_type": "error",
     "traceback": [
      "\u001b[0;31m-----------------------------------------------------------------\u001b[0m",
      "\u001b[0;31mTypeError\u001b[0m                       Traceback (most recent call last)",
      "\u001b[0;32m<ipython-input-20-96ea2388e27a>\u001b[0m in \u001b[0;36m<module>\u001b[0;34m()\u001b[0m\n\u001b[1;32m      1\u001b[0m \u001b[0;31m## 文字列の演算\u001b[0m\u001b[0;34m\u001b[0m\u001b[0;34m\u001b[0m\u001b[0m\n\u001b[1;32m      2\u001b[0m \u001b[0mstudent_name\u001b[0m \u001b[0;34m=\u001b[0m \u001b[0;34m\"Alice\"\u001b[0m\u001b[0;34m\u001b[0m\u001b[0m\n\u001b[0;32m----> 3\u001b[0;31m \u001b[0mprint\u001b[0m\u001b[0;34m(\u001b[0m\u001b[0;34m\"私の名前は\"\u001b[0m \u001b[0;34m+\u001b[0m \u001b[0mstudent_name\u001b[0m \u001b[0;34m+\u001b[0m \u001b[0;34m\"です。\"\u001b[0m\u001b[0;34m)\u001b[0m\u001b[0;34m\u001b[0m\u001b[0m\n\u001b[0m\u001b[1;32m      4\u001b[0m \u001b[0;34m\u001b[0m\u001b[0m\n\u001b[1;32m      5\u001b[0m \u001b[0mstudent_age\u001b[0m \u001b[0;34m=\u001b[0m \u001b[0;36m19\u001b[0m\u001b[0;34m\u001b[0m\u001b[0m\n",
      "\u001b[0;31mTypeError\u001b[0m: 'int' object is not callable"
     ]
    }
   ],
   "source": [
    "## 文字列の演算\n",
    "student_name = \"Alice\"\n",
    "print(\"私の名前は\" + student_name + \"です。\")\n",
    "\n",
    "student_age = 19\n",
    "print(\"私の名前は\" + str(student_age) +  \"です。\")\n",
    "\n",
    "student_age = 19\n",
    "print(\"私の名前は\" + student_age + \"です。\")"
   ]
  },
  {
   "cell_type": "code",
   "execution_count": 21,
   "metadata": {},
   "outputs": [
    {
     "ename": "TypeError",
     "evalue": "'int' object is not callable",
     "output_type": "error",
     "traceback": [
      "\u001b[0;31m-----------------------------------------------------------------\u001b[0m",
      "\u001b[0;31mTypeError\u001b[0m                       Traceback (most recent call last)",
      "\u001b[0;32m<ipython-input-21-7a0fa6b5a672>\u001b[0m in \u001b[0;36m<module>\u001b[0;34m()\u001b[0m\n\u001b[1;32m      1\u001b[0m \u001b[0;31m## format メソッドで文字列に埋め込む\u001b[0m\u001b[0;34m\u001b[0m\u001b[0;34m\u001b[0m\u001b[0m\n\u001b[1;32m      2\u001b[0m \u001b[0mstudent_name\u001b[0m \u001b[0;34m=\u001b[0m \u001b[0;34m\"Alice\"\u001b[0m\u001b[0;34m\u001b[0m\u001b[0m\n\u001b[0;32m----> 3\u001b[0;31m \u001b[0mprint\u001b[0m\u001b[0;34m(\u001b[0m\u001b[0;34m\"私の名前は{}です。\"\u001b[0m\u001b[0;34m.\u001b[0m\u001b[0mformat\u001b[0m\u001b[0;34m(\u001b[0m\u001b[0mstudent_name\u001b[0m\u001b[0;34m)\u001b[0m\u001b[0;34m)\u001b[0m\u001b[0;34m\u001b[0m\u001b[0m\n\u001b[0m\u001b[1;32m      4\u001b[0m \u001b[0;34m\u001b[0m\u001b[0m\n\u001b[1;32m      5\u001b[0m \u001b[0mstudent_name\u001b[0m \u001b[0;34m=\u001b[0m \u001b[0;34m\"Alice\"\u001b[0m\u001b[0;34m\u001b[0m\u001b[0m\n",
      "\u001b[0;31mTypeError\u001b[0m: 'int' object is not callable"
     ]
    }
   ],
   "source": [
    "## format メソッドで文字列に埋め込む\n",
    "student_name = \"Alice\"\n",
    "print(\"私の名前は{}です。\".format(student_name))\n",
    "\n",
    "student_name = \"Alice\"\n",
    "student_age = 19\n",
    "print(\"私の名前は{}で、{}歳です。\".format(student_name,student_age))\n",
    "\n",
    "### 配列みたいにすることも可能\n",
    "print(\"私は{1}で、名前は{0}です。\".format(student_name,student_age))\n",
    "\n",
    "weather_text = \"今日の天気は{}です。\"\n",
    "weather_text = weather_text.format(\"晴れ\")\n",
    "print(weather_text)\n",
    "\n",
    "today_temperature = 3\n",
    "tomorrow_temperature = -5\n",
    "print(\"今日の最低気温は{:+}、明日の最低気温は{:+}です\".format(today_temperature, tomorrow_temperature))\n",
    "\n",
    "today_temperature = 3.53\n",
    "tomorrow_temperature = -5.27\n",
    "print(\"今日の最低気温は{:.1f}、明日の最低気温は{:.1f}です。\".format(today_temperature, tomorrow_temperature))"
   ]
  },
  {
   "cell_type": "code",
   "execution_count": 27,
   "metadata": {},
   "outputs": [
    {
     "name": "stdout",
     "output_type": "stream",
     "text": [
      "Python\n"
     ]
    }
   ],
   "source": [
    "print(\"python\".capitalize())"
   ]
  },
  {
   "cell_type": "code",
   "execution_count": 31,
   "metadata": {},
   "outputs": [
    {
     "name": "stdout",
     "output_type": "stream",
     "text": [
      "学生の年齢 19\n",
      "学生の年齢:19\n",
      "学生の年齢 19\n",
      "学生の年齢19\n",
      "学生の年齢19\n",
      "1:2\n"
     ]
    }
   ],
   "source": [
    "## print関数の発展的利用方法\n",
    "student_age = 19\n",
    "print(\"学生の年齢\",student_age)\n",
    "\n",
    "print(\"学生の年齢\", student_age,sep=\":\")\n",
    "\n",
    "print(\"学生の年齢\", format(student_age))\n",
    "print(\"学生の年齢\",student_age,sep=\"\")\n",
    "print(\"学生の年齢\"+str(student_age))\n",
    "\n",
    "print(\"1\",end=\":\")\n",
    "print(\"2\")"
   ]
  },
  {
   "cell_type": "code",
   "execution_count": 15,
   "metadata": {},
   "outputs": [
    {
     "name": "stdout",
     "output_type": "stream",
     "text": [
      "各月の平均気温は、1月は6度、2月は7度です。\n",
      "[6, 7, 9, 15, 22, 27, 26, 23, 17, 12, 7]\n",
      "<class 'list'>\n",
      "各月の平均気温は、1月は6度、2月は7度です。\n",
      "各月の平均気温は、7月は27度、12月は7度です。\n",
      "<class 'int'>\n",
      "22\n",
      "24\n",
      "[15, 20, 24, 27, 26]\n",
      "[6, 9, 20, 27]\n",
      "[6, 24, 12]\n",
      "[7, 12, 17, 23, 26, 27, 24, 20, 15, 9, 7, 6]\n"
     ]
    }
   ],
   "source": [
    "# 4.リストとタプル\n",
    "january_average_temperature = 6\n",
    "february_average_temperature = 7\n",
    "print(\"各月の平均気温は、1月は{}度、2月は{}度です。\".format(january_average_temperature,february_average_temperature))\n",
    "\n",
    "##リスト化出来るよ\n",
    "monthly_average_temperatures = [6,7, 9, 15, 22, 27, 26, 23, 17, 12, 7]\n",
    "print(monthly_average_temperatures)\n",
    "print(type(monthly_average_temperatures))\n",
    "\n",
    "##要素取り出し\n",
    "monthly_average_temperatures = [6, 7, 9, 15, 20, 22, 27, 26, 23, 17, 12, 7]\n",
    "print(\"各月の平均気温は、1月は{}度、2月は{}度です。\".format(monthly_average_temperatures[0],monthly_average_temperatures[1]))\n",
    "\n",
    "print(\"各月の平均気温は、7月は{}度、12月は{}度です。\".format(monthly_average_temperatures[6],monthly_average_temperatures[11]))\n",
    "\n",
    "print(type(monthly_average_temperatures[0]))\n",
    "\n",
    "## 要素の書き換え\n",
    "print(monthly_average_temperatures[5])\n",
    "monthly_average_temperatures[5] = 24\n",
    "print(monthly_average_temperatures[5])\n",
    "\n",
    "## スライスによる複数要素取り出し\n",
    "print(monthly_average_temperatures[3:8])\n",
    "print(monthly_average_temperatures[0:7:2]) # 始まりのindex:終了一つ前のindex:ステップ数\n",
    "print(monthly_average_temperatures[::5])\n",
    "print(monthly_average_temperatures[::-1])"
   ]
  },
  {
   "cell_type": "code",
   "execution_count": 30,
   "metadata": {},
   "outputs": [
    {
     "name": "stdout",
     "output_type": "stream",
     "text": [
      "12\n",
      "[[0, 2, 4, 6, 8], [1, 3, 5, 7, 9]]\n",
      "[-5.5, 'Pytohon', 270, ['a', 'b', 'c']]\n",
      "[0, 1, 2, 3, 4]\n",
      "['alpha', 'beta']\n",
      "None\n",
      "<class 'NoneType'>\n",
      "None\n",
      "[0, 1, 2, 3, 4]\n",
      "python\n",
      "python\n",
      "Python\n",
      "[1, 2, 3, 4, 5, 6]\n"
     ]
    }
   ],
   "source": [
    "## 要素の長さ\n",
    "print(len(monthly_average_temperatures))\n",
    "\n",
    "## 数値以外の要素\n",
    "months = [\"January\", \"February\", \"March\", \"April\", \"May\", \"June\", \"July\", \"August\", \"September\", \"October\", \"November\", \"December\"]\n",
    "odd_and_event = [[0,2,4,6,8],[1,3,5,7,9]]\n",
    "mixed = [-5.5, \"Pytohon\",270,[\"a\",\"b\",\"c\"]]\n",
    "print(odd_and_event)\n",
    "print(mixed)\n",
    "\n",
    "## リストが持つメソッド\n",
    "numbers = [0,1,2,3]\n",
    "numbers.append(4)\n",
    "print(numbers)\n",
    "\n",
    "texts = []\n",
    "texts.append(\"alpha\")\n",
    "texts.append(\"beta\")\n",
    "print(texts)\n",
    "\n",
    "## 代入してはいけない、間違い例\n",
    "numbers = [0, 1, 2, 3]\n",
    "numbers = numbers.append(4)\n",
    "print(numbers)\n",
    "print(type(numbers))\n",
    "\n",
    "numbers = [0,1,2,3]\n",
    "print(numbers.append(4)) ##typeはnoneだけど、次の行の命令では4 が追加されている\n",
    "print(numbers) \n",
    "\n",
    "text = \"python\"\n",
    "text.capitalize() ##メソッド当てただけだと、textは書き変わらない。\n",
    "print(text)\n",
    "capitalized_text = text.capitalize()\n",
    "print(text)\n",
    "print(capitalized_text)\n",
    "\n",
    "print([1,2,3] + [4,5,6])\n"
   ]
  },
  {
   "cell_type": "code",
   "execution_count": 34,
   "metadata": {},
   "outputs": [
    {
     "name": "stdout",
     "output_type": "stream",
     "text": [
      "('A081', 'A114', 'A186')\n",
      "<class 'tuple'>\n",
      "A081\n"
     ]
    },
    {
     "ename": "TypeError",
     "evalue": "'tuple' object does not support item assignment",
     "output_type": "error",
     "traceback": [
      "\u001b[0;31m---------------------------------------------------------------------------\u001b[0m",
      "\u001b[0;31mTypeError\u001b[0m                                 Traceback (most recent call last)",
      "\u001b[0;32m<ipython-input-34-e2535ec1d7d4>\u001b[0m in \u001b[0;36m<module>\u001b[0;34m()\u001b[0m\n\u001b[1;32m      6\u001b[0m \u001b[0mprint\u001b[0m\u001b[0;34m(\u001b[0m\u001b[0muser_ids\u001b[0m\u001b[0;34m[\u001b[0m\u001b[0;36m0\u001b[0m\u001b[0;34m]\u001b[0m\u001b[0;34m)\u001b[0m\u001b[0;34m\u001b[0m\u001b[0m\n\u001b[1;32m      7\u001b[0m \u001b[0;34m\u001b[0m\u001b[0m\n\u001b[0;32m----> 8\u001b[0;31m \u001b[0muser_ids\u001b[0m\u001b[0;34m[\u001b[0m\u001b[0;36m0\u001b[0m\u001b[0;34m]\u001b[0m \u001b[0;34m=\u001b[0m \u001b[0;34m\"A082\"\u001b[0m \u001b[0;31m## タプルは変更できない！！！！\u001b[0m\u001b[0;34m\u001b[0m\u001b[0m\n\u001b[0m",
      "\u001b[0;31mTypeError\u001b[0m: 'tuple' object does not support item assignment"
     ]
    }
   ],
   "source": [
    "## タプル\n",
    "user_ids = (\"A081\", \"A114\", \"A186\")\n",
    "print(user_ids)\n",
    "print(type(user_ids))\n",
    "\n",
    "print(user_ids[0])\n",
    "\n",
    "user_ids[0] = \"A082\" ## タプルは変更できない！！！！\n"
   ]
  },
  {
   "cell_type": "code",
   "execution_count": 36,
   "metadata": {},
   "outputs": [
    {
     "name": "stdout",
     "output_type": "stream",
     "text": [
      "('A081', 'A114', 'A186')\n",
      "<class 'tuple'>\n"
     ]
    }
   ],
   "source": [
    "## タプルはカッコが無くても定義可能\n",
    "user_ids = \"A081\", \"A114\", \"A186\"\n",
    "print(user_ids)\n",
    "print(type(user_ids))"
   ]
  },
  {
   "cell_type": "code",
   "execution_count": 44,
   "metadata": {},
   "outputs": [
    {
     "name": "stdout",
     "output_type": "stream",
     "text": [
      "100 200\n",
      "100 200\n",
      "A081 A114 A186\n",
      "()\n"
     ]
    }
   ],
   "source": [
    "## こんな事も出来るよ〜、ただ何しているかがいまいち分からん〜\n",
    "s, t = 100, 200\n",
    "print(s,t)\n",
    "(s, t) = (100, 200)\n",
    "print(s,t) ##同じ？？\n",
    "\n",
    "user_ids = (\"A081\", \"A114\", \"A186\")\n",
    "user_id1, user_id2, user_id3 = user_ids ## user_ids に入っている要素を左辺に順番に入れれる\n",
    "print(user_id1, user_id2, user_id3)\n",
    "\n",
    "## 空のタプルを作る時\n",
    "empty_tuple = ()\n",
    "print(empty_tuple)\n",
    "\n",
    "## 一つのタプルを作る時は、user_ids = (\"A081\")とは書かない\n",
    "user_ids = (\"A081\",)\n",
    "user_ids = \"A081\","
   ]
  },
  {
   "cell_type": "code",
   "execution_count": 45,
   "metadata": {},
   "outputs": [],
   "source": [
    "### list や tuple と言う変数名は定義しないように！！！！"
   ]
  },
  {
   "cell_type": "code",
   "execution_count": 23,
   "metadata": {},
   "outputs": [],
   "source": [
    "# 5.条件分岐の書き方"
   ]
  },
  {
   "cell_type": "code",
   "execution_count": 1,
   "metadata": {},
   "outputs": [
    {
     "name": "stdout",
     "output_type": "stream",
     "text": [
      "Aliceは20歳未満です。\n"
     ]
    }
   ],
   "source": [
    "student_name = \"Alice\"\n",
    "student_age = 19\n",
    "if student_age < 20:\n",
    "    print(\"{}は20歳未満です。\".format(student_name))\n",
    "else:\n",
    "    print(\"{}は20歳以上です。\".format(student_name))\n",
    "    "
   ]
  },
  {
   "cell_type": "code",
   "execution_count": 3,
   "metadata": {},
   "outputs": [
    {
     "name": "stdout",
     "output_type": "stream",
     "text": [
      "Aliceは20歳以上です。\n"
     ]
    }
   ],
   "source": [
    "student_name = \"Alice\"\n",
    "student_age = 22\n",
    "if student_age < 20:\n",
    "    print(\"{}は20歳未満です。\".format(student_name))\n",
    "else:\n",
    "    print(\"{}は20歳以上です。\".format(student_name))"
   ]
  },
  {
   "cell_type": "code",
   "execution_count": 4,
   "metadata": {},
   "outputs": [],
   "source": [
    "student_name = \"Alice\"\n",
    "student_age = 22\n",
    "if student_age < 20:\n",
    "    print(\"{}は20歳未満です。\".format(student_name))\n"
   ]
  },
  {
   "cell_type": "code",
   "execution_count": 6,
   "metadata": {},
   "outputs": [
    {
     "name": "stdout",
     "output_type": "stream",
     "text": [
      "Aliceは22歳です。\n"
     ]
    }
   ],
   "source": [
    "student_name = \"Alice\"\n",
    "student_age = 22\n",
    "if student_age < 20:\n",
    "    print(\"{}は20歳未満です。\".format(student_name))\n",
    "elif student_age == 21:\n",
    "    print(\"{}は21歳です。\".format(student_name))\n",
    "elif student_age == 22:\n",
    "    print(\"{}は22歳です。\".format(student_name))\n",
    "else:\n",
    "    print(\"{}は23歳以上です。\".format(student_name))"
   ]
  },
  {
   "cell_type": "code",
   "execution_count": 9,
   "metadata": {},
   "outputs": [
    {
     "name": "stdout",
     "output_type": "stream",
     "text": [
      "True\n",
      "<class 'bool'>\n",
      "False\n",
      "<class 'bool'>\n"
     ]
    }
   ],
   "source": [
    "print(19 < 20)\n",
    "print(type(19 < 20))\n",
    "print(22 < 20)\n",
    "print(type(22 < 20))"
   ]
  },
  {
   "cell_type": "code",
   "execution_count": 10,
   "metadata": {},
   "outputs": [
    {
     "name": "stdout",
     "output_type": "stream",
     "text": [
      "Hello, Boolean!\n"
     ]
    }
   ],
   "source": [
    "if True:\n",
    "    print(\"Hello, Boolean!\")"
   ]
  },
  {
   "cell_type": "code",
   "execution_count": 11,
   "metadata": {},
   "outputs": [
    {
     "name": "stdout",
     "output_type": "stream",
     "text": [
      "True\n"
     ]
    }
   ],
   "source": [
    "print(20 > 19.5)"
   ]
  },
  {
   "cell_type": "code",
   "execution_count": 12,
   "metadata": {},
   "outputs": [
    {
     "name": "stdout",
     "output_type": "stream",
     "text": [
      "True\n"
     ]
    }
   ],
   "source": [
    "print(\"Python\" == \"Python\")"
   ]
  },
  {
   "cell_type": "code",
   "execution_count": 14,
   "metadata": {},
   "outputs": [
    {
     "name": "stdout",
     "output_type": "stream",
     "text": [
      "Aliceは10代です\n"
     ]
    }
   ],
   "source": [
    "student_name = \"Alice\"\n",
    "student_age = 19\n",
    "if (student_age >= 10) and (student_age < 20):\n",
    "    print(\"{}は10代です\".format(student_name))"
   ]
  },
  {
   "cell_type": "code",
   "execution_count": 15,
   "metadata": {},
   "outputs": [
    {
     "name": "stdout",
     "output_type": "stream",
     "text": [
      "Aliceは15歳または20歳以上です\n"
     ]
    }
   ],
   "source": [
    "student_name = \"Alice\"\n",
    "student_age = 21\n",
    "if (student_age == 15) or (student_age >= 20):\n",
    "    print(\"{}は15歳または20歳以上です\".format(student_name))"
   ]
  },
  {
   "cell_type": "code",
   "execution_count": 18,
   "metadata": {},
   "outputs": [
    {
     "name": "stdout",
     "output_type": "stream",
     "text": [
      "Aliceは20歳未満です\n"
     ]
    }
   ],
   "source": [
    "no_judgement = False\n",
    "student_name = \"Alice\"\n",
    "student_age = 19\n",
    "\n",
    "if not(no_judgement):\n",
    "    if student_age < 20:\n",
    "        print(\"{}は20歳未満です\".format(student_name))\n",
    "    else:\n",
    "        print(\"{}は20歳以上です。\".format(student_name))\n",
    "else:\n",
    "    print(\"年齢の判定はしません\")"
   ]
  },
  {
   "cell_type": "markdown",
   "metadata": {},
   "source": [
    "print((student_age >= 10 ) and (student_age < 20))\n",
    "print(student_age >= 10 and student_age < 20)"
   ]
  },
  {
   "cell_type": "markdown",
   "metadata": {},
   "source": [
    "### インデントの話"
   ]
  },
  {
   "cell_type": "markdown",
   "metadata": {},
   "source": [
    "student_name = \"Alice\"\n",
    "student_age = 22\n",
    "if student_age < 20:\n",
    "print(\"{}は20歳未満です。\".format(student_name))\n",
    "else:\n",
    "print(\"{}は20歳以上です。\".format(student_name))"
   ]
  },
  {
   "cell_type": "code",
   "execution_count": 22,
   "metadata": {},
   "outputs": [
    {
     "name": "stdout",
     "output_type": "stream",
     "text": [
      "Aliceは20歳未満です。\n"
     ]
    }
   ],
   "source": [
    "ADULT_AGE = 20\n",
    "student_name = \"Alice\"\n",
    "student_age = 19\n",
    "if student_age < ADULT_AGE:\n",
    "    print(\"{}は{}歳未満です。\".format(student_name, ADULT_AGE))\n",
    "else:\n",
    "    print(\"{}は{}歳以上です。\".format(student_name, ADULT_AGE))"
   ]
  },
  {
   "cell_type": "markdown",
   "metadata": {},
   "source": [
    "# 6.繰り返し"
   ]
  },
  {
   "cell_type": "code",
   "execution_count": 25,
   "metadata": {},
   "outputs": [
    {
     "name": "stdout",
     "output_type": "stream",
     "text": [
      "0\n",
      "1\n",
      "2\n",
      "3\n",
      "4\n",
      "5\n",
      "6\n",
      "7\n",
      "8\n",
      "9\n"
     ]
    }
   ],
   "source": [
    "numbers = [0,1,2,3,4,5,6,7,8,9]\n",
    "for number in numbers:\n",
    "    print(number)"
   ]
  },
  {
   "cell_type": "code",
   "execution_count": 26,
   "metadata": {},
   "outputs": [
    {
     "name": "stdout",
     "output_type": "stream",
     "text": [
      "0\n",
      "1\n",
      "2\n",
      "3\n",
      "4\n",
      "5\n",
      "6\n",
      "7\n",
      "8\n",
      "9\n"
     ]
    }
   ],
   "source": [
    "numbers = [0,1,2,3,4,5,6,7,8,9]\n",
    "for num in numbers:\n",
    "    print(num)"
   ]
  },
  {
   "cell_type": "code",
   "execution_count": 27,
   "metadata": {},
   "outputs": [
    {
     "name": "stdout",
     "output_type": "stream",
     "text": [
      "A081\n",
      "A114\n",
      "A186\n"
     ]
    }
   ],
   "source": [
    "user_ids = (\"A081\", \"A114\", \"A186\")\n",
    "for user_id in user_ids:\n",
    "    print(user_id)"
   ]
  },
  {
   "cell_type": "markdown",
   "metadata": {},
   "source": [
    "### range 関数"
   ]
  },
  {
   "cell_type": "code",
   "execution_count": 29,
   "metadata": {},
   "outputs": [
    {
     "name": "stdout",
     "output_type": "stream",
     "text": [
      "0\n",
      "1\n",
      "2\n",
      "3\n",
      "4\n",
      "5\n",
      "6\n",
      "7\n",
      "8\n",
      "9\n"
     ]
    }
   ],
   "source": [
    "for i in range(10):\n",
    "    print(i)"
   ]
  },
  {
   "cell_type": "code",
   "execution_count": 31,
   "metadata": {},
   "outputs": [
    {
     "name": "stdout",
     "output_type": "stream",
     "text": [
      "range(0, 10)\n",
      "[0, 1, 2, 3, 4, 5, 6, 7, 8, 9]\n"
     ]
    }
   ],
   "source": [
    "print(range(10))\n",
    "print(list(range(10)))"
   ]
  },
  {
   "cell_type": "code",
   "execution_count": 32,
   "metadata": {},
   "outputs": [
    {
     "name": "stdout",
     "output_type": "stream",
     "text": [
      "5\n",
      "6\n",
      "7\n",
      "8\n",
      "9\n"
     ]
    }
   ],
   "source": [
    "for i in range(5,10):\n",
    "    print(i)"
   ]
  },
  {
   "cell_type": "code",
   "execution_count": 33,
   "metadata": {},
   "outputs": [
    {
     "name": "stdout",
     "output_type": "stream",
     "text": [
      "5\n",
      "7\n",
      "9\n"
     ]
    }
   ],
   "source": [
    "for i in range(5,10,2):\n",
    "    print(i)"
   ]
  },
  {
   "cell_type": "code",
   "execution_count": 34,
   "metadata": {},
   "outputs": [
    {
     "name": "stdout",
     "output_type": "stream",
     "text": [
      "9\n",
      "8\n",
      "7\n",
      "6\n",
      "5\n",
      "4\n",
      "3\n",
      "2\n",
      "1\n",
      "0\n"
     ]
    }
   ],
   "source": [
    "for i in range(9,-1, -1):\n",
    "    print(i)"
   ]
  },
  {
   "cell_type": "code",
   "execution_count": 35,
   "metadata": {},
   "outputs": [
    {
     "name": "stdout",
     "output_type": "stream",
     "text": [
      "9\n",
      "8\n",
      "7\n",
      "6\n",
      "5\n",
      "4\n",
      "3\n",
      "2\n",
      "1\n",
      "0\n"
     ]
    }
   ],
   "source": [
    "for i in reversed(range(10)):\n",
    "    print(i)"
   ]
  },
  {
   "cell_type": "code",
   "execution_count": 36,
   "metadata": {},
   "outputs": [
    {
     "name": "stdout",
     "output_type": "stream",
     "text": [
      "1月の平均気温は6度です。\n",
      "2月の平均気温は7度です。\n",
      "3月の平均気温は9度です。\n",
      "4月の平均気温は15度です。\n",
      "5月の平均気温は20度です。\n",
      "6月の平均気温は22度です。\n",
      "7月の平均気温は27度です。\n",
      "8月の平均気温は26度です。\n",
      "9月の平均気温は23度です。\n",
      "10月の平均気温は17度です。\n",
      "11月の平均気温は12度です。\n",
      "12月の平均気温は7度です。\n"
     ]
    }
   ],
   "source": [
    "monthly_average_temperatures = [6, 7, 9, 15, 20, 22, 27, 26, 23, 17, 12, 7]\n",
    "for i in range(len(monthly_average_temperatures)):\n",
    "    print(\"{}月の平均気温は{}度です。\".format(i+1,monthly_average_temperatures[i]))"
   ]
  },
  {
   "cell_type": "markdown",
   "metadata": {},
   "source": [
    "### enumerate 関数"
   ]
  },
  {
   "cell_type": "code",
   "execution_count": 37,
   "metadata": {},
   "outputs": [
    {
     "name": "stdout",
     "output_type": "stream",
     "text": [
      "1月の平均気温は6度です。\n",
      "2月の平均気温は7度です。\n",
      "3月の平均気温は9度です。\n",
      "4月の平均気温は15度です。\n",
      "5月の平均気温は20度です。\n",
      "6月の平均気温は22度です。\n",
      "7月の平均気温は27度です。\n",
      "8月の平均気温は26度です。\n",
      "9月の平均気温は23度です。\n",
      "10月の平均気温は17度です。\n",
      "11月の平均気温は12度です。\n",
      "12月の平均気温は7度です。\n"
     ]
    }
   ],
   "source": [
    "monthly_average_temperatures = [6, 7, 9, 15, 20, 22, 27, 26, 23, 17, 12, 7]\n",
    "for i, temperature in enumerate(monthly_average_temperatures):\n",
    "  print(\"{}月の平均気温は{}度です。\".format(i+1, temperature))"
   ]
  },
  {
   "cell_type": "code",
   "execution_count": 38,
   "metadata": {},
   "outputs": [
    {
     "name": "stdout",
     "output_type": "stream",
     "text": [
      "1月の平均気温は6度です。\n",
      "2月の平均気温は7度です。\n",
      "3月の平均気温は9度です。\n",
      "4月の平均気温は15度です。\n",
      "5月の平均気温は20度です。\n",
      "6月の平均気温は22度です。\n",
      "7月の平均気温は27度です。\n",
      "8月の平均気温は26度です。\n",
      "9月の平均気温は23度です。\n",
      "10月の平均気温は17度です。\n",
      "11月の平均気温は12度です。\n",
      "12月の平均気温は7度です。\n"
     ]
    }
   ],
   "source": [
    "MONTH_NUMBERS = list(range(1,13))\n",
    "monthly_average_temperatures = [6, 7, 9, 15, 20, 22, 27, 26, 23, 17, 12, 7]\n",
    "for month_number, temperature in zip(MONTH_NUMBERS, monthly_average_temperatures):\n",
    "  print(\"{}月の平均気温は{}度です。\".format(month_number, temperature))"
   ]
  },
  {
   "cell_type": "code",
   "execution_count": 40,
   "metadata": {},
   "outputs": [
    {
     "name": "stdout",
     "output_type": "stream",
     "text": [
      "0\n",
      "3\n",
      "6\n",
      "9\n"
     ]
    }
   ],
   "source": [
    "num = 0\n",
    "while num < 10:\n",
    "    print(num)\n",
    "    num += 3"
   ]
  },
  {
   "cell_type": "code",
   "execution_count": 41,
   "metadata": {},
   "outputs": [
    {
     "name": "stdout",
     "output_type": "stream",
     "text": [
      "0\n",
      "3\n",
      "6\n",
      "9\n"
     ]
    }
   ],
   "source": [
    "num = 0\n",
    "while True:\n",
    "    print(num)\n",
    "    num += 3\n",
    "    if num >= 10:\n",
    "        break"
   ]
  },
  {
   "cell_type": "markdown",
   "metadata": {},
   "source": [
    "# 7.関数化"
   ]
  },
  {
   "cell_type": "code",
   "execution_count": 1,
   "metadata": {},
   "outputs": [],
   "source": [
    "def print_hello_world():\n",
    "    print(\"Hello, World\")"
   ]
  },
  {
   "cell_type": "code",
   "execution_count": 2,
   "metadata": {},
   "outputs": [
    {
     "name": "stdout",
     "output_type": "stream",
     "text": [
      "Hello, World\n"
     ]
    }
   ],
   "source": [
    "print_hello_world()"
   ]
  },
  {
   "cell_type": "code",
   "execution_count": 3,
   "metadata": {},
   "outputs": [
    {
     "name": "stdout",
     "output_type": "stream",
     "text": [
      "Hello,Python!\n"
     ]
    }
   ],
   "source": [
    "def print_hello_something(something):\n",
    "    print(\"Hello,{}!\".format(something))\n",
    "    \n",
    "print_hello_something(\"Python\")"
   ]
  },
  {
   "cell_type": "code",
   "execution_count": 4,
   "metadata": {},
   "outputs": [
    {
     "name": "stdout",
     "output_type": "stream",
     "text": [
      "Hello,Python?\n"
     ]
    }
   ],
   "source": [
    "def print_hello_something(something, end):\n",
    "    print(\"Hello,{}{}\".format(something,end))\n",
    "    \n",
    "print_hello_something(\"Python\", \"?\")"
   ]
  },
  {
   "cell_type": "markdown",
   "metadata": {},
   "source": [
    "### 関数に初期値を設定する方法"
   ]
  },
  {
   "cell_type": "code",
   "execution_count": 6,
   "metadata": {},
   "outputs": [
    {
     "name": "stdout",
     "output_type": "stream",
     "text": [
      "Hello,Python!\n",
      "Hello,Python?\n"
     ]
    }
   ],
   "source": [
    "def print_hello_something(something, end = \"!\"):\n",
    "    print(\"Hello,{}{}\".format(something, end))\n",
    "\n",
    "print_hello_something(\"Python\")\n",
    "print_hello_something(\"Python\", end = \"?\")"
   ]
  },
  {
   "cell_type": "code",
   "execution_count": null,
   "metadata": {},
   "outputs": [],
   "source": []
  }
 ],
 "metadata": {
  "kernelspec": {
   "display_name": "Python 3",
   "language": "python",
   "name": "python3"
  },
  "language_info": {
   "codemirror_mode": {
    "name": "ipython",
    "version": 3
   },
   "file_extension": ".py",
   "mimetype": "text/x-python",
   "name": "python",
   "nbconvert_exporter": "python",
   "pygments_lexer": "ipython3",
   "version": "3.6.4"
  }
 },
 "nbformat": 4,
 "nbformat_minor": 2
}
